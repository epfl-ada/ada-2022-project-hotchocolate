{
 "cells": [
  {
   "cell_type": "markdown",
   "id": "77f21558",
   "metadata": {},
   "source": [
    "# Zone pas propre mais ou tout est modulable pour jouer \n",
    "# On se retrouve en bas du notebook pour la partie propre "
   ]
  },
  {
   "cell_type": "code",
   "execution_count": 10,
   "id": "2809f5eb",
   "metadata": {},
   "outputs": [],
   "source": [
    "import cufflinks as cf\n",
    "import plotly\n",
    "import chart_studio.plotly \n",
    "import plotly.tools \n",
    "import plotly.graph_objs as go\n",
    "from  plotly.offline import plot\n",
    "import pandas as pd\n"
   ]
  },
  {
   "cell_type": "code",
   "execution_count": 11,
   "id": "7a4ed8a8",
   "metadata": {},
   "outputs": [],
   "source": [
    "top_ranked_adv_country = pd.read_csv('map/file_for_map/top_ranked_adv_country.csv')\n"
   ]
  },
  {
   "cell_type": "code",
   "execution_count": 12,
   "id": "c0d784ea",
   "metadata": {},
   "outputs": [
    {
     "name": "stdout",
     "output_type": "stream",
     "text": [
      "(264, 14)\n",
      "54\n",
      "70\n",
      "81\n",
      "113\n",
      "115\n",
      "116\n",
      "123\n",
      "125\n",
      "127\n",
      "128\n",
      "138\n",
      "155\n",
      "174\n",
      "(251, 14)\n"
     ]
    },
    {
     "data": {
      "text/html": [
       "<div>\n",
       "<style scoped>\n",
       "    .dataframe tbody tr th:only-of-type {\n",
       "        vertical-align: middle;\n",
       "    }\n",
       "\n",
       "    .dataframe tbody tr th {\n",
       "        vertical-align: top;\n",
       "    }\n",
       "\n",
       "    .dataframe thead th {\n",
       "        text-align: right;\n",
       "    }\n",
       "</style>\n",
       "<table border=\"1\" class=\"dataframe\">\n",
       "  <thead>\n",
       "    <tr style=\"text-align: right;\">\n",
       "      <th></th>\n",
       "      <th>Unnamed: 0</th>\n",
       "      <th>index</th>\n",
       "      <th>beer_id</th>\n",
       "      <th>beer_name</th>\n",
       "      <th>brewery_id</th>\n",
       "      <th>brewery_name</th>\n",
       "      <th>style</th>\n",
       "      <th>nbr_ratings</th>\n",
       "      <th>nbr_reviews</th>\n",
       "      <th>avg</th>\n",
       "      <th>abv</th>\n",
       "      <th>avg_computed</th>\n",
       "      <th>nbr_matched_valid_ratings</th>\n",
       "      <th>location</th>\n",
       "    </tr>\n",
       "  </thead>\n",
       "  <tbody>\n",
       "    <tr>\n",
       "      <th>1</th>\n",
       "      <td>1</td>\n",
       "      <td>41</td>\n",
       "      <td>109524</td>\n",
       "      <td>Glasstown Ale</td>\n",
       "      <td>33640</td>\n",
       "      <td>Glasstown Brewing Co.</td>\n",
       "      <td>American Amber / Red Ale</td>\n",
       "      <td>2</td>\n",
       "      <td>0</td>\n",
       "      <td>5.0</td>\n",
       "      <td>NaN</td>\n",
       "      <td>5.0</td>\n",
       "      <td>0</td>\n",
       "      <td>Colorado</td>\n",
       "    </tr>\n",
       "    <tr>\n",
       "      <th>2</th>\n",
       "      <td>2</td>\n",
       "      <td>65</td>\n",
       "      <td>214313</td>\n",
       "      <td>Mole Imperial Stout</td>\n",
       "      <td>24817</td>\n",
       "      <td>Bonfire Brewing Co.</td>\n",
       "      <td>American Double / Imperial Stout</td>\n",
       "      <td>1</td>\n",
       "      <td>0</td>\n",
       "      <td>5.0</td>\n",
       "      <td>NaN</td>\n",
       "      <td>5.0</td>\n",
       "      <td>0</td>\n",
       "      <td>Florida</td>\n",
       "    </tr>\n",
       "    <tr>\n",
       "      <th>3</th>\n",
       "      <td>3</td>\n",
       "      <td>62</td>\n",
       "      <td>223013</td>\n",
       "      <td>TrHOPical Fusion</td>\n",
       "      <td>39382</td>\n",
       "      <td>Bowigens Beer Company</td>\n",
       "      <td>American Double / Imperial IPA</td>\n",
       "      <td>1</td>\n",
       "      <td>0</td>\n",
       "      <td>5.0</td>\n",
       "      <td>8.4</td>\n",
       "      <td>5.0</td>\n",
       "      <td>0</td>\n",
       "      <td>Georgia</td>\n",
       "    </tr>\n",
       "    <tr>\n",
       "      <th>4</th>\n",
       "      <td>4</td>\n",
       "      <td>61</td>\n",
       "      <td>144500</td>\n",
       "      <td>Hop'lin With Cluster Flies</td>\n",
       "      <td>30015</td>\n",
       "      <td>Southbound Brewing Company</td>\n",
       "      <td>Saison / Farmhouse Ale</td>\n",
       "      <td>1</td>\n",
       "      <td>0</td>\n",
       "      <td>5.0</td>\n",
       "      <td>NaN</td>\n",
       "      <td>5.0</td>\n",
       "      <td>0</td>\n",
       "      <td>Illinois</td>\n",
       "    </tr>\n",
       "    <tr>\n",
       "      <th>5</th>\n",
       "      <td>5</td>\n",
       "      <td>58</td>\n",
       "      <td>169238</td>\n",
       "      <td>Mini Imperial</td>\n",
       "      <td>30302</td>\n",
       "      <td>Lake Effect Brewing Co.</td>\n",
       "      <td>American Porter</td>\n",
       "      <td>1</td>\n",
       "      <td>1</td>\n",
       "      <td>5.0</td>\n",
       "      <td>5.0</td>\n",
       "      <td>5.0</td>\n",
       "      <td>0</td>\n",
       "      <td>Indiana</td>\n",
       "    </tr>\n",
       "  </tbody>\n",
       "</table>\n",
       "</div>"
      ],
      "text/plain": [
       "   Unnamed: 0  index  beer_id                   beer_name  brewery_id  \\\n",
       "1           1     41   109524               Glasstown Ale       33640   \n",
       "2           2     65   214313         Mole Imperial Stout       24817   \n",
       "3           3     62   223013            TrHOPical Fusion       39382   \n",
       "4           4     61   144500  Hop'lin With Cluster Flies       30015   \n",
       "5           5     58   169238               Mini Imperial       30302   \n",
       "\n",
       "                 brewery_name                             style  nbr_ratings  \\\n",
       "1       Glasstown Brewing Co.          American Amber / Red Ale            2   \n",
       "2         Bonfire Brewing Co.  American Double / Imperial Stout            1   \n",
       "3       Bowigens Beer Company    American Double / Imperial IPA            1   \n",
       "4  Southbound Brewing Company            Saison / Farmhouse Ale            1   \n",
       "5     Lake Effect Brewing Co.                   American Porter            1   \n",
       "\n",
       "   nbr_reviews  avg  abv  avg_computed  nbr_matched_valid_ratings  location  \n",
       "1            0  5.0  NaN           5.0                          0  Colorado  \n",
       "2            0  5.0  NaN           5.0                          0   Florida  \n",
       "3            0  5.0  8.4           5.0                          0   Georgia  \n",
       "4            0  5.0  NaN           5.0                          0  Illinois  \n",
       "5            1  5.0  5.0           5.0                          0   Indiana  "
      ]
     },
     "execution_count": 12,
     "metadata": {},
     "output_type": "execute_result"
    }
   ],
   "source": [
    "print(top_ranked_adv_country.shape)\n",
    "### NOTE: Clean corrrupted data but we should do it before \n",
    "for i, e in enumerate(top_ranked_adv_country['location']):\n",
    "    if \"http\" in e or \"<\" in e:\n",
    "        print(i)\n",
    "        top_ranked_adv_country = top_ranked_adv_country.drop(i)\n",
    "print(top_ranked_adv_country.shape)\n",
    "top_ranked_adv_country.reset_index(inplace = True, drop = True) #reset index so we don't make error due to assumption of continuous index\n",
    "\n",
    "location_country = top_ranked_adv_country.copy()\n",
    "mask = [False] * top_ranked_adv_country.shape[0]\n",
    "second = False\n",
    "\n",
    "for j, country in enumerate(top_ranked_adv_country['location']):\n",
    "    if \"United States\" in country:\n",
    "        mask[j] = True\n",
    "        if second:\n",
    "            location_country = location_country.drop(j)\n",
    "        else:\n",
    "            location_country['location'][j] = \"United States\"\n",
    "        second = True\n",
    "        \n",
    "united_states = top_ranked_adv_country[mask]\n",
    "for k, state in enumerate(united_states['location']):\n",
    "    united_states['location'][k] = state.split('States, ',1)[1]\n",
    "united_states.head()\n"
   ]
  },
  {
   "cell_type": "code",
   "execution_count": 13,
   "id": "90adf8b3",
   "metadata": {},
   "outputs": [
    {
     "data": {
      "application/vnd.plotly.v1+json": {
       "config": {
        "plotlyServerURL": "https://plot.ly"
       },
       "data": [
        {
         "autocolorscale": false,
         "colorbar": {
          "tickprefix": "avreage rating",
          "title": {
           "text": "style of beer<br>per country"
          }
         },
         "colorscale": [
          [
           0,
           "#440154"
          ],
          [
           0.1111111111111111,
           "#482878"
          ],
          [
           0.2222222222222222,
           "#3e4989"
          ],
          [
           0.3333333333333333,
           "#31688e"
          ],
          [
           0.4444444444444444,
           "#26828e"
          ],
          [
           0.5555555555555556,
           "#1f9e89"
          ],
          [
           0.6666666666666666,
           "#35b779"
          ],
          [
           0.7777777777777778,
           "#6ece58"
          ],
          [
           0.8888888888888888,
           "#b5de2b"
          ],
          [
           1,
           "#fde725"
          ]
         ],
         "locationmode": "country names",
         "locations": [
          "France",
          "United States",
          "Sweden",
          "Canada",
          "Netherlands",
          "Russia",
          "Mexico",
          "Malta",
          "Spain",
          "Belgium",
          "Lithuania",
          "Austria",
          "Denmark",
          "Australia",
          "Italy",
          "Ireland",
          "Ecuador",
          "Germany",
          "Hungary",
          "England",
          "South Africa",
          "Mauritius",
          "Serbia",
          "Scotland",
          "Japan",
          "Philippines",
          "Iceland",
          "Cyprus",
          "Finland",
          "Poland",
          "Croatia",
          "Canada, Ontario",
          "Malaysia",
          "Estonia",
          "Portugal",
          "New Zealand",
          "Brazil",
          "Costa Rica",
          "Norway",
          "Switzerland",
          "Bahamas",
          "Greece",
          "Canada, Nova Scotia",
          "Panama",
          "Canada, Quebec",
          "Congo",
          "Czech Republic",
          "Northern Ireland",
          "Cameroon",
          "South Korea",
          "India",
          "Israel",
          "Puerto Rico",
          "Wales",
          "Argentina",
          "Chile",
          "China",
          "Nicaragua",
          "United Kingdom, England",
          "Latvia",
          "Cuba",
          "Ivory Coast",
          "Canada, British Columbia",
          "Vietnam",
          "Singapore",
          "Hong Kong",
          "Peru",
          "Romania",
          "Slovak Republic",
          "Virgin Islands (U.S.)",
          "San Marino",
          "Slovenia",
          "Thailand",
          "Ukraine",
          "Georgia",
          "Iran",
          "Canada, Alberta",
          "United Kingdom, Scotland",
          "Lebanon",
          "Colombia",
          "Isle of Man",
          "Cambodia",
          "Taiwan",
          "Tanzania",
          "Uzbekistan",
          "Uruguay",
          "Palau",
          "Samoa",
          "Honduras",
          "Faroe Islands",
          "Bulgaria",
          "Armenia",
          "Guam",
          "Grenada",
          "Turks and Caicos Islands",
          "Kazakhstan",
          "Bolivia",
          "Barbados",
          "Monaco",
          "Guatemala",
          "Saint Lucia",
          "Turkey",
          "Cayman Islands",
          "Guernsey",
          "Jersey",
          "Namibia",
          "Jordan",
          "Luxembourg",
          "Sri Lanka",
          "Trinidad & Tobago",
          "Vanuatu",
          "Andorra",
          "Moldova",
          "French Polynesia",
          "Liechtenstein",
          "Greenland",
          "Egypt",
          "Curaçao",
          "Cook Islands",
          "Belarus",
          "Ghana",
          "Algeria",
          "El Salvador",
          "Bermuda",
          "Venezuela",
          "Palestine",
          "Ethiopia",
          "Saint Vincent and The Grenadines",
          "Jamaica",
          "Togo",
          "Rwanda",
          "Nigeria",
          "United Kingdom, Wales",
          "Canada, New Brunswick",
          "Mongolia",
          "Kenya",
          "Albania",
          "Bosnia and Herzegovina",
          "Myanmar",
          "Dominican Republic",
          "Montenegro",
          "Indonesia",
          "Angola",
          "Belize",
          "Macedonia",
          "Mozambique",
          "Nepal",
          "Swaziland",
          "Turkmenistan",
          "Seychelles",
          "Pakistan",
          "Canada, Saskatchewan",
          "Madagascar",
          "Laos",
          "Bhutan",
          "French Guiana",
          "Solomon Islands",
          "Eritrea",
          "Lesotho",
          "Zimbabwe",
          "Fiji Islands",
          "Martinique",
          "Reunion",
          "Libya",
          "Antigua & Barbuda",
          "Gambia",
          "Papua New Guinea",
          "Uganda",
          "Niger",
          "Benin",
          "Suriname",
          "Azerbaijan",
          "Tonga",
          "Aruba",
          "Dominica",
          "Gabon",
          "Virgin Islands (British)",
          "Morocco",
          "Bangladesh",
          "Paraguay",
          "Senegal",
          "Guadeloupe",
          "Tajikistan",
          "Central African Republic",
          "New Caledonia",
          "Cape Verde Islands",
          "Canada, Manitoba",
          "Botswana",
          "Tunisia",
          "Macau",
          "Syria",
          "Haiti",
          "Zambia",
          "North Korea",
          "South Sudan",
          "Equatorial Guinea",
          "Canada, Newfoundland and Labrador",
          "Burkina Faso",
          "Micronesia",
          "Malawi",
          "United Arab Emirates",
          "Iraq"
         ],
         "marker": {
          "line": {
           "color": "darkgray",
           "width": 0.5
          }
         },
         "reversescale": true,
         "text": [
          "Favored style: American Blonde Ale",
          "Favored style: American Amber / Red Ale",
          "Favored style: Lambic - Fruit",
          "Favored style: Quadrupel (Quad)",
          "Favored style: Euro Strong Lager",
          "Favored style: Munich Helles Lager",
          "Favored style: American IPA",
          "Favored style: English Pale Ale",
          "Favored style: Hefeweizen",
          "Favored style: Dubbel",
          "Favored style: American IPA",
          "Favored style: Weizenbock",
          "Favored style: American IPA",
          "Favored style: Kölsch",
          "Favored style: American IPA",
          "Favored style: English Porter",
          "Favored style: American Pale Ale (APA)",
          "Favored style: American Pale Ale (APA)",
          "Favored style: Fruit / Vegetable Beer",
          "Favored style: American Pale Ale (APA)",
          "Favored style: American Double / Imperial IPA",
          "Favored style: Märzen / Oktoberfest",
          "Favored style: American Double / Imperial Stout",
          "Favored style: American IPA",
          "Favored style: American Barleywine",
          "Favored style: American Double / Imperial Stout",
          "Favored style: American Double / Imperial Stout",
          "Favored style: Witbier",
          "Favored style: American IPA",
          "Favored style: Belgian IPA",
          "Favored style: Old Ale",
          "Favored style: Irish Dry Stout",
          "Favored style: Witbier",
          "Favored style: American Double / Imperial IPA",
          "Favored style: English Barleywine",
          "Favored style: American Barleywine",
          "Favored style: Tripel",
          "Favored style: American Brown Ale",
          "Favored style: English Barleywine",
          "Favored style: Bière de Garde",
          "Favored style: Herbed / Spiced Beer",
          "Favored style: American IPA",
          "Favored style: Saison / Farmhouse Ale",
          "Favored style: American Pale Ale (APA)",
          "Favored style: American Stout",
          "Favored style: Euro Dark Lager",
          "Favored style: Euro Dark Lager",
          "Favored style: English India Pale Ale (IPA)",
          "Favored style: Euro Pale Lager",
          "Favored style: American IPA",
          "Favored style: English India Pale Ale (IPA)",
          "Favored style: American IPA",
          "Favored style: English Porter",
          "Favored style: American Stout",
          "Favored style: Fruit / Vegetable Beer",
          "Favored style: Bock",
          "Favored style: Vienna Lager",
          "Favored style: Euro Dark Lager",
          "Favored style: English Dark Mild Ale",
          "Favored style: American Double / Imperial IPA",
          "Favored style: American Adjunct Lager",
          "Favored style: Bock",
          "Favored style: Hefeweizen",
          "Favored style: Berliner Weissbier",
          "Favored style: Belgian Pale Ale",
          "Favored style: English Porter",
          "Favored style: American Porter",
          "Favored style: Russian Imperial Stout",
          "Favored style: Baltic Porter",
          "Favored style: American Brown Ale",
          "Favored style: German Pilsener",
          "Favored style: Russian Imperial Stout",
          "Favored style: American Pale Wheat Ale",
          "Favored style: Euro Dark Lager",
          "Favored style: Euro Pale Lager",
          "Favored style: Low Alcohol Beer",
          "Favored style: American Pale Lager",
          "Favored style: American Blonde Ale",
          "Favored style: Czech Pilsener",
          "Favored style: Munich Helles Lager",
          "Favored style: English Porter",
          "Favored style: American IPA",
          "Favored style: Gose",
          "Favored style: American Amber / Red Ale",
          "Favored style: German Pilsener",
          "Favored style: American IPA",
          "Favored style: English Barleywine",
          "Favored style: Euro Pale Lager",
          "Favored style: English Porter",
          "Favored style: American Porter",
          "Favored style: American Stout",
          "Favored style: Smoked Beer",
          "Favored style: American Double / Imperial IPA",
          "Favored style: American IPA",
          "Favored style: Hefeweizen",
          "Favored style: Euro Dark Lager",
          "Favored style: American Amber / Red Lager",
          "Favored style: Irish Dry Stout",
          "Favored style: Herbed / Spiced Beer",
          "Favored style: Vienna Lager",
          "Favored style: Fruit / Vegetable Beer",
          "Favored style: German Pilsener",
          "Favored style: Foreign / Export Stout",
          "Favored style: English Stout",
          "Favored style: Herbed / Spiced Beer",
          "Favored style: Bock",
          "Favored style: Scotch Ale / Wee Heavy",
          "Favored style: Kellerbier / Zwickelbier",
          "Favored style: Foreign / Export Stout",
          "Favored style: Foreign / Export Stout",
          "Favored style: American Blonde Ale",
          "Favored style: Smoked Beer",
          "Favored style: English Barleywine",
          "Favored style: American Amber / Red Lager",
          "Favored style: Witbier",
          "Favored style: English Brown Ale",
          "Favored style: American Amber / Red Lager",
          "Favored style: Witbier",
          "Favored style: English Pale Ale",
          "Favored style: Euro Dark Lager",
          "Favored style: Foreign / Export Stout",
          "Favored style: American Strong Ale",
          "Favored style: American Amber / Red Ale",
          "Favored style: American Black Ale",
          "Favored style: Kölsch",
          "Favored style: Witbier",
          "Favored style: Czech Pilsener",
          "Favored style: Foreign / Export Stout",
          "Favored style: Foreign / Export Stout",
          "Favored style: English Brown Ale",
          "Favored style: Euro Dark Lager",
          "Favored style: Foreign / Export Stout",
          "Favored style: English Bitter",
          "Favored style: American IPA",
          "Favored style: Czech Pilsener",
          "Favored style: American Adjunct Lager",
          "Favored style: Euro Dark Lager",
          "Favored style: Euro Pale Lager",
          "Favored style: Foreign / Export Stout",
          "Favored style: American Amber / Red Lager",
          "Favored style: Euro Pale Lager",
          "Favored style: American Pale Ale (APA)",
          "Favored style: Euro Pale Lager",
          "Favored style: Milk / Sweet Stout",
          "Favored style: English India Pale Ale (IPA)",
          "Favored style: Euro Pale Lager",
          "Favored style: American Pale Lager",
          "Favored style: Euro Pale Lager",
          "Favored style: Euro Pale Lager",
          "Favored style: Euro Pale Lager",
          "Favored style: Euro Pale Lager",
          "Favored style: English Pale Ale",
          "Favored style: German Pilsener",
          "Favored style: Euro Dark Lager",
          "Favored style: American Adjunct Lager",
          "Favored style: Witbier",
          "Favored style: Euro Pale Lager",
          "Favored style: American Adjunct Lager",
          "Favored style: American Adjunct Lager",
          "Favored style: Euro Pale Lager",
          "Favored style: Euro Pale Lager",
          "Favored style: Light Lager",
          "Favored style: Euro Pale Lager",
          "Favored style: Low Alcohol Beer",
          "Favored style: American Adjunct Lager",
          "Favored style: Dortmunder / Export Lager",
          "Favored style: Foreign / Export Stout",
          "Favored style: American Adjunct Lager",
          "Favored style: Euro Pale Lager",
          "Favored style: Euro Pale Lager",
          "Favored style: American Adjunct Lager",
          "Favored style: Dortmunder / Export Lager",
          "Favored style: Euro Dark Lager",
          "Favored style: American Pale Ale (APA)",
          "Favored style: American Adjunct Lager",
          "Favored style: Euro Pale Lager",
          "Favored style: American Pale Lager",
          "Favored style: Euro Pale Lager",
          "Favored style: Euro Pale Lager",
          "Favored style: German Pilsener",
          "Favored style: Euro Pale Lager",
          "Favored style: Euro Pale Lager",
          "Favored style: Euro Pale Lager",
          "Favored style: Euro Pale Lager",
          "Favored style: Euro Pale Lager",
          "Favored style: Euro Strong Lager",
          "Favored style: Cream Ale",
          "Favored style: Low Alcohol Beer",
          "Favored style: Euro Pale Lager",
          "Favored style: Euro Pale Lager",
          "Favored style: Euro Pale Lager",
          "Favored style: American Adjunct Lager",
          "Favored style: American Adjunct Lager",
          "Favored style: American Adjunct Lager",
          "Favored style: American Adjunct Lager",
          "Favored style: Euro Pale Lager",
          "Favored style: American Adjunct Lager",
          "Favored style: Euro Pale Lager",
          "Favored style: American Amber / Red Lager",
          "Favored style: Euro Pale Lager",
          "Favored style: Low Alcohol Beer",
          "Favored style: Euro Pale Lager"
         ],
         "type": "choropleth",
         "z": [
          5,
          5,
          5,
          5,
          5,
          5,
          5,
          5,
          5,
          5,
          5,
          5,
          5,
          5,
          5,
          5,
          5,
          5,
          4.99,
          4.97,
          4.96,
          4.95,
          4.93,
          4.89,
          4.87,
          4.84,
          4.826666666666667,
          4.82,
          4.81,
          4.8,
          4.78,
          4.78,
          4.75,
          4.465,
          4.74,
          4.41,
          4.6875,
          4.68,
          4.294,
          4.416666666666667,
          4.66,
          4.64,
          4.64,
          4.64,
          4.63,
          4.62,
          4.57,
          4.55,
          4.55,
          4.1025,
          4.5,
          4.5,
          4.5,
          4.5,
          4.5,
          4.5,
          4.5,
          4.5,
          4.5,
          4.49,
          4.48,
          4.44,
          4.333333333333333,
          4.4,
          4.4,
          4.395,
          4.38,
          4.3100000000000005,
          4.34,
          4.33,
          4.3,
          4.29,
          4.29,
          4.29,
          4.27,
          4.26,
          4.2,
          4.2,
          4.19,
          4.18,
          4.15,
          4.12,
          4.1,
          4.1,
          4.09,
          4.08,
          4.08,
          4.05,
          4.045,
          4.04,
          4.03,
          3.915,
          4,
          4,
          4,
          4,
          4,
          4.005,
          3.98,
          3.91,
          3.96,
          3.95,
          4.0725,
          3.95,
          3.94,
          3.925,
          3.925,
          3.845,
          3.9092165330043183,
          3.92,
          3.9,
          4.205,
          3.89,
          3.5225,
          3.99,
          3.865,
          3.86,
          3.85,
          3.453333333333333,
          3.82,
          3.82,
          3.8,
          3.716666666666667,
          3.875,
          3.79,
          3.775,
          3.7342105263157896,
          3.75,
          3.685147058823529,
          3.69,
          3.686666666666667,
          3.6875,
          3.62,
          3.62,
          3.93,
          3.6,
          3.585,
          3.18,
          3.306666666666667,
          3.35,
          3.5,
          3.5075000000000003,
          3.48,
          3.370149253731344,
          3.425,
          3.3,
          3.38,
          3.4166666666666665,
          3.35,
          3.1060000000000003,
          3.5,
          3.34,
          3.063333333333333,
          3.305329341317365,
          3.25,
          3.2469230769230766,
          3.23,
          2.886,
          2.922,
          3.18,
          2.904,
          3.208,
          3.12,
          3.11,
          3.1,
          2.75,
          3.1,
          2.9910000000000005,
          3.05,
          3.05,
          2.8991666666666664,
          2.955,
          2.98,
          2.98,
          2.8032352941176475,
          2.88,
          2.875,
          2.928888888888889,
          2.81,
          2.79,
          2.8314285714285714,
          2.795,
          2.69,
          2.68,
          2.68,
          3.29,
          2.64875,
          2.545,
          2.593,
          2.5370588235294123,
          2.52,
          2.6447572815533977,
          2.5,
          2.313333333333333,
          2.513333333333333,
          2.41,
          2.35,
          2.34,
          2.72,
          2.09,
          1.94,
          1.845
         ]
        }
       ],
       "layout": {
        "template": {
         "data": {
          "bar": [
           {
            "error_x": {
             "color": "#2a3f5f"
            },
            "error_y": {
             "color": "#2a3f5f"
            },
            "marker": {
             "line": {
              "color": "#E5ECF6",
              "width": 0.5
             },
             "pattern": {
              "fillmode": "overlay",
              "size": 10,
              "solidity": 0.2
             }
            },
            "type": "bar"
           }
          ],
          "barpolar": [
           {
            "marker": {
             "line": {
              "color": "#E5ECF6",
              "width": 0.5
             },
             "pattern": {
              "fillmode": "overlay",
              "size": 10,
              "solidity": 0.2
             }
            },
            "type": "barpolar"
           }
          ],
          "carpet": [
           {
            "aaxis": {
             "endlinecolor": "#2a3f5f",
             "gridcolor": "white",
             "linecolor": "white",
             "minorgridcolor": "white",
             "startlinecolor": "#2a3f5f"
            },
            "baxis": {
             "endlinecolor": "#2a3f5f",
             "gridcolor": "white",
             "linecolor": "white",
             "minorgridcolor": "white",
             "startlinecolor": "#2a3f5f"
            },
            "type": "carpet"
           }
          ],
          "choropleth": [
           {
            "colorbar": {
             "outlinewidth": 0,
             "ticks": ""
            },
            "type": "choropleth"
           }
          ],
          "contour": [
           {
            "colorbar": {
             "outlinewidth": 0,
             "ticks": ""
            },
            "colorscale": [
             [
              0,
              "#0d0887"
             ],
             [
              0.1111111111111111,
              "#46039f"
             ],
             [
              0.2222222222222222,
              "#7201a8"
             ],
             [
              0.3333333333333333,
              "#9c179e"
             ],
             [
              0.4444444444444444,
              "#bd3786"
             ],
             [
              0.5555555555555556,
              "#d8576b"
             ],
             [
              0.6666666666666666,
              "#ed7953"
             ],
             [
              0.7777777777777778,
              "#fb9f3a"
             ],
             [
              0.8888888888888888,
              "#fdca26"
             ],
             [
              1,
              "#f0f921"
             ]
            ],
            "type": "contour"
           }
          ],
          "contourcarpet": [
           {
            "colorbar": {
             "outlinewidth": 0,
             "ticks": ""
            },
            "type": "contourcarpet"
           }
          ],
          "heatmap": [
           {
            "colorbar": {
             "outlinewidth": 0,
             "ticks": ""
            },
            "colorscale": [
             [
              0,
              "#0d0887"
             ],
             [
              0.1111111111111111,
              "#46039f"
             ],
             [
              0.2222222222222222,
              "#7201a8"
             ],
             [
              0.3333333333333333,
              "#9c179e"
             ],
             [
              0.4444444444444444,
              "#bd3786"
             ],
             [
              0.5555555555555556,
              "#d8576b"
             ],
             [
              0.6666666666666666,
              "#ed7953"
             ],
             [
              0.7777777777777778,
              "#fb9f3a"
             ],
             [
              0.8888888888888888,
              "#fdca26"
             ],
             [
              1,
              "#f0f921"
             ]
            ],
            "type": "heatmap"
           }
          ],
          "heatmapgl": [
           {
            "colorbar": {
             "outlinewidth": 0,
             "ticks": ""
            },
            "colorscale": [
             [
              0,
              "#0d0887"
             ],
             [
              0.1111111111111111,
              "#46039f"
             ],
             [
              0.2222222222222222,
              "#7201a8"
             ],
             [
              0.3333333333333333,
              "#9c179e"
             ],
             [
              0.4444444444444444,
              "#bd3786"
             ],
             [
              0.5555555555555556,
              "#d8576b"
             ],
             [
              0.6666666666666666,
              "#ed7953"
             ],
             [
              0.7777777777777778,
              "#fb9f3a"
             ],
             [
              0.8888888888888888,
              "#fdca26"
             ],
             [
              1,
              "#f0f921"
             ]
            ],
            "type": "heatmapgl"
           }
          ],
          "histogram": [
           {
            "marker": {
             "pattern": {
              "fillmode": "overlay",
              "size": 10,
              "solidity": 0.2
             }
            },
            "type": "histogram"
           }
          ],
          "histogram2d": [
           {
            "colorbar": {
             "outlinewidth": 0,
             "ticks": ""
            },
            "colorscale": [
             [
              0,
              "#0d0887"
             ],
             [
              0.1111111111111111,
              "#46039f"
             ],
             [
              0.2222222222222222,
              "#7201a8"
             ],
             [
              0.3333333333333333,
              "#9c179e"
             ],
             [
              0.4444444444444444,
              "#bd3786"
             ],
             [
              0.5555555555555556,
              "#d8576b"
             ],
             [
              0.6666666666666666,
              "#ed7953"
             ],
             [
              0.7777777777777778,
              "#fb9f3a"
             ],
             [
              0.8888888888888888,
              "#fdca26"
             ],
             [
              1,
              "#f0f921"
             ]
            ],
            "type": "histogram2d"
           }
          ],
          "histogram2dcontour": [
           {
            "colorbar": {
             "outlinewidth": 0,
             "ticks": ""
            },
            "colorscale": [
             [
              0,
              "#0d0887"
             ],
             [
              0.1111111111111111,
              "#46039f"
             ],
             [
              0.2222222222222222,
              "#7201a8"
             ],
             [
              0.3333333333333333,
              "#9c179e"
             ],
             [
              0.4444444444444444,
              "#bd3786"
             ],
             [
              0.5555555555555556,
              "#d8576b"
             ],
             [
              0.6666666666666666,
              "#ed7953"
             ],
             [
              0.7777777777777778,
              "#fb9f3a"
             ],
             [
              0.8888888888888888,
              "#fdca26"
             ],
             [
              1,
              "#f0f921"
             ]
            ],
            "type": "histogram2dcontour"
           }
          ],
          "mesh3d": [
           {
            "colorbar": {
             "outlinewidth": 0,
             "ticks": ""
            },
            "type": "mesh3d"
           }
          ],
          "parcoords": [
           {
            "line": {
             "colorbar": {
              "outlinewidth": 0,
              "ticks": ""
             }
            },
            "type": "parcoords"
           }
          ],
          "pie": [
           {
            "automargin": true,
            "type": "pie"
           }
          ],
          "scatter": [
           {
            "fillpattern": {
             "fillmode": "overlay",
             "size": 10,
             "solidity": 0.2
            },
            "type": "scatter"
           }
          ],
          "scatter3d": [
           {
            "line": {
             "colorbar": {
              "outlinewidth": 0,
              "ticks": ""
             }
            },
            "marker": {
             "colorbar": {
              "outlinewidth": 0,
              "ticks": ""
             }
            },
            "type": "scatter3d"
           }
          ],
          "scattercarpet": [
           {
            "marker": {
             "colorbar": {
              "outlinewidth": 0,
              "ticks": ""
             }
            },
            "type": "scattercarpet"
           }
          ],
          "scattergeo": [
           {
            "marker": {
             "colorbar": {
              "outlinewidth": 0,
              "ticks": ""
             }
            },
            "type": "scattergeo"
           }
          ],
          "scattergl": [
           {
            "marker": {
             "colorbar": {
              "outlinewidth": 0,
              "ticks": ""
             }
            },
            "type": "scattergl"
           }
          ],
          "scattermapbox": [
           {
            "marker": {
             "colorbar": {
              "outlinewidth": 0,
              "ticks": ""
             }
            },
            "type": "scattermapbox"
           }
          ],
          "scatterpolar": [
           {
            "marker": {
             "colorbar": {
              "outlinewidth": 0,
              "ticks": ""
             }
            },
            "type": "scatterpolar"
           }
          ],
          "scatterpolargl": [
           {
            "marker": {
             "colorbar": {
              "outlinewidth": 0,
              "ticks": ""
             }
            },
            "type": "scatterpolargl"
           }
          ],
          "scatterternary": [
           {
            "marker": {
             "colorbar": {
              "outlinewidth": 0,
              "ticks": ""
             }
            },
            "type": "scatterternary"
           }
          ],
          "surface": [
           {
            "colorbar": {
             "outlinewidth": 0,
             "ticks": ""
            },
            "colorscale": [
             [
              0,
              "#0d0887"
             ],
             [
              0.1111111111111111,
              "#46039f"
             ],
             [
              0.2222222222222222,
              "#7201a8"
             ],
             [
              0.3333333333333333,
              "#9c179e"
             ],
             [
              0.4444444444444444,
              "#bd3786"
             ],
             [
              0.5555555555555556,
              "#d8576b"
             ],
             [
              0.6666666666666666,
              "#ed7953"
             ],
             [
              0.7777777777777778,
              "#fb9f3a"
             ],
             [
              0.8888888888888888,
              "#fdca26"
             ],
             [
              1,
              "#f0f921"
             ]
            ],
            "type": "surface"
           }
          ],
          "table": [
           {
            "cells": {
             "fill": {
              "color": "#EBF0F8"
             },
             "line": {
              "color": "white"
             }
            },
            "header": {
             "fill": {
              "color": "#C8D4E3"
             },
             "line": {
              "color": "white"
             }
            },
            "type": "table"
           }
          ]
         },
         "layout": {
          "annotationdefaults": {
           "arrowcolor": "#2a3f5f",
           "arrowhead": 0,
           "arrowwidth": 1
          },
          "autotypenumbers": "strict",
          "coloraxis": {
           "colorbar": {
            "outlinewidth": 0,
            "ticks": ""
           }
          },
          "colorscale": {
           "diverging": [
            [
             0,
             "#8e0152"
            ],
            [
             0.1,
             "#c51b7d"
            ],
            [
             0.2,
             "#de77ae"
            ],
            [
             0.3,
             "#f1b6da"
            ],
            [
             0.4,
             "#fde0ef"
            ],
            [
             0.5,
             "#f7f7f7"
            ],
            [
             0.6,
             "#e6f5d0"
            ],
            [
             0.7,
             "#b8e186"
            ],
            [
             0.8,
             "#7fbc41"
            ],
            [
             0.9,
             "#4d9221"
            ],
            [
             1,
             "#276419"
            ]
           ],
           "sequential": [
            [
             0,
             "#0d0887"
            ],
            [
             0.1111111111111111,
             "#46039f"
            ],
            [
             0.2222222222222222,
             "#7201a8"
            ],
            [
             0.3333333333333333,
             "#9c179e"
            ],
            [
             0.4444444444444444,
             "#bd3786"
            ],
            [
             0.5555555555555556,
             "#d8576b"
            ],
            [
             0.6666666666666666,
             "#ed7953"
            ],
            [
             0.7777777777777778,
             "#fb9f3a"
            ],
            [
             0.8888888888888888,
             "#fdca26"
            ],
            [
             1,
             "#f0f921"
            ]
           ],
           "sequentialminus": [
            [
             0,
             "#0d0887"
            ],
            [
             0.1111111111111111,
             "#46039f"
            ],
            [
             0.2222222222222222,
             "#7201a8"
            ],
            [
             0.3333333333333333,
             "#9c179e"
            ],
            [
             0.4444444444444444,
             "#bd3786"
            ],
            [
             0.5555555555555556,
             "#d8576b"
            ],
            [
             0.6666666666666666,
             "#ed7953"
            ],
            [
             0.7777777777777778,
             "#fb9f3a"
            ],
            [
             0.8888888888888888,
             "#fdca26"
            ],
            [
             1,
             "#f0f921"
            ]
           ]
          },
          "colorway": [
           "#636efa",
           "#EF553B",
           "#00cc96",
           "#ab63fa",
           "#FFA15A",
           "#19d3f3",
           "#FF6692",
           "#B6E880",
           "#FF97FF",
           "#FECB52"
          ],
          "font": {
           "color": "#2a3f5f"
          },
          "geo": {
           "bgcolor": "white",
           "lakecolor": "white",
           "landcolor": "#E5ECF6",
           "showlakes": true,
           "showland": true,
           "subunitcolor": "white"
          },
          "hoverlabel": {
           "align": "left"
          },
          "hovermode": "closest",
          "mapbox": {
           "style": "light"
          },
          "paper_bgcolor": "white",
          "plot_bgcolor": "#E5ECF6",
          "polar": {
           "angularaxis": {
            "gridcolor": "white",
            "linecolor": "white",
            "ticks": ""
           },
           "bgcolor": "#E5ECF6",
           "radialaxis": {
            "gridcolor": "white",
            "linecolor": "white",
            "ticks": ""
           }
          },
          "scene": {
           "xaxis": {
            "backgroundcolor": "#E5ECF6",
            "gridcolor": "white",
            "gridwidth": 2,
            "linecolor": "white",
            "showbackground": true,
            "ticks": "",
            "zerolinecolor": "white"
           },
           "yaxis": {
            "backgroundcolor": "#E5ECF6",
            "gridcolor": "white",
            "gridwidth": 2,
            "linecolor": "white",
            "showbackground": true,
            "ticks": "",
            "zerolinecolor": "white"
           },
           "zaxis": {
            "backgroundcolor": "#E5ECF6",
            "gridcolor": "white",
            "gridwidth": 2,
            "linecolor": "white",
            "showbackground": true,
            "ticks": "",
            "zerolinecolor": "white"
           }
          },
          "shapedefaults": {
           "line": {
            "color": "#2a3f5f"
           }
          },
          "ternary": {
           "aaxis": {
            "gridcolor": "white",
            "linecolor": "white",
            "ticks": ""
           },
           "baxis": {
            "gridcolor": "white",
            "linecolor": "white",
            "ticks": ""
           },
           "bgcolor": "#E5ECF6",
           "caxis": {
            "gridcolor": "white",
            "linecolor": "white",
            "ticks": ""
           }
          },
          "title": {
           "x": 0.05
          },
          "xaxis": {
           "automargin": true,
           "gridcolor": "white",
           "linecolor": "white",
           "ticks": "",
           "title": {
            "standoff": 15
           },
           "zerolinecolor": "white",
           "zerolinewidth": 2
          },
          "yaxis": {
           "automargin": true,
           "gridcolor": "white",
           "linecolor": "white",
           "ticks": "",
           "title": {
            "standoff": 15
           },
           "zerolinecolor": "white",
           "zerolinewidth": 2
          }
         }
        },
        "title": {
         "text": "Beer style and avreage score per countries"
        }
       }
      },
      "text/html": [
       "<div>                            <div id=\"b72c6419-f89d-4090-9090-3d6587f93021\" class=\"plotly-graph-div\" style=\"height:525px; width:100%;\"></div>            <script type=\"text/javascript\">                require([\"plotly\"], function(Plotly) {                    window.PLOTLYENV=window.PLOTLYENV || {};                                    if (document.getElementById(\"b72c6419-f89d-4090-9090-3d6587f93021\")) {                    Plotly.newPlot(                        \"b72c6419-f89d-4090-9090-3d6587f93021\",                        [{\"autocolorscale\":false,\"colorbar\":{\"tickprefix\":\"avreage rating\",\"title\":{\"text\":\"style of beer<br>per country\"}},\"colorscale\":[[0.0,\"#440154\"],[0.1111111111111111,\"#482878\"],[0.2222222222222222,\"#3e4989\"],[0.3333333333333333,\"#31688e\"],[0.4444444444444444,\"#26828e\"],[0.5555555555555556,\"#1f9e89\"],[0.6666666666666666,\"#35b779\"],[0.7777777777777778,\"#6ece58\"],[0.8888888888888888,\"#b5de2b\"],[1.0,\"#fde725\"]],\"locationmode\":\"country names\",\"locations\":[\"France\",\"United States\",\"Sweden\",\"Canada\",\"Netherlands\",\"Russia\",\"Mexico\",\"Malta\",\"Spain\",\"Belgium\",\"Lithuania\",\"Austria\",\"Denmark\",\"Australia\",\"Italy\",\"Ireland\",\"Ecuador\",\"Germany\",\"Hungary\",\"England\",\"South Africa\",\"Mauritius\",\"Serbia\",\"Scotland\",\"Japan\",\"Philippines\",\"Iceland\",\"Cyprus\",\"Finland\",\"Poland\",\"Croatia\",\"Canada, Ontario\",\"Malaysia\",\"Estonia\",\"Portugal\",\"New Zealand\",\"Brazil\",\"Costa Rica\",\"Norway\",\"Switzerland\",\"Bahamas\",\"Greece\",\"Canada, Nova Scotia\",\"Panama\",\"Canada, Quebec\",\"Congo\",\"Czech Republic\",\"Northern Ireland\",\"Cameroon\",\"South Korea\",\"India\",\"Israel\",\"Puerto Rico\",\"Wales\",\"Argentina\",\"Chile\",\"China\",\"Nicaragua\",\"United Kingdom, England\",\"Latvia\",\"Cuba\",\"Ivory Coast\",\"Canada, British Columbia\",\"Vietnam\",\"Singapore\",\"Hong Kong\",\"Peru\",\"Romania\",\"Slovak Republic\",\"Virgin Islands (U.S.)\",\"San Marino\",\"Slovenia\",\"Thailand\",\"Ukraine\",\"Georgia\",\"Iran\",\"Canada, Alberta\",\"United Kingdom, Scotland\",\"Lebanon\",\"Colombia\",\"Isle of Man\",\"Cambodia\",\"Taiwan\",\"Tanzania\",\"Uzbekistan\",\"Uruguay\",\"Palau\",\"Samoa\",\"Honduras\",\"Faroe Islands\",\"Bulgaria\",\"Armenia\",\"Guam\",\"Grenada\",\"Turks and Caicos Islands\",\"Kazakhstan\",\"Bolivia\",\"Barbados\",\"Monaco\",\"Guatemala\",\"Saint Lucia\",\"Turkey\",\"Cayman Islands\",\"Guernsey\",\"Jersey\",\"Namibia\",\"Jordan\",\"Luxembourg\",\"Sri Lanka\",\"Trinidad & Tobago\",\"Vanuatu\",\"Andorra\",\"Moldova\",\"French Polynesia\",\"Liechtenstein\",\"Greenland\",\"Egypt\",\"Cura\\u00e7ao\",\"Cook Islands\",\"Belarus\",\"Ghana\",\"Algeria\",\"El Salvador\",\"Bermuda\",\"Venezuela\",\"Palestine\",\"Ethiopia\",\"Saint Vincent and The Grenadines\",\"Jamaica\",\"Togo\",\"Rwanda\",\"Nigeria\",\"United Kingdom, Wales\",\"Canada, New Brunswick\",\"Mongolia\",\"Kenya\",\"Albania\",\"Bosnia and Herzegovina\",\"Myanmar\",\"Dominican Republic\",\"Montenegro\",\"Indonesia\",\"Angola\",\"Belize\",\"Macedonia\",\"Mozambique\",\"Nepal\",\"Swaziland\",\"Turkmenistan\",\"Seychelles\",\"Pakistan\",\"Canada, Saskatchewan\",\"Madagascar\",\"Laos\",\"Bhutan\",\"French Guiana\",\"Solomon Islands\",\"Eritrea\",\"Lesotho\",\"Zimbabwe\",\"Fiji Islands\",\"Martinique\",\"Reunion\",\"Libya\",\"Antigua & Barbuda\",\"Gambia\",\"Papua New Guinea\",\"Uganda\",\"Niger\",\"Benin\",\"Suriname\",\"Azerbaijan\",\"Tonga\",\"Aruba\",\"Dominica\",\"Gabon\",\"Virgin Islands (British)\",\"Morocco\",\"Bangladesh\",\"Paraguay\",\"Senegal\",\"Guadeloupe\",\"Tajikistan\",\"Central African Republic\",\"New Caledonia\",\"Cape Verde Islands\",\"Canada, Manitoba\",\"Botswana\",\"Tunisia\",\"Macau\",\"Syria\",\"Haiti\",\"Zambia\",\"North Korea\",\"South Sudan\",\"Equatorial Guinea\",\"Canada, Newfoundland and Labrador\",\"Burkina Faso\",\"Micronesia\",\"Malawi\",\"United Arab Emirates\",\"Iraq\"],\"marker\":{\"line\":{\"color\":\"darkgray\",\"width\":0.5}},\"reversescale\":true,\"text\":[\"Favored style: American Blonde Ale\",\"Favored style: American Amber / Red Ale\",\"Favored style: Lambic - Fruit\",\"Favored style: Quadrupel (Quad)\",\"Favored style: Euro Strong Lager\",\"Favored style: Munich Helles Lager\",\"Favored style: American IPA\",\"Favored style: English Pale Ale\",\"Favored style: Hefeweizen\",\"Favored style: Dubbel\",\"Favored style: American IPA\",\"Favored style: Weizenbock\",\"Favored style: American IPA\",\"Favored style: K\\u00f6lsch\",\"Favored style: American IPA\",\"Favored style: English Porter\",\"Favored style: American Pale Ale (APA)\",\"Favored style: American Pale Ale (APA)\",\"Favored style: Fruit / Vegetable Beer\",\"Favored style: American Pale Ale (APA)\",\"Favored style: American Double / Imperial IPA\",\"Favored style: M\\u00e4rzen / Oktoberfest\",\"Favored style: American Double / Imperial Stout\",\"Favored style: American IPA\",\"Favored style: American Barleywine\",\"Favored style: American Double / Imperial Stout\",\"Favored style: American Double / Imperial Stout\",\"Favored style: Witbier\",\"Favored style: American IPA\",\"Favored style: Belgian IPA\",\"Favored style: Old Ale\",\"Favored style: Irish Dry Stout\",\"Favored style: Witbier\",\"Favored style: American Double / Imperial IPA\",\"Favored style: English Barleywine\",\"Favored style: American Barleywine\",\"Favored style: Tripel\",\"Favored style: American Brown Ale\",\"Favored style: English Barleywine\",\"Favored style: Bi\\u00e8re de Garde\",\"Favored style: Herbed / Spiced Beer\",\"Favored style: American IPA\",\"Favored style: Saison / Farmhouse Ale\",\"Favored style: American Pale Ale (APA)\",\"Favored style: American Stout\",\"Favored style: Euro Dark Lager\",\"Favored style: Euro Dark Lager\",\"Favored style: English India Pale Ale (IPA)\",\"Favored style: Euro Pale Lager\",\"Favored style: American IPA\",\"Favored style: English India Pale Ale (IPA)\",\"Favored style: American IPA\",\"Favored style: English Porter\",\"Favored style: American Stout\",\"Favored style: Fruit / Vegetable Beer\",\"Favored style: Bock\",\"Favored style: Vienna Lager\",\"Favored style: Euro Dark Lager\",\"Favored style: English Dark Mild Ale\",\"Favored style: American Double / Imperial IPA\",\"Favored style: American Adjunct Lager\",\"Favored style: Bock\",\"Favored style: Hefeweizen\",\"Favored style: Berliner Weissbier\",\"Favored style: Belgian Pale Ale\",\"Favored style: English Porter\",\"Favored style: American Porter\",\"Favored style: Russian Imperial Stout\",\"Favored style: Baltic Porter\",\"Favored style: American Brown Ale\",\"Favored style: German Pilsener\",\"Favored style: Russian Imperial Stout\",\"Favored style: American Pale Wheat Ale\",\"Favored style: Euro Dark Lager\",\"Favored style: Euro Pale Lager\",\"Favored style: Low Alcohol Beer\",\"Favored style: American Pale Lager\",\"Favored style: American Blonde Ale\",\"Favored style: Czech Pilsener\",\"Favored style: Munich Helles Lager\",\"Favored style: English Porter\",\"Favored style: American IPA\",\"Favored style: Gose\",\"Favored style: American Amber / Red Ale\",\"Favored style: German Pilsener\",\"Favored style: American IPA\",\"Favored style: English Barleywine\",\"Favored style: Euro Pale Lager\",\"Favored style: English Porter\",\"Favored style: American Porter\",\"Favored style: American Stout\",\"Favored style: Smoked Beer\",\"Favored style: American Double / Imperial IPA\",\"Favored style: American IPA\",\"Favored style: Hefeweizen\",\"Favored style: Euro Dark Lager\",\"Favored style: American Amber / Red Lager\",\"Favored style: Irish Dry Stout\",\"Favored style: Herbed / Spiced Beer\",\"Favored style: Vienna Lager\",\"Favored style: Fruit / Vegetable Beer\",\"Favored style: German Pilsener\",\"Favored style: Foreign / Export Stout\",\"Favored style: English Stout\",\"Favored style: Herbed / Spiced Beer\",\"Favored style: Bock\",\"Favored style: Scotch Ale / Wee Heavy\",\"Favored style: Kellerbier / Zwickelbier\",\"Favored style: Foreign / Export Stout\",\"Favored style: Foreign / Export Stout\",\"Favored style: American Blonde Ale\",\"Favored style: Smoked Beer\",\"Favored style: English Barleywine\",\"Favored style: American Amber / Red Lager\",\"Favored style: Witbier\",\"Favored style: English Brown Ale\",\"Favored style: American Amber / Red Lager\",\"Favored style: Witbier\",\"Favored style: English Pale Ale\",\"Favored style: Euro Dark Lager\",\"Favored style: Foreign / Export Stout\",\"Favored style: American Strong Ale\",\"Favored style: American Amber / Red Ale\",\"Favored style: American Black Ale\",\"Favored style: K\\u00f6lsch\",\"Favored style: Witbier\",\"Favored style: Czech Pilsener\",\"Favored style: Foreign / Export Stout\",\"Favored style: Foreign / Export Stout\",\"Favored style: English Brown Ale\",\"Favored style: Euro Dark Lager\",\"Favored style: Foreign / Export Stout\",\"Favored style: English Bitter\",\"Favored style: American IPA\",\"Favored style: Czech Pilsener\",\"Favored style: American Adjunct Lager\",\"Favored style: Euro Dark Lager\",\"Favored style: Euro Pale Lager\",\"Favored style: Foreign / Export Stout\",\"Favored style: American Amber / Red Lager\",\"Favored style: Euro Pale Lager\",\"Favored style: American Pale Ale (APA)\",\"Favored style: Euro Pale Lager\",\"Favored style: Milk / Sweet Stout\",\"Favored style: English India Pale Ale (IPA)\",\"Favored style: Euro Pale Lager\",\"Favored style: American Pale Lager\",\"Favored style: Euro Pale Lager\",\"Favored style: Euro Pale Lager\",\"Favored style: Euro Pale Lager\",\"Favored style: Euro Pale Lager\",\"Favored style: English Pale Ale\",\"Favored style: German Pilsener\",\"Favored style: Euro Dark Lager\",\"Favored style: American Adjunct Lager\",\"Favored style: Witbier\",\"Favored style: Euro Pale Lager\",\"Favored style: American Adjunct Lager\",\"Favored style: American Adjunct Lager\",\"Favored style: Euro Pale Lager\",\"Favored style: Euro Pale Lager\",\"Favored style: Light Lager\",\"Favored style: Euro Pale Lager\",\"Favored style: Low Alcohol Beer\",\"Favored style: American Adjunct Lager\",\"Favored style: Dortmunder / Export Lager\",\"Favored style: Foreign / Export Stout\",\"Favored style: American Adjunct Lager\",\"Favored style: Euro Pale Lager\",\"Favored style: Euro Pale Lager\",\"Favored style: American Adjunct Lager\",\"Favored style: Dortmunder / Export Lager\",\"Favored style: Euro Dark Lager\",\"Favored style: American Pale Ale (APA)\",\"Favored style: American Adjunct Lager\",\"Favored style: Euro Pale Lager\",\"Favored style: American Pale Lager\",\"Favored style: Euro Pale Lager\",\"Favored style: Euro Pale Lager\",\"Favored style: German Pilsener\",\"Favored style: Euro Pale Lager\",\"Favored style: Euro Pale Lager\",\"Favored style: Euro Pale Lager\",\"Favored style: Euro Pale Lager\",\"Favored style: Euro Pale Lager\",\"Favored style: Euro Strong Lager\",\"Favored style: Cream Ale\",\"Favored style: Low Alcohol Beer\",\"Favored style: Euro Pale Lager\",\"Favored style: Euro Pale Lager\",\"Favored style: Euro Pale Lager\",\"Favored style: American Adjunct Lager\",\"Favored style: American Adjunct Lager\",\"Favored style: American Adjunct Lager\",\"Favored style: American Adjunct Lager\",\"Favored style: Euro Pale Lager\",\"Favored style: American Adjunct Lager\",\"Favored style: Euro Pale Lager\",\"Favored style: American Amber / Red Lager\",\"Favored style: Euro Pale Lager\",\"Favored style: Low Alcohol Beer\",\"Favored style: Euro Pale Lager\"],\"z\":[5.0,5.0,5.0,5.0,5.0,5.0,5.0,5.0,5.0,5.0,5.0,5.0,5.0,5.0,5.0,5.0,5.0,5.0,4.99,4.97,4.96,4.95,4.93,4.89,4.87,4.84,4.826666666666667,4.82,4.81,4.8,4.78,4.78,4.75,4.465,4.74,4.41,4.6875,4.68,4.294,4.416666666666667,4.66,4.64,4.64,4.64,4.63,4.62,4.57,4.55,4.55,4.1025,4.5,4.5,4.5,4.5,4.5,4.5,4.5,4.5,4.5,4.49,4.48,4.44,4.333333333333333,4.4,4.4,4.395,4.38,4.3100000000000005,4.34,4.33,4.3,4.29,4.29,4.29,4.27,4.26,4.2,4.2,4.19,4.18,4.15,4.12,4.1,4.1,4.09,4.08,4.08,4.05,4.045,4.04,4.03,3.915,4.0,4.0,4.0,4.0,4.0,4.005,3.98,3.91,3.96,3.95,4.0725,3.95,3.94,3.925,3.925,3.845,3.9092165330043183,3.92,3.9,4.205,3.89,3.5225,3.99,3.865,3.86,3.85,3.453333333333333,3.82,3.82,3.8,3.716666666666667,3.875,3.79,3.775,3.7342105263157896,3.75,3.685147058823529,3.69,3.686666666666667,3.6875,3.62,3.62,3.93,3.6,3.585,3.18,3.306666666666667,3.35,3.5,3.5075000000000003,3.48,3.370149253731344,3.425,3.3,3.38,3.4166666666666665,3.35,3.1060000000000003,3.5,3.34,3.063333333333333,3.305329341317365,3.25,3.2469230769230766,3.23,2.886,2.922,3.18,2.904,3.208,3.12,3.11,3.1,2.75,3.1,2.9910000000000005,3.05,3.05,2.8991666666666664,2.955,2.98,2.98,2.8032352941176475,2.88,2.875,2.928888888888889,2.81,2.79,2.8314285714285714,2.795,2.69,2.68,2.68,3.29,2.64875,2.545,2.593,2.5370588235294123,2.52,2.6447572815533977,2.5,2.313333333333333,2.513333333333333,2.41,2.35,2.34,2.72,2.09,1.94,1.845],\"type\":\"choropleth\"}],                        {\"template\":{\"data\":{\"histogram2dcontour\":[{\"type\":\"histogram2dcontour\",\"colorbar\":{\"outlinewidth\":0,\"ticks\":\"\"},\"colorscale\":[[0.0,\"#0d0887\"],[0.1111111111111111,\"#46039f\"],[0.2222222222222222,\"#7201a8\"],[0.3333333333333333,\"#9c179e\"],[0.4444444444444444,\"#bd3786\"],[0.5555555555555556,\"#d8576b\"],[0.6666666666666666,\"#ed7953\"],[0.7777777777777778,\"#fb9f3a\"],[0.8888888888888888,\"#fdca26\"],[1.0,\"#f0f921\"]]}],\"choropleth\":[{\"type\":\"choropleth\",\"colorbar\":{\"outlinewidth\":0,\"ticks\":\"\"}}],\"histogram2d\":[{\"type\":\"histogram2d\",\"colorbar\":{\"outlinewidth\":0,\"ticks\":\"\"},\"colorscale\":[[0.0,\"#0d0887\"],[0.1111111111111111,\"#46039f\"],[0.2222222222222222,\"#7201a8\"],[0.3333333333333333,\"#9c179e\"],[0.4444444444444444,\"#bd3786\"],[0.5555555555555556,\"#d8576b\"],[0.6666666666666666,\"#ed7953\"],[0.7777777777777778,\"#fb9f3a\"],[0.8888888888888888,\"#fdca26\"],[1.0,\"#f0f921\"]]}],\"heatmap\":[{\"type\":\"heatmap\",\"colorbar\":{\"outlinewidth\":0,\"ticks\":\"\"},\"colorscale\":[[0.0,\"#0d0887\"],[0.1111111111111111,\"#46039f\"],[0.2222222222222222,\"#7201a8\"],[0.3333333333333333,\"#9c179e\"],[0.4444444444444444,\"#bd3786\"],[0.5555555555555556,\"#d8576b\"],[0.6666666666666666,\"#ed7953\"],[0.7777777777777778,\"#fb9f3a\"],[0.8888888888888888,\"#fdca26\"],[1.0,\"#f0f921\"]]}],\"heatmapgl\":[{\"type\":\"heatmapgl\",\"colorbar\":{\"outlinewidth\":0,\"ticks\":\"\"},\"colorscale\":[[0.0,\"#0d0887\"],[0.1111111111111111,\"#46039f\"],[0.2222222222222222,\"#7201a8\"],[0.3333333333333333,\"#9c179e\"],[0.4444444444444444,\"#bd3786\"],[0.5555555555555556,\"#d8576b\"],[0.6666666666666666,\"#ed7953\"],[0.7777777777777778,\"#fb9f3a\"],[0.8888888888888888,\"#fdca26\"],[1.0,\"#f0f921\"]]}],\"contourcarpet\":[{\"type\":\"contourcarpet\",\"colorbar\":{\"outlinewidth\":0,\"ticks\":\"\"}}],\"contour\":[{\"type\":\"contour\",\"colorbar\":{\"outlinewidth\":0,\"ticks\":\"\"},\"colorscale\":[[0.0,\"#0d0887\"],[0.1111111111111111,\"#46039f\"],[0.2222222222222222,\"#7201a8\"],[0.3333333333333333,\"#9c179e\"],[0.4444444444444444,\"#bd3786\"],[0.5555555555555556,\"#d8576b\"],[0.6666666666666666,\"#ed7953\"],[0.7777777777777778,\"#fb9f3a\"],[0.8888888888888888,\"#fdca26\"],[1.0,\"#f0f921\"]]}],\"surface\":[{\"type\":\"surface\",\"colorbar\":{\"outlinewidth\":0,\"ticks\":\"\"},\"colorscale\":[[0.0,\"#0d0887\"],[0.1111111111111111,\"#46039f\"],[0.2222222222222222,\"#7201a8\"],[0.3333333333333333,\"#9c179e\"],[0.4444444444444444,\"#bd3786\"],[0.5555555555555556,\"#d8576b\"],[0.6666666666666666,\"#ed7953\"],[0.7777777777777778,\"#fb9f3a\"],[0.8888888888888888,\"#fdca26\"],[1.0,\"#f0f921\"]]}],\"mesh3d\":[{\"type\":\"mesh3d\",\"colorbar\":{\"outlinewidth\":0,\"ticks\":\"\"}}],\"scatter\":[{\"fillpattern\":{\"fillmode\":\"overlay\",\"size\":10,\"solidity\":0.2},\"type\":\"scatter\"}],\"parcoords\":[{\"type\":\"parcoords\",\"line\":{\"colorbar\":{\"outlinewidth\":0,\"ticks\":\"\"}}}],\"scatterpolargl\":[{\"type\":\"scatterpolargl\",\"marker\":{\"colorbar\":{\"outlinewidth\":0,\"ticks\":\"\"}}}],\"bar\":[{\"error_x\":{\"color\":\"#2a3f5f\"},\"error_y\":{\"color\":\"#2a3f5f\"},\"marker\":{\"line\":{\"color\":\"#E5ECF6\",\"width\":0.5},\"pattern\":{\"fillmode\":\"overlay\",\"size\":10,\"solidity\":0.2}},\"type\":\"bar\"}],\"scattergeo\":[{\"type\":\"scattergeo\",\"marker\":{\"colorbar\":{\"outlinewidth\":0,\"ticks\":\"\"}}}],\"scatterpolar\":[{\"type\":\"scatterpolar\",\"marker\":{\"colorbar\":{\"outlinewidth\":0,\"ticks\":\"\"}}}],\"histogram\":[{\"marker\":{\"pattern\":{\"fillmode\":\"overlay\",\"size\":10,\"solidity\":0.2}},\"type\":\"histogram\"}],\"scattergl\":[{\"type\":\"scattergl\",\"marker\":{\"colorbar\":{\"outlinewidth\":0,\"ticks\":\"\"}}}],\"scatter3d\":[{\"type\":\"scatter3d\",\"line\":{\"colorbar\":{\"outlinewidth\":0,\"ticks\":\"\"}},\"marker\":{\"colorbar\":{\"outlinewidth\":0,\"ticks\":\"\"}}}],\"scattermapbox\":[{\"type\":\"scattermapbox\",\"marker\":{\"colorbar\":{\"outlinewidth\":0,\"ticks\":\"\"}}}],\"scatterternary\":[{\"type\":\"scatterternary\",\"marker\":{\"colorbar\":{\"outlinewidth\":0,\"ticks\":\"\"}}}],\"scattercarpet\":[{\"type\":\"scattercarpet\",\"marker\":{\"colorbar\":{\"outlinewidth\":0,\"ticks\":\"\"}}}],\"carpet\":[{\"aaxis\":{\"endlinecolor\":\"#2a3f5f\",\"gridcolor\":\"white\",\"linecolor\":\"white\",\"minorgridcolor\":\"white\",\"startlinecolor\":\"#2a3f5f\"},\"baxis\":{\"endlinecolor\":\"#2a3f5f\",\"gridcolor\":\"white\",\"linecolor\":\"white\",\"minorgridcolor\":\"white\",\"startlinecolor\":\"#2a3f5f\"},\"type\":\"carpet\"}],\"table\":[{\"cells\":{\"fill\":{\"color\":\"#EBF0F8\"},\"line\":{\"color\":\"white\"}},\"header\":{\"fill\":{\"color\":\"#C8D4E3\"},\"line\":{\"color\":\"white\"}},\"type\":\"table\"}],\"barpolar\":[{\"marker\":{\"line\":{\"color\":\"#E5ECF6\",\"width\":0.5},\"pattern\":{\"fillmode\":\"overlay\",\"size\":10,\"solidity\":0.2}},\"type\":\"barpolar\"}],\"pie\":[{\"automargin\":true,\"type\":\"pie\"}]},\"layout\":{\"autotypenumbers\":\"strict\",\"colorway\":[\"#636efa\",\"#EF553B\",\"#00cc96\",\"#ab63fa\",\"#FFA15A\",\"#19d3f3\",\"#FF6692\",\"#B6E880\",\"#FF97FF\",\"#FECB52\"],\"font\":{\"color\":\"#2a3f5f\"},\"hovermode\":\"closest\",\"hoverlabel\":{\"align\":\"left\"},\"paper_bgcolor\":\"white\",\"plot_bgcolor\":\"#E5ECF6\",\"polar\":{\"bgcolor\":\"#E5ECF6\",\"angularaxis\":{\"gridcolor\":\"white\",\"linecolor\":\"white\",\"ticks\":\"\"},\"radialaxis\":{\"gridcolor\":\"white\",\"linecolor\":\"white\",\"ticks\":\"\"}},\"ternary\":{\"bgcolor\":\"#E5ECF6\",\"aaxis\":{\"gridcolor\":\"white\",\"linecolor\":\"white\",\"ticks\":\"\"},\"baxis\":{\"gridcolor\":\"white\",\"linecolor\":\"white\",\"ticks\":\"\"},\"caxis\":{\"gridcolor\":\"white\",\"linecolor\":\"white\",\"ticks\":\"\"}},\"coloraxis\":{\"colorbar\":{\"outlinewidth\":0,\"ticks\":\"\"}},\"colorscale\":{\"sequential\":[[0.0,\"#0d0887\"],[0.1111111111111111,\"#46039f\"],[0.2222222222222222,\"#7201a8\"],[0.3333333333333333,\"#9c179e\"],[0.4444444444444444,\"#bd3786\"],[0.5555555555555556,\"#d8576b\"],[0.6666666666666666,\"#ed7953\"],[0.7777777777777778,\"#fb9f3a\"],[0.8888888888888888,\"#fdca26\"],[1.0,\"#f0f921\"]],\"sequentialminus\":[[0.0,\"#0d0887\"],[0.1111111111111111,\"#46039f\"],[0.2222222222222222,\"#7201a8\"],[0.3333333333333333,\"#9c179e\"],[0.4444444444444444,\"#bd3786\"],[0.5555555555555556,\"#d8576b\"],[0.6666666666666666,\"#ed7953\"],[0.7777777777777778,\"#fb9f3a\"],[0.8888888888888888,\"#fdca26\"],[1.0,\"#f0f921\"]],\"diverging\":[[0,\"#8e0152\"],[0.1,\"#c51b7d\"],[0.2,\"#de77ae\"],[0.3,\"#f1b6da\"],[0.4,\"#fde0ef\"],[0.5,\"#f7f7f7\"],[0.6,\"#e6f5d0\"],[0.7,\"#b8e186\"],[0.8,\"#7fbc41\"],[0.9,\"#4d9221\"],[1,\"#276419\"]]},\"xaxis\":{\"gridcolor\":\"white\",\"linecolor\":\"white\",\"ticks\":\"\",\"title\":{\"standoff\":15},\"zerolinecolor\":\"white\",\"automargin\":true,\"zerolinewidth\":2},\"yaxis\":{\"gridcolor\":\"white\",\"linecolor\":\"white\",\"ticks\":\"\",\"title\":{\"standoff\":15},\"zerolinecolor\":\"white\",\"automargin\":true,\"zerolinewidth\":2},\"scene\":{\"xaxis\":{\"backgroundcolor\":\"#E5ECF6\",\"gridcolor\":\"white\",\"linecolor\":\"white\",\"showbackground\":true,\"ticks\":\"\",\"zerolinecolor\":\"white\",\"gridwidth\":2},\"yaxis\":{\"backgroundcolor\":\"#E5ECF6\",\"gridcolor\":\"white\",\"linecolor\":\"white\",\"showbackground\":true,\"ticks\":\"\",\"zerolinecolor\":\"white\",\"gridwidth\":2},\"zaxis\":{\"backgroundcolor\":\"#E5ECF6\",\"gridcolor\":\"white\",\"linecolor\":\"white\",\"showbackground\":true,\"ticks\":\"\",\"zerolinecolor\":\"white\",\"gridwidth\":2}},\"shapedefaults\":{\"line\":{\"color\":\"#2a3f5f\"}},\"annotationdefaults\":{\"arrowcolor\":\"#2a3f5f\",\"arrowhead\":0,\"arrowwidth\":1},\"geo\":{\"bgcolor\":\"white\",\"landcolor\":\"#E5ECF6\",\"subunitcolor\":\"white\",\"showland\":true,\"showlakes\":true,\"lakecolor\":\"white\"},\"title\":{\"x\":0.05},\"mapbox\":{\"style\":\"light\"}}},\"title\":{\"text\":\"Beer style and avreage score per countries\"}},                        {\"responsive\": true}                    ).then(function(){\n",
       "                            \n",
       "var gd = document.getElementById('b72c6419-f89d-4090-9090-3d6587f93021');\n",
       "var x = new MutationObserver(function (mutations, observer) {{\n",
       "        var display = window.getComputedStyle(gd).display;\n",
       "        if (!display || display === 'none') {{\n",
       "            console.log([gd, 'removed!']);\n",
       "            Plotly.purge(gd);\n",
       "            observer.disconnect();\n",
       "        }}\n",
       "}});\n",
       "\n",
       "// Listen for the removal of the full notebook cells\n",
       "var notebookContainer = gd.closest('#notebook-container');\n",
       "if (notebookContainer) {{\n",
       "    x.observe(notebookContainer, {childList: true});\n",
       "}}\n",
       "\n",
       "// Listen for the clearing of the current output cell\n",
       "var outputEl = gd.closest('.output');\n",
       "if (outputEl) {{\n",
       "    x.observe(outputEl, {childList: true});\n",
       "}}\n",
       "\n",
       "                        })                };                });            </script>        </div>"
      ]
     },
     "metadata": {},
     "output_type": "display_data"
    }
   ],
   "source": [
    "fig_world = go.Figure(data = go.Choropleth(\n",
    "    locations = location_country['location'],\n",
    "    locationmode= 'country names',\n",
    "    z = location_country['avg_computed'],\n",
    "    text = 'Favored style: '+ location_country['style'],\n",
    "    colorscale = 'Viridis',\n",
    "    autocolorscale=False,\n",
    "    reversescale=True,\n",
    "    marker_line_color='darkgray',\n",
    "    marker_line_width=0.5,\n",
    "    colorbar_tickprefix = 'avreage rating',\n",
    "    colorbar_title = 'style of beer<br>per country',\n",
    "))\n",
    "\n",
    "fig_world.update_layout(\n",
    "    title_text='Beer style and avreage score per countries'\n",
    ")\n",
    "\n",
    "fig_world.show()\n",
    "# fig_world.write_html(\"map/html/\"+\"_country\"+\".html\")"
   ]
  },
  {
   "cell_type": "code",
   "execution_count": 14,
   "id": "0bb15790",
   "metadata": {},
   "outputs": [],
   "source": [
    "states = {\n",
    "\"Alabama\": \"AL\",\n",
    "\"Alaska\": \"AK\",\n",
    "\"Arizona\": \"AZ\",\n",
    "\"Arkansas\": \"AR\",\n",
    "\"California\": \"CA\",\n",
    "\"Colorado\": \"CO\",\n",
    "\"Connecticut\": \"CT\",\n",
    "\"Delaware\": \"DE\",\n",
    "\"Florida\": \"FL\",\n",
    "\"Georgia\": \"GA\",\n",
    "\"Hawaii\": \"HI\",\n",
    "\"Idaho\": \"ID\",\n",
    "\"Illinois\": \"IL\",\n",
    "\"Indiana\": \"IN\",\n",
    "\"Iowa\": \"IA\",\n",
    "\"Kansas\": \"KS\",\n",
    "\"Kentucky\": \"KY\",\n",
    "\"Louisiana\": \"LA\",\n",
    "\"Maine\": \"ME\",\n",
    "\"Maryland\": \"MD\",\n",
    "\"Massachusetts\": \"MA\",\n",
    "\"Michigan\": \"MI\",\n",
    "\"Minnesota\": \"MN\",\n",
    "\"Mississippi\": \"MS\",\n",
    "\"Missouri\": \"MO\",\n",
    "\"Montana\": \"MT\",\n",
    "\"Nebraska\": \"NE\",\n",
    "\"Nevada\": \"NV\",\n",
    "\"New Hampshire\": \"NH\",\n",
    "\"New Jersey\": \"NJ\",\n",
    "\"New Mexico\": \"NM\",\n",
    "\"New York\": \"NY\",\n",
    "\"North Carolina\": \"NC\",\n",
    "\"North Dakota\": \"ND\",\n",
    "\"Ohio\": \"OH\",\n",
    "\"Oklahoma\": \"OK\",\n",
    "\"Oregon\": \"OR\",\n",
    "\"Pennsylvania\": \"PA\",\n",
    "\"Rhode Island\": \"RI\",\n",
    "\"South Carolina\": \"SC\",\n",
    "\"South Dakota\": \"SD\",\n",
    "\"Tennessee\": \"TN\",\n",
    "\"Texas\": \"TX\",\n",
    "\"Utah\": \"UT\",\n",
    "\"Vermont\": \"VT\",\n",
    "\"Virginia\": \"VA\",\n",
    "\"Washington\": \"WA\",\n",
    "\"West Virginia\": \"WV\",\n",
    "\"Wisconsin\": \"WI\",\n",
    "\"Wyoming\": \"WY\",\n",
    "\"District of Columbia\": \"DC\",\n",
    "\"American Samoa\": \"AS\",\n",
    "\"Guam\": \"GU\",\n",
    "\"Northern Mariana Islands\": \"MP\",\n",
    "\"Puerto Rico\": \"PR\",\n",
    "\"United States Minor Outlying Islands\": \"UM\",\n",
    "\"U.S. Virgin Islands\": \"VI\",\n",
    "}\n",
    "\n",
    "\n",
    "united_states.location = united_states.location.map(states)"
   ]
  },
  {
   "cell_type": "code",
   "execution_count": 15,
   "id": "0ab6e387",
   "metadata": {},
   "outputs": [
    {
     "data": {
      "text/html": [
       "<div>\n",
       "<style scoped>\n",
       "    .dataframe tbody tr th:only-of-type {\n",
       "        vertical-align: middle;\n",
       "    }\n",
       "\n",
       "    .dataframe tbody tr th {\n",
       "        vertical-align: top;\n",
       "    }\n",
       "\n",
       "    .dataframe thead th {\n",
       "        text-align: right;\n",
       "    }\n",
       "</style>\n",
       "<table border=\"1\" class=\"dataframe\">\n",
       "  <thead>\n",
       "    <tr style=\"text-align: right;\">\n",
       "      <th></th>\n",
       "      <th>Unnamed: 0</th>\n",
       "      <th>index</th>\n",
       "      <th>beer_id</th>\n",
       "      <th>beer_name</th>\n",
       "      <th>brewery_id</th>\n",
       "      <th>brewery_name</th>\n",
       "      <th>style</th>\n",
       "      <th>nbr_ratings</th>\n",
       "      <th>nbr_reviews</th>\n",
       "      <th>avg</th>\n",
       "      <th>abv</th>\n",
       "      <th>avg_computed</th>\n",
       "      <th>nbr_matched_valid_ratings</th>\n",
       "      <th>location</th>\n",
       "    </tr>\n",
       "  </thead>\n",
       "  <tbody>\n",
       "    <tr>\n",
       "      <th>1</th>\n",
       "      <td>1</td>\n",
       "      <td>41</td>\n",
       "      <td>109524</td>\n",
       "      <td>Glasstown Ale</td>\n",
       "      <td>33640</td>\n",
       "      <td>Glasstown Brewing Co.</td>\n",
       "      <td>American Amber / Red Ale</td>\n",
       "      <td>2</td>\n",
       "      <td>0</td>\n",
       "      <td>5.0</td>\n",
       "      <td>NaN</td>\n",
       "      <td>5.0</td>\n",
       "      <td>0</td>\n",
       "      <td>CO</td>\n",
       "    </tr>\n",
       "    <tr>\n",
       "      <th>2</th>\n",
       "      <td>2</td>\n",
       "      <td>65</td>\n",
       "      <td>214313</td>\n",
       "      <td>Mole Imperial Stout</td>\n",
       "      <td>24817</td>\n",
       "      <td>Bonfire Brewing Co.</td>\n",
       "      <td>American Double / Imperial Stout</td>\n",
       "      <td>1</td>\n",
       "      <td>0</td>\n",
       "      <td>5.0</td>\n",
       "      <td>NaN</td>\n",
       "      <td>5.0</td>\n",
       "      <td>0</td>\n",
       "      <td>FL</td>\n",
       "    </tr>\n",
       "    <tr>\n",
       "      <th>3</th>\n",
       "      <td>3</td>\n",
       "      <td>62</td>\n",
       "      <td>223013</td>\n",
       "      <td>TrHOPical Fusion</td>\n",
       "      <td>39382</td>\n",
       "      <td>Bowigens Beer Company</td>\n",
       "      <td>American Double / Imperial IPA</td>\n",
       "      <td>1</td>\n",
       "      <td>0</td>\n",
       "      <td>5.0</td>\n",
       "      <td>8.4</td>\n",
       "      <td>5.0</td>\n",
       "      <td>0</td>\n",
       "      <td>GA</td>\n",
       "    </tr>\n",
       "    <tr>\n",
       "      <th>4</th>\n",
       "      <td>4</td>\n",
       "      <td>61</td>\n",
       "      <td>144500</td>\n",
       "      <td>Hop'lin With Cluster Flies</td>\n",
       "      <td>30015</td>\n",
       "      <td>Southbound Brewing Company</td>\n",
       "      <td>Saison / Farmhouse Ale</td>\n",
       "      <td>1</td>\n",
       "      <td>0</td>\n",
       "      <td>5.0</td>\n",
       "      <td>NaN</td>\n",
       "      <td>5.0</td>\n",
       "      <td>0</td>\n",
       "      <td>IL</td>\n",
       "    </tr>\n",
       "    <tr>\n",
       "      <th>5</th>\n",
       "      <td>5</td>\n",
       "      <td>58</td>\n",
       "      <td>169238</td>\n",
       "      <td>Mini Imperial</td>\n",
       "      <td>30302</td>\n",
       "      <td>Lake Effect Brewing Co.</td>\n",
       "      <td>American Porter</td>\n",
       "      <td>1</td>\n",
       "      <td>1</td>\n",
       "      <td>5.0</td>\n",
       "      <td>5.0</td>\n",
       "      <td>5.0</td>\n",
       "      <td>0</td>\n",
       "      <td>IN</td>\n",
       "    </tr>\n",
       "  </tbody>\n",
       "</table>\n",
       "</div>"
      ],
      "text/plain": [
       "   Unnamed: 0  index  beer_id                   beer_name  brewery_id  \\\n",
       "1           1     41   109524               Glasstown Ale       33640   \n",
       "2           2     65   214313         Mole Imperial Stout       24817   \n",
       "3           3     62   223013            TrHOPical Fusion       39382   \n",
       "4           4     61   144500  Hop'lin With Cluster Flies       30015   \n",
       "5           5     58   169238               Mini Imperial       30302   \n",
       "\n",
       "                 brewery_name                             style  nbr_ratings  \\\n",
       "1       Glasstown Brewing Co.          American Amber / Red Ale            2   \n",
       "2         Bonfire Brewing Co.  American Double / Imperial Stout            1   \n",
       "3       Bowigens Beer Company    American Double / Imperial IPA            1   \n",
       "4  Southbound Brewing Company            Saison / Farmhouse Ale            1   \n",
       "5     Lake Effect Brewing Co.                   American Porter            1   \n",
       "\n",
       "   nbr_reviews  avg  abv  avg_computed  nbr_matched_valid_ratings location  \n",
       "1            0  5.0  NaN           5.0                          0       CO  \n",
       "2            0  5.0  NaN           5.0                          0       FL  \n",
       "3            0  5.0  8.4           5.0                          0       GA  \n",
       "4            0  5.0  NaN           5.0                          0       IL  \n",
       "5            1  5.0  5.0           5.0                          0       IN  "
      ]
     },
     "execution_count": 15,
     "metadata": {},
     "output_type": "execute_result"
    }
   ],
   "source": [
    "united_states.head()"
   ]
  },
  {
   "cell_type": "code",
   "execution_count": 16,
   "id": "9b43c4c9",
   "metadata": {},
   "outputs": [
    {
     "data": {
      "application/vnd.plotly.v1+json": {
       "config": {
        "plotlyServerURL": "https://plot.ly"
       },
       "data": [
        {
         "autocolorscale": false,
         "colorbar": {
          "tickprefix": "avreage rating",
          "title": {
           "text": "style of beer<br>and avreage ranking<br>in USA"
          }
         },
         "colorscale": [
          [
           0,
           "#440154"
          ],
          [
           0.1111111111111111,
           "#482878"
          ],
          [
           0.2222222222222222,
           "#3e4989"
          ],
          [
           0.3333333333333333,
           "#31688e"
          ],
          [
           0.4444444444444444,
           "#26828e"
          ],
          [
           0.5555555555555556,
           "#1f9e89"
          ],
          [
           0.6666666666666666,
           "#35b779"
          ],
          [
           0.7777777777777778,
           "#6ece58"
          ],
          [
           0.8888888888888888,
           "#b5de2b"
          ],
          [
           1,
           "#fde725"
          ]
         ],
         "locationmode": "USA-states",
         "locations": [
          "CO",
          "FL",
          "GA",
          "IL",
          "IN",
          "IA",
          "KS",
          "KY",
          "LA",
          "ME",
          "MD",
          "MA",
          "MI",
          "MN",
          "MO",
          "NE",
          "NV",
          "CA",
          "AR",
          "AZ",
          "AK",
          "TX",
          "NY",
          "NC",
          "DE",
          "MT",
          "RI",
          "WV",
          "HI",
          "OK",
          "ID",
          "ND",
          "SD",
          "MS",
          null,
          null,
          null,
          null,
          null,
          null,
          null,
          null,
          null,
          null,
          null,
          null,
          null,
          null,
          null,
          null
         ],
         "marker": {
          "line": {
           "color": "darkgray",
           "width": 0.5
          }
         },
         "reversescale": true,
         "text": [
          "Favored style: American Amber / Red Ale",
          "Favored style: American Double / Imperial Stout",
          "Favored style: American Double / Imperial IPA",
          "Favored style: Saison / Farmhouse Ale",
          "Favored style: American Porter",
          "Favored style: Dubbel",
          "Favored style: American Pale Wheat Ale",
          "Favored style: Belgian Strong Dark Ale",
          "Favored style: Milk / Sweet Stout",
          "Favored style: American IPA",
          "Favored style: American Pale Wheat Ale",
          "Favored style: American Porter",
          "Favored style: American Double / Imperial IPA",
          "Favored style: Hefeweizen",
          "Favored style: American IPA",
          "Favored style: American Porter",
          "Favored style: Gose",
          "Favored style: American Double / Imperial IPA",
          "Favored style: Braggot",
          "Favored style: Belgian Strong Pale Ale",
          "Favored style: American IPA",
          "Favored style: Witbier",
          "Favored style: Scotch Ale / Wee Heavy",
          "Favored style: Maibock / Helles Bock",
          "Favored style: American Pale Ale (APA)",
          "Favored style: American IPA",
          "Favored style: American Pale Ale (APA)",
          "Favored style: American Strong Ale",
          "Favored style: American Blonde Ale",
          "Favored style: American Porter",
          "Favored style: American Porter",
          "Favored style: American Pale Ale (APA)",
          "Favored style: American Blonde Ale",
          "Favored style: Old Ale",
          "Favored style: American IPA",
          "Favored style: Belgian Strong Dark Ale",
          "Favored style: American Double / Imperial IPA",
          "Favored style: American IPA",
          "Favored style: Dubbel",
          "Favored style: Kölsch",
          "Favored style: Saison / Farmhouse Ale",
          "Favored style: American Double / Imperial IPA",
          "Favored style: Flanders Red Ale",
          "Favored style: Fruit / Vegetable Beer",
          "Favored style: American Double / Imperial Stout",
          "Favored style: American Double / Imperial IPA",
          "Favored style: Rye Beer",
          "Favored style: Russian Imperial Stout",
          "Favored style: American Pale Ale (APA)",
          "Favored style: American IPA"
         ],
         "type": "choropleth",
         "z": [
          5,
          5,
          5,
          5,
          5,
          5,
          5,
          5,
          5,
          5,
          5,
          5,
          5,
          5,
          5,
          5,
          5,
          5,
          5,
          5,
          5,
          5,
          5,
          5,
          5,
          5,
          5,
          5,
          5,
          5,
          5,
          5,
          5,
          5,
          5,
          5,
          5,
          5,
          5,
          5,
          4.97,
          4.96,
          4.833333333333333,
          4.92,
          4.85,
          4.806,
          4.81,
          4.131428571428572,
          4.75,
          4.5975
         ]
        }
       ],
       "layout": {
        "geo": {
         "scope": "usa"
        },
        "template": {
         "data": {
          "bar": [
           {
            "error_x": {
             "color": "#2a3f5f"
            },
            "error_y": {
             "color": "#2a3f5f"
            },
            "marker": {
             "line": {
              "color": "#E5ECF6",
              "width": 0.5
             },
             "pattern": {
              "fillmode": "overlay",
              "size": 10,
              "solidity": 0.2
             }
            },
            "type": "bar"
           }
          ],
          "barpolar": [
           {
            "marker": {
             "line": {
              "color": "#E5ECF6",
              "width": 0.5
             },
             "pattern": {
              "fillmode": "overlay",
              "size": 10,
              "solidity": 0.2
             }
            },
            "type": "barpolar"
           }
          ],
          "carpet": [
           {
            "aaxis": {
             "endlinecolor": "#2a3f5f",
             "gridcolor": "white",
             "linecolor": "white",
             "minorgridcolor": "white",
             "startlinecolor": "#2a3f5f"
            },
            "baxis": {
             "endlinecolor": "#2a3f5f",
             "gridcolor": "white",
             "linecolor": "white",
             "minorgridcolor": "white",
             "startlinecolor": "#2a3f5f"
            },
            "type": "carpet"
           }
          ],
          "choropleth": [
           {
            "colorbar": {
             "outlinewidth": 0,
             "ticks": ""
            },
            "type": "choropleth"
           }
          ],
          "contour": [
           {
            "colorbar": {
             "outlinewidth": 0,
             "ticks": ""
            },
            "colorscale": [
             [
              0,
              "#0d0887"
             ],
             [
              0.1111111111111111,
              "#46039f"
             ],
             [
              0.2222222222222222,
              "#7201a8"
             ],
             [
              0.3333333333333333,
              "#9c179e"
             ],
             [
              0.4444444444444444,
              "#bd3786"
             ],
             [
              0.5555555555555556,
              "#d8576b"
             ],
             [
              0.6666666666666666,
              "#ed7953"
             ],
             [
              0.7777777777777778,
              "#fb9f3a"
             ],
             [
              0.8888888888888888,
              "#fdca26"
             ],
             [
              1,
              "#f0f921"
             ]
            ],
            "type": "contour"
           }
          ],
          "contourcarpet": [
           {
            "colorbar": {
             "outlinewidth": 0,
             "ticks": ""
            },
            "type": "contourcarpet"
           }
          ],
          "heatmap": [
           {
            "colorbar": {
             "outlinewidth": 0,
             "ticks": ""
            },
            "colorscale": [
             [
              0,
              "#0d0887"
             ],
             [
              0.1111111111111111,
              "#46039f"
             ],
             [
              0.2222222222222222,
              "#7201a8"
             ],
             [
              0.3333333333333333,
              "#9c179e"
             ],
             [
              0.4444444444444444,
              "#bd3786"
             ],
             [
              0.5555555555555556,
              "#d8576b"
             ],
             [
              0.6666666666666666,
              "#ed7953"
             ],
             [
              0.7777777777777778,
              "#fb9f3a"
             ],
             [
              0.8888888888888888,
              "#fdca26"
             ],
             [
              1,
              "#f0f921"
             ]
            ],
            "type": "heatmap"
           }
          ],
          "heatmapgl": [
           {
            "colorbar": {
             "outlinewidth": 0,
             "ticks": ""
            },
            "colorscale": [
             [
              0,
              "#0d0887"
             ],
             [
              0.1111111111111111,
              "#46039f"
             ],
             [
              0.2222222222222222,
              "#7201a8"
             ],
             [
              0.3333333333333333,
              "#9c179e"
             ],
             [
              0.4444444444444444,
              "#bd3786"
             ],
             [
              0.5555555555555556,
              "#d8576b"
             ],
             [
              0.6666666666666666,
              "#ed7953"
             ],
             [
              0.7777777777777778,
              "#fb9f3a"
             ],
             [
              0.8888888888888888,
              "#fdca26"
             ],
             [
              1,
              "#f0f921"
             ]
            ],
            "type": "heatmapgl"
           }
          ],
          "histogram": [
           {
            "marker": {
             "pattern": {
              "fillmode": "overlay",
              "size": 10,
              "solidity": 0.2
             }
            },
            "type": "histogram"
           }
          ],
          "histogram2d": [
           {
            "colorbar": {
             "outlinewidth": 0,
             "ticks": ""
            },
            "colorscale": [
             [
              0,
              "#0d0887"
             ],
             [
              0.1111111111111111,
              "#46039f"
             ],
             [
              0.2222222222222222,
              "#7201a8"
             ],
             [
              0.3333333333333333,
              "#9c179e"
             ],
             [
              0.4444444444444444,
              "#bd3786"
             ],
             [
              0.5555555555555556,
              "#d8576b"
             ],
             [
              0.6666666666666666,
              "#ed7953"
             ],
             [
              0.7777777777777778,
              "#fb9f3a"
             ],
             [
              0.8888888888888888,
              "#fdca26"
             ],
             [
              1,
              "#f0f921"
             ]
            ],
            "type": "histogram2d"
           }
          ],
          "histogram2dcontour": [
           {
            "colorbar": {
             "outlinewidth": 0,
             "ticks": ""
            },
            "colorscale": [
             [
              0,
              "#0d0887"
             ],
             [
              0.1111111111111111,
              "#46039f"
             ],
             [
              0.2222222222222222,
              "#7201a8"
             ],
             [
              0.3333333333333333,
              "#9c179e"
             ],
             [
              0.4444444444444444,
              "#bd3786"
             ],
             [
              0.5555555555555556,
              "#d8576b"
             ],
             [
              0.6666666666666666,
              "#ed7953"
             ],
             [
              0.7777777777777778,
              "#fb9f3a"
             ],
             [
              0.8888888888888888,
              "#fdca26"
             ],
             [
              1,
              "#f0f921"
             ]
            ],
            "type": "histogram2dcontour"
           }
          ],
          "mesh3d": [
           {
            "colorbar": {
             "outlinewidth": 0,
             "ticks": ""
            },
            "type": "mesh3d"
           }
          ],
          "parcoords": [
           {
            "line": {
             "colorbar": {
              "outlinewidth": 0,
              "ticks": ""
             }
            },
            "type": "parcoords"
           }
          ],
          "pie": [
           {
            "automargin": true,
            "type": "pie"
           }
          ],
          "scatter": [
           {
            "fillpattern": {
             "fillmode": "overlay",
             "size": 10,
             "solidity": 0.2
            },
            "type": "scatter"
           }
          ],
          "scatter3d": [
           {
            "line": {
             "colorbar": {
              "outlinewidth": 0,
              "ticks": ""
             }
            },
            "marker": {
             "colorbar": {
              "outlinewidth": 0,
              "ticks": ""
             }
            },
            "type": "scatter3d"
           }
          ],
          "scattercarpet": [
           {
            "marker": {
             "colorbar": {
              "outlinewidth": 0,
              "ticks": ""
             }
            },
            "type": "scattercarpet"
           }
          ],
          "scattergeo": [
           {
            "marker": {
             "colorbar": {
              "outlinewidth": 0,
              "ticks": ""
             }
            },
            "type": "scattergeo"
           }
          ],
          "scattergl": [
           {
            "marker": {
             "colorbar": {
              "outlinewidth": 0,
              "ticks": ""
             }
            },
            "type": "scattergl"
           }
          ],
          "scattermapbox": [
           {
            "marker": {
             "colorbar": {
              "outlinewidth": 0,
              "ticks": ""
             }
            },
            "type": "scattermapbox"
           }
          ],
          "scatterpolar": [
           {
            "marker": {
             "colorbar": {
              "outlinewidth": 0,
              "ticks": ""
             }
            },
            "type": "scatterpolar"
           }
          ],
          "scatterpolargl": [
           {
            "marker": {
             "colorbar": {
              "outlinewidth": 0,
              "ticks": ""
             }
            },
            "type": "scatterpolargl"
           }
          ],
          "scatterternary": [
           {
            "marker": {
             "colorbar": {
              "outlinewidth": 0,
              "ticks": ""
             }
            },
            "type": "scatterternary"
           }
          ],
          "surface": [
           {
            "colorbar": {
             "outlinewidth": 0,
             "ticks": ""
            },
            "colorscale": [
             [
              0,
              "#0d0887"
             ],
             [
              0.1111111111111111,
              "#46039f"
             ],
             [
              0.2222222222222222,
              "#7201a8"
             ],
             [
              0.3333333333333333,
              "#9c179e"
             ],
             [
              0.4444444444444444,
              "#bd3786"
             ],
             [
              0.5555555555555556,
              "#d8576b"
             ],
             [
              0.6666666666666666,
              "#ed7953"
             ],
             [
              0.7777777777777778,
              "#fb9f3a"
             ],
             [
              0.8888888888888888,
              "#fdca26"
             ],
             [
              1,
              "#f0f921"
             ]
            ],
            "type": "surface"
           }
          ],
          "table": [
           {
            "cells": {
             "fill": {
              "color": "#EBF0F8"
             },
             "line": {
              "color": "white"
             }
            },
            "header": {
             "fill": {
              "color": "#C8D4E3"
             },
             "line": {
              "color": "white"
             }
            },
            "type": "table"
           }
          ]
         },
         "layout": {
          "annotationdefaults": {
           "arrowcolor": "#2a3f5f",
           "arrowhead": 0,
           "arrowwidth": 1
          },
          "autotypenumbers": "strict",
          "coloraxis": {
           "colorbar": {
            "outlinewidth": 0,
            "ticks": ""
           }
          },
          "colorscale": {
           "diverging": [
            [
             0,
             "#8e0152"
            ],
            [
             0.1,
             "#c51b7d"
            ],
            [
             0.2,
             "#de77ae"
            ],
            [
             0.3,
             "#f1b6da"
            ],
            [
             0.4,
             "#fde0ef"
            ],
            [
             0.5,
             "#f7f7f7"
            ],
            [
             0.6,
             "#e6f5d0"
            ],
            [
             0.7,
             "#b8e186"
            ],
            [
             0.8,
             "#7fbc41"
            ],
            [
             0.9,
             "#4d9221"
            ],
            [
             1,
             "#276419"
            ]
           ],
           "sequential": [
            [
             0,
             "#0d0887"
            ],
            [
             0.1111111111111111,
             "#46039f"
            ],
            [
             0.2222222222222222,
             "#7201a8"
            ],
            [
             0.3333333333333333,
             "#9c179e"
            ],
            [
             0.4444444444444444,
             "#bd3786"
            ],
            [
             0.5555555555555556,
             "#d8576b"
            ],
            [
             0.6666666666666666,
             "#ed7953"
            ],
            [
             0.7777777777777778,
             "#fb9f3a"
            ],
            [
             0.8888888888888888,
             "#fdca26"
            ],
            [
             1,
             "#f0f921"
            ]
           ],
           "sequentialminus": [
            [
             0,
             "#0d0887"
            ],
            [
             0.1111111111111111,
             "#46039f"
            ],
            [
             0.2222222222222222,
             "#7201a8"
            ],
            [
             0.3333333333333333,
             "#9c179e"
            ],
            [
             0.4444444444444444,
             "#bd3786"
            ],
            [
             0.5555555555555556,
             "#d8576b"
            ],
            [
             0.6666666666666666,
             "#ed7953"
            ],
            [
             0.7777777777777778,
             "#fb9f3a"
            ],
            [
             0.8888888888888888,
             "#fdca26"
            ],
            [
             1,
             "#f0f921"
            ]
           ]
          },
          "colorway": [
           "#636efa",
           "#EF553B",
           "#00cc96",
           "#ab63fa",
           "#FFA15A",
           "#19d3f3",
           "#FF6692",
           "#B6E880",
           "#FF97FF",
           "#FECB52"
          ],
          "font": {
           "color": "#2a3f5f"
          },
          "geo": {
           "bgcolor": "white",
           "lakecolor": "white",
           "landcolor": "#E5ECF6",
           "showlakes": true,
           "showland": true,
           "subunitcolor": "white"
          },
          "hoverlabel": {
           "align": "left"
          },
          "hovermode": "closest",
          "mapbox": {
           "style": "light"
          },
          "paper_bgcolor": "white",
          "plot_bgcolor": "#E5ECF6",
          "polar": {
           "angularaxis": {
            "gridcolor": "white",
            "linecolor": "white",
            "ticks": ""
           },
           "bgcolor": "#E5ECF6",
           "radialaxis": {
            "gridcolor": "white",
            "linecolor": "white",
            "ticks": ""
           }
          },
          "scene": {
           "xaxis": {
            "backgroundcolor": "#E5ECF6",
            "gridcolor": "white",
            "gridwidth": 2,
            "linecolor": "white",
            "showbackground": true,
            "ticks": "",
            "zerolinecolor": "white"
           },
           "yaxis": {
            "backgroundcolor": "#E5ECF6",
            "gridcolor": "white",
            "gridwidth": 2,
            "linecolor": "white",
            "showbackground": true,
            "ticks": "",
            "zerolinecolor": "white"
           },
           "zaxis": {
            "backgroundcolor": "#E5ECF6",
            "gridcolor": "white",
            "gridwidth": 2,
            "linecolor": "white",
            "showbackground": true,
            "ticks": "",
            "zerolinecolor": "white"
           }
          },
          "shapedefaults": {
           "line": {
            "color": "#2a3f5f"
           }
          },
          "ternary": {
           "aaxis": {
            "gridcolor": "white",
            "linecolor": "white",
            "ticks": ""
           },
           "baxis": {
            "gridcolor": "white",
            "linecolor": "white",
            "ticks": ""
           },
           "bgcolor": "#E5ECF6",
           "caxis": {
            "gridcolor": "white",
            "linecolor": "white",
            "ticks": ""
           }
          },
          "title": {
           "x": 0.05
          },
          "xaxis": {
           "automargin": true,
           "gridcolor": "white",
           "linecolor": "white",
           "ticks": "",
           "title": {
            "standoff": 15
           },
           "zerolinecolor": "white",
           "zerolinewidth": 2
          },
          "yaxis": {
           "automargin": true,
           "gridcolor": "white",
           "linecolor": "white",
           "ticks": "",
           "title": {
            "standoff": 15
           },
           "zerolinecolor": "white",
           "zerolinewidth": 2
          }
         }
        },
        "title": {
         "text": "Beer style and avreage score per countries"
        }
       }
      },
      "text/html": [
       "<div>                            <div id=\"812a4899-436c-4892-939f-a11e34231b90\" class=\"plotly-graph-div\" style=\"height:525px; width:100%;\"></div>            <script type=\"text/javascript\">                require([\"plotly\"], function(Plotly) {                    window.PLOTLYENV=window.PLOTLYENV || {};                                    if (document.getElementById(\"812a4899-436c-4892-939f-a11e34231b90\")) {                    Plotly.newPlot(                        \"812a4899-436c-4892-939f-a11e34231b90\",                        [{\"autocolorscale\":false,\"colorbar\":{\"tickprefix\":\"avreage rating\",\"title\":{\"text\":\"style of beer<br>and avreage ranking<br>in USA\"}},\"colorscale\":[[0.0,\"#440154\"],[0.1111111111111111,\"#482878\"],[0.2222222222222222,\"#3e4989\"],[0.3333333333333333,\"#31688e\"],[0.4444444444444444,\"#26828e\"],[0.5555555555555556,\"#1f9e89\"],[0.6666666666666666,\"#35b779\"],[0.7777777777777778,\"#6ece58\"],[0.8888888888888888,\"#b5de2b\"],[1.0,\"#fde725\"]],\"locationmode\":\"USA-states\",\"locations\":[\"CO\",\"FL\",\"GA\",\"IL\",\"IN\",\"IA\",\"KS\",\"KY\",\"LA\",\"ME\",\"MD\",\"MA\",\"MI\",\"MN\",\"MO\",\"NE\",\"NV\",\"CA\",\"AR\",\"AZ\",\"AK\",\"TX\",\"NY\",\"NC\",\"DE\",\"MT\",\"RI\",\"WV\",\"HI\",\"OK\",\"ID\",\"ND\",\"SD\",\"MS\",null,null,null,null,null,null,null,null,null,null,null,null,null,null,null,null],\"marker\":{\"line\":{\"color\":\"darkgray\",\"width\":0.5}},\"reversescale\":true,\"text\":[\"Favored style: American Amber / Red Ale\",\"Favored style: American Double / Imperial Stout\",\"Favored style: American Double / Imperial IPA\",\"Favored style: Saison / Farmhouse Ale\",\"Favored style: American Porter\",\"Favored style: Dubbel\",\"Favored style: American Pale Wheat Ale\",\"Favored style: Belgian Strong Dark Ale\",\"Favored style: Milk / Sweet Stout\",\"Favored style: American IPA\",\"Favored style: American Pale Wheat Ale\",\"Favored style: American Porter\",\"Favored style: American Double / Imperial IPA\",\"Favored style: Hefeweizen\",\"Favored style: American IPA\",\"Favored style: American Porter\",\"Favored style: Gose\",\"Favored style: American Double / Imperial IPA\",\"Favored style: Braggot\",\"Favored style: Belgian Strong Pale Ale\",\"Favored style: American IPA\",\"Favored style: Witbier\",\"Favored style: Scotch Ale / Wee Heavy\",\"Favored style: Maibock / Helles Bock\",\"Favored style: American Pale Ale (APA)\",\"Favored style: American IPA\",\"Favored style: American Pale Ale (APA)\",\"Favored style: American Strong Ale\",\"Favored style: American Blonde Ale\",\"Favored style: American Porter\",\"Favored style: American Porter\",\"Favored style: American Pale Ale (APA)\",\"Favored style: American Blonde Ale\",\"Favored style: Old Ale\",\"Favored style: American IPA\",\"Favored style: Belgian Strong Dark Ale\",\"Favored style: American Double / Imperial IPA\",\"Favored style: American IPA\",\"Favored style: Dubbel\",\"Favored style: K\\u00f6lsch\",\"Favored style: Saison / Farmhouse Ale\",\"Favored style: American Double / Imperial IPA\",\"Favored style: Flanders Red Ale\",\"Favored style: Fruit / Vegetable Beer\",\"Favored style: American Double / Imperial Stout\",\"Favored style: American Double / Imperial IPA\",\"Favored style: Rye Beer\",\"Favored style: Russian Imperial Stout\",\"Favored style: American Pale Ale (APA)\",\"Favored style: American IPA\"],\"z\":[5.0,5.0,5.0,5.0,5.0,5.0,5.0,5.0,5.0,5.0,5.0,5.0,5.0,5.0,5.0,5.0,5.0,5.0,5.0,5.0,5.0,5.0,5.0,5.0,5.0,5.0,5.0,5.0,5.0,5.0,5.0,5.0,5.0,5.0,5.0,5.0,5.0,5.0,5.0,5.0,4.97,4.96,4.833333333333333,4.92,4.85,4.806,4.81,4.131428571428572,4.75,4.5975],\"type\":\"choropleth\"}],                        {\"template\":{\"data\":{\"histogram2dcontour\":[{\"type\":\"histogram2dcontour\",\"colorbar\":{\"outlinewidth\":0,\"ticks\":\"\"},\"colorscale\":[[0.0,\"#0d0887\"],[0.1111111111111111,\"#46039f\"],[0.2222222222222222,\"#7201a8\"],[0.3333333333333333,\"#9c179e\"],[0.4444444444444444,\"#bd3786\"],[0.5555555555555556,\"#d8576b\"],[0.6666666666666666,\"#ed7953\"],[0.7777777777777778,\"#fb9f3a\"],[0.8888888888888888,\"#fdca26\"],[1.0,\"#f0f921\"]]}],\"choropleth\":[{\"type\":\"choropleth\",\"colorbar\":{\"outlinewidth\":0,\"ticks\":\"\"}}],\"histogram2d\":[{\"type\":\"histogram2d\",\"colorbar\":{\"outlinewidth\":0,\"ticks\":\"\"},\"colorscale\":[[0.0,\"#0d0887\"],[0.1111111111111111,\"#46039f\"],[0.2222222222222222,\"#7201a8\"],[0.3333333333333333,\"#9c179e\"],[0.4444444444444444,\"#bd3786\"],[0.5555555555555556,\"#d8576b\"],[0.6666666666666666,\"#ed7953\"],[0.7777777777777778,\"#fb9f3a\"],[0.8888888888888888,\"#fdca26\"],[1.0,\"#f0f921\"]]}],\"heatmap\":[{\"type\":\"heatmap\",\"colorbar\":{\"outlinewidth\":0,\"ticks\":\"\"},\"colorscale\":[[0.0,\"#0d0887\"],[0.1111111111111111,\"#46039f\"],[0.2222222222222222,\"#7201a8\"],[0.3333333333333333,\"#9c179e\"],[0.4444444444444444,\"#bd3786\"],[0.5555555555555556,\"#d8576b\"],[0.6666666666666666,\"#ed7953\"],[0.7777777777777778,\"#fb9f3a\"],[0.8888888888888888,\"#fdca26\"],[1.0,\"#f0f921\"]]}],\"heatmapgl\":[{\"type\":\"heatmapgl\",\"colorbar\":{\"outlinewidth\":0,\"ticks\":\"\"},\"colorscale\":[[0.0,\"#0d0887\"],[0.1111111111111111,\"#46039f\"],[0.2222222222222222,\"#7201a8\"],[0.3333333333333333,\"#9c179e\"],[0.4444444444444444,\"#bd3786\"],[0.5555555555555556,\"#d8576b\"],[0.6666666666666666,\"#ed7953\"],[0.7777777777777778,\"#fb9f3a\"],[0.8888888888888888,\"#fdca26\"],[1.0,\"#f0f921\"]]}],\"contourcarpet\":[{\"type\":\"contourcarpet\",\"colorbar\":{\"outlinewidth\":0,\"ticks\":\"\"}}],\"contour\":[{\"type\":\"contour\",\"colorbar\":{\"outlinewidth\":0,\"ticks\":\"\"},\"colorscale\":[[0.0,\"#0d0887\"],[0.1111111111111111,\"#46039f\"],[0.2222222222222222,\"#7201a8\"],[0.3333333333333333,\"#9c179e\"],[0.4444444444444444,\"#bd3786\"],[0.5555555555555556,\"#d8576b\"],[0.6666666666666666,\"#ed7953\"],[0.7777777777777778,\"#fb9f3a\"],[0.8888888888888888,\"#fdca26\"],[1.0,\"#f0f921\"]]}],\"surface\":[{\"type\":\"surface\",\"colorbar\":{\"outlinewidth\":0,\"ticks\":\"\"},\"colorscale\":[[0.0,\"#0d0887\"],[0.1111111111111111,\"#46039f\"],[0.2222222222222222,\"#7201a8\"],[0.3333333333333333,\"#9c179e\"],[0.4444444444444444,\"#bd3786\"],[0.5555555555555556,\"#d8576b\"],[0.6666666666666666,\"#ed7953\"],[0.7777777777777778,\"#fb9f3a\"],[0.8888888888888888,\"#fdca26\"],[1.0,\"#f0f921\"]]}],\"mesh3d\":[{\"type\":\"mesh3d\",\"colorbar\":{\"outlinewidth\":0,\"ticks\":\"\"}}],\"scatter\":[{\"fillpattern\":{\"fillmode\":\"overlay\",\"size\":10,\"solidity\":0.2},\"type\":\"scatter\"}],\"parcoords\":[{\"type\":\"parcoords\",\"line\":{\"colorbar\":{\"outlinewidth\":0,\"ticks\":\"\"}}}],\"scatterpolargl\":[{\"type\":\"scatterpolargl\",\"marker\":{\"colorbar\":{\"outlinewidth\":0,\"ticks\":\"\"}}}],\"bar\":[{\"error_x\":{\"color\":\"#2a3f5f\"},\"error_y\":{\"color\":\"#2a3f5f\"},\"marker\":{\"line\":{\"color\":\"#E5ECF6\",\"width\":0.5},\"pattern\":{\"fillmode\":\"overlay\",\"size\":10,\"solidity\":0.2}},\"type\":\"bar\"}],\"scattergeo\":[{\"type\":\"scattergeo\",\"marker\":{\"colorbar\":{\"outlinewidth\":0,\"ticks\":\"\"}}}],\"scatterpolar\":[{\"type\":\"scatterpolar\",\"marker\":{\"colorbar\":{\"outlinewidth\":0,\"ticks\":\"\"}}}],\"histogram\":[{\"marker\":{\"pattern\":{\"fillmode\":\"overlay\",\"size\":10,\"solidity\":0.2}},\"type\":\"histogram\"}],\"scattergl\":[{\"type\":\"scattergl\",\"marker\":{\"colorbar\":{\"outlinewidth\":0,\"ticks\":\"\"}}}],\"scatter3d\":[{\"type\":\"scatter3d\",\"line\":{\"colorbar\":{\"outlinewidth\":0,\"ticks\":\"\"}},\"marker\":{\"colorbar\":{\"outlinewidth\":0,\"ticks\":\"\"}}}],\"scattermapbox\":[{\"type\":\"scattermapbox\",\"marker\":{\"colorbar\":{\"outlinewidth\":0,\"ticks\":\"\"}}}],\"scatterternary\":[{\"type\":\"scatterternary\",\"marker\":{\"colorbar\":{\"outlinewidth\":0,\"ticks\":\"\"}}}],\"scattercarpet\":[{\"type\":\"scattercarpet\",\"marker\":{\"colorbar\":{\"outlinewidth\":0,\"ticks\":\"\"}}}],\"carpet\":[{\"aaxis\":{\"endlinecolor\":\"#2a3f5f\",\"gridcolor\":\"white\",\"linecolor\":\"white\",\"minorgridcolor\":\"white\",\"startlinecolor\":\"#2a3f5f\"},\"baxis\":{\"endlinecolor\":\"#2a3f5f\",\"gridcolor\":\"white\",\"linecolor\":\"white\",\"minorgridcolor\":\"white\",\"startlinecolor\":\"#2a3f5f\"},\"type\":\"carpet\"}],\"table\":[{\"cells\":{\"fill\":{\"color\":\"#EBF0F8\"},\"line\":{\"color\":\"white\"}},\"header\":{\"fill\":{\"color\":\"#C8D4E3\"},\"line\":{\"color\":\"white\"}},\"type\":\"table\"}],\"barpolar\":[{\"marker\":{\"line\":{\"color\":\"#E5ECF6\",\"width\":0.5},\"pattern\":{\"fillmode\":\"overlay\",\"size\":10,\"solidity\":0.2}},\"type\":\"barpolar\"}],\"pie\":[{\"automargin\":true,\"type\":\"pie\"}]},\"layout\":{\"autotypenumbers\":\"strict\",\"colorway\":[\"#636efa\",\"#EF553B\",\"#00cc96\",\"#ab63fa\",\"#FFA15A\",\"#19d3f3\",\"#FF6692\",\"#B6E880\",\"#FF97FF\",\"#FECB52\"],\"font\":{\"color\":\"#2a3f5f\"},\"hovermode\":\"closest\",\"hoverlabel\":{\"align\":\"left\"},\"paper_bgcolor\":\"white\",\"plot_bgcolor\":\"#E5ECF6\",\"polar\":{\"bgcolor\":\"#E5ECF6\",\"angularaxis\":{\"gridcolor\":\"white\",\"linecolor\":\"white\",\"ticks\":\"\"},\"radialaxis\":{\"gridcolor\":\"white\",\"linecolor\":\"white\",\"ticks\":\"\"}},\"ternary\":{\"bgcolor\":\"#E5ECF6\",\"aaxis\":{\"gridcolor\":\"white\",\"linecolor\":\"white\",\"ticks\":\"\"},\"baxis\":{\"gridcolor\":\"white\",\"linecolor\":\"white\",\"ticks\":\"\"},\"caxis\":{\"gridcolor\":\"white\",\"linecolor\":\"white\",\"ticks\":\"\"}},\"coloraxis\":{\"colorbar\":{\"outlinewidth\":0,\"ticks\":\"\"}},\"colorscale\":{\"sequential\":[[0.0,\"#0d0887\"],[0.1111111111111111,\"#46039f\"],[0.2222222222222222,\"#7201a8\"],[0.3333333333333333,\"#9c179e\"],[0.4444444444444444,\"#bd3786\"],[0.5555555555555556,\"#d8576b\"],[0.6666666666666666,\"#ed7953\"],[0.7777777777777778,\"#fb9f3a\"],[0.8888888888888888,\"#fdca26\"],[1.0,\"#f0f921\"]],\"sequentialminus\":[[0.0,\"#0d0887\"],[0.1111111111111111,\"#46039f\"],[0.2222222222222222,\"#7201a8\"],[0.3333333333333333,\"#9c179e\"],[0.4444444444444444,\"#bd3786\"],[0.5555555555555556,\"#d8576b\"],[0.6666666666666666,\"#ed7953\"],[0.7777777777777778,\"#fb9f3a\"],[0.8888888888888888,\"#fdca26\"],[1.0,\"#f0f921\"]],\"diverging\":[[0,\"#8e0152\"],[0.1,\"#c51b7d\"],[0.2,\"#de77ae\"],[0.3,\"#f1b6da\"],[0.4,\"#fde0ef\"],[0.5,\"#f7f7f7\"],[0.6,\"#e6f5d0\"],[0.7,\"#b8e186\"],[0.8,\"#7fbc41\"],[0.9,\"#4d9221\"],[1,\"#276419\"]]},\"xaxis\":{\"gridcolor\":\"white\",\"linecolor\":\"white\",\"ticks\":\"\",\"title\":{\"standoff\":15},\"zerolinecolor\":\"white\",\"automargin\":true,\"zerolinewidth\":2},\"yaxis\":{\"gridcolor\":\"white\",\"linecolor\":\"white\",\"ticks\":\"\",\"title\":{\"standoff\":15},\"zerolinecolor\":\"white\",\"automargin\":true,\"zerolinewidth\":2},\"scene\":{\"xaxis\":{\"backgroundcolor\":\"#E5ECF6\",\"gridcolor\":\"white\",\"linecolor\":\"white\",\"showbackground\":true,\"ticks\":\"\",\"zerolinecolor\":\"white\",\"gridwidth\":2},\"yaxis\":{\"backgroundcolor\":\"#E5ECF6\",\"gridcolor\":\"white\",\"linecolor\":\"white\",\"showbackground\":true,\"ticks\":\"\",\"zerolinecolor\":\"white\",\"gridwidth\":2},\"zaxis\":{\"backgroundcolor\":\"#E5ECF6\",\"gridcolor\":\"white\",\"linecolor\":\"white\",\"showbackground\":true,\"ticks\":\"\",\"zerolinecolor\":\"white\",\"gridwidth\":2}},\"shapedefaults\":{\"line\":{\"color\":\"#2a3f5f\"}},\"annotationdefaults\":{\"arrowcolor\":\"#2a3f5f\",\"arrowhead\":0,\"arrowwidth\":1},\"geo\":{\"bgcolor\":\"white\",\"landcolor\":\"#E5ECF6\",\"subunitcolor\":\"white\",\"showland\":true,\"showlakes\":true,\"lakecolor\":\"white\"},\"title\":{\"x\":0.05},\"mapbox\":{\"style\":\"light\"}}},\"title\":{\"text\":\"Beer style and avreage score per countries\"},\"geo\":{\"scope\":\"usa\"}},                        {\"responsive\": true}                    ).then(function(){\n",
       "                            \n",
       "var gd = document.getElementById('812a4899-436c-4892-939f-a11e34231b90');\n",
       "var x = new MutationObserver(function (mutations, observer) {{\n",
       "        var display = window.getComputedStyle(gd).display;\n",
       "        if (!display || display === 'none') {{\n",
       "            console.log([gd, 'removed!']);\n",
       "            Plotly.purge(gd);\n",
       "            observer.disconnect();\n",
       "        }}\n",
       "}});\n",
       "\n",
       "// Listen for the removal of the full notebook cells\n",
       "var notebookContainer = gd.closest('#notebook-container');\n",
       "if (notebookContainer) {{\n",
       "    x.observe(notebookContainer, {childList: true});\n",
       "}}\n",
       "\n",
       "// Listen for the clearing of the current output cell\n",
       "var outputEl = gd.closest('.output');\n",
       "if (outputEl) {{\n",
       "    x.observe(outputEl, {childList: true});\n",
       "}}\n",
       "\n",
       "                        })                };                });            </script>        </div>"
      ]
     },
     "metadata": {},
     "output_type": "display_data"
    }
   ],
   "source": [
    "fig_usa = go.Figure(data = go.Choropleth(\n",
    "    locations = united_states['location'],\n",
    "    locationmode= 'USA-states',\n",
    "    z = united_states['avg_computed'],\n",
    "    text = 'Favored style: '+ united_states['style'],\n",
    "    colorscale = 'Viridis',\n",
    "    autocolorscale=False,\n",
    "    reversescale=True,\n",
    "    marker_line_color='darkgray',\n",
    "    marker_line_width=0.5,\n",
    "    colorbar_tickprefix = 'avreage rating',\n",
    "    colorbar_title = 'style of beer<br>and avreage ranking<br>in USA',\n",
    "))\n",
    "\n",
    "fig_usa.update_layout(\n",
    "    title_text='Beer style and avreage score per countries',\n",
    "    geo=dict(\n",
    "        scope='usa'\n",
    "    )\n",
    ")\n",
    "\n",
    "fig_usa.show()\n",
    "# fig_usa.write_html(\"map/html/\"+\"_usa\"+\".html\")"
   ]
  },
  {
   "cell_type": "markdown",
   "id": "330e5898",
   "metadata": {},
   "source": [
    "# Zone propre pour utiliser la fonction "
   ]
  },
  {
   "cell_type": "code",
   "execution_count": 17,
   "id": "290306c6",
   "metadata": {},
   "outputs": [],
   "source": [
    "import cufflinks as cf\n",
    "import plotly\n",
    "import chart_studio.plotly \n",
    "import plotly.tools \n",
    "import plotly.graph_objs as go\n",
    "from  plotly.offline import plot\n",
    "import pandas as pd\n",
    "\n",
    "STATES = {\n",
    "\"Alabama\": \"AL\",\n",
    "\"Alaska\": \"AK\",\n",
    "\"Arizona\": \"AZ\",\n",
    "\"Arkansas\": \"AR\",\n",
    "\"California\": \"CA\",\n",
    "\"Colorado\": \"CO\",\n",
    "\"Connecticut\": \"CT\",\n",
    "\"Delaware\": \"DE\",\n",
    "\"Florida\": \"FL\",\n",
    "\"Georgia\": \"GA\",\n",
    "\"Hawaii\": \"HI\",\n",
    "\"Idaho\": \"ID\",\n",
    "\"Illinois\": \"IL\",\n",
    "\"Indiana\": \"IN\",\n",
    "\"Iowa\": \"IA\",\n",
    "\"Kansas\": \"KS\",\n",
    "\"Kentucky\": \"KY\",\n",
    "\"Louisiana\": \"LA\",\n",
    "\"Maine\": \"ME\",\n",
    "\"Maryland\": \"MD\",\n",
    "\"Massachusetts\": \"MA\",\n",
    "\"Michigan\": \"MI\",\n",
    "\"Minnesota\": \"MN\",\n",
    "\"Mississippi\": \"MS\",\n",
    "\"Missouri\": \"MO\",\n",
    "\"Montana\": \"MT\",\n",
    "\"Nebraska\": \"NE\",\n",
    "\"Nevada\": \"NV\",\n",
    "\"New Hampshire\": \"NH\",\n",
    "\"New Jersey\": \"NJ\",\n",
    "\"New Mexico\": \"NM\",\n",
    "\"New York\": \"NY\",\n",
    "\"North Carolina\": \"NC\",\n",
    "\"North Dakota\": \"ND\",\n",
    "\"Ohio\": \"OH\",\n",
    "\"Oklahoma\": \"OK\",\n",
    "\"Oregon\": \"OR\",\n",
    "\"Pennsylvania\": \"PA\",\n",
    "\"Rhode Island\": \"RI\",\n",
    "\"South Carolina\": \"SC\",\n",
    "\"South Dakota\": \"SD\",\n",
    "\"Tennessee\": \"TN\",\n",
    "\"Texas\": \"TX\",\n",
    "\"Utah\": \"UT\",\n",
    "\"Vermont\": \"VT\",\n",
    "\"Virginia\": \"VA\",\n",
    "\"Washington\": \"WA\",\n",
    "\"West Virginia\": \"WV\",\n",
    "\"Wisconsin\": \"WI\",\n",
    "\"Wyoming\": \"WY\",\n",
    "\"District of Columbia\": \"DC\",\n",
    "\"American Samoa\": \"AS\",\n",
    "\"Guam\": \"GU\",\n",
    "\"Northern Mariana Islands\": \"MP\",\n",
    "\"Puerto Rico\": \"PR\",\n",
    "\"United States Minor Outlying Islands\": \"UM\",\n",
    "\"U.S. Virgin Islands\": \"VI\",\n",
    "}\n",
    "\n"
   ]
  },
  {
   "cell_type": "code",
   "execution_count": 8,
   "id": "70aa461b",
   "metadata": {},
   "outputs": [],
   "source": [
    "def generate_map(filename, map_name, usa= True, \n",
    "                 html = True, show_map = True, \n",
    "                 source_file_path = 'map/file_for_map/', \n",
    "                 html_file_path = 'map/html/'):\n",
    "\n",
    "    ''' This function generate an interactive map of the world (and USA)\n",
    "    with the avreage score of beer per countries and their favored beer's style. \n",
    "    Is is assumed it will be used in a file in the root of the project. \n",
    "    If it's not the case see: source_file_path and html_file_path.\n",
    "\n",
    "    Parameters\n",
    "    ----------\n",
    "    filename         (string)  :  Name of the source file containing the necessary dataframe for map generation \n",
    "                                  should contain a 'location', 'sytle' and 'avg_computed' column.\n",
    "    map_name         (string)  :  HTML file's name for the resulting interactive map.\n",
    "    usa              (boolean) :  Activate the generation of the USA's map.\n",
    "    html             (boolean) :  Activate the generation of html file.\n",
    "    show_map         (boolean) :  Show the produced map(s).\n",
    "    source_file_path (string)  :  Path to the source file.\n",
    "    html_file_path   (string)  :  Path to the futur html file.\n",
    "\n",
    "    Returns\n",
    "    -------\n",
    "    None, but may generate html file of interactive map and show generated map.\n",
    "    '''\n",
    "\n",
    "    data = pd.read_csv(source_file_path + filename)\n",
    "\n",
    "    ### NOTE: Clean corrrupted data but we should do it before \n",
    "    for i, e in enumerate(data['location']):\n",
    "        if \"http\" in e or \"<\" in e:\n",
    "            data = data.drop(i)\n",
    "    data.reset_index(inplace = True, drop = True) #reset index so we don't make error due to assumption of continuous index\n",
    "\n",
    "    # We have multiple occurence of the USA (multiple states) \n",
    "    # but we will only keep the best one for the world map \n",
    "    # We will also set-up a way to have a look only in the United Sates \n",
    "    location_country = data.copy()\n",
    "    mask = [False] * data.shape[0]\n",
    "    second = False\n",
    "    \n",
    "    for j, country in enumerate(data['location']):\n",
    "        if \"United States\" in country:\n",
    "            mask[j] = True #Prepare mask for united states only dataframe (united_states)\n",
    "            if second:\n",
    "                #get rid of all the occurance of United States except best one\n",
    "                location_country = location_country.drop(j) \n",
    "            else:\n",
    "                #Delete the State\n",
    "                location_country['location'][j] = \"United States\"\n",
    "            second = True\n",
    "            \n",
    "    if usa:  #Only activate if we want an USA's view      \n",
    "        united_states = data[mask]\n",
    "        for k, state in enumerate(united_states['location']):\n",
    "            #Only keep the states \n",
    "            united_states['location'][k] = state.split('States, ',1)[1]\n",
    "    #Plot the worldwide figure\n",
    "    fig_world = go.Figure(data = go.Choropleth(\n",
    "        locations = location_country['location'], #counties's nams are used to place data on the world map\n",
    "        locationmode= 'country names',\n",
    "        z = location_country['avg_computed'], #data that describes the choropleth value-to-color mapping\n",
    "        text = 'Favored style: '+ location_country['style'], #pop-up for each country \n",
    "        colorscale = 'Viridis',\n",
    "        autocolorscale=False,\n",
    "        reversescale=True,\n",
    "        marker_line_color='darkgray',\n",
    "        marker_line_width=0.5,\n",
    "        colorbar_tickprefix = 'avreage rating ',\n",
    "        colorbar_title = 'style of beer<br>per country',\n",
    "    ))\n",
    "\n",
    "    fig_world.update_layout(\n",
    "        title_text='Beer style and avreage score per countries'\n",
    "    )\n",
    "    #print the worldwide map\n",
    "    if show_map :\n",
    "        fig_world.show()\n",
    "    #Create an html file of the map for the site \n",
    "    if html : \n",
    "        fig_world.write_html(html_file_path + map_name +\"_country.html\")\n",
    "        \n",
    "    #Activate if we want USA map\n",
    "    if usa:\n",
    "        #switch state by their abbreviation to fit \n",
    "        #the locationmode 'USA-states' of the plotly library\n",
    "        united_states.location = united_states.location.map(STATES)\n",
    "        #plot the usa map\n",
    "        fig_usa = go.Figure(data = go.Choropleth(\n",
    "            locations = united_states['location'], #abbreviation are used to place data on the USA map\n",
    "            locationmode= 'USA-states',\n",
    "            z = united_states['avg_computed'], #data that describes the choropleth value-to-color mapping\n",
    "            text = 'Favored style: '+ united_states['style'], #pop-up for each country \n",
    "            colorscale = 'Viridis',\n",
    "            autocolorscale=False,\n",
    "            reversescale=True,\n",
    "            marker_line_color='darkgray',\n",
    "            marker_line_width=0.5,\n",
    "            colorbar_tickprefix = 'avreage rating ',\n",
    "            colorbar_title = 'style of beer<br>and avreage ranking<br>in USA',\n",
    "        ))\n",
    "\n",
    "        fig_usa.update_layout(\n",
    "            title_text='Beer style and avreage score per countries',\n",
    "            geo=dict( scope='usa') #switch from world-map to USA\n",
    "        )\n",
    "        #print the map\n",
    "        if show_map :\n",
    "            fig_usa.show()\n",
    "        #generate html file of USA map\n",
    "        if html :\n",
    "            fig_usa.write_html(html_file_path + map_name +\"_usa.html\")\n",
    "    return\n",
    "\n",
    "    "
   ]
  },
  {
   "cell_type": "code",
   "execution_count": 9,
   "id": "9b22cc2e",
   "metadata": {},
   "outputs": [
    {
     "data": {
      "application/vnd.plotly.v1+json": {
       "config": {
        "plotlyServerURL": "https://plot.ly"
       },
       "data": [
        {
         "autocolorscale": false,
         "colorbar": {
          "tickprefix": "avreage rating",
          "title": {
           "text": "style of beer<br>per country"
          }
         },
         "colorscale": [
          [
           0,
           "#440154"
          ],
          [
           0.1111111111111111,
           "#482878"
          ],
          [
           0.2222222222222222,
           "#3e4989"
          ],
          [
           0.3333333333333333,
           "#31688e"
          ],
          [
           0.4444444444444444,
           "#26828e"
          ],
          [
           0.5555555555555556,
           "#1f9e89"
          ],
          [
           0.6666666666666666,
           "#35b779"
          ],
          [
           0.7777777777777778,
           "#6ece58"
          ],
          [
           0.8888888888888888,
           "#b5de2b"
          ],
          [
           1,
           "#fde725"
          ]
         ],
         "locationmode": "country names",
         "locations": [
          "France",
          "United States",
          "Sweden",
          "Canada",
          "Netherlands",
          "Russia",
          "Mexico",
          "Malta",
          "Spain",
          "Belgium",
          "Lithuania",
          "Austria",
          "Denmark",
          "Australia",
          "Italy",
          "Ireland",
          "Ecuador",
          "Germany",
          "Hungary",
          "England",
          "South Africa",
          "Mauritius",
          "Serbia",
          "Scotland",
          "Japan",
          "Philippines",
          "Iceland",
          "Cyprus",
          "Finland",
          "Poland",
          "Croatia",
          "Canada, Ontario",
          "Malaysia",
          "Estonia",
          "Portugal",
          "New Zealand",
          "Brazil",
          "Costa Rica",
          "Norway",
          "Switzerland",
          "Bahamas",
          "Greece",
          "Canada, Nova Scotia",
          "Panama",
          "Canada, Quebec",
          "Congo",
          "Czech Republic",
          "Northern Ireland",
          "Cameroon",
          "South Korea",
          "India",
          "Israel",
          "Puerto Rico",
          "Wales",
          "Argentina",
          "Chile",
          "China",
          "Nicaragua",
          "United Kingdom, England",
          "Latvia",
          "Cuba",
          "Ivory Coast",
          "Canada, British Columbia",
          "Vietnam",
          "Singapore",
          "Hong Kong",
          "Peru",
          "Romania",
          "Slovak Republic",
          "Virgin Islands (U.S.)",
          "San Marino",
          "Slovenia",
          "Thailand",
          "Ukraine",
          "Georgia",
          "Iran",
          "Canada, Alberta",
          "United Kingdom, Scotland",
          "Lebanon",
          "Colombia",
          "Isle of Man",
          "Cambodia",
          "Taiwan",
          "Tanzania",
          "Uzbekistan",
          "Uruguay",
          "Palau",
          "Samoa",
          "Honduras",
          "Faroe Islands",
          "Bulgaria",
          "Armenia",
          "Guam",
          "Grenada",
          "Turks and Caicos Islands",
          "Kazakhstan",
          "Bolivia",
          "Barbados",
          "Monaco",
          "Guatemala",
          "Saint Lucia",
          "Turkey",
          "Cayman Islands",
          "Guernsey",
          "Jersey",
          "Namibia",
          "Jordan",
          "Luxembourg",
          "Sri Lanka",
          "Trinidad & Tobago",
          "Vanuatu",
          "Andorra",
          "Moldova",
          "French Polynesia",
          "Liechtenstein",
          "Greenland",
          "Egypt",
          "Curaçao",
          "Cook Islands",
          "Belarus",
          "Ghana",
          "Algeria",
          "El Salvador",
          "Bermuda",
          "Venezuela",
          "Palestine",
          "Ethiopia",
          "Saint Vincent and The Grenadines",
          "Jamaica",
          "Togo",
          "Rwanda",
          "Nigeria",
          "United Kingdom, Wales",
          "Canada, New Brunswick",
          "Mongolia",
          "Kenya",
          "Albania",
          "Bosnia and Herzegovina",
          "Myanmar",
          "Dominican Republic",
          "Montenegro",
          "Indonesia",
          "Angola",
          "Belize",
          "Macedonia",
          "Mozambique",
          "Nepal",
          "Swaziland",
          "Turkmenistan",
          "Seychelles",
          "Pakistan",
          "Canada, Saskatchewan",
          "Madagascar",
          "Laos",
          "Bhutan",
          "French Guiana",
          "Solomon Islands",
          "Eritrea",
          "Lesotho",
          "Zimbabwe",
          "Fiji Islands",
          "Martinique",
          "Reunion",
          "Libya",
          "Antigua & Barbuda",
          "Gambia",
          "Papua New Guinea",
          "Uganda",
          "Niger",
          "Benin",
          "Suriname",
          "Azerbaijan",
          "Tonga",
          "Aruba",
          "Dominica",
          "Gabon",
          "Virgin Islands (British)",
          "Morocco",
          "Bangladesh",
          "Paraguay",
          "Senegal",
          "Guadeloupe",
          "Tajikistan",
          "Central African Republic",
          "New Caledonia",
          "Cape Verde Islands",
          "Canada, Manitoba",
          "Botswana",
          "Tunisia",
          "Macau",
          "Syria",
          "Haiti",
          "Zambia",
          "North Korea",
          "South Sudan",
          "Equatorial Guinea",
          "Canada, Newfoundland and Labrador",
          "Burkina Faso",
          "Micronesia",
          "Malawi",
          "United Arab Emirates",
          "Iraq"
         ],
         "marker": {
          "line": {
           "color": "darkgray",
           "width": 0.5
          }
         },
         "reversescale": true,
         "text": [
          "Favored style: American Blonde Ale",
          "Favored style: American Amber / Red Ale",
          "Favored style: Lambic - Fruit",
          "Favored style: Quadrupel (Quad)",
          "Favored style: Euro Strong Lager",
          "Favored style: Munich Helles Lager",
          "Favored style: American IPA",
          "Favored style: English Pale Ale",
          "Favored style: Hefeweizen",
          "Favored style: Dubbel",
          "Favored style: American IPA",
          "Favored style: Weizenbock",
          "Favored style: American IPA",
          "Favored style: Kölsch",
          "Favored style: American IPA",
          "Favored style: English Porter",
          "Favored style: American Pale Ale (APA)",
          "Favored style: American Pale Ale (APA)",
          "Favored style: Fruit / Vegetable Beer",
          "Favored style: American Pale Ale (APA)",
          "Favored style: American Double / Imperial IPA",
          "Favored style: Märzen / Oktoberfest",
          "Favored style: American Double / Imperial Stout",
          "Favored style: American IPA",
          "Favored style: American Barleywine",
          "Favored style: American Double / Imperial Stout",
          "Favored style: American Double / Imperial Stout",
          "Favored style: Witbier",
          "Favored style: American IPA",
          "Favored style: Belgian IPA",
          "Favored style: Old Ale",
          "Favored style: Irish Dry Stout",
          "Favored style: Witbier",
          "Favored style: American Double / Imperial IPA",
          "Favored style: English Barleywine",
          "Favored style: American Barleywine",
          "Favored style: Tripel",
          "Favored style: American Brown Ale",
          "Favored style: English Barleywine",
          "Favored style: Bière de Garde",
          "Favored style: Herbed / Spiced Beer",
          "Favored style: American IPA",
          "Favored style: Saison / Farmhouse Ale",
          "Favored style: American Pale Ale (APA)",
          "Favored style: American Stout",
          "Favored style: Euro Dark Lager",
          "Favored style: Euro Dark Lager",
          "Favored style: English India Pale Ale (IPA)",
          "Favored style: Euro Pale Lager",
          "Favored style: American IPA",
          "Favored style: English India Pale Ale (IPA)",
          "Favored style: American IPA",
          "Favored style: English Porter",
          "Favored style: American Stout",
          "Favored style: Fruit / Vegetable Beer",
          "Favored style: Bock",
          "Favored style: Vienna Lager",
          "Favored style: Euro Dark Lager",
          "Favored style: English Dark Mild Ale",
          "Favored style: American Double / Imperial IPA",
          "Favored style: American Adjunct Lager",
          "Favored style: Bock",
          "Favored style: Hefeweizen",
          "Favored style: Berliner Weissbier",
          "Favored style: Belgian Pale Ale",
          "Favored style: English Porter",
          "Favored style: American Porter",
          "Favored style: Russian Imperial Stout",
          "Favored style: Baltic Porter",
          "Favored style: American Brown Ale",
          "Favored style: German Pilsener",
          "Favored style: Russian Imperial Stout",
          "Favored style: American Pale Wheat Ale",
          "Favored style: Euro Dark Lager",
          "Favored style: Euro Pale Lager",
          "Favored style: Low Alcohol Beer",
          "Favored style: American Pale Lager",
          "Favored style: American Blonde Ale",
          "Favored style: Czech Pilsener",
          "Favored style: Munich Helles Lager",
          "Favored style: English Porter",
          "Favored style: American IPA",
          "Favored style: Gose",
          "Favored style: American Amber / Red Ale",
          "Favored style: German Pilsener",
          "Favored style: American IPA",
          "Favored style: English Barleywine",
          "Favored style: Euro Pale Lager",
          "Favored style: English Porter",
          "Favored style: American Porter",
          "Favored style: American Stout",
          "Favored style: Smoked Beer",
          "Favored style: American Double / Imperial IPA",
          "Favored style: American IPA",
          "Favored style: Hefeweizen",
          "Favored style: Euro Dark Lager",
          "Favored style: American Amber / Red Lager",
          "Favored style: Irish Dry Stout",
          "Favored style: Herbed / Spiced Beer",
          "Favored style: Vienna Lager",
          "Favored style: Fruit / Vegetable Beer",
          "Favored style: German Pilsener",
          "Favored style: Foreign / Export Stout",
          "Favored style: English Stout",
          "Favored style: Herbed / Spiced Beer",
          "Favored style: Bock",
          "Favored style: Scotch Ale / Wee Heavy",
          "Favored style: Kellerbier / Zwickelbier",
          "Favored style: Foreign / Export Stout",
          "Favored style: Foreign / Export Stout",
          "Favored style: American Blonde Ale",
          "Favored style: Smoked Beer",
          "Favored style: English Barleywine",
          "Favored style: American Amber / Red Lager",
          "Favored style: Witbier",
          "Favored style: English Brown Ale",
          "Favored style: American Amber / Red Lager",
          "Favored style: Witbier",
          "Favored style: English Pale Ale",
          "Favored style: Euro Dark Lager",
          "Favored style: Foreign / Export Stout",
          "Favored style: American Strong Ale",
          "Favored style: American Amber / Red Ale",
          "Favored style: American Black Ale",
          "Favored style: Kölsch",
          "Favored style: Witbier",
          "Favored style: Czech Pilsener",
          "Favored style: Foreign / Export Stout",
          "Favored style: Foreign / Export Stout",
          "Favored style: English Brown Ale",
          "Favored style: Euro Dark Lager",
          "Favored style: Foreign / Export Stout",
          "Favored style: English Bitter",
          "Favored style: American IPA",
          "Favored style: Czech Pilsener",
          "Favored style: American Adjunct Lager",
          "Favored style: Euro Dark Lager",
          "Favored style: Euro Pale Lager",
          "Favored style: Foreign / Export Stout",
          "Favored style: American Amber / Red Lager",
          "Favored style: Euro Pale Lager",
          "Favored style: American Pale Ale (APA)",
          "Favored style: Euro Pale Lager",
          "Favored style: Milk / Sweet Stout",
          "Favored style: English India Pale Ale (IPA)",
          "Favored style: Euro Pale Lager",
          "Favored style: American Pale Lager",
          "Favored style: Euro Pale Lager",
          "Favored style: Euro Pale Lager",
          "Favored style: Euro Pale Lager",
          "Favored style: Euro Pale Lager",
          "Favored style: English Pale Ale",
          "Favored style: German Pilsener",
          "Favored style: Euro Dark Lager",
          "Favored style: American Adjunct Lager",
          "Favored style: Witbier",
          "Favored style: Euro Pale Lager",
          "Favored style: American Adjunct Lager",
          "Favored style: American Adjunct Lager",
          "Favored style: Euro Pale Lager",
          "Favored style: Euro Pale Lager",
          "Favored style: Light Lager",
          "Favored style: Euro Pale Lager",
          "Favored style: Low Alcohol Beer",
          "Favored style: American Adjunct Lager",
          "Favored style: Dortmunder / Export Lager",
          "Favored style: Foreign / Export Stout",
          "Favored style: American Adjunct Lager",
          "Favored style: Euro Pale Lager",
          "Favored style: Euro Pale Lager",
          "Favored style: American Adjunct Lager",
          "Favored style: Dortmunder / Export Lager",
          "Favored style: Euro Dark Lager",
          "Favored style: American Pale Ale (APA)",
          "Favored style: American Adjunct Lager",
          "Favored style: Euro Pale Lager",
          "Favored style: American Pale Lager",
          "Favored style: Euro Pale Lager",
          "Favored style: Euro Pale Lager",
          "Favored style: German Pilsener",
          "Favored style: Euro Pale Lager",
          "Favored style: Euro Pale Lager",
          "Favored style: Euro Pale Lager",
          "Favored style: Euro Pale Lager",
          "Favored style: Euro Pale Lager",
          "Favored style: Euro Strong Lager",
          "Favored style: Cream Ale",
          "Favored style: Low Alcohol Beer",
          "Favored style: Euro Pale Lager",
          "Favored style: Euro Pale Lager",
          "Favored style: Euro Pale Lager",
          "Favored style: American Adjunct Lager",
          "Favored style: American Adjunct Lager",
          "Favored style: American Adjunct Lager",
          "Favored style: American Adjunct Lager",
          "Favored style: Euro Pale Lager",
          "Favored style: American Adjunct Lager",
          "Favored style: Euro Pale Lager",
          "Favored style: American Amber / Red Lager",
          "Favored style: Euro Pale Lager",
          "Favored style: Low Alcohol Beer",
          "Favored style: Euro Pale Lager"
         ],
         "type": "choropleth",
         "z": [
          5,
          5,
          5,
          5,
          5,
          5,
          5,
          5,
          5,
          5,
          5,
          5,
          5,
          5,
          5,
          5,
          5,
          5,
          4.99,
          4.97,
          4.96,
          4.95,
          4.93,
          4.89,
          4.87,
          4.84,
          4.826666666666667,
          4.82,
          4.81,
          4.8,
          4.78,
          4.78,
          4.75,
          4.465,
          4.74,
          4.41,
          4.6875,
          4.68,
          4.294,
          4.416666666666667,
          4.66,
          4.64,
          4.64,
          4.64,
          4.63,
          4.62,
          4.57,
          4.55,
          4.55,
          4.1025,
          4.5,
          4.5,
          4.5,
          4.5,
          4.5,
          4.5,
          4.5,
          4.5,
          4.5,
          4.49,
          4.48,
          4.44,
          4.333333333333333,
          4.4,
          4.4,
          4.395,
          4.38,
          4.3100000000000005,
          4.34,
          4.33,
          4.3,
          4.29,
          4.29,
          4.29,
          4.27,
          4.26,
          4.2,
          4.2,
          4.19,
          4.18,
          4.15,
          4.12,
          4.1,
          4.1,
          4.09,
          4.08,
          4.08,
          4.05,
          4.045,
          4.04,
          4.03,
          3.915,
          4,
          4,
          4,
          4,
          4,
          4.005,
          3.98,
          3.91,
          3.96,
          3.95,
          4.0725,
          3.95,
          3.94,
          3.925,
          3.925,
          3.845,
          3.9092165330043183,
          3.92,
          3.9,
          4.205,
          3.89,
          3.5225,
          3.99,
          3.865,
          3.86,
          3.85,
          3.453333333333333,
          3.82,
          3.82,
          3.8,
          3.716666666666667,
          3.875,
          3.79,
          3.775,
          3.7342105263157896,
          3.75,
          3.685147058823529,
          3.69,
          3.686666666666667,
          3.6875,
          3.62,
          3.62,
          3.93,
          3.6,
          3.585,
          3.18,
          3.306666666666667,
          3.35,
          3.5,
          3.5075000000000003,
          3.48,
          3.370149253731344,
          3.425,
          3.3,
          3.38,
          3.4166666666666665,
          3.35,
          3.1060000000000003,
          3.5,
          3.34,
          3.063333333333333,
          3.305329341317365,
          3.25,
          3.2469230769230766,
          3.23,
          2.886,
          2.922,
          3.18,
          2.904,
          3.208,
          3.12,
          3.11,
          3.1,
          2.75,
          3.1,
          2.9910000000000005,
          3.05,
          3.05,
          2.8991666666666664,
          2.955,
          2.98,
          2.98,
          2.8032352941176475,
          2.88,
          2.875,
          2.928888888888889,
          2.81,
          2.79,
          2.8314285714285714,
          2.795,
          2.69,
          2.68,
          2.68,
          3.29,
          2.64875,
          2.545,
          2.593,
          2.5370588235294123,
          2.52,
          2.6447572815533977,
          2.5,
          2.313333333333333,
          2.513333333333333,
          2.41,
          2.35,
          2.34,
          2.72,
          2.09,
          1.94,
          1.845
         ]
        }
       ],
       "layout": {
        "template": {
         "data": {
          "bar": [
           {
            "error_x": {
             "color": "#2a3f5f"
            },
            "error_y": {
             "color": "#2a3f5f"
            },
            "marker": {
             "line": {
              "color": "#E5ECF6",
              "width": 0.5
             },
             "pattern": {
              "fillmode": "overlay",
              "size": 10,
              "solidity": 0.2
             }
            },
            "type": "bar"
           }
          ],
          "barpolar": [
           {
            "marker": {
             "line": {
              "color": "#E5ECF6",
              "width": 0.5
             },
             "pattern": {
              "fillmode": "overlay",
              "size": 10,
              "solidity": 0.2
             }
            },
            "type": "barpolar"
           }
          ],
          "carpet": [
           {
            "aaxis": {
             "endlinecolor": "#2a3f5f",
             "gridcolor": "white",
             "linecolor": "white",
             "minorgridcolor": "white",
             "startlinecolor": "#2a3f5f"
            },
            "baxis": {
             "endlinecolor": "#2a3f5f",
             "gridcolor": "white",
             "linecolor": "white",
             "minorgridcolor": "white",
             "startlinecolor": "#2a3f5f"
            },
            "type": "carpet"
           }
          ],
          "choropleth": [
           {
            "colorbar": {
             "outlinewidth": 0,
             "ticks": ""
            },
            "type": "choropleth"
           }
          ],
          "contour": [
           {
            "colorbar": {
             "outlinewidth": 0,
             "ticks": ""
            },
            "colorscale": [
             [
              0,
              "#0d0887"
             ],
             [
              0.1111111111111111,
              "#46039f"
             ],
             [
              0.2222222222222222,
              "#7201a8"
             ],
             [
              0.3333333333333333,
              "#9c179e"
             ],
             [
              0.4444444444444444,
              "#bd3786"
             ],
             [
              0.5555555555555556,
              "#d8576b"
             ],
             [
              0.6666666666666666,
              "#ed7953"
             ],
             [
              0.7777777777777778,
              "#fb9f3a"
             ],
             [
              0.8888888888888888,
              "#fdca26"
             ],
             [
              1,
              "#f0f921"
             ]
            ],
            "type": "contour"
           }
          ],
          "contourcarpet": [
           {
            "colorbar": {
             "outlinewidth": 0,
             "ticks": ""
            },
            "type": "contourcarpet"
           }
          ],
          "heatmap": [
           {
            "colorbar": {
             "outlinewidth": 0,
             "ticks": ""
            },
            "colorscale": [
             [
              0,
              "#0d0887"
             ],
             [
              0.1111111111111111,
              "#46039f"
             ],
             [
              0.2222222222222222,
              "#7201a8"
             ],
             [
              0.3333333333333333,
              "#9c179e"
             ],
             [
              0.4444444444444444,
              "#bd3786"
             ],
             [
              0.5555555555555556,
              "#d8576b"
             ],
             [
              0.6666666666666666,
              "#ed7953"
             ],
             [
              0.7777777777777778,
              "#fb9f3a"
             ],
             [
              0.8888888888888888,
              "#fdca26"
             ],
             [
              1,
              "#f0f921"
             ]
            ],
            "type": "heatmap"
           }
          ],
          "heatmapgl": [
           {
            "colorbar": {
             "outlinewidth": 0,
             "ticks": ""
            },
            "colorscale": [
             [
              0,
              "#0d0887"
             ],
             [
              0.1111111111111111,
              "#46039f"
             ],
             [
              0.2222222222222222,
              "#7201a8"
             ],
             [
              0.3333333333333333,
              "#9c179e"
             ],
             [
              0.4444444444444444,
              "#bd3786"
             ],
             [
              0.5555555555555556,
              "#d8576b"
             ],
             [
              0.6666666666666666,
              "#ed7953"
             ],
             [
              0.7777777777777778,
              "#fb9f3a"
             ],
             [
              0.8888888888888888,
              "#fdca26"
             ],
             [
              1,
              "#f0f921"
             ]
            ],
            "type": "heatmapgl"
           }
          ],
          "histogram": [
           {
            "marker": {
             "pattern": {
              "fillmode": "overlay",
              "size": 10,
              "solidity": 0.2
             }
            },
            "type": "histogram"
           }
          ],
          "histogram2d": [
           {
            "colorbar": {
             "outlinewidth": 0,
             "ticks": ""
            },
            "colorscale": [
             [
              0,
              "#0d0887"
             ],
             [
              0.1111111111111111,
              "#46039f"
             ],
             [
              0.2222222222222222,
              "#7201a8"
             ],
             [
              0.3333333333333333,
              "#9c179e"
             ],
             [
              0.4444444444444444,
              "#bd3786"
             ],
             [
              0.5555555555555556,
              "#d8576b"
             ],
             [
              0.6666666666666666,
              "#ed7953"
             ],
             [
              0.7777777777777778,
              "#fb9f3a"
             ],
             [
              0.8888888888888888,
              "#fdca26"
             ],
             [
              1,
              "#f0f921"
             ]
            ],
            "type": "histogram2d"
           }
          ],
          "histogram2dcontour": [
           {
            "colorbar": {
             "outlinewidth": 0,
             "ticks": ""
            },
            "colorscale": [
             [
              0,
              "#0d0887"
             ],
             [
              0.1111111111111111,
              "#46039f"
             ],
             [
              0.2222222222222222,
              "#7201a8"
             ],
             [
              0.3333333333333333,
              "#9c179e"
             ],
             [
              0.4444444444444444,
              "#bd3786"
             ],
             [
              0.5555555555555556,
              "#d8576b"
             ],
             [
              0.6666666666666666,
              "#ed7953"
             ],
             [
              0.7777777777777778,
              "#fb9f3a"
             ],
             [
              0.8888888888888888,
              "#fdca26"
             ],
             [
              1,
              "#f0f921"
             ]
            ],
            "type": "histogram2dcontour"
           }
          ],
          "mesh3d": [
           {
            "colorbar": {
             "outlinewidth": 0,
             "ticks": ""
            },
            "type": "mesh3d"
           }
          ],
          "parcoords": [
           {
            "line": {
             "colorbar": {
              "outlinewidth": 0,
              "ticks": ""
             }
            },
            "type": "parcoords"
           }
          ],
          "pie": [
           {
            "automargin": true,
            "type": "pie"
           }
          ],
          "scatter": [
           {
            "fillpattern": {
             "fillmode": "overlay",
             "size": 10,
             "solidity": 0.2
            },
            "type": "scatter"
           }
          ],
          "scatter3d": [
           {
            "line": {
             "colorbar": {
              "outlinewidth": 0,
              "ticks": ""
             }
            },
            "marker": {
             "colorbar": {
              "outlinewidth": 0,
              "ticks": ""
             }
            },
            "type": "scatter3d"
           }
          ],
          "scattercarpet": [
           {
            "marker": {
             "colorbar": {
              "outlinewidth": 0,
              "ticks": ""
             }
            },
            "type": "scattercarpet"
           }
          ],
          "scattergeo": [
           {
            "marker": {
             "colorbar": {
              "outlinewidth": 0,
              "ticks": ""
             }
            },
            "type": "scattergeo"
           }
          ],
          "scattergl": [
           {
            "marker": {
             "colorbar": {
              "outlinewidth": 0,
              "ticks": ""
             }
            },
            "type": "scattergl"
           }
          ],
          "scattermapbox": [
           {
            "marker": {
             "colorbar": {
              "outlinewidth": 0,
              "ticks": ""
             }
            },
            "type": "scattermapbox"
           }
          ],
          "scatterpolar": [
           {
            "marker": {
             "colorbar": {
              "outlinewidth": 0,
              "ticks": ""
             }
            },
            "type": "scatterpolar"
           }
          ],
          "scatterpolargl": [
           {
            "marker": {
             "colorbar": {
              "outlinewidth": 0,
              "ticks": ""
             }
            },
            "type": "scatterpolargl"
           }
          ],
          "scatterternary": [
           {
            "marker": {
             "colorbar": {
              "outlinewidth": 0,
              "ticks": ""
             }
            },
            "type": "scatterternary"
           }
          ],
          "surface": [
           {
            "colorbar": {
             "outlinewidth": 0,
             "ticks": ""
            },
            "colorscale": [
             [
              0,
              "#0d0887"
             ],
             [
              0.1111111111111111,
              "#46039f"
             ],
             [
              0.2222222222222222,
              "#7201a8"
             ],
             [
              0.3333333333333333,
              "#9c179e"
             ],
             [
              0.4444444444444444,
              "#bd3786"
             ],
             [
              0.5555555555555556,
              "#d8576b"
             ],
             [
              0.6666666666666666,
              "#ed7953"
             ],
             [
              0.7777777777777778,
              "#fb9f3a"
             ],
             [
              0.8888888888888888,
              "#fdca26"
             ],
             [
              1,
              "#f0f921"
             ]
            ],
            "type": "surface"
           }
          ],
          "table": [
           {
            "cells": {
             "fill": {
              "color": "#EBF0F8"
             },
             "line": {
              "color": "white"
             }
            },
            "header": {
             "fill": {
              "color": "#C8D4E3"
             },
             "line": {
              "color": "white"
             }
            },
            "type": "table"
           }
          ]
         },
         "layout": {
          "annotationdefaults": {
           "arrowcolor": "#2a3f5f",
           "arrowhead": 0,
           "arrowwidth": 1
          },
          "autotypenumbers": "strict",
          "coloraxis": {
           "colorbar": {
            "outlinewidth": 0,
            "ticks": ""
           }
          },
          "colorscale": {
           "diverging": [
            [
             0,
             "#8e0152"
            ],
            [
             0.1,
             "#c51b7d"
            ],
            [
             0.2,
             "#de77ae"
            ],
            [
             0.3,
             "#f1b6da"
            ],
            [
             0.4,
             "#fde0ef"
            ],
            [
             0.5,
             "#f7f7f7"
            ],
            [
             0.6,
             "#e6f5d0"
            ],
            [
             0.7,
             "#b8e186"
            ],
            [
             0.8,
             "#7fbc41"
            ],
            [
             0.9,
             "#4d9221"
            ],
            [
             1,
             "#276419"
            ]
           ],
           "sequential": [
            [
             0,
             "#0d0887"
            ],
            [
             0.1111111111111111,
             "#46039f"
            ],
            [
             0.2222222222222222,
             "#7201a8"
            ],
            [
             0.3333333333333333,
             "#9c179e"
            ],
            [
             0.4444444444444444,
             "#bd3786"
            ],
            [
             0.5555555555555556,
             "#d8576b"
            ],
            [
             0.6666666666666666,
             "#ed7953"
            ],
            [
             0.7777777777777778,
             "#fb9f3a"
            ],
            [
             0.8888888888888888,
             "#fdca26"
            ],
            [
             1,
             "#f0f921"
            ]
           ],
           "sequentialminus": [
            [
             0,
             "#0d0887"
            ],
            [
             0.1111111111111111,
             "#46039f"
            ],
            [
             0.2222222222222222,
             "#7201a8"
            ],
            [
             0.3333333333333333,
             "#9c179e"
            ],
            [
             0.4444444444444444,
             "#bd3786"
            ],
            [
             0.5555555555555556,
             "#d8576b"
            ],
            [
             0.6666666666666666,
             "#ed7953"
            ],
            [
             0.7777777777777778,
             "#fb9f3a"
            ],
            [
             0.8888888888888888,
             "#fdca26"
            ],
            [
             1,
             "#f0f921"
            ]
           ]
          },
          "colorway": [
           "#636efa",
           "#EF553B",
           "#00cc96",
           "#ab63fa",
           "#FFA15A",
           "#19d3f3",
           "#FF6692",
           "#B6E880",
           "#FF97FF",
           "#FECB52"
          ],
          "font": {
           "color": "#2a3f5f"
          },
          "geo": {
           "bgcolor": "white",
           "lakecolor": "white",
           "landcolor": "#E5ECF6",
           "showlakes": true,
           "showland": true,
           "subunitcolor": "white"
          },
          "hoverlabel": {
           "align": "left"
          },
          "hovermode": "closest",
          "mapbox": {
           "style": "light"
          },
          "paper_bgcolor": "white",
          "plot_bgcolor": "#E5ECF6",
          "polar": {
           "angularaxis": {
            "gridcolor": "white",
            "linecolor": "white",
            "ticks": ""
           },
           "bgcolor": "#E5ECF6",
           "radialaxis": {
            "gridcolor": "white",
            "linecolor": "white",
            "ticks": ""
           }
          },
          "scene": {
           "xaxis": {
            "backgroundcolor": "#E5ECF6",
            "gridcolor": "white",
            "gridwidth": 2,
            "linecolor": "white",
            "showbackground": true,
            "ticks": "",
            "zerolinecolor": "white"
           },
           "yaxis": {
            "backgroundcolor": "#E5ECF6",
            "gridcolor": "white",
            "gridwidth": 2,
            "linecolor": "white",
            "showbackground": true,
            "ticks": "",
            "zerolinecolor": "white"
           },
           "zaxis": {
            "backgroundcolor": "#E5ECF6",
            "gridcolor": "white",
            "gridwidth": 2,
            "linecolor": "white",
            "showbackground": true,
            "ticks": "",
            "zerolinecolor": "white"
           }
          },
          "shapedefaults": {
           "line": {
            "color": "#2a3f5f"
           }
          },
          "ternary": {
           "aaxis": {
            "gridcolor": "white",
            "linecolor": "white",
            "ticks": ""
           },
           "baxis": {
            "gridcolor": "white",
            "linecolor": "white",
            "ticks": ""
           },
           "bgcolor": "#E5ECF6",
           "caxis": {
            "gridcolor": "white",
            "linecolor": "white",
            "ticks": ""
           }
          },
          "title": {
           "x": 0.05
          },
          "xaxis": {
           "automargin": true,
           "gridcolor": "white",
           "linecolor": "white",
           "ticks": "",
           "title": {
            "standoff": 15
           },
           "zerolinecolor": "white",
           "zerolinewidth": 2
          },
          "yaxis": {
           "automargin": true,
           "gridcolor": "white",
           "linecolor": "white",
           "ticks": "",
           "title": {
            "standoff": 15
           },
           "zerolinecolor": "white",
           "zerolinewidth": 2
          }
         }
        },
        "title": {
         "text": "Beer style and avreage score per countries"
        }
       }
      },
      "text/html": [
       "<div>                            <div id=\"9b2b3776-8d1a-40f9-9eb9-7eb95f7219ee\" class=\"plotly-graph-div\" style=\"height:525px; width:100%;\"></div>            <script type=\"text/javascript\">                require([\"plotly\"], function(Plotly) {                    window.PLOTLYENV=window.PLOTLYENV || {};                                    if (document.getElementById(\"9b2b3776-8d1a-40f9-9eb9-7eb95f7219ee\")) {                    Plotly.newPlot(                        \"9b2b3776-8d1a-40f9-9eb9-7eb95f7219ee\",                        [{\"autocolorscale\":false,\"colorbar\":{\"tickprefix\":\"avreage rating\",\"title\":{\"text\":\"style of beer<br>per country\"}},\"colorscale\":[[0.0,\"#440154\"],[0.1111111111111111,\"#482878\"],[0.2222222222222222,\"#3e4989\"],[0.3333333333333333,\"#31688e\"],[0.4444444444444444,\"#26828e\"],[0.5555555555555556,\"#1f9e89\"],[0.6666666666666666,\"#35b779\"],[0.7777777777777778,\"#6ece58\"],[0.8888888888888888,\"#b5de2b\"],[1.0,\"#fde725\"]],\"locationmode\":\"country names\",\"locations\":[\"France\",\"United States\",\"Sweden\",\"Canada\",\"Netherlands\",\"Russia\",\"Mexico\",\"Malta\",\"Spain\",\"Belgium\",\"Lithuania\",\"Austria\",\"Denmark\",\"Australia\",\"Italy\",\"Ireland\",\"Ecuador\",\"Germany\",\"Hungary\",\"England\",\"South Africa\",\"Mauritius\",\"Serbia\",\"Scotland\",\"Japan\",\"Philippines\",\"Iceland\",\"Cyprus\",\"Finland\",\"Poland\",\"Croatia\",\"Canada, Ontario\",\"Malaysia\",\"Estonia\",\"Portugal\",\"New Zealand\",\"Brazil\",\"Costa Rica\",\"Norway\",\"Switzerland\",\"Bahamas\",\"Greece\",\"Canada, Nova Scotia\",\"Panama\",\"Canada, Quebec\",\"Congo\",\"Czech Republic\",\"Northern Ireland\",\"Cameroon\",\"South Korea\",\"India\",\"Israel\",\"Puerto Rico\",\"Wales\",\"Argentina\",\"Chile\",\"China\",\"Nicaragua\",\"United Kingdom, England\",\"Latvia\",\"Cuba\",\"Ivory Coast\",\"Canada, British Columbia\",\"Vietnam\",\"Singapore\",\"Hong Kong\",\"Peru\",\"Romania\",\"Slovak Republic\",\"Virgin Islands (U.S.)\",\"San Marino\",\"Slovenia\",\"Thailand\",\"Ukraine\",\"Georgia\",\"Iran\",\"Canada, Alberta\",\"United Kingdom, Scotland\",\"Lebanon\",\"Colombia\",\"Isle of Man\",\"Cambodia\",\"Taiwan\",\"Tanzania\",\"Uzbekistan\",\"Uruguay\",\"Palau\",\"Samoa\",\"Honduras\",\"Faroe Islands\",\"Bulgaria\",\"Armenia\",\"Guam\",\"Grenada\",\"Turks and Caicos Islands\",\"Kazakhstan\",\"Bolivia\",\"Barbados\",\"Monaco\",\"Guatemala\",\"Saint Lucia\",\"Turkey\",\"Cayman Islands\",\"Guernsey\",\"Jersey\",\"Namibia\",\"Jordan\",\"Luxembourg\",\"Sri Lanka\",\"Trinidad & Tobago\",\"Vanuatu\",\"Andorra\",\"Moldova\",\"French Polynesia\",\"Liechtenstein\",\"Greenland\",\"Egypt\",\"Cura\\u00e7ao\",\"Cook Islands\",\"Belarus\",\"Ghana\",\"Algeria\",\"El Salvador\",\"Bermuda\",\"Venezuela\",\"Palestine\",\"Ethiopia\",\"Saint Vincent and The Grenadines\",\"Jamaica\",\"Togo\",\"Rwanda\",\"Nigeria\",\"United Kingdom, Wales\",\"Canada, New Brunswick\",\"Mongolia\",\"Kenya\",\"Albania\",\"Bosnia and Herzegovina\",\"Myanmar\",\"Dominican Republic\",\"Montenegro\",\"Indonesia\",\"Angola\",\"Belize\",\"Macedonia\",\"Mozambique\",\"Nepal\",\"Swaziland\",\"Turkmenistan\",\"Seychelles\",\"Pakistan\",\"Canada, Saskatchewan\",\"Madagascar\",\"Laos\",\"Bhutan\",\"French Guiana\",\"Solomon Islands\",\"Eritrea\",\"Lesotho\",\"Zimbabwe\",\"Fiji Islands\",\"Martinique\",\"Reunion\",\"Libya\",\"Antigua & Barbuda\",\"Gambia\",\"Papua New Guinea\",\"Uganda\",\"Niger\",\"Benin\",\"Suriname\",\"Azerbaijan\",\"Tonga\",\"Aruba\",\"Dominica\",\"Gabon\",\"Virgin Islands (British)\",\"Morocco\",\"Bangladesh\",\"Paraguay\",\"Senegal\",\"Guadeloupe\",\"Tajikistan\",\"Central African Republic\",\"New Caledonia\",\"Cape Verde Islands\",\"Canada, Manitoba\",\"Botswana\",\"Tunisia\",\"Macau\",\"Syria\",\"Haiti\",\"Zambia\",\"North Korea\",\"South Sudan\",\"Equatorial Guinea\",\"Canada, Newfoundland and Labrador\",\"Burkina Faso\",\"Micronesia\",\"Malawi\",\"United Arab Emirates\",\"Iraq\"],\"marker\":{\"line\":{\"color\":\"darkgray\",\"width\":0.5}},\"reversescale\":true,\"text\":[\"Favored style: American Blonde Ale\",\"Favored style: American Amber / Red Ale\",\"Favored style: Lambic - Fruit\",\"Favored style: Quadrupel (Quad)\",\"Favored style: Euro Strong Lager\",\"Favored style: Munich Helles Lager\",\"Favored style: American IPA\",\"Favored style: English Pale Ale\",\"Favored style: Hefeweizen\",\"Favored style: Dubbel\",\"Favored style: American IPA\",\"Favored style: Weizenbock\",\"Favored style: American IPA\",\"Favored style: K\\u00f6lsch\",\"Favored style: American IPA\",\"Favored style: English Porter\",\"Favored style: American Pale Ale (APA)\",\"Favored style: American Pale Ale (APA)\",\"Favored style: Fruit / Vegetable Beer\",\"Favored style: American Pale Ale (APA)\",\"Favored style: American Double / Imperial IPA\",\"Favored style: M\\u00e4rzen / Oktoberfest\",\"Favored style: American Double / Imperial Stout\",\"Favored style: American IPA\",\"Favored style: American Barleywine\",\"Favored style: American Double / Imperial Stout\",\"Favored style: American Double / Imperial Stout\",\"Favored style: Witbier\",\"Favored style: American IPA\",\"Favored style: Belgian IPA\",\"Favored style: Old Ale\",\"Favored style: Irish Dry Stout\",\"Favored style: Witbier\",\"Favored style: American Double / Imperial IPA\",\"Favored style: English Barleywine\",\"Favored style: American Barleywine\",\"Favored style: Tripel\",\"Favored style: American Brown Ale\",\"Favored style: English Barleywine\",\"Favored style: Bi\\u00e8re de Garde\",\"Favored style: Herbed / Spiced Beer\",\"Favored style: American IPA\",\"Favored style: Saison / Farmhouse Ale\",\"Favored style: American Pale Ale (APA)\",\"Favored style: American Stout\",\"Favored style: Euro Dark Lager\",\"Favored style: Euro Dark Lager\",\"Favored style: English India Pale Ale (IPA)\",\"Favored style: Euro Pale Lager\",\"Favored style: American IPA\",\"Favored style: English India Pale Ale (IPA)\",\"Favored style: American IPA\",\"Favored style: English Porter\",\"Favored style: American Stout\",\"Favored style: Fruit / Vegetable Beer\",\"Favored style: Bock\",\"Favored style: Vienna Lager\",\"Favored style: Euro Dark Lager\",\"Favored style: English Dark Mild Ale\",\"Favored style: American Double / Imperial IPA\",\"Favored style: American Adjunct Lager\",\"Favored style: Bock\",\"Favored style: Hefeweizen\",\"Favored style: Berliner Weissbier\",\"Favored style: Belgian Pale Ale\",\"Favored style: English Porter\",\"Favored style: American Porter\",\"Favored style: Russian Imperial Stout\",\"Favored style: Baltic Porter\",\"Favored style: American Brown Ale\",\"Favored style: German Pilsener\",\"Favored style: Russian Imperial Stout\",\"Favored style: American Pale Wheat Ale\",\"Favored style: Euro Dark Lager\",\"Favored style: Euro Pale Lager\",\"Favored style: Low Alcohol Beer\",\"Favored style: American Pale Lager\",\"Favored style: American Blonde Ale\",\"Favored style: Czech Pilsener\",\"Favored style: Munich Helles Lager\",\"Favored style: English Porter\",\"Favored style: American IPA\",\"Favored style: Gose\",\"Favored style: American Amber / Red Ale\",\"Favored style: German Pilsener\",\"Favored style: American IPA\",\"Favored style: English Barleywine\",\"Favored style: Euro Pale Lager\",\"Favored style: English Porter\",\"Favored style: American Porter\",\"Favored style: American Stout\",\"Favored style: Smoked Beer\",\"Favored style: American Double / Imperial IPA\",\"Favored style: American IPA\",\"Favored style: Hefeweizen\",\"Favored style: Euro Dark Lager\",\"Favored style: American Amber / Red Lager\",\"Favored style: Irish Dry Stout\",\"Favored style: Herbed / Spiced Beer\",\"Favored style: Vienna Lager\",\"Favored style: Fruit / Vegetable Beer\",\"Favored style: German Pilsener\",\"Favored style: Foreign / Export Stout\",\"Favored style: English Stout\",\"Favored style: Herbed / Spiced Beer\",\"Favored style: Bock\",\"Favored style: Scotch Ale / Wee Heavy\",\"Favored style: Kellerbier / Zwickelbier\",\"Favored style: Foreign / Export Stout\",\"Favored style: Foreign / Export Stout\",\"Favored style: American Blonde Ale\",\"Favored style: Smoked Beer\",\"Favored style: English Barleywine\",\"Favored style: American Amber / Red Lager\",\"Favored style: Witbier\",\"Favored style: English Brown Ale\",\"Favored style: American Amber / Red Lager\",\"Favored style: Witbier\",\"Favored style: English Pale Ale\",\"Favored style: Euro Dark Lager\",\"Favored style: Foreign / Export Stout\",\"Favored style: American Strong Ale\",\"Favored style: American Amber / Red Ale\",\"Favored style: American Black Ale\",\"Favored style: K\\u00f6lsch\",\"Favored style: Witbier\",\"Favored style: Czech Pilsener\",\"Favored style: Foreign / Export Stout\",\"Favored style: Foreign / Export Stout\",\"Favored style: English Brown Ale\",\"Favored style: Euro Dark Lager\",\"Favored style: Foreign / Export Stout\",\"Favored style: English Bitter\",\"Favored style: American IPA\",\"Favored style: Czech Pilsener\",\"Favored style: American Adjunct Lager\",\"Favored style: Euro Dark Lager\",\"Favored style: Euro Pale Lager\",\"Favored style: Foreign / Export Stout\",\"Favored style: American Amber / Red Lager\",\"Favored style: Euro Pale Lager\",\"Favored style: American Pale Ale (APA)\",\"Favored style: Euro Pale Lager\",\"Favored style: Milk / Sweet Stout\",\"Favored style: English India Pale Ale (IPA)\",\"Favored style: Euro Pale Lager\",\"Favored style: American Pale Lager\",\"Favored style: Euro Pale Lager\",\"Favored style: Euro Pale Lager\",\"Favored style: Euro Pale Lager\",\"Favored style: Euro Pale Lager\",\"Favored style: English Pale Ale\",\"Favored style: German Pilsener\",\"Favored style: Euro Dark Lager\",\"Favored style: American Adjunct Lager\",\"Favored style: Witbier\",\"Favored style: Euro Pale Lager\",\"Favored style: American Adjunct Lager\",\"Favored style: American Adjunct Lager\",\"Favored style: Euro Pale Lager\",\"Favored style: Euro Pale Lager\",\"Favored style: Light Lager\",\"Favored style: Euro Pale Lager\",\"Favored style: Low Alcohol Beer\",\"Favored style: American Adjunct Lager\",\"Favored style: Dortmunder / Export Lager\",\"Favored style: Foreign / Export Stout\",\"Favored style: American Adjunct Lager\",\"Favored style: Euro Pale Lager\",\"Favored style: Euro Pale Lager\",\"Favored style: American Adjunct Lager\",\"Favored style: Dortmunder / Export Lager\",\"Favored style: Euro Dark Lager\",\"Favored style: American Pale Ale (APA)\",\"Favored style: American Adjunct Lager\",\"Favored style: Euro Pale Lager\",\"Favored style: American Pale Lager\",\"Favored style: Euro Pale Lager\",\"Favored style: Euro Pale Lager\",\"Favored style: German Pilsener\",\"Favored style: Euro Pale Lager\",\"Favored style: Euro Pale Lager\",\"Favored style: Euro Pale Lager\",\"Favored style: Euro Pale Lager\",\"Favored style: Euro Pale Lager\",\"Favored style: Euro Strong Lager\",\"Favored style: Cream Ale\",\"Favored style: Low Alcohol Beer\",\"Favored style: Euro Pale Lager\",\"Favored style: Euro Pale Lager\",\"Favored style: Euro Pale Lager\",\"Favored style: American Adjunct Lager\",\"Favored style: American Adjunct Lager\",\"Favored style: American Adjunct Lager\",\"Favored style: American Adjunct Lager\",\"Favored style: Euro Pale Lager\",\"Favored style: American Adjunct Lager\",\"Favored style: Euro Pale Lager\",\"Favored style: American Amber / Red Lager\",\"Favored style: Euro Pale Lager\",\"Favored style: Low Alcohol Beer\",\"Favored style: Euro Pale Lager\"],\"z\":[5.0,5.0,5.0,5.0,5.0,5.0,5.0,5.0,5.0,5.0,5.0,5.0,5.0,5.0,5.0,5.0,5.0,5.0,4.99,4.97,4.96,4.95,4.93,4.89,4.87,4.84,4.826666666666667,4.82,4.81,4.8,4.78,4.78,4.75,4.465,4.74,4.41,4.6875,4.68,4.294,4.416666666666667,4.66,4.64,4.64,4.64,4.63,4.62,4.57,4.55,4.55,4.1025,4.5,4.5,4.5,4.5,4.5,4.5,4.5,4.5,4.5,4.49,4.48,4.44,4.333333333333333,4.4,4.4,4.395,4.38,4.3100000000000005,4.34,4.33,4.3,4.29,4.29,4.29,4.27,4.26,4.2,4.2,4.19,4.18,4.15,4.12,4.1,4.1,4.09,4.08,4.08,4.05,4.045,4.04,4.03,3.915,4.0,4.0,4.0,4.0,4.0,4.005,3.98,3.91,3.96,3.95,4.0725,3.95,3.94,3.925,3.925,3.845,3.9092165330043183,3.92,3.9,4.205,3.89,3.5225,3.99,3.865,3.86,3.85,3.453333333333333,3.82,3.82,3.8,3.716666666666667,3.875,3.79,3.775,3.7342105263157896,3.75,3.685147058823529,3.69,3.686666666666667,3.6875,3.62,3.62,3.93,3.6,3.585,3.18,3.306666666666667,3.35,3.5,3.5075000000000003,3.48,3.370149253731344,3.425,3.3,3.38,3.4166666666666665,3.35,3.1060000000000003,3.5,3.34,3.063333333333333,3.305329341317365,3.25,3.2469230769230766,3.23,2.886,2.922,3.18,2.904,3.208,3.12,3.11,3.1,2.75,3.1,2.9910000000000005,3.05,3.05,2.8991666666666664,2.955,2.98,2.98,2.8032352941176475,2.88,2.875,2.928888888888889,2.81,2.79,2.8314285714285714,2.795,2.69,2.68,2.68,3.29,2.64875,2.545,2.593,2.5370588235294123,2.52,2.6447572815533977,2.5,2.313333333333333,2.513333333333333,2.41,2.35,2.34,2.72,2.09,1.94,1.845],\"type\":\"choropleth\"}],                        {\"template\":{\"data\":{\"histogram2dcontour\":[{\"type\":\"histogram2dcontour\",\"colorbar\":{\"outlinewidth\":0,\"ticks\":\"\"},\"colorscale\":[[0.0,\"#0d0887\"],[0.1111111111111111,\"#46039f\"],[0.2222222222222222,\"#7201a8\"],[0.3333333333333333,\"#9c179e\"],[0.4444444444444444,\"#bd3786\"],[0.5555555555555556,\"#d8576b\"],[0.6666666666666666,\"#ed7953\"],[0.7777777777777778,\"#fb9f3a\"],[0.8888888888888888,\"#fdca26\"],[1.0,\"#f0f921\"]]}],\"choropleth\":[{\"type\":\"choropleth\",\"colorbar\":{\"outlinewidth\":0,\"ticks\":\"\"}}],\"histogram2d\":[{\"type\":\"histogram2d\",\"colorbar\":{\"outlinewidth\":0,\"ticks\":\"\"},\"colorscale\":[[0.0,\"#0d0887\"],[0.1111111111111111,\"#46039f\"],[0.2222222222222222,\"#7201a8\"],[0.3333333333333333,\"#9c179e\"],[0.4444444444444444,\"#bd3786\"],[0.5555555555555556,\"#d8576b\"],[0.6666666666666666,\"#ed7953\"],[0.7777777777777778,\"#fb9f3a\"],[0.8888888888888888,\"#fdca26\"],[1.0,\"#f0f921\"]]}],\"heatmap\":[{\"type\":\"heatmap\",\"colorbar\":{\"outlinewidth\":0,\"ticks\":\"\"},\"colorscale\":[[0.0,\"#0d0887\"],[0.1111111111111111,\"#46039f\"],[0.2222222222222222,\"#7201a8\"],[0.3333333333333333,\"#9c179e\"],[0.4444444444444444,\"#bd3786\"],[0.5555555555555556,\"#d8576b\"],[0.6666666666666666,\"#ed7953\"],[0.7777777777777778,\"#fb9f3a\"],[0.8888888888888888,\"#fdca26\"],[1.0,\"#f0f921\"]]}],\"heatmapgl\":[{\"type\":\"heatmapgl\",\"colorbar\":{\"outlinewidth\":0,\"ticks\":\"\"},\"colorscale\":[[0.0,\"#0d0887\"],[0.1111111111111111,\"#46039f\"],[0.2222222222222222,\"#7201a8\"],[0.3333333333333333,\"#9c179e\"],[0.4444444444444444,\"#bd3786\"],[0.5555555555555556,\"#d8576b\"],[0.6666666666666666,\"#ed7953\"],[0.7777777777777778,\"#fb9f3a\"],[0.8888888888888888,\"#fdca26\"],[1.0,\"#f0f921\"]]}],\"contourcarpet\":[{\"type\":\"contourcarpet\",\"colorbar\":{\"outlinewidth\":0,\"ticks\":\"\"}}],\"contour\":[{\"type\":\"contour\",\"colorbar\":{\"outlinewidth\":0,\"ticks\":\"\"},\"colorscale\":[[0.0,\"#0d0887\"],[0.1111111111111111,\"#46039f\"],[0.2222222222222222,\"#7201a8\"],[0.3333333333333333,\"#9c179e\"],[0.4444444444444444,\"#bd3786\"],[0.5555555555555556,\"#d8576b\"],[0.6666666666666666,\"#ed7953\"],[0.7777777777777778,\"#fb9f3a\"],[0.8888888888888888,\"#fdca26\"],[1.0,\"#f0f921\"]]}],\"surface\":[{\"type\":\"surface\",\"colorbar\":{\"outlinewidth\":0,\"ticks\":\"\"},\"colorscale\":[[0.0,\"#0d0887\"],[0.1111111111111111,\"#46039f\"],[0.2222222222222222,\"#7201a8\"],[0.3333333333333333,\"#9c179e\"],[0.4444444444444444,\"#bd3786\"],[0.5555555555555556,\"#d8576b\"],[0.6666666666666666,\"#ed7953\"],[0.7777777777777778,\"#fb9f3a\"],[0.8888888888888888,\"#fdca26\"],[1.0,\"#f0f921\"]]}],\"mesh3d\":[{\"type\":\"mesh3d\",\"colorbar\":{\"outlinewidth\":0,\"ticks\":\"\"}}],\"scatter\":[{\"fillpattern\":{\"fillmode\":\"overlay\",\"size\":10,\"solidity\":0.2},\"type\":\"scatter\"}],\"parcoords\":[{\"type\":\"parcoords\",\"line\":{\"colorbar\":{\"outlinewidth\":0,\"ticks\":\"\"}}}],\"scatterpolargl\":[{\"type\":\"scatterpolargl\",\"marker\":{\"colorbar\":{\"outlinewidth\":0,\"ticks\":\"\"}}}],\"bar\":[{\"error_x\":{\"color\":\"#2a3f5f\"},\"error_y\":{\"color\":\"#2a3f5f\"},\"marker\":{\"line\":{\"color\":\"#E5ECF6\",\"width\":0.5},\"pattern\":{\"fillmode\":\"overlay\",\"size\":10,\"solidity\":0.2}},\"type\":\"bar\"}],\"scattergeo\":[{\"type\":\"scattergeo\",\"marker\":{\"colorbar\":{\"outlinewidth\":0,\"ticks\":\"\"}}}],\"scatterpolar\":[{\"type\":\"scatterpolar\",\"marker\":{\"colorbar\":{\"outlinewidth\":0,\"ticks\":\"\"}}}],\"histogram\":[{\"marker\":{\"pattern\":{\"fillmode\":\"overlay\",\"size\":10,\"solidity\":0.2}},\"type\":\"histogram\"}],\"scattergl\":[{\"type\":\"scattergl\",\"marker\":{\"colorbar\":{\"outlinewidth\":0,\"ticks\":\"\"}}}],\"scatter3d\":[{\"type\":\"scatter3d\",\"line\":{\"colorbar\":{\"outlinewidth\":0,\"ticks\":\"\"}},\"marker\":{\"colorbar\":{\"outlinewidth\":0,\"ticks\":\"\"}}}],\"scattermapbox\":[{\"type\":\"scattermapbox\",\"marker\":{\"colorbar\":{\"outlinewidth\":0,\"ticks\":\"\"}}}],\"scatterternary\":[{\"type\":\"scatterternary\",\"marker\":{\"colorbar\":{\"outlinewidth\":0,\"ticks\":\"\"}}}],\"scattercarpet\":[{\"type\":\"scattercarpet\",\"marker\":{\"colorbar\":{\"outlinewidth\":0,\"ticks\":\"\"}}}],\"carpet\":[{\"aaxis\":{\"endlinecolor\":\"#2a3f5f\",\"gridcolor\":\"white\",\"linecolor\":\"white\",\"minorgridcolor\":\"white\",\"startlinecolor\":\"#2a3f5f\"},\"baxis\":{\"endlinecolor\":\"#2a3f5f\",\"gridcolor\":\"white\",\"linecolor\":\"white\",\"minorgridcolor\":\"white\",\"startlinecolor\":\"#2a3f5f\"},\"type\":\"carpet\"}],\"table\":[{\"cells\":{\"fill\":{\"color\":\"#EBF0F8\"},\"line\":{\"color\":\"white\"}},\"header\":{\"fill\":{\"color\":\"#C8D4E3\"},\"line\":{\"color\":\"white\"}},\"type\":\"table\"}],\"barpolar\":[{\"marker\":{\"line\":{\"color\":\"#E5ECF6\",\"width\":0.5},\"pattern\":{\"fillmode\":\"overlay\",\"size\":10,\"solidity\":0.2}},\"type\":\"barpolar\"}],\"pie\":[{\"automargin\":true,\"type\":\"pie\"}]},\"layout\":{\"autotypenumbers\":\"strict\",\"colorway\":[\"#636efa\",\"#EF553B\",\"#00cc96\",\"#ab63fa\",\"#FFA15A\",\"#19d3f3\",\"#FF6692\",\"#B6E880\",\"#FF97FF\",\"#FECB52\"],\"font\":{\"color\":\"#2a3f5f\"},\"hovermode\":\"closest\",\"hoverlabel\":{\"align\":\"left\"},\"paper_bgcolor\":\"white\",\"plot_bgcolor\":\"#E5ECF6\",\"polar\":{\"bgcolor\":\"#E5ECF6\",\"angularaxis\":{\"gridcolor\":\"white\",\"linecolor\":\"white\",\"ticks\":\"\"},\"radialaxis\":{\"gridcolor\":\"white\",\"linecolor\":\"white\",\"ticks\":\"\"}},\"ternary\":{\"bgcolor\":\"#E5ECF6\",\"aaxis\":{\"gridcolor\":\"white\",\"linecolor\":\"white\",\"ticks\":\"\"},\"baxis\":{\"gridcolor\":\"white\",\"linecolor\":\"white\",\"ticks\":\"\"},\"caxis\":{\"gridcolor\":\"white\",\"linecolor\":\"white\",\"ticks\":\"\"}},\"coloraxis\":{\"colorbar\":{\"outlinewidth\":0,\"ticks\":\"\"}},\"colorscale\":{\"sequential\":[[0.0,\"#0d0887\"],[0.1111111111111111,\"#46039f\"],[0.2222222222222222,\"#7201a8\"],[0.3333333333333333,\"#9c179e\"],[0.4444444444444444,\"#bd3786\"],[0.5555555555555556,\"#d8576b\"],[0.6666666666666666,\"#ed7953\"],[0.7777777777777778,\"#fb9f3a\"],[0.8888888888888888,\"#fdca26\"],[1.0,\"#f0f921\"]],\"sequentialminus\":[[0.0,\"#0d0887\"],[0.1111111111111111,\"#46039f\"],[0.2222222222222222,\"#7201a8\"],[0.3333333333333333,\"#9c179e\"],[0.4444444444444444,\"#bd3786\"],[0.5555555555555556,\"#d8576b\"],[0.6666666666666666,\"#ed7953\"],[0.7777777777777778,\"#fb9f3a\"],[0.8888888888888888,\"#fdca26\"],[1.0,\"#f0f921\"]],\"diverging\":[[0,\"#8e0152\"],[0.1,\"#c51b7d\"],[0.2,\"#de77ae\"],[0.3,\"#f1b6da\"],[0.4,\"#fde0ef\"],[0.5,\"#f7f7f7\"],[0.6,\"#e6f5d0\"],[0.7,\"#b8e186\"],[0.8,\"#7fbc41\"],[0.9,\"#4d9221\"],[1,\"#276419\"]]},\"xaxis\":{\"gridcolor\":\"white\",\"linecolor\":\"white\",\"ticks\":\"\",\"title\":{\"standoff\":15},\"zerolinecolor\":\"white\",\"automargin\":true,\"zerolinewidth\":2},\"yaxis\":{\"gridcolor\":\"white\",\"linecolor\":\"white\",\"ticks\":\"\",\"title\":{\"standoff\":15},\"zerolinecolor\":\"white\",\"automargin\":true,\"zerolinewidth\":2},\"scene\":{\"xaxis\":{\"backgroundcolor\":\"#E5ECF6\",\"gridcolor\":\"white\",\"linecolor\":\"white\",\"showbackground\":true,\"ticks\":\"\",\"zerolinecolor\":\"white\",\"gridwidth\":2},\"yaxis\":{\"backgroundcolor\":\"#E5ECF6\",\"gridcolor\":\"white\",\"linecolor\":\"white\",\"showbackground\":true,\"ticks\":\"\",\"zerolinecolor\":\"white\",\"gridwidth\":2},\"zaxis\":{\"backgroundcolor\":\"#E5ECF6\",\"gridcolor\":\"white\",\"linecolor\":\"white\",\"showbackground\":true,\"ticks\":\"\",\"zerolinecolor\":\"white\",\"gridwidth\":2}},\"shapedefaults\":{\"line\":{\"color\":\"#2a3f5f\"}},\"annotationdefaults\":{\"arrowcolor\":\"#2a3f5f\",\"arrowhead\":0,\"arrowwidth\":1},\"geo\":{\"bgcolor\":\"white\",\"landcolor\":\"#E5ECF6\",\"subunitcolor\":\"white\",\"showland\":true,\"showlakes\":true,\"lakecolor\":\"white\"},\"title\":{\"x\":0.05},\"mapbox\":{\"style\":\"light\"}}},\"title\":{\"text\":\"Beer style and avreage score per countries\"}},                        {\"responsive\": true}                    ).then(function(){\n",
       "                            \n",
       "var gd = document.getElementById('9b2b3776-8d1a-40f9-9eb9-7eb95f7219ee');\n",
       "var x = new MutationObserver(function (mutations, observer) {{\n",
       "        var display = window.getComputedStyle(gd).display;\n",
       "        if (!display || display === 'none') {{\n",
       "            console.log([gd, 'removed!']);\n",
       "            Plotly.purge(gd);\n",
       "            observer.disconnect();\n",
       "        }}\n",
       "}});\n",
       "\n",
       "// Listen for the removal of the full notebook cells\n",
       "var notebookContainer = gd.closest('#notebook-container');\n",
       "if (notebookContainer) {{\n",
       "    x.observe(notebookContainer, {childList: true});\n",
       "}}\n",
       "\n",
       "// Listen for the clearing of the current output cell\n",
       "var outputEl = gd.closest('.output');\n",
       "if (outputEl) {{\n",
       "    x.observe(outputEl, {childList: true});\n",
       "}}\n",
       "\n",
       "                        })                };                });            </script>        </div>"
      ]
     },
     "metadata": {},
     "output_type": "display_data"
    },
    {
     "data": {
      "application/vnd.plotly.v1+json": {
       "config": {
        "plotlyServerURL": "https://plot.ly"
       },
       "data": [
        {
         "autocolorscale": false,
         "colorbar": {
          "tickprefix": "avreage rating",
          "title": {
           "text": "style of beer<br>and avreage ranking<br>in USA"
          }
         },
         "colorscale": [
          [
           0,
           "#440154"
          ],
          [
           0.1111111111111111,
           "#482878"
          ],
          [
           0.2222222222222222,
           "#3e4989"
          ],
          [
           0.3333333333333333,
           "#31688e"
          ],
          [
           0.4444444444444444,
           "#26828e"
          ],
          [
           0.5555555555555556,
           "#1f9e89"
          ],
          [
           0.6666666666666666,
           "#35b779"
          ],
          [
           0.7777777777777778,
           "#6ece58"
          ],
          [
           0.8888888888888888,
           "#b5de2b"
          ],
          [
           1,
           "#fde725"
          ]
         ],
         "locationmode": "USA-states",
         "locations": [
          "CO",
          "FL",
          "GA",
          "IL",
          "IN",
          "IA",
          "KS",
          "KY",
          "LA",
          "ME",
          "MD",
          "MA",
          "MI",
          "MN",
          "MO",
          "NE",
          "NV",
          "CA",
          "AR",
          "AZ",
          "AK",
          "TX",
          "NY",
          "NC",
          "DE",
          "MT",
          "RI",
          "WV",
          "HI",
          "OK",
          "ID",
          "ND",
          "SD",
          "MS",
          null,
          null,
          null,
          null,
          null,
          null,
          null,
          null,
          null,
          null,
          null,
          null,
          null,
          null,
          null,
          null
         ],
         "marker": {
          "line": {
           "color": "darkgray",
           "width": 0.5
          }
         },
         "reversescale": true,
         "text": [
          "Favored style: American Amber / Red Ale",
          "Favored style: American Double / Imperial Stout",
          "Favored style: American Double / Imperial IPA",
          "Favored style: Saison / Farmhouse Ale",
          "Favored style: American Porter",
          "Favored style: Dubbel",
          "Favored style: American Pale Wheat Ale",
          "Favored style: Belgian Strong Dark Ale",
          "Favored style: Milk / Sweet Stout",
          "Favored style: American IPA",
          "Favored style: American Pale Wheat Ale",
          "Favored style: American Porter",
          "Favored style: American Double / Imperial IPA",
          "Favored style: Hefeweizen",
          "Favored style: American IPA",
          "Favored style: American Porter",
          "Favored style: Gose",
          "Favored style: American Double / Imperial IPA",
          "Favored style: Braggot",
          "Favored style: Belgian Strong Pale Ale",
          "Favored style: American IPA",
          "Favored style: Witbier",
          "Favored style: Scotch Ale / Wee Heavy",
          "Favored style: Maibock / Helles Bock",
          "Favored style: American Pale Ale (APA)",
          "Favored style: American IPA",
          "Favored style: American Pale Ale (APA)",
          "Favored style: American Strong Ale",
          "Favored style: American Blonde Ale",
          "Favored style: American Porter",
          "Favored style: American Porter",
          "Favored style: American Pale Ale (APA)",
          "Favored style: American Blonde Ale",
          "Favored style: Old Ale",
          "Favored style: American IPA",
          "Favored style: Belgian Strong Dark Ale",
          "Favored style: American Double / Imperial IPA",
          "Favored style: American IPA",
          "Favored style: Dubbel",
          "Favored style: Kölsch",
          "Favored style: Saison / Farmhouse Ale",
          "Favored style: American Double / Imperial IPA",
          "Favored style: Flanders Red Ale",
          "Favored style: Fruit / Vegetable Beer",
          "Favored style: American Double / Imperial Stout",
          "Favored style: American Double / Imperial IPA",
          "Favored style: Rye Beer",
          "Favored style: Russian Imperial Stout",
          "Favored style: American Pale Ale (APA)",
          "Favored style: American IPA"
         ],
         "type": "choropleth",
         "z": [
          5,
          5,
          5,
          5,
          5,
          5,
          5,
          5,
          5,
          5,
          5,
          5,
          5,
          5,
          5,
          5,
          5,
          5,
          5,
          5,
          5,
          5,
          5,
          5,
          5,
          5,
          5,
          5,
          5,
          5,
          5,
          5,
          5,
          5,
          5,
          5,
          5,
          5,
          5,
          5,
          4.97,
          4.96,
          4.833333333333333,
          4.92,
          4.85,
          4.806,
          4.81,
          4.131428571428572,
          4.75,
          4.5975
         ]
        }
       ],
       "layout": {
        "geo": {
         "scope": "usa"
        },
        "template": {
         "data": {
          "bar": [
           {
            "error_x": {
             "color": "#2a3f5f"
            },
            "error_y": {
             "color": "#2a3f5f"
            },
            "marker": {
             "line": {
              "color": "#E5ECF6",
              "width": 0.5
             },
             "pattern": {
              "fillmode": "overlay",
              "size": 10,
              "solidity": 0.2
             }
            },
            "type": "bar"
           }
          ],
          "barpolar": [
           {
            "marker": {
             "line": {
              "color": "#E5ECF6",
              "width": 0.5
             },
             "pattern": {
              "fillmode": "overlay",
              "size": 10,
              "solidity": 0.2
             }
            },
            "type": "barpolar"
           }
          ],
          "carpet": [
           {
            "aaxis": {
             "endlinecolor": "#2a3f5f",
             "gridcolor": "white",
             "linecolor": "white",
             "minorgridcolor": "white",
             "startlinecolor": "#2a3f5f"
            },
            "baxis": {
             "endlinecolor": "#2a3f5f",
             "gridcolor": "white",
             "linecolor": "white",
             "minorgridcolor": "white",
             "startlinecolor": "#2a3f5f"
            },
            "type": "carpet"
           }
          ],
          "choropleth": [
           {
            "colorbar": {
             "outlinewidth": 0,
             "ticks": ""
            },
            "type": "choropleth"
           }
          ],
          "contour": [
           {
            "colorbar": {
             "outlinewidth": 0,
             "ticks": ""
            },
            "colorscale": [
             [
              0,
              "#0d0887"
             ],
             [
              0.1111111111111111,
              "#46039f"
             ],
             [
              0.2222222222222222,
              "#7201a8"
             ],
             [
              0.3333333333333333,
              "#9c179e"
             ],
             [
              0.4444444444444444,
              "#bd3786"
             ],
             [
              0.5555555555555556,
              "#d8576b"
             ],
             [
              0.6666666666666666,
              "#ed7953"
             ],
             [
              0.7777777777777778,
              "#fb9f3a"
             ],
             [
              0.8888888888888888,
              "#fdca26"
             ],
             [
              1,
              "#f0f921"
             ]
            ],
            "type": "contour"
           }
          ],
          "contourcarpet": [
           {
            "colorbar": {
             "outlinewidth": 0,
             "ticks": ""
            },
            "type": "contourcarpet"
           }
          ],
          "heatmap": [
           {
            "colorbar": {
             "outlinewidth": 0,
             "ticks": ""
            },
            "colorscale": [
             [
              0,
              "#0d0887"
             ],
             [
              0.1111111111111111,
              "#46039f"
             ],
             [
              0.2222222222222222,
              "#7201a8"
             ],
             [
              0.3333333333333333,
              "#9c179e"
             ],
             [
              0.4444444444444444,
              "#bd3786"
             ],
             [
              0.5555555555555556,
              "#d8576b"
             ],
             [
              0.6666666666666666,
              "#ed7953"
             ],
             [
              0.7777777777777778,
              "#fb9f3a"
             ],
             [
              0.8888888888888888,
              "#fdca26"
             ],
             [
              1,
              "#f0f921"
             ]
            ],
            "type": "heatmap"
           }
          ],
          "heatmapgl": [
           {
            "colorbar": {
             "outlinewidth": 0,
             "ticks": ""
            },
            "colorscale": [
             [
              0,
              "#0d0887"
             ],
             [
              0.1111111111111111,
              "#46039f"
             ],
             [
              0.2222222222222222,
              "#7201a8"
             ],
             [
              0.3333333333333333,
              "#9c179e"
             ],
             [
              0.4444444444444444,
              "#bd3786"
             ],
             [
              0.5555555555555556,
              "#d8576b"
             ],
             [
              0.6666666666666666,
              "#ed7953"
             ],
             [
              0.7777777777777778,
              "#fb9f3a"
             ],
             [
              0.8888888888888888,
              "#fdca26"
             ],
             [
              1,
              "#f0f921"
             ]
            ],
            "type": "heatmapgl"
           }
          ],
          "histogram": [
           {
            "marker": {
             "pattern": {
              "fillmode": "overlay",
              "size": 10,
              "solidity": 0.2
             }
            },
            "type": "histogram"
           }
          ],
          "histogram2d": [
           {
            "colorbar": {
             "outlinewidth": 0,
             "ticks": ""
            },
            "colorscale": [
             [
              0,
              "#0d0887"
             ],
             [
              0.1111111111111111,
              "#46039f"
             ],
             [
              0.2222222222222222,
              "#7201a8"
             ],
             [
              0.3333333333333333,
              "#9c179e"
             ],
             [
              0.4444444444444444,
              "#bd3786"
             ],
             [
              0.5555555555555556,
              "#d8576b"
             ],
             [
              0.6666666666666666,
              "#ed7953"
             ],
             [
              0.7777777777777778,
              "#fb9f3a"
             ],
             [
              0.8888888888888888,
              "#fdca26"
             ],
             [
              1,
              "#f0f921"
             ]
            ],
            "type": "histogram2d"
           }
          ],
          "histogram2dcontour": [
           {
            "colorbar": {
             "outlinewidth": 0,
             "ticks": ""
            },
            "colorscale": [
             [
              0,
              "#0d0887"
             ],
             [
              0.1111111111111111,
              "#46039f"
             ],
             [
              0.2222222222222222,
              "#7201a8"
             ],
             [
              0.3333333333333333,
              "#9c179e"
             ],
             [
              0.4444444444444444,
              "#bd3786"
             ],
             [
              0.5555555555555556,
              "#d8576b"
             ],
             [
              0.6666666666666666,
              "#ed7953"
             ],
             [
              0.7777777777777778,
              "#fb9f3a"
             ],
             [
              0.8888888888888888,
              "#fdca26"
             ],
             [
              1,
              "#f0f921"
             ]
            ],
            "type": "histogram2dcontour"
           }
          ],
          "mesh3d": [
           {
            "colorbar": {
             "outlinewidth": 0,
             "ticks": ""
            },
            "type": "mesh3d"
           }
          ],
          "parcoords": [
           {
            "line": {
             "colorbar": {
              "outlinewidth": 0,
              "ticks": ""
             }
            },
            "type": "parcoords"
           }
          ],
          "pie": [
           {
            "automargin": true,
            "type": "pie"
           }
          ],
          "scatter": [
           {
            "fillpattern": {
             "fillmode": "overlay",
             "size": 10,
             "solidity": 0.2
            },
            "type": "scatter"
           }
          ],
          "scatter3d": [
           {
            "line": {
             "colorbar": {
              "outlinewidth": 0,
              "ticks": ""
             }
            },
            "marker": {
             "colorbar": {
              "outlinewidth": 0,
              "ticks": ""
             }
            },
            "type": "scatter3d"
           }
          ],
          "scattercarpet": [
           {
            "marker": {
             "colorbar": {
              "outlinewidth": 0,
              "ticks": ""
             }
            },
            "type": "scattercarpet"
           }
          ],
          "scattergeo": [
           {
            "marker": {
             "colorbar": {
              "outlinewidth": 0,
              "ticks": ""
             }
            },
            "type": "scattergeo"
           }
          ],
          "scattergl": [
           {
            "marker": {
             "colorbar": {
              "outlinewidth": 0,
              "ticks": ""
             }
            },
            "type": "scattergl"
           }
          ],
          "scattermapbox": [
           {
            "marker": {
             "colorbar": {
              "outlinewidth": 0,
              "ticks": ""
             }
            },
            "type": "scattermapbox"
           }
          ],
          "scatterpolar": [
           {
            "marker": {
             "colorbar": {
              "outlinewidth": 0,
              "ticks": ""
             }
            },
            "type": "scatterpolar"
           }
          ],
          "scatterpolargl": [
           {
            "marker": {
             "colorbar": {
              "outlinewidth": 0,
              "ticks": ""
             }
            },
            "type": "scatterpolargl"
           }
          ],
          "scatterternary": [
           {
            "marker": {
             "colorbar": {
              "outlinewidth": 0,
              "ticks": ""
             }
            },
            "type": "scatterternary"
           }
          ],
          "surface": [
           {
            "colorbar": {
             "outlinewidth": 0,
             "ticks": ""
            },
            "colorscale": [
             [
              0,
              "#0d0887"
             ],
             [
              0.1111111111111111,
              "#46039f"
             ],
             [
              0.2222222222222222,
              "#7201a8"
             ],
             [
              0.3333333333333333,
              "#9c179e"
             ],
             [
              0.4444444444444444,
              "#bd3786"
             ],
             [
              0.5555555555555556,
              "#d8576b"
             ],
             [
              0.6666666666666666,
              "#ed7953"
             ],
             [
              0.7777777777777778,
              "#fb9f3a"
             ],
             [
              0.8888888888888888,
              "#fdca26"
             ],
             [
              1,
              "#f0f921"
             ]
            ],
            "type": "surface"
           }
          ],
          "table": [
           {
            "cells": {
             "fill": {
              "color": "#EBF0F8"
             },
             "line": {
              "color": "white"
             }
            },
            "header": {
             "fill": {
              "color": "#C8D4E3"
             },
             "line": {
              "color": "white"
             }
            },
            "type": "table"
           }
          ]
         },
         "layout": {
          "annotationdefaults": {
           "arrowcolor": "#2a3f5f",
           "arrowhead": 0,
           "arrowwidth": 1
          },
          "autotypenumbers": "strict",
          "coloraxis": {
           "colorbar": {
            "outlinewidth": 0,
            "ticks": ""
           }
          },
          "colorscale": {
           "diverging": [
            [
             0,
             "#8e0152"
            ],
            [
             0.1,
             "#c51b7d"
            ],
            [
             0.2,
             "#de77ae"
            ],
            [
             0.3,
             "#f1b6da"
            ],
            [
             0.4,
             "#fde0ef"
            ],
            [
             0.5,
             "#f7f7f7"
            ],
            [
             0.6,
             "#e6f5d0"
            ],
            [
             0.7,
             "#b8e186"
            ],
            [
             0.8,
             "#7fbc41"
            ],
            [
             0.9,
             "#4d9221"
            ],
            [
             1,
             "#276419"
            ]
           ],
           "sequential": [
            [
             0,
             "#0d0887"
            ],
            [
             0.1111111111111111,
             "#46039f"
            ],
            [
             0.2222222222222222,
             "#7201a8"
            ],
            [
             0.3333333333333333,
             "#9c179e"
            ],
            [
             0.4444444444444444,
             "#bd3786"
            ],
            [
             0.5555555555555556,
             "#d8576b"
            ],
            [
             0.6666666666666666,
             "#ed7953"
            ],
            [
             0.7777777777777778,
             "#fb9f3a"
            ],
            [
             0.8888888888888888,
             "#fdca26"
            ],
            [
             1,
             "#f0f921"
            ]
           ],
           "sequentialminus": [
            [
             0,
             "#0d0887"
            ],
            [
             0.1111111111111111,
             "#46039f"
            ],
            [
             0.2222222222222222,
             "#7201a8"
            ],
            [
             0.3333333333333333,
             "#9c179e"
            ],
            [
             0.4444444444444444,
             "#bd3786"
            ],
            [
             0.5555555555555556,
             "#d8576b"
            ],
            [
             0.6666666666666666,
             "#ed7953"
            ],
            [
             0.7777777777777778,
             "#fb9f3a"
            ],
            [
             0.8888888888888888,
             "#fdca26"
            ],
            [
             1,
             "#f0f921"
            ]
           ]
          },
          "colorway": [
           "#636efa",
           "#EF553B",
           "#00cc96",
           "#ab63fa",
           "#FFA15A",
           "#19d3f3",
           "#FF6692",
           "#B6E880",
           "#FF97FF",
           "#FECB52"
          ],
          "font": {
           "color": "#2a3f5f"
          },
          "geo": {
           "bgcolor": "white",
           "lakecolor": "white",
           "landcolor": "#E5ECF6",
           "showlakes": true,
           "showland": true,
           "subunitcolor": "white"
          },
          "hoverlabel": {
           "align": "left"
          },
          "hovermode": "closest",
          "mapbox": {
           "style": "light"
          },
          "paper_bgcolor": "white",
          "plot_bgcolor": "#E5ECF6",
          "polar": {
           "angularaxis": {
            "gridcolor": "white",
            "linecolor": "white",
            "ticks": ""
           },
           "bgcolor": "#E5ECF6",
           "radialaxis": {
            "gridcolor": "white",
            "linecolor": "white",
            "ticks": ""
           }
          },
          "scene": {
           "xaxis": {
            "backgroundcolor": "#E5ECF6",
            "gridcolor": "white",
            "gridwidth": 2,
            "linecolor": "white",
            "showbackground": true,
            "ticks": "",
            "zerolinecolor": "white"
           },
           "yaxis": {
            "backgroundcolor": "#E5ECF6",
            "gridcolor": "white",
            "gridwidth": 2,
            "linecolor": "white",
            "showbackground": true,
            "ticks": "",
            "zerolinecolor": "white"
           },
           "zaxis": {
            "backgroundcolor": "#E5ECF6",
            "gridcolor": "white",
            "gridwidth": 2,
            "linecolor": "white",
            "showbackground": true,
            "ticks": "",
            "zerolinecolor": "white"
           }
          },
          "shapedefaults": {
           "line": {
            "color": "#2a3f5f"
           }
          },
          "ternary": {
           "aaxis": {
            "gridcolor": "white",
            "linecolor": "white",
            "ticks": ""
           },
           "baxis": {
            "gridcolor": "white",
            "linecolor": "white",
            "ticks": ""
           },
           "bgcolor": "#E5ECF6",
           "caxis": {
            "gridcolor": "white",
            "linecolor": "white",
            "ticks": ""
           }
          },
          "title": {
           "x": 0.05
          },
          "xaxis": {
           "automargin": true,
           "gridcolor": "white",
           "linecolor": "white",
           "ticks": "",
           "title": {
            "standoff": 15
           },
           "zerolinecolor": "white",
           "zerolinewidth": 2
          },
          "yaxis": {
           "automargin": true,
           "gridcolor": "white",
           "linecolor": "white",
           "ticks": "",
           "title": {
            "standoff": 15
           },
           "zerolinecolor": "white",
           "zerolinewidth": 2
          }
         }
        },
        "title": {
         "text": "Beer style and avreage score per countries"
        }
       }
      },
      "text/html": [
       "<div>                            <div id=\"90c9bb0a-7e0e-40f8-8c9a-8cf3bebffb0f\" class=\"plotly-graph-div\" style=\"height:525px; width:100%;\"></div>            <script type=\"text/javascript\">                require([\"plotly\"], function(Plotly) {                    window.PLOTLYENV=window.PLOTLYENV || {};                                    if (document.getElementById(\"90c9bb0a-7e0e-40f8-8c9a-8cf3bebffb0f\")) {                    Plotly.newPlot(                        \"90c9bb0a-7e0e-40f8-8c9a-8cf3bebffb0f\",                        [{\"autocolorscale\":false,\"colorbar\":{\"tickprefix\":\"avreage rating\",\"title\":{\"text\":\"style of beer<br>and avreage ranking<br>in USA\"}},\"colorscale\":[[0.0,\"#440154\"],[0.1111111111111111,\"#482878\"],[0.2222222222222222,\"#3e4989\"],[0.3333333333333333,\"#31688e\"],[0.4444444444444444,\"#26828e\"],[0.5555555555555556,\"#1f9e89\"],[0.6666666666666666,\"#35b779\"],[0.7777777777777778,\"#6ece58\"],[0.8888888888888888,\"#b5de2b\"],[1.0,\"#fde725\"]],\"locationmode\":\"USA-states\",\"locations\":[\"CO\",\"FL\",\"GA\",\"IL\",\"IN\",\"IA\",\"KS\",\"KY\",\"LA\",\"ME\",\"MD\",\"MA\",\"MI\",\"MN\",\"MO\",\"NE\",\"NV\",\"CA\",\"AR\",\"AZ\",\"AK\",\"TX\",\"NY\",\"NC\",\"DE\",\"MT\",\"RI\",\"WV\",\"HI\",\"OK\",\"ID\",\"ND\",\"SD\",\"MS\",null,null,null,null,null,null,null,null,null,null,null,null,null,null,null,null],\"marker\":{\"line\":{\"color\":\"darkgray\",\"width\":0.5}},\"reversescale\":true,\"text\":[\"Favored style: American Amber / Red Ale\",\"Favored style: American Double / Imperial Stout\",\"Favored style: American Double / Imperial IPA\",\"Favored style: Saison / Farmhouse Ale\",\"Favored style: American Porter\",\"Favored style: Dubbel\",\"Favored style: American Pale Wheat Ale\",\"Favored style: Belgian Strong Dark Ale\",\"Favored style: Milk / Sweet Stout\",\"Favored style: American IPA\",\"Favored style: American Pale Wheat Ale\",\"Favored style: American Porter\",\"Favored style: American Double / Imperial IPA\",\"Favored style: Hefeweizen\",\"Favored style: American IPA\",\"Favored style: American Porter\",\"Favored style: Gose\",\"Favored style: American Double / Imperial IPA\",\"Favored style: Braggot\",\"Favored style: Belgian Strong Pale Ale\",\"Favored style: American IPA\",\"Favored style: Witbier\",\"Favored style: Scotch Ale / Wee Heavy\",\"Favored style: Maibock / Helles Bock\",\"Favored style: American Pale Ale (APA)\",\"Favored style: American IPA\",\"Favored style: American Pale Ale (APA)\",\"Favored style: American Strong Ale\",\"Favored style: American Blonde Ale\",\"Favored style: American Porter\",\"Favored style: American Porter\",\"Favored style: American Pale Ale (APA)\",\"Favored style: American Blonde Ale\",\"Favored style: Old Ale\",\"Favored style: American IPA\",\"Favored style: Belgian Strong Dark Ale\",\"Favored style: American Double / Imperial IPA\",\"Favored style: American IPA\",\"Favored style: Dubbel\",\"Favored style: K\\u00f6lsch\",\"Favored style: Saison / Farmhouse Ale\",\"Favored style: American Double / Imperial IPA\",\"Favored style: Flanders Red Ale\",\"Favored style: Fruit / Vegetable Beer\",\"Favored style: American Double / Imperial Stout\",\"Favored style: American Double / Imperial IPA\",\"Favored style: Rye Beer\",\"Favored style: Russian Imperial Stout\",\"Favored style: American Pale Ale (APA)\",\"Favored style: American IPA\"],\"z\":[5.0,5.0,5.0,5.0,5.0,5.0,5.0,5.0,5.0,5.0,5.0,5.0,5.0,5.0,5.0,5.0,5.0,5.0,5.0,5.0,5.0,5.0,5.0,5.0,5.0,5.0,5.0,5.0,5.0,5.0,5.0,5.0,5.0,5.0,5.0,5.0,5.0,5.0,5.0,5.0,4.97,4.96,4.833333333333333,4.92,4.85,4.806,4.81,4.131428571428572,4.75,4.5975],\"type\":\"choropleth\"}],                        {\"template\":{\"data\":{\"histogram2dcontour\":[{\"type\":\"histogram2dcontour\",\"colorbar\":{\"outlinewidth\":0,\"ticks\":\"\"},\"colorscale\":[[0.0,\"#0d0887\"],[0.1111111111111111,\"#46039f\"],[0.2222222222222222,\"#7201a8\"],[0.3333333333333333,\"#9c179e\"],[0.4444444444444444,\"#bd3786\"],[0.5555555555555556,\"#d8576b\"],[0.6666666666666666,\"#ed7953\"],[0.7777777777777778,\"#fb9f3a\"],[0.8888888888888888,\"#fdca26\"],[1.0,\"#f0f921\"]]}],\"choropleth\":[{\"type\":\"choropleth\",\"colorbar\":{\"outlinewidth\":0,\"ticks\":\"\"}}],\"histogram2d\":[{\"type\":\"histogram2d\",\"colorbar\":{\"outlinewidth\":0,\"ticks\":\"\"},\"colorscale\":[[0.0,\"#0d0887\"],[0.1111111111111111,\"#46039f\"],[0.2222222222222222,\"#7201a8\"],[0.3333333333333333,\"#9c179e\"],[0.4444444444444444,\"#bd3786\"],[0.5555555555555556,\"#d8576b\"],[0.6666666666666666,\"#ed7953\"],[0.7777777777777778,\"#fb9f3a\"],[0.8888888888888888,\"#fdca26\"],[1.0,\"#f0f921\"]]}],\"heatmap\":[{\"type\":\"heatmap\",\"colorbar\":{\"outlinewidth\":0,\"ticks\":\"\"},\"colorscale\":[[0.0,\"#0d0887\"],[0.1111111111111111,\"#46039f\"],[0.2222222222222222,\"#7201a8\"],[0.3333333333333333,\"#9c179e\"],[0.4444444444444444,\"#bd3786\"],[0.5555555555555556,\"#d8576b\"],[0.6666666666666666,\"#ed7953\"],[0.7777777777777778,\"#fb9f3a\"],[0.8888888888888888,\"#fdca26\"],[1.0,\"#f0f921\"]]}],\"heatmapgl\":[{\"type\":\"heatmapgl\",\"colorbar\":{\"outlinewidth\":0,\"ticks\":\"\"},\"colorscale\":[[0.0,\"#0d0887\"],[0.1111111111111111,\"#46039f\"],[0.2222222222222222,\"#7201a8\"],[0.3333333333333333,\"#9c179e\"],[0.4444444444444444,\"#bd3786\"],[0.5555555555555556,\"#d8576b\"],[0.6666666666666666,\"#ed7953\"],[0.7777777777777778,\"#fb9f3a\"],[0.8888888888888888,\"#fdca26\"],[1.0,\"#f0f921\"]]}],\"contourcarpet\":[{\"type\":\"contourcarpet\",\"colorbar\":{\"outlinewidth\":0,\"ticks\":\"\"}}],\"contour\":[{\"type\":\"contour\",\"colorbar\":{\"outlinewidth\":0,\"ticks\":\"\"},\"colorscale\":[[0.0,\"#0d0887\"],[0.1111111111111111,\"#46039f\"],[0.2222222222222222,\"#7201a8\"],[0.3333333333333333,\"#9c179e\"],[0.4444444444444444,\"#bd3786\"],[0.5555555555555556,\"#d8576b\"],[0.6666666666666666,\"#ed7953\"],[0.7777777777777778,\"#fb9f3a\"],[0.8888888888888888,\"#fdca26\"],[1.0,\"#f0f921\"]]}],\"surface\":[{\"type\":\"surface\",\"colorbar\":{\"outlinewidth\":0,\"ticks\":\"\"},\"colorscale\":[[0.0,\"#0d0887\"],[0.1111111111111111,\"#46039f\"],[0.2222222222222222,\"#7201a8\"],[0.3333333333333333,\"#9c179e\"],[0.4444444444444444,\"#bd3786\"],[0.5555555555555556,\"#d8576b\"],[0.6666666666666666,\"#ed7953\"],[0.7777777777777778,\"#fb9f3a\"],[0.8888888888888888,\"#fdca26\"],[1.0,\"#f0f921\"]]}],\"mesh3d\":[{\"type\":\"mesh3d\",\"colorbar\":{\"outlinewidth\":0,\"ticks\":\"\"}}],\"scatter\":[{\"fillpattern\":{\"fillmode\":\"overlay\",\"size\":10,\"solidity\":0.2},\"type\":\"scatter\"}],\"parcoords\":[{\"type\":\"parcoords\",\"line\":{\"colorbar\":{\"outlinewidth\":0,\"ticks\":\"\"}}}],\"scatterpolargl\":[{\"type\":\"scatterpolargl\",\"marker\":{\"colorbar\":{\"outlinewidth\":0,\"ticks\":\"\"}}}],\"bar\":[{\"error_x\":{\"color\":\"#2a3f5f\"},\"error_y\":{\"color\":\"#2a3f5f\"},\"marker\":{\"line\":{\"color\":\"#E5ECF6\",\"width\":0.5},\"pattern\":{\"fillmode\":\"overlay\",\"size\":10,\"solidity\":0.2}},\"type\":\"bar\"}],\"scattergeo\":[{\"type\":\"scattergeo\",\"marker\":{\"colorbar\":{\"outlinewidth\":0,\"ticks\":\"\"}}}],\"scatterpolar\":[{\"type\":\"scatterpolar\",\"marker\":{\"colorbar\":{\"outlinewidth\":0,\"ticks\":\"\"}}}],\"histogram\":[{\"marker\":{\"pattern\":{\"fillmode\":\"overlay\",\"size\":10,\"solidity\":0.2}},\"type\":\"histogram\"}],\"scattergl\":[{\"type\":\"scattergl\",\"marker\":{\"colorbar\":{\"outlinewidth\":0,\"ticks\":\"\"}}}],\"scatter3d\":[{\"type\":\"scatter3d\",\"line\":{\"colorbar\":{\"outlinewidth\":0,\"ticks\":\"\"}},\"marker\":{\"colorbar\":{\"outlinewidth\":0,\"ticks\":\"\"}}}],\"scattermapbox\":[{\"type\":\"scattermapbox\",\"marker\":{\"colorbar\":{\"outlinewidth\":0,\"ticks\":\"\"}}}],\"scatterternary\":[{\"type\":\"scatterternary\",\"marker\":{\"colorbar\":{\"outlinewidth\":0,\"ticks\":\"\"}}}],\"scattercarpet\":[{\"type\":\"scattercarpet\",\"marker\":{\"colorbar\":{\"outlinewidth\":0,\"ticks\":\"\"}}}],\"carpet\":[{\"aaxis\":{\"endlinecolor\":\"#2a3f5f\",\"gridcolor\":\"white\",\"linecolor\":\"white\",\"minorgridcolor\":\"white\",\"startlinecolor\":\"#2a3f5f\"},\"baxis\":{\"endlinecolor\":\"#2a3f5f\",\"gridcolor\":\"white\",\"linecolor\":\"white\",\"minorgridcolor\":\"white\",\"startlinecolor\":\"#2a3f5f\"},\"type\":\"carpet\"}],\"table\":[{\"cells\":{\"fill\":{\"color\":\"#EBF0F8\"},\"line\":{\"color\":\"white\"}},\"header\":{\"fill\":{\"color\":\"#C8D4E3\"},\"line\":{\"color\":\"white\"}},\"type\":\"table\"}],\"barpolar\":[{\"marker\":{\"line\":{\"color\":\"#E5ECF6\",\"width\":0.5},\"pattern\":{\"fillmode\":\"overlay\",\"size\":10,\"solidity\":0.2}},\"type\":\"barpolar\"}],\"pie\":[{\"automargin\":true,\"type\":\"pie\"}]},\"layout\":{\"autotypenumbers\":\"strict\",\"colorway\":[\"#636efa\",\"#EF553B\",\"#00cc96\",\"#ab63fa\",\"#FFA15A\",\"#19d3f3\",\"#FF6692\",\"#B6E880\",\"#FF97FF\",\"#FECB52\"],\"font\":{\"color\":\"#2a3f5f\"},\"hovermode\":\"closest\",\"hoverlabel\":{\"align\":\"left\"},\"paper_bgcolor\":\"white\",\"plot_bgcolor\":\"#E5ECF6\",\"polar\":{\"bgcolor\":\"#E5ECF6\",\"angularaxis\":{\"gridcolor\":\"white\",\"linecolor\":\"white\",\"ticks\":\"\"},\"radialaxis\":{\"gridcolor\":\"white\",\"linecolor\":\"white\",\"ticks\":\"\"}},\"ternary\":{\"bgcolor\":\"#E5ECF6\",\"aaxis\":{\"gridcolor\":\"white\",\"linecolor\":\"white\",\"ticks\":\"\"},\"baxis\":{\"gridcolor\":\"white\",\"linecolor\":\"white\",\"ticks\":\"\"},\"caxis\":{\"gridcolor\":\"white\",\"linecolor\":\"white\",\"ticks\":\"\"}},\"coloraxis\":{\"colorbar\":{\"outlinewidth\":0,\"ticks\":\"\"}},\"colorscale\":{\"sequential\":[[0.0,\"#0d0887\"],[0.1111111111111111,\"#46039f\"],[0.2222222222222222,\"#7201a8\"],[0.3333333333333333,\"#9c179e\"],[0.4444444444444444,\"#bd3786\"],[0.5555555555555556,\"#d8576b\"],[0.6666666666666666,\"#ed7953\"],[0.7777777777777778,\"#fb9f3a\"],[0.8888888888888888,\"#fdca26\"],[1.0,\"#f0f921\"]],\"sequentialminus\":[[0.0,\"#0d0887\"],[0.1111111111111111,\"#46039f\"],[0.2222222222222222,\"#7201a8\"],[0.3333333333333333,\"#9c179e\"],[0.4444444444444444,\"#bd3786\"],[0.5555555555555556,\"#d8576b\"],[0.6666666666666666,\"#ed7953\"],[0.7777777777777778,\"#fb9f3a\"],[0.8888888888888888,\"#fdca26\"],[1.0,\"#f0f921\"]],\"diverging\":[[0,\"#8e0152\"],[0.1,\"#c51b7d\"],[0.2,\"#de77ae\"],[0.3,\"#f1b6da\"],[0.4,\"#fde0ef\"],[0.5,\"#f7f7f7\"],[0.6,\"#e6f5d0\"],[0.7,\"#b8e186\"],[0.8,\"#7fbc41\"],[0.9,\"#4d9221\"],[1,\"#276419\"]]},\"xaxis\":{\"gridcolor\":\"white\",\"linecolor\":\"white\",\"ticks\":\"\",\"title\":{\"standoff\":15},\"zerolinecolor\":\"white\",\"automargin\":true,\"zerolinewidth\":2},\"yaxis\":{\"gridcolor\":\"white\",\"linecolor\":\"white\",\"ticks\":\"\",\"title\":{\"standoff\":15},\"zerolinecolor\":\"white\",\"automargin\":true,\"zerolinewidth\":2},\"scene\":{\"xaxis\":{\"backgroundcolor\":\"#E5ECF6\",\"gridcolor\":\"white\",\"linecolor\":\"white\",\"showbackground\":true,\"ticks\":\"\",\"zerolinecolor\":\"white\",\"gridwidth\":2},\"yaxis\":{\"backgroundcolor\":\"#E5ECF6\",\"gridcolor\":\"white\",\"linecolor\":\"white\",\"showbackground\":true,\"ticks\":\"\",\"zerolinecolor\":\"white\",\"gridwidth\":2},\"zaxis\":{\"backgroundcolor\":\"#E5ECF6\",\"gridcolor\":\"white\",\"linecolor\":\"white\",\"showbackground\":true,\"ticks\":\"\",\"zerolinecolor\":\"white\",\"gridwidth\":2}},\"shapedefaults\":{\"line\":{\"color\":\"#2a3f5f\"}},\"annotationdefaults\":{\"arrowcolor\":\"#2a3f5f\",\"arrowhead\":0,\"arrowwidth\":1},\"geo\":{\"bgcolor\":\"white\",\"landcolor\":\"#E5ECF6\",\"subunitcolor\":\"white\",\"showland\":true,\"showlakes\":true,\"lakecolor\":\"white\"},\"title\":{\"x\":0.05},\"mapbox\":{\"style\":\"light\"}}},\"title\":{\"text\":\"Beer style and avreage score per countries\"},\"geo\":{\"scope\":\"usa\"}},                        {\"responsive\": true}                    ).then(function(){\n",
       "                            \n",
       "var gd = document.getElementById('90c9bb0a-7e0e-40f8-8c9a-8cf3bebffb0f');\n",
       "var x = new MutationObserver(function (mutations, observer) {{\n",
       "        var display = window.getComputedStyle(gd).display;\n",
       "        if (!display || display === 'none') {{\n",
       "            console.log([gd, 'removed!']);\n",
       "            Plotly.purge(gd);\n",
       "            observer.disconnect();\n",
       "        }}\n",
       "}});\n",
       "\n",
       "// Listen for the removal of the full notebook cells\n",
       "var notebookContainer = gd.closest('#notebook-container');\n",
       "if (notebookContainer) {{\n",
       "    x.observe(notebookContainer, {childList: true});\n",
       "}}\n",
       "\n",
       "// Listen for the clearing of the current output cell\n",
       "var outputEl = gd.closest('.output');\n",
       "if (outputEl) {{\n",
       "    x.observe(outputEl, {childList: true});\n",
       "}}\n",
       "\n",
       "                        })                };                });            </script>        </div>"
      ]
     },
     "metadata": {},
     "output_type": "display_data"
    }
   ],
   "source": [
    "generate_map('top_ranked_adv_country.csv', 'test_adv')"
   ]
  },
  {
   "cell_type": "code",
   "execution_count": null,
   "id": "de0327e5",
   "metadata": {},
   "outputs": [],
   "source": []
  },
  {
   "cell_type": "code",
   "execution_count": null,
   "id": "1df2310f",
   "metadata": {},
   "outputs": [],
   "source": []
  },
  {
   "cell_type": "code",
   "execution_count": 5,
   "id": "1c8ca846",
   "metadata": {},
   "outputs": [],
   "source": []
  },
  {
   "cell_type": "code",
   "execution_count": null,
   "id": "ce533be7",
   "metadata": {},
   "outputs": [],
   "source": []
  },
  {
   "cell_type": "code",
   "execution_count": null,
   "id": "633db60f",
   "metadata": {},
   "outputs": [],
   "source": []
  },
  {
   "cell_type": "code",
   "execution_count": null,
   "id": "ad26c180",
   "metadata": {},
   "outputs": [],
   "source": []
  },
  {
   "cell_type": "code",
   "execution_count": null,
   "id": "5e96fc6b",
   "metadata": {},
   "outputs": [],
   "source": []
  },
  {
   "cell_type": "code",
   "execution_count": null,
   "id": "bc02307d",
   "metadata": {},
   "outputs": [],
   "source": []
  }
 ],
 "metadata": {
  "kernelspec": {
   "display_name": "Python 3 (ipykernel)",
   "language": "python",
   "name": "python3"
  },
  "language_info": {
   "codemirror_mode": {
    "name": "ipython",
    "version": 3
   },
   "file_extension": ".py",
   "mimetype": "text/x-python",
   "name": "python",
   "nbconvert_exporter": "python",
   "pygments_lexer": "ipython3",
   "version": "3.9.13"
  }
 },
 "nbformat": 4,
 "nbformat_minor": 5
}
