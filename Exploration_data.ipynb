{
 "cells": [
  {
   "cell_type": "markdown",
   "id": "bcd49682",
   "metadata": {},
   "source": [
    "### Goal: exploration of the dataframe, understand the data"
   ]
  },
  {
   "cell_type": "code",
   "execution_count": 2,
   "id": "32fd7df0",
   "metadata": {},
   "outputs": [],
   "source": [
    "import pandas as pd\n",
    "import numpy as np\n",
    "import matplotlib.pyplot as plt\n"
   ]
  },
  {
   "cell_type": "code",
   "execution_count": 3,
   "id": "06038314",
   "metadata": {},
   "outputs": [],
   "source": [
    "DATASET_BEERADVOCATE = 'DATA/BeerAdvocate/'\n",
    "DATASET_MATCHEDBEER = 'DATA/matched_beer_data/'\n",
    "DATASET_RATEBEER = 'DATA/RateBeer/'"
   ]
  },
  {
   "cell_type": "code",
   "execution_count": 22,
   "id": "6ffe98b8",
   "metadata": {},
   "outputs": [
    {
     "name": "stdout",
     "output_type": "stream",
     "text": [
      "shape of all datasets: \n",
      " beer (280823, 15) \n",
      " breweries (16758, 4) \n",
      " users (153704, 6)\n"
     ]
    }
   ],
   "source": [
    "df_adv_beer = pd.read_csv(DATASET_BEERADVOCATE + 'beers.csv')\n",
    "df_adv_breweries = pd.read_csv(DATASET_BEERADVOCATE + 'breweries.csv')\n",
    "df_adv_users = pd.read_csv(DATASET_BEERADVOCATE + 'users.csv')\n",
    "\n",
    "print('shape of all datasets: \\n',\n",
    "     'beer',df_adv_beer.shape,'\\n',\n",
    "     'breweries',df_adv_breweries.shape,'\\n',\n",
    "     'users',df_adv_users.shape)"
   ]
  },
  {
   "cell_type": "code",
   "execution_count": 9,
   "id": "9d4bf1c4",
   "metadata": {},
   "outputs": [
    {
     "data": {
      "text/plain": [
       "['beer_id',\n",
       " 'beer_name',\n",
       " 'brewery_id',\n",
       " 'brewery_name',\n",
       " 'style',\n",
       " 'nbr_ratings',\n",
       " 'nbr_reviews',\n",
       " 'avg',\n",
       " 'ba_score',\n",
       " 'bros_score',\n",
       " 'abv',\n",
       " 'avg_computed',\n",
       " 'zscore',\n",
       " 'nbr_matched_valid_ratings',\n",
       " 'avg_matched_valid_ratings']"
      ]
     },
     "execution_count": 9,
     "metadata": {},
     "output_type": "execute_result"
    }
   ],
   "source": [
    "df_adv_beer.columns.tolist()"
   ]
  },
  {
   "cell_type": "code",
   "execution_count": 10,
   "id": "a7d6047d",
   "metadata": {},
   "outputs": [
    {
     "data": {
      "text/plain": [
       "beer_id                      0.000000\n",
       "beer_name                    0.000000\n",
       "brewery_id                   0.000000\n",
       "brewery_name                 0.000000\n",
       "style                        0.000000\n",
       "nbr_ratings                  0.000000\n",
       "nbr_reviews                  0.000000\n",
       "avg                          0.116903\n",
       "ba_score                     0.782069\n",
       "bros_score                   0.979695\n",
       "abv                          0.128280\n",
       "avg_computed                 0.116946\n",
       "zscore                       0.856547\n",
       "nbr_matched_valid_ratings    0.000000\n",
       "avg_matched_valid_ratings    0.899324\n",
       "dtype: float64"
      ]
     },
     "execution_count": 10,
     "metadata": {},
     "output_type": "execute_result"
    }
   ],
   "source": [
    "df_adv_beer.isna().sum()/df_adv_beer.shape[0]"
   ]
  },
  {
   "cell_type": "code",
   "execution_count": 15,
   "id": "740da950",
   "metadata": {},
   "outputs": [
    {
     "data": {
      "text/plain": [
       "id           0.0\n",
       "location     0.0\n",
       "name         0.0\n",
       "nbr_beers    0.0\n",
       "dtype: float64"
      ]
     },
     "execution_count": 15,
     "metadata": {},
     "output_type": "execute_result"
    }
   ],
   "source": [
    "df_adv_breweries.isna().sum()/df_adv_breweries.shape[0]"
   ]
  },
  {
   "cell_type": "code",
   "execution_count": 16,
   "id": "6be0d17c",
   "metadata": {},
   "outputs": [
    {
     "data": {
      "text/plain": [
       "nbr_ratings    0.000000\n",
       "nbr_reviews    0.000000\n",
       "user_id        0.000000\n",
       "user_name      0.000007\n",
       "joined         0.017254\n",
       "location       0.203502\n",
       "dtype: float64"
      ]
     },
     "execution_count": 16,
     "metadata": {},
     "output_type": "execute_result"
    }
   ],
   "source": [
    "df_adv_users.isna().sum()/df_adv_users.shape[0]"
   ]
  },
  {
   "cell_type": "code",
   "execution_count": null,
   "id": "d7084378",
   "metadata": {},
   "outputs": [],
   "source": []
  }
 ],
 "metadata": {
  "kernelspec": {
   "display_name": "Python 3",
   "language": "python",
   "name": "python3"
  },
  "language_info": {
   "codemirror_mode": {
    "name": "ipython",
    "version": 3
   },
   "file_extension": ".py",
   "mimetype": "text/x-python",
   "name": "python",
   "nbconvert_exporter": "python",
   "pygments_lexer": "ipython3",
   "version": "3.8.8"
  }
 },
 "nbformat": 4,
 "nbformat_minor": 5
}
