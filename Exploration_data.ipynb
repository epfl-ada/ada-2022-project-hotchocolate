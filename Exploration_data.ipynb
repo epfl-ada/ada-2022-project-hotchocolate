{
 "cells": [
  {
   "cell_type": "markdown",
   "id": "66d5d02d",
   "metadata": {},
   "source": [
    "### Goal: exploration of the dataframe, understand the data"
   ]
  },
  {
   "cell_type": "code",
   "execution_count": 36,
   "id": "32fd7df0",
   "metadata": {},
   "outputs": [],
   "source": [
    "import pandas as pd\n",
    "import numpy as np\n",
    "import seaborn as sns\n",
    "import matplotlib.pyplot as plt\n"
   ]
  },
  {
   "cell_type": "code",
   "execution_count": 3,
   "id": "06038314",
   "metadata": {},
   "outputs": [],
   "source": [
    "DATASET_BEERADVOCATE = 'DATA/BeerAdvocate/'\n",
    "DATASET_MATCHEDBEER = 'DATA/matched_beer_data/'\n",
    "DATASET_RATEBEER = 'DATA/RateBeer/'"
   ]
  },
  {
   "cell_type": "code",
   "execution_count": 22,
   "id": "6ffe98b8",
   "metadata": {},
   "outputs": [
    {
     "name": "stdout",
     "output_type": "stream",
     "text": [
      "shape of all datasets: \n",
      " beer (280823, 15) \n",
      " breweries (16758, 4) \n",
      " users (153704, 6)\n"
     ]
    }
   ],
   "source": [
    "df_adv_beer = pd.read_csv(DATASET_BEERADVOCATE + 'beers.csv')\n",
    "df_adv_breweries = pd.read_csv(DATASET_BEERADVOCATE + 'breweries.csv')\n",
    "df_adv_users = pd.read_csv(DATASET_BEERADVOCATE + 'users.csv')\n",
    "\n",
    "print('shape of all datasets: \\n',\n",
    "     'beer',df_adv_beer.shape,'\\n',\n",
    "     'breweries',df_adv_breweries.shape,'\\n',\n",
    "     'users',df_adv_users.shape)"
   ]
  },
  {
   "cell_type": "code",
   "execution_count": 30,
   "id": "584a50a5",
   "metadata": {},
   "outputs": [
    {
     "data": {
      "text/html": [
       "<div>\n",
       "<style scoped>\n",
       "    .dataframe tbody tr th:only-of-type {\n",
       "        vertical-align: middle;\n",
       "    }\n",
       "\n",
       "    .dataframe tbody tr th {\n",
       "        vertical-align: top;\n",
       "    }\n",
       "\n",
       "    .dataframe thead th {\n",
       "        text-align: right;\n",
       "    }\n",
       "</style>\n",
       "<table border=\"1\" class=\"dataframe\">\n",
       "  <thead>\n",
       "    <tr style=\"text-align: right;\">\n",
       "      <th></th>\n",
       "      <th>beer_id</th>\n",
       "      <th>beer_name</th>\n",
       "      <th>brewery_id</th>\n",
       "      <th>brewery_name</th>\n",
       "      <th>style</th>\n",
       "      <th>nbr_ratings</th>\n",
       "      <th>nbr_reviews</th>\n",
       "      <th>avg</th>\n",
       "      <th>ba_score</th>\n",
       "      <th>bros_score</th>\n",
       "      <th>abv</th>\n",
       "      <th>avg_computed</th>\n",
       "      <th>zscore</th>\n",
       "      <th>nbr_matched_valid_ratings</th>\n",
       "      <th>avg_matched_valid_ratings</th>\n",
       "    </tr>\n",
       "  </thead>\n",
       "  <tbody>\n",
       "    <tr>\n",
       "      <th>279468</th>\n",
       "      <td>158590</td>\n",
       "      <td>Belgian CocoNorm</td>\n",
       "      <td>21593</td>\n",
       "      <td>Thirsty Monk</td>\n",
       "      <td>American Porter</td>\n",
       "      <td>5</td>\n",
       "      <td>1</td>\n",
       "      <td>3.24</td>\n",
       "      <td>NaN</td>\n",
       "      <td>NaN</td>\n",
       "      <td>6.4</td>\n",
       "      <td>3.718000</td>\n",
       "      <td>NaN</td>\n",
       "      <td>0</td>\n",
       "      <td>NaN</td>\n",
       "    </tr>\n",
       "    <tr>\n",
       "      <th>267122</th>\n",
       "      <td>163943</td>\n",
       "      <td>Blanche Aux Fruits Rouges</td>\n",
       "      <td>18844</td>\n",
       "      <td>Brasserie Artisanale du Val D'Ainan</td>\n",
       "      <td>Fruit / Vegetable Beer</td>\n",
       "      <td>0</td>\n",
       "      <td>0</td>\n",
       "      <td>NaN</td>\n",
       "      <td>NaN</td>\n",
       "      <td>NaN</td>\n",
       "      <td>5.5</td>\n",
       "      <td>NaN</td>\n",
       "      <td>NaN</td>\n",
       "      <td>0</td>\n",
       "      <td>NaN</td>\n",
       "    </tr>\n",
       "    <tr>\n",
       "      <th>14974</th>\n",
       "      <td>258051</td>\n",
       "      <td>Citra Double IPA</td>\n",
       "      <td>25618</td>\n",
       "      <td>La Succursale Brasserie Artisanale</td>\n",
       "      <td>American Double / Imperial IPA</td>\n",
       "      <td>1</td>\n",
       "      <td>0</td>\n",
       "      <td>4.00</td>\n",
       "      <td>NaN</td>\n",
       "      <td>NaN</td>\n",
       "      <td>7.2</td>\n",
       "      <td>4.000000</td>\n",
       "      <td>NaN</td>\n",
       "      <td>0</td>\n",
       "      <td>NaN</td>\n",
       "    </tr>\n",
       "    <tr>\n",
       "      <th>109739</th>\n",
       "      <td>45417</td>\n",
       "      <td>Fisherman's Dunkelweizen</td>\n",
       "      <td>8325</td>\n",
       "      <td>Cape Ann Brewing Company</td>\n",
       "      <td>Dunkelweizen</td>\n",
       "      <td>0</td>\n",
       "      <td>0</td>\n",
       "      <td>NaN</td>\n",
       "      <td>NaN</td>\n",
       "      <td>NaN</td>\n",
       "      <td>7.0</td>\n",
       "      <td>NaN</td>\n",
       "      <td>NaN</td>\n",
       "      <td>0</td>\n",
       "      <td>NaN</td>\n",
       "    </tr>\n",
       "    <tr>\n",
       "      <th>121437</th>\n",
       "      <td>37567</td>\n",
       "      <td>Dark Stout</td>\n",
       "      <td>14359</td>\n",
       "      <td>The Defiant Brewing Company</td>\n",
       "      <td>Milk / Sweet Stout</td>\n",
       "      <td>3</td>\n",
       "      <td>1</td>\n",
       "      <td>4.06</td>\n",
       "      <td>NaN</td>\n",
       "      <td>NaN</td>\n",
       "      <td>NaN</td>\n",
       "      <td>4.023333</td>\n",
       "      <td>NaN</td>\n",
       "      <td>0</td>\n",
       "      <td>NaN</td>\n",
       "    </tr>\n",
       "  </tbody>\n",
       "</table>\n",
       "</div>"
      ],
      "text/plain": [
       "        beer_id                  beer_name  brewery_id  \\\n",
       "279468   158590           Belgian CocoNorm       21593   \n",
       "267122   163943  Blanche Aux Fruits Rouges       18844   \n",
       "14974    258051           Citra Double IPA       25618   \n",
       "109739    45417   Fisherman's Dunkelweizen        8325   \n",
       "121437    37567                 Dark Stout       14359   \n",
       "\n",
       "                               brewery_name                           style  \\\n",
       "279468                         Thirsty Monk                 American Porter   \n",
       "267122  Brasserie Artisanale du Val D'Ainan          Fruit / Vegetable Beer   \n",
       "14974    La Succursale Brasserie Artisanale  American Double / Imperial IPA   \n",
       "109739             Cape Ann Brewing Company                    Dunkelweizen   \n",
       "121437          The Defiant Brewing Company              Milk / Sweet Stout   \n",
       "\n",
       "        nbr_ratings  nbr_reviews   avg  ba_score  bros_score  abv  \\\n",
       "279468            5            1  3.24       NaN         NaN  6.4   \n",
       "267122            0            0   NaN       NaN         NaN  5.5   \n",
       "14974             1            0  4.00       NaN         NaN  7.2   \n",
       "109739            0            0   NaN       NaN         NaN  7.0   \n",
       "121437            3            1  4.06       NaN         NaN  NaN   \n",
       "\n",
       "        avg_computed  zscore  nbr_matched_valid_ratings  \\\n",
       "279468      3.718000     NaN                          0   \n",
       "267122           NaN     NaN                          0   \n",
       "14974       4.000000     NaN                          0   \n",
       "109739           NaN     NaN                          0   \n",
       "121437      4.023333     NaN                          0   \n",
       "\n",
       "        avg_matched_valid_ratings  \n",
       "279468                        NaN  \n",
       "267122                        NaN  \n",
       "14974                         NaN  \n",
       "109739                        NaN  \n",
       "121437                        NaN  "
      ]
     },
     "execution_count": 30,
     "metadata": {},
     "output_type": "execute_result"
    }
   ],
   "source": [
    "df_adv_beer.sample(5)"
   ]
  },
  {
   "cell_type": "code",
   "execution_count": 34,
   "id": "9d4bf1c4",
   "metadata": {},
   "outputs": [
    {
     "data": {
      "text/plain": [
       "float64    7\n",
       "int64      5\n",
       "object     3\n",
       "dtype: int64"
      ]
     },
     "execution_count": 34,
     "metadata": {},
     "output_type": "execute_result"
    }
   ],
   "source": [
    "df_adv_beer.dtypes.value_counts()"
   ]
  },
  {
   "cell_type": "code",
   "execution_count": 38,
   "id": "a84525a6",
   "metadata": {},
   "outputs": [
    {
     "data": {
      "text/plain": [
       "<AxesSubplot:>"
      ]
     },
     "execution_count": 38,
     "metadata": {},
     "output_type": "execute_result"
    },
    {
     "data": {
      "image/png": "[encoded data removed]",
      "text/plain": [
       "<Figure size 1080x720 with 1 Axes>"
      ]
     },
     "metadata": {
      "needs_background": "light"
     },
     "output_type": "display_data"
    }
   ],
   "source": [
    "plt.figure(figsize=(15,10))\n",
    "sns.heatmap(df_adv_beer.isna(), cbar=False)"
   ]
  },
  {
   "cell_type": "code",
   "execution_count": 39,
   "id": "186507e4",
   "metadata": {},
   "outputs": [
    {
     "data": {
      "text/plain": [
       "beer_id                      0.000000\n",
       "beer_name                    0.000000\n",
       "brewery_id                   0.000000\n",
       "brewery_name                 0.000000\n",
       "style                        0.000000\n",
       "nbr_ratings                  0.000000\n",
       "nbr_reviews                  0.000000\n",
       "nbr_matched_valid_ratings    0.000000\n",
       "avg                          0.116903\n",
       "avg_computed                 0.116946\n",
       "abv                          0.128280\n",
       "ba_score                     0.782069\n",
       "zscore                       0.856547\n",
       "avg_matched_valid_ratings    0.899324\n",
       "bros_score                   0.979695\n",
       "dtype: float64"
      ]
     },
     "execution_count": 39,
     "metadata": {},
     "output_type": "execute_result"
    }
   ],
   "source": [
    "(df_adv_beer.isna().sum()/df_adv_beer.shape[0]).sort_values(ascending=True)"
   ]
  },
  {
   "cell_type": "code",
   "execution_count": 42,
   "id": "a4714c8f",
   "metadata": {},
   "outputs": [
    {
     "data": {
      "text/plain": [
       "(16758, 4)"
      ]
     },
     "execution_count": 42,
     "metadata": {},
     "output_type": "execute_result"
    }
   ],
   "source": [
    "df_adv_breweries.shape"
   ]
  },
  {
   "cell_type": "code",
   "execution_count": 41,
   "id": "6b9fd33e",
   "metadata": {},
   "outputs": [
    {
     "data": {
      "text/plain": [
       "id            int64\n",
       "location     object\n",
       "name         object\n",
       "nbr_beers     int64\n",
       "dtype: object"
      ]
     },
     "execution_count": 41,
     "metadata": {},
     "output_type": "execute_result"
    }
   ],
   "source": [
    "df_adv_breweries.dtypes"
   ]
  },
  {
   "cell_type": "code",
   "execution_count": 15,
   "id": "a7fd5ec1",
   "metadata": {},
   "outputs": [
    {
     "data": {
      "text/plain": [
       "id           0.0\n",
       "location     0.0\n",
       "name         0.0\n",
       "nbr_beers    0.0\n",
       "dtype: float64"
      ]
     },
     "execution_count": 15,
     "metadata": {},
     "output_type": "execute_result"
    }
   ],
   "source": [
    "df_adv_breweries.isna().sum()/df_adv_breweries.shape[0]"
   ]
  },
  {
   "cell_type": "code",
   "execution_count": 43,
   "id": "1f67887c",
   "metadata": {},
   "outputs": [
    {
     "data": {
      "text/plain": [
       "(153704, 6)"
      ]
     },
     "execution_count": 43,
     "metadata": {},
     "output_type": "execute_result"
    }
   ],
   "source": [
    "df_adv_users.shape"
   ]
  },
  {
   "cell_type": "code",
   "execution_count": 46,
   "id": "122d13ef",
   "metadata": {},
   "outputs": [
    {
     "data": {
      "text/plain": [
       "nbr_ratings      int64\n",
       "nbr_reviews      int64\n",
       "user_id         object\n",
       "user_name       object\n",
       "joined         float64\n",
       "location        object\n",
       "dtype: object"
      ]
     },
     "execution_count": 46,
     "metadata": {},
     "output_type": "execute_result"
    }
   ],
   "source": [
    "df_adv_users.dtypes"
   ]
  },
  {
   "cell_type": "code",
   "execution_count": 16,
   "id": "13e59454",
   "metadata": {},
   "outputs": [
    {
     "data": {
      "text/plain": [
       "nbr_ratings    0.000000\n",
       "nbr_reviews    0.000000\n",
       "user_id        0.000000\n",
       "user_name      0.000007\n",
       "joined         0.017254\n",
       "location       0.203502\n",
       "dtype: float64"
      ]
     },
     "execution_count": 16,
     "metadata": {},
     "output_type": "execute_result"
    }
   ],
   "source": [
    "df_adv_users.isna().sum()/df_adv_users.shape[0]"
   ]
  },
  {
   "cell_type": "code",
   "execution_count": 47,
   "id": "be80bfda",
   "metadata": {},
   "outputs": [
    {
     "data": {
      "text/plain": [
       "<AxesSubplot:>"
      ]
     },
     "execution_count": 47,
     "metadata": {},
     "output_type": "execute_result"
    },
    {
     "data": {
      "image/png": "[encoded data removed]",
      "text/plain": [
       "<Figure size 432x288 with 1 Axes>"
      ]
     },
     "metadata": {
      "needs_background": "light"
     },
     "output_type": "display_data"
    }
   ],
   "source": [
    "sns.heatmap(df_adv_users.isna(), cbar=False)"
   ]
  },
  {
   "cell_type": "code",
   "execution_count": null,
   "id": "91ad1585",
   "metadata": {},
   "outputs": [],
   "source": []
  }
 ],
 "metadata": {
  "kernelspec": {
   "display_name": "Python 3",
   "language": "python",
   "name": "python3"
  },
  "language_info": {
   "codemirror_mode": {
    "name": "ipython",
    "version": 3
   },
   "file_extension": ".py",
   "mimetype": "text/x-python",
   "name": "python",
   "nbconvert_exporter": "python",
   "pygments_lexer": "ipython3",
   "version": "3.8.8"
  }
 },
 "nbformat": 4,
 "nbformat_minor": 5
}
