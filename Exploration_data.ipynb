{
 "cells": [
  {
   "cell_type": "markdown",
   "id": "66d5d02d",
   "metadata": {},
   "source": [
    "### Goal: exploration of the dataframe, understand the data"
   ]
  },
  {
   "cell_type": "code",
   "execution_count": 1,
   "id": "32fd7df0",
   "metadata": {},
   "outputs": [],
   "source": [
    "import pandas as pd\n",
    "import numpy as np\n",
    "import seaborn as sns\n",
    "import matplotlib.pyplot as plt\n"
   ]
  },
  {
   "cell_type": "code",
   "execution_count": 20,
   "id": "a8bd04d1",
   "metadata": {},
   "outputs": [],
   "source": [
    "pd.set_option('display.max_rows', None)\n",
    "pd.set_option('display.max_columns', None)\n",
    "pd.set_option('display.width', None)\n",
    "pd.set_option('display.max_colwidth', None)"
   ]
  },
  {
   "cell_type": "code",
   "execution_count": 3,
   "id": "06038314",
   "metadata": {},
   "outputs": [],
   "source": [
    "DATASET_BEERADVOCATE = 'DATA/BeerAdvocate/'\n",
    "DATASET_MATCHEDBEER = 'DATA/matched_beer_data/'\n",
    "DATASET_RATEBEER = 'DATA/RateBeer/'"
   ]
  },
  {
   "cell_type": "code",
   "execution_count": 4,
   "id": "6ffe98b8",
   "metadata": {},
   "outputs": [
    {
     "name": "stdout",
     "output_type": "stream",
     "text": [
      "shape of all datasets: \n",
      " beer (280823, 15) \n",
      " breweries (16758, 4) \n",
      " users (153704, 6)\n"
     ]
    }
   ],
   "source": [
    "df_adv_beer = pd.read_csv(DATASET_BEERADVOCATE + 'beers.csv')\n",
    "df_adv_breweries = pd.read_csv(DATASET_BEERADVOCATE + 'breweries.csv')\n",
    "df_adv_users = pd.read_csv(DATASET_BEERADVOCATE + 'users.csv')\n",
    "\n",
    "print('shape of all datasets: \\n',\n",
    "     'beer',df_adv_beer.shape,'\\n',\n",
    "     'breweries',df_adv_breweries.shape,'\\n',\n",
    "     'users',df_adv_users.shape)"
   ]
  },
  {
   "cell_type": "markdown",
   "id": "dce7e071",
   "metadata": {},
   "source": [
    "## Exploration of the datasets "
   ]
  },
  {
   "cell_type": "code",
   "execution_count": 5,
   "id": "584a50a5",
   "metadata": {},
   "outputs": [
    {
     "data": {
      "text/html": [
       "<div>\n",
       "<style scoped>\n",
       "    .dataframe tbody tr th:only-of-type {\n",
       "        vertical-align: middle;\n",
       "    }\n",
       "\n",
       "    .dataframe tbody tr th {\n",
       "        vertical-align: top;\n",
       "    }\n",
       "\n",
       "    .dataframe thead th {\n",
       "        text-align: right;\n",
       "    }\n",
       "</style>\n",
       "<table border=\"1\" class=\"dataframe\">\n",
       "  <thead>\n",
       "    <tr style=\"text-align: right;\">\n",
       "      <th></th>\n",
       "      <th>beer_id</th>\n",
       "      <th>beer_name</th>\n",
       "      <th>brewery_id</th>\n",
       "      <th>brewery_name</th>\n",
       "      <th>style</th>\n",
       "      <th>nbr_ratings</th>\n",
       "      <th>nbr_reviews</th>\n",
       "      <th>avg</th>\n",
       "      <th>ba_score</th>\n",
       "      <th>bros_score</th>\n",
       "      <th>abv</th>\n",
       "      <th>avg_computed</th>\n",
       "      <th>zscore</th>\n",
       "      <th>nbr_matched_valid_ratings</th>\n",
       "      <th>avg_matched_valid_ratings</th>\n",
       "    </tr>\n",
       "  </thead>\n",
       "  <tbody>\n",
       "    <tr>\n",
       "      <th>226759</th>\n",
       "      <td>104475</td>\n",
       "      <td>Meyer May's Saison</td>\n",
       "      <td>30229</td>\n",
       "      <td>Grand Rapids Brewing Company</td>\n",
       "      <td>Saison / Farmhouse Ale</td>\n",
       "      <td>2</td>\n",
       "      <td>1</td>\n",
       "      <td>3.92</td>\n",
       "      <td>NaN</td>\n",
       "      <td>NaN</td>\n",
       "      <td>8.0</td>\n",
       "      <td>3.76</td>\n",
       "      <td>NaN</td>\n",
       "      <td>0</td>\n",
       "      <td>NaN</td>\n",
       "    </tr>\n",
       "    <tr>\n",
       "      <th>276080</th>\n",
       "      <td>58942</td>\n",
       "      <td>Test Batch#1: An Amercian Pale Ale</td>\n",
       "      <td>21841</td>\n",
       "      <td>Craggie Brewing Company</td>\n",
       "      <td>American Pale Ale (APA)</td>\n",
       "      <td>1</td>\n",
       "      <td>1</td>\n",
       "      <td>3.80</td>\n",
       "      <td>NaN</td>\n",
       "      <td>NaN</td>\n",
       "      <td>4.2</td>\n",
       "      <td>3.80</td>\n",
       "      <td>NaN</td>\n",
       "      <td>0</td>\n",
       "      <td>NaN</td>\n",
       "    </tr>\n",
       "    <tr>\n",
       "      <th>761</th>\n",
       "      <td>21273</td>\n",
       "      <td>Good King Leglass</td>\n",
       "      <td>323</td>\n",
       "      <td>Harviestoun Brewery Ltd.</td>\n",
       "      <td>Extra Special / Strong Bitter (ESB)</td>\n",
       "      <td>2</td>\n",
       "      <td>2</td>\n",
       "      <td>4.23</td>\n",
       "      <td>NaN</td>\n",
       "      <td>NaN</td>\n",
       "      <td>4.5</td>\n",
       "      <td>4.23</td>\n",
       "      <td>NaN</td>\n",
       "      <td>0</td>\n",
       "      <td>NaN</td>\n",
       "    </tr>\n",
       "    <tr>\n",
       "      <th>206305</th>\n",
       "      <td>237494</td>\n",
       "      <td>Mariana Trench - Rum Barrel Aged</td>\n",
       "      <td>27077</td>\n",
       "      <td>Due South Brewing Co.</td>\n",
       "      <td>American Double / Imperial Stout</td>\n",
       "      <td>4</td>\n",
       "      <td>0</td>\n",
       "      <td>4.23</td>\n",
       "      <td>NaN</td>\n",
       "      <td>NaN</td>\n",
       "      <td>9.8</td>\n",
       "      <td>4.23</td>\n",
       "      <td>NaN</td>\n",
       "      <td>0</td>\n",
       "      <td>NaN</td>\n",
       "    </tr>\n",
       "    <tr>\n",
       "      <th>265372</th>\n",
       "      <td>131531</td>\n",
       "      <td>Sour Tan</td>\n",
       "      <td>15237</td>\n",
       "      <td>De Struise Brouwers</td>\n",
       "      <td>Flanders Oud Bruin</td>\n",
       "      <td>2</td>\n",
       "      <td>0</td>\n",
       "      <td>3.75</td>\n",
       "      <td>NaN</td>\n",
       "      <td>NaN</td>\n",
       "      <td>5.0</td>\n",
       "      <td>3.75</td>\n",
       "      <td>-0.259806</td>\n",
       "      <td>0</td>\n",
       "      <td>NaN</td>\n",
       "    </tr>\n",
       "  </tbody>\n",
       "</table>\n",
       "</div>"
      ],
      "text/plain": [
       "        beer_id                           beer_name  brewery_id  \\\n",
       "226759   104475                  Meyer May's Saison       30229   \n",
       "276080    58942  Test Batch#1: An Amercian Pale Ale       21841   \n",
       "761       21273                   Good King Leglass         323   \n",
       "206305   237494    Mariana Trench - Rum Barrel Aged       27077   \n",
       "265372   131531                            Sour Tan       15237   \n",
       "\n",
       "                        brewery_name                                style  \\\n",
       "226759  Grand Rapids Brewing Company               Saison / Farmhouse Ale   \n",
       "276080       Craggie Brewing Company              American Pale Ale (APA)   \n",
       "761         Harviestoun Brewery Ltd.  Extra Special / Strong Bitter (ESB)   \n",
       "206305         Due South Brewing Co.     American Double / Imperial Stout   \n",
       "265372           De Struise Brouwers                   Flanders Oud Bruin   \n",
       "\n",
       "        nbr_ratings  nbr_reviews   avg  ba_score  bros_score  abv  \\\n",
       "226759            2            1  3.92       NaN         NaN  8.0   \n",
       "276080            1            1  3.80       NaN         NaN  4.2   \n",
       "761               2            2  4.23       NaN         NaN  4.5   \n",
       "206305            4            0  4.23       NaN         NaN  9.8   \n",
       "265372            2            0  3.75       NaN         NaN  5.0   \n",
       "\n",
       "        avg_computed    zscore  nbr_matched_valid_ratings  \\\n",
       "226759          3.76       NaN                          0   \n",
       "276080          3.80       NaN                          0   \n",
       "761             4.23       NaN                          0   \n",
       "206305          4.23       NaN                          0   \n",
       "265372          3.75 -0.259806                          0   \n",
       "\n",
       "        avg_matched_valid_ratings  \n",
       "226759                        NaN  \n",
       "276080                        NaN  \n",
       "761                           NaN  \n",
       "206305                        NaN  \n",
       "265372                        NaN  "
      ]
     },
     "execution_count": 5,
     "metadata": {},
     "output_type": "execute_result"
    }
   ],
   "source": [
    "df_adv_beer.sample(5)"
   ]
  },
  {
   "cell_type": "code",
   "execution_count": 6,
   "id": "9d4bf1c4",
   "metadata": {},
   "outputs": [
    {
     "data": {
      "text/plain": [
       "float64    7\n",
       "int64      5\n",
       "object     3\n",
       "dtype: int64"
      ]
     },
     "execution_count": 6,
     "metadata": {},
     "output_type": "execute_result"
    }
   ],
   "source": [
    "df_adv_beer.dtypes.value_counts()"
   ]
  },
  {
   "cell_type": "code",
   "execution_count": 7,
   "id": "a84525a6",
   "metadata": {},
   "outputs": [
    {
     "data": {
      "text/plain": [
       "<AxesSubplot:>"
      ]
     },
     "execution_count": 7,
     "metadata": {},
     "output_type": "execute_result"
    },
    {
     "data": {
      "image/png": "[encoded data removed]",
      "text/plain": [
       "<Figure size 1080x720 with 1 Axes>"
      ]
     },
     "metadata": {
      "needs_background": "light"
     },
     "output_type": "display_data"
    }
   ],
   "source": [
    "plt.figure(figsize=(15,10))\n",
    "sns.heatmap(df_adv_beer.isna(), cbar=False)"
   ]
  },
  {
   "cell_type": "code",
   "execution_count": 8,
   "id": "186507e4",
   "metadata": {},
   "outputs": [
    {
     "data": {
      "text/plain": [
       "beer_id                      0.000000\n",
       "beer_name                    0.000000\n",
       "brewery_id                   0.000000\n",
       "brewery_name                 0.000000\n",
       "style                        0.000000\n",
       "nbr_ratings                  0.000000\n",
       "nbr_reviews                  0.000000\n",
       "nbr_matched_valid_ratings    0.000000\n",
       "avg                          0.116903\n",
       "avg_computed                 0.116946\n",
       "abv                          0.128280\n",
       "ba_score                     0.782069\n",
       "zscore                       0.856547\n",
       "avg_matched_valid_ratings    0.899324\n",
       "bros_score                   0.979695\n",
       "dtype: float64"
      ]
     },
     "execution_count": 8,
     "metadata": {},
     "output_type": "execute_result"
    }
   ],
   "source": [
    "(df_adv_beer.isna().sum()/df_adv_beer.shape[0]).sort_values(ascending=True)"
   ]
  },
  {
   "cell_type": "code",
   "execution_count": 9,
   "id": "a4714c8f",
   "metadata": {},
   "outputs": [
    {
     "data": {
      "text/plain": [
       "(16758, 4)"
      ]
     },
     "execution_count": 9,
     "metadata": {},
     "output_type": "execute_result"
    }
   ],
   "source": [
    "df_adv_breweries.shape"
   ]
  },
  {
   "cell_type": "code",
   "execution_count": 10,
   "id": "6b9fd33e",
   "metadata": {},
   "outputs": [
    {
     "data": {
      "text/plain": [
       "id            int64\n",
       "location     object\n",
       "name         object\n",
       "nbr_beers     int64\n",
       "dtype: object"
      ]
     },
     "execution_count": 10,
     "metadata": {},
     "output_type": "execute_result"
    }
   ],
   "source": [
    "df_adv_breweries.dtypes"
   ]
  },
  {
   "cell_type": "code",
   "execution_count": 11,
   "id": "a7fd5ec1",
   "metadata": {},
   "outputs": [
    {
     "data": {
      "text/plain": [
       "id           0.0\n",
       "location     0.0\n",
       "name         0.0\n",
       "nbr_beers    0.0\n",
       "dtype: float64"
      ]
     },
     "execution_count": 11,
     "metadata": {},
     "output_type": "execute_result"
    }
   ],
   "source": [
    "df_adv_breweries.isna().sum()/df_adv_breweries.shape[0]"
   ]
  },
  {
   "cell_type": "code",
   "execution_count": 12,
   "id": "1f67887c",
   "metadata": {},
   "outputs": [
    {
     "data": {
      "text/plain": [
       "(153704, 6)"
      ]
     },
     "execution_count": 12,
     "metadata": {},
     "output_type": "execute_result"
    }
   ],
   "source": [
    "df_adv_users.shape"
   ]
  },
  {
   "cell_type": "code",
   "execution_count": 13,
   "id": "122d13ef",
   "metadata": {},
   "outputs": [
    {
     "data": {
      "text/plain": [
       "nbr_ratings      int64\n",
       "nbr_reviews      int64\n",
       "user_id         object\n",
       "user_name       object\n",
       "joined         float64\n",
       "location        object\n",
       "dtype: object"
      ]
     },
     "execution_count": 13,
     "metadata": {},
     "output_type": "execute_result"
    }
   ],
   "source": [
    "df_adv_users.dtypes"
   ]
  },
  {
   "cell_type": "code",
   "execution_count": 14,
   "id": "13e59454",
   "metadata": {},
   "outputs": [
    {
     "data": {
      "text/plain": [
       "nbr_ratings    0.000000\n",
       "nbr_reviews    0.000000\n",
       "user_id        0.000000\n",
       "user_name      0.000007\n",
       "joined         0.017254\n",
       "location       0.203502\n",
       "dtype: float64"
      ]
     },
     "execution_count": 14,
     "metadata": {},
     "output_type": "execute_result"
    }
   ],
   "source": [
    "df_adv_users.isna().sum()/df_adv_users.shape[0]"
   ]
  },
  {
   "cell_type": "code",
   "execution_count": 15,
   "id": "be80bfda",
   "metadata": {},
   "outputs": [
    {
     "data": {
      "text/plain": [
       "<AxesSubplot:>"
      ]
     },
     "execution_count": 15,
     "metadata": {},
     "output_type": "execute_result"
    },
    {
     "data": {
      "image/png": "[encoded data removed]",
      "text/plain": [
       "<Figure size 432x288 with 1 Axes>"
      ]
     },
     "metadata": {
      "needs_background": "light"
     },
     "output_type": "display_data"
    }
   ],
   "source": [
    "sns.heatmap(df_adv_users.isna(), cbar=False)"
   ]
  },
  {
   "cell_type": "markdown",
   "id": "06c666a9",
   "metadata": {},
   "source": [
    "### Background Analysis"
   ]
  },
  {
   "cell_type": "code",
   "execution_count": 35,
   "id": "91ad1585",
   "metadata": {},
   "outputs": [],
   "source": [
    "# Drop all columns with more than 78% of nan values\n",
    "\n",
    "df_adv_beer = df_adv_beer[df_adv_beer.columns[df_adv_beer.isna().sum()/df_adv_beer.shape[0] < 0.78]]\n",
    "df_adv_beer = df_adv_beer.drop('beer_id', axis=1)"
   ]
  },
  {
   "cell_type": "code",
   "execution_count": 36,
   "id": "b37fea0e",
   "metadata": {},
   "outputs": [
    {
     "data": {
      "text/html": [
       "<div>\n",
       "<style scoped>\n",
       "    .dataframe tbody tr th:only-of-type {\n",
       "        vertical-align: middle;\n",
       "    }\n",
       "\n",
       "    .dataframe tbody tr th {\n",
       "        vertical-align: top;\n",
       "    }\n",
       "\n",
       "    .dataframe thead th {\n",
       "        text-align: right;\n",
       "    }\n",
       "</style>\n",
       "<table border=\"1\" class=\"dataframe\">\n",
       "  <thead>\n",
       "    <tr style=\"text-align: right;\">\n",
       "      <th></th>\n",
       "      <th>beer_name</th>\n",
       "      <th>brewery_id</th>\n",
       "      <th>brewery_name</th>\n",
       "      <th>style</th>\n",
       "      <th>nbr_ratings</th>\n",
       "      <th>nbr_reviews</th>\n",
       "      <th>avg</th>\n",
       "      <th>abv</th>\n",
       "      <th>avg_computed</th>\n",
       "      <th>nbr_matched_valid_ratings</th>\n",
       "    </tr>\n",
       "  </thead>\n",
       "  <tbody>\n",
       "    <tr>\n",
       "      <th>0</th>\n",
       "      <td>Nashe Moskovskoe</td>\n",
       "      <td>39912</td>\n",
       "      <td>Abdysh-Ata (Абдыш Ата)</td>\n",
       "      <td>Euro Pale Lager</td>\n",
       "      <td>0</td>\n",
       "      <td>0</td>\n",
       "      <td>NaN</td>\n",
       "      <td>4.7</td>\n",
       "      <td>NaN</td>\n",
       "      <td>0</td>\n",
       "    </tr>\n",
       "    <tr>\n",
       "      <th>1</th>\n",
       "      <td>Nashe Pivovskoe</td>\n",
       "      <td>39912</td>\n",
       "      <td>Abdysh-Ata (Абдыш Ата)</td>\n",
       "      <td>Euro Pale Lager</td>\n",
       "      <td>0</td>\n",
       "      <td>0</td>\n",
       "      <td>NaN</td>\n",
       "      <td>3.8</td>\n",
       "      <td>NaN</td>\n",
       "      <td>0</td>\n",
       "    </tr>\n",
       "    <tr>\n",
       "      <th>2</th>\n",
       "      <td>Nashe Shakhterskoe</td>\n",
       "      <td>39912</td>\n",
       "      <td>Abdysh-Ata (Абдыш Ата)</td>\n",
       "      <td>Euro Pale Lager</td>\n",
       "      <td>0</td>\n",
       "      <td>0</td>\n",
       "      <td>NaN</td>\n",
       "      <td>4.8</td>\n",
       "      <td>NaN</td>\n",
       "      <td>0</td>\n",
       "    </tr>\n",
       "    <tr>\n",
       "      <th>3</th>\n",
       "      <td>Nashe Zhigulevskoe</td>\n",
       "      <td>39912</td>\n",
       "      <td>Abdysh-Ata (Абдыш Ата)</td>\n",
       "      <td>Euro Pale Lager</td>\n",
       "      <td>0</td>\n",
       "      <td>0</td>\n",
       "      <td>NaN</td>\n",
       "      <td>4.0</td>\n",
       "      <td>NaN</td>\n",
       "      <td>0</td>\n",
       "    </tr>\n",
       "    <tr>\n",
       "      <th>4</th>\n",
       "      <td>Zhivoe</td>\n",
       "      <td>39912</td>\n",
       "      <td>Abdysh-Ata (Абдыш Ата)</td>\n",
       "      <td>Euro Pale Lager</td>\n",
       "      <td>0</td>\n",
       "      <td>0</td>\n",
       "      <td>NaN</td>\n",
       "      <td>4.5</td>\n",
       "      <td>NaN</td>\n",
       "      <td>0</td>\n",
       "    </tr>\n",
       "  </tbody>\n",
       "</table>\n",
       "</div>"
      ],
      "text/plain": [
       "            beer_name  brewery_id            brewery_name            style  \\\n",
       "0    Nashe Moskovskoe       39912  Abdysh-Ata (Абдыш Ата)  Euro Pale Lager   \n",
       "1     Nashe Pivovskoe       39912  Abdysh-Ata (Абдыш Ата)  Euro Pale Lager   \n",
       "2  Nashe Shakhterskoe       39912  Abdysh-Ata (Абдыш Ата)  Euro Pale Lager   \n",
       "3  Nashe Zhigulevskoe       39912  Abdysh-Ata (Абдыш Ата)  Euro Pale Lager   \n",
       "4              Zhivoe       39912  Abdysh-Ata (Абдыш Ата)  Euro Pale Lager   \n",
       "\n",
       "   nbr_ratings  nbr_reviews  avg  abv  avg_computed  nbr_matched_valid_ratings  \n",
       "0            0            0  NaN  4.7           NaN                          0  \n",
       "1            0            0  NaN  3.8           NaN                          0  \n",
       "2            0            0  NaN  4.8           NaN                          0  \n",
       "3            0            0  NaN  4.0           NaN                          0  \n",
       "4            0            0  NaN  4.5           NaN                          0  "
      ]
     },
     "execution_count": 36,
     "metadata": {},
     "output_type": "execute_result"
    }
   ],
   "source": [
    "df_adv_beer.head()"
   ]
  },
  {
   "cell_type": "markdown",
   "id": "c7d0b207",
   "metadata": {},
   "source": [
    "#### Continues variables"
   ]
  },
  {
   "cell_type": "code",
   "execution_count": 24,
   "id": "5d1e9d0c",
   "metadata": {},
   "outputs": [
    {
     "data": {
      "text/plain": [
       "<seaborn.axisgrid.FacetGrid at 0x203da181400>"
      ]
     },
     "execution_count": 24,
     "metadata": {},
     "output_type": "execute_result"
    },
    {
     "data": {
      "text/plain": [
       "<Figure size 432x288 with 0 Axes>"
      ]
     },
     "metadata": {},
     "output_type": "display_data"
    },
    {
     "data": {
      "image/png": "[encoded data removed]",
      "text/plain": [
       "<Figure size 360x360 with 1 Axes>"
      ]
     },
     "metadata": {
      "needs_background": "light"
     },
     "output_type": "display_data"
    }
   ],
   "source": [
    "plt.figure()\n",
    "sns.displot(df_adv_beer['brewery_id'])"
   ]
  },
  {
   "cell_type": "code",
   "execution_count": 25,
   "id": "54f8c00e",
   "metadata": {},
   "outputs": [
    {
     "data": {
      "text/plain": [
       "<seaborn.axisgrid.FacetGrid at 0x2038583e100>"
      ]
     },
     "execution_count": 25,
     "metadata": {},
     "output_type": "execute_result"
    },
    {
     "data": {
      "text/plain": [
       "<Figure size 432x288 with 0 Axes>"
      ]
     },
     "metadata": {},
     "output_type": "display_data"
    },
    {
     "data": {
      "image/png": "[encoded data removed]",
      "text/plain": [
       "<Figure size 360x360 with 1 Axes>"
      ]
     },
     "metadata": {
      "needs_background": "light"
     },
     "output_type": "display_data"
    }
   ],
   "source": [
    "plt.figure()\n",
    "sns.displot(df_adv_beer['avg'])"
   ]
  },
  {
   "cell_type": "code",
   "execution_count": 38,
   "id": "0eaf0008",
   "metadata": {},
   "outputs": [
    {
     "data": {
      "image/png": "[encoded data removed]",
      "text/plain": [
       "<Figure size 432x288 with 1 Axes>"
      ]
     },
     "metadata": {
      "needs_background": "light"
     },
     "output_type": "display_data"
    },
    {
     "data": {
      "image/png": "[encoded data removed]",
      "text/plain": [
       "<Figure size 432x288 with 1 Axes>"
      ]
     },
     "metadata": {
      "needs_background": "light"
     },
     "output_type": "display_data"
    },
    {
     "data": {
      "image/png": "[encoded data removed]",
      "text/plain": [
       "<Figure size 432x288 with 1 Axes>"
      ]
     },
     "metadata": {
      "needs_background": "light"
     },
     "output_type": "display_data"
    },
    {
     "data": {
      "image/png": "[encoded data removed]",
      "text/plain": [
       "<Figure size 432x288 with 1 Axes>"
      ]
     },
     "metadata": {
      "needs_background": "light"
     },
     "output_type": "display_data"
    }
   ],
   "source": [
    "for col in df_adv_beer.select_dtypes('int64'):\n",
    "    plt.figure()\n",
    "    sns.histplot(df_adv_beer[col])"
   ]
  },
  {
   "cell_type": "code",
   "execution_count": 52,
   "id": "96dade6e",
   "metadata": {},
   "outputs": [
    {
     "data": {
      "text/plain": [
       "0       252551\n",
       "1        12117\n",
       "2         4683\n",
       "3         2485\n",
       "4         1523\n",
       "5         1027\n",
       "6          765\n",
       "7          608\n",
       "8          485\n",
       "9          360\n",
       "10         325\n",
       "11         286\n",
       "12         250\n",
       "13         214\n",
       "14         169\n",
       "17         160\n",
       "16         152\n",
       "15         149\n",
       "18         121\n",
       "19         111\n",
       "20         100\n",
       "22          91\n",
       "23          89\n",
       "21          79\n",
       "24          77\n",
       "26          61\n",
       "28          60\n",
       "27          58\n",
       "29          55\n",
       "34          54\n",
       "25          54\n",
       "33          47\n",
       "30          46\n",
       "31          44\n",
       "36          42\n",
       "35          33\n",
       "44          32\n",
       "37          32\n",
       "32          32\n",
       "39          31\n",
       "41          30\n",
       "38          23\n",
       "56          23\n",
       "47          23\n",
       "40          22\n",
       "42          22\n",
       "54          21\n",
       "48          21\n",
       "46          20\n",
       "59          20\n",
       "64          19\n",
       "50          17\n",
       "49          17\n",
       "45          17\n",
       "53          16\n",
       "52          16\n",
       "43          16\n",
       "67          16\n",
       "57          14\n",
       "65          14\n",
       "60          13\n",
       "58          13\n",
       "72          12\n",
       "70          12\n",
       "63          11\n",
       "55          11\n",
       "86          10\n",
       "69          10\n",
       "62           9\n",
       "103          9\n",
       "75           9\n",
       "68           9\n",
       "84           9\n",
       "95           9\n",
       "74           8\n",
       "91           8\n",
       "83           8\n",
       "85           8\n",
       "121          8\n",
       "71           8\n",
       "78           8\n",
       "51           8\n",
       "130          7\n",
       "93           7\n",
       "66           7\n",
       "98           7\n",
       "118          7\n",
       "105          7\n",
       "81           7\n",
       "77           7\n",
       "88           7\n",
       "61           7\n",
       "110          6\n",
       "107          6\n",
       "112          6\n",
       "92           6\n",
       "100          6\n",
       "108          6\n",
       "80           6\n",
       "82           6\n",
       "193          5\n",
       "76           5\n",
       "109          5\n",
       "79           5\n",
       "147          5\n",
       "99           5\n",
       "111          5\n",
       "87           5\n",
       "89           5\n",
       "97           5\n",
       "128          5\n",
       "228          4\n",
       "129          4\n",
       "140          4\n",
       "139          4\n",
       "94           4\n",
       "135          4\n",
       "119          4\n",
       "115          4\n",
       "181          4\n",
       "162          4\n",
       "161          4\n",
       "124          4\n",
       "125          4\n",
       "183          4\n",
       "73           4\n",
       "101          3\n",
       "117          3\n",
       "132          3\n",
       "137          3\n",
       "165          3\n",
       "273          3\n",
       "116          3\n",
       "134          3\n",
       "141          3\n",
       "142          3\n",
       "120          3\n",
       "387          3\n",
       "144          3\n",
       "127          3\n",
       "256          3\n",
       "163          3\n",
       "192          3\n",
       "186          3\n",
       "155          3\n",
       "182          3\n",
       "148          3\n",
       "194          3\n",
       "284          3\n",
       "380          3\n",
       "178          3\n",
       "106          3\n",
       "175          3\n",
       "248          2\n",
       "241          2\n",
       "126          2\n",
       "253          2\n",
       "243          2\n",
       "242          2\n",
       "168          2\n",
       "236          2\n",
       "235          2\n",
       "421          2\n",
       "169          2\n",
       "164          2\n",
       "170          2\n",
       "173          2\n",
       "174          2\n",
       "160          2\n",
       "179          2\n",
       "413          2\n",
       "157          2\n",
       "156          2\n",
       "154          2\n",
       "152          2\n",
       "151          2\n",
       "149          2\n",
       "459          2\n",
       "207          2\n",
       "218          2\n",
       "146          2\n",
       "229          2\n",
       "145          2\n",
       "166          2\n",
       "143          2\n",
       "138          2\n",
       "232          2\n",
       "230          2\n",
       "255          2\n",
       "304          2\n",
       "113          2\n",
       "330          2\n",
       "90           2\n",
       "266          2\n",
       "102          2\n",
       "285          2\n",
       "263          2\n",
       "104          2\n",
       "262          2\n",
       "329          2\n",
       "261          2\n",
       "287          1\n",
       "980          1\n",
       "462          1\n",
       "282          1\n",
       "210          1\n",
       "211          1\n",
       "185          1\n",
       "723          1\n",
       "212          1\n",
       "213          1\n",
       "540          1\n",
       "214          1\n",
       "215          1\n",
       "471          1\n",
       "216          1\n",
       "217          1\n",
       "439          1\n",
       "205          1\n",
       "203          1\n",
       "286          1\n",
       "196          1\n",
       "191          1\n",
       "449          1\n",
       "445          1\n",
       "187          1\n",
       "195          1\n",
       "954          1\n",
       "197          1\n",
       "1225         1\n",
       "291          1\n",
       "198          1\n",
       "278          1\n",
       "200          1\n",
       "201          1\n",
       "457          1\n",
       "454          1\n",
       "223          1\n",
       "219          1\n",
       "244          1\n",
       "1513         1\n",
       "234          1\n",
       "491          1\n",
       "1287         1\n",
       "1773         1\n",
       "239          1\n",
       "774          1\n",
       "501          1\n",
       "488          1\n",
       "758          1\n",
       "247          1\n",
       "762          1\n",
       "508          1\n",
       "514          1\n",
       "254          1\n",
       "766          1\n",
       "233          1\n",
       "268          1\n",
       "220          1\n",
       "226          1\n",
       "221          1\n",
       "807          1\n",
       "735          1\n",
       "224          1\n",
       "225          1\n",
       "481          1\n",
       "1761         1\n",
       "1250         1\n",
       "1511         1\n",
       "227          1\n",
       "483          1\n",
       "789          1\n",
       "275          1\n",
       "274          1\n",
       "486          1\n",
       "743          1\n",
       "294          1\n",
       "372          1\n",
       "298          1\n",
       "332          1\n",
       "391          1\n",
       "136          1\n",
       "392          1\n",
       "96           1\n",
       "393          1\n",
       "649          1\n",
       "860          1\n",
       "348          1\n",
       "858          1\n",
       "346          1\n",
       "397          1\n",
       "1369         1\n",
       "345          1\n",
       "599          1\n",
       "340          1\n",
       "593          1\n",
       "403          1\n",
       "354          1\n",
       "390          1\n",
       "356          1\n",
       "381          1\n",
       "122          1\n",
       "123          1\n",
       "379          1\n",
       "371          1\n",
       "882          1\n",
       "636          1\n",
       "625          1\n",
       "879          1\n",
       "133          1\n",
       "383          1\n",
       "361          1\n",
       "640          1\n",
       "615          1\n",
       "131          1\n",
       "359          1\n",
       "388          1\n",
       "333          1\n",
       "150          1\n",
       "2861         1\n",
       "841          1\n",
       "316          1\n",
       "422          1\n",
       "167          1\n",
       "315          1\n",
       "1081         1\n",
       "311          1\n",
       "426          1\n",
       "172          1\n",
       "428          1\n",
       "309          1\n",
       "308          1\n",
       "306          1\n",
       "431          1\n",
       "176          1\n",
       "945          1\n",
       "1201         1\n",
       "633          1\n",
       "573          1\n",
       "318          1\n",
       "574          1\n",
       "324          1\n",
       "408          1\n",
       "2968         1\n",
       "327          1\n",
       "667          1\n",
       "1179         1\n",
       "325          1\n",
       "580          1\n",
       "158          1\n",
       "675          1\n",
       "670          1\n",
       "159          1\n",
       "835          1\n",
       "928          1\n",
       "579          1\n",
       "834          1\n",
       "320          1\n",
       "114          1\n",
       "Name: nbr_matched_valid_ratings, dtype: int64"
      ]
     },
     "execution_count": 52,
     "metadata": {},
     "output_type": "execute_result"
    }
   ],
   "source": [
    "df_adv_beer['nbr_matched_valid_ratings'].value_counts()"
   ]
  },
  {
   "cell_type": "code",
   "execution_count": 30,
   "id": "aa29d709",
   "metadata": {},
   "outputs": [
    {
     "data": {
      "image/png": "[encoded data removed]",
      "text/plain": [
       "<Figure size 432x288 with 1 Axes>"
      ]
     },
     "metadata": {
      "needs_background": "light"
     },
     "output_type": "display_data"
    },
    {
     "data": {
      "image/png": "[encoded data removed]",
      "text/plain": [
       "<Figure size 432x288 with 1 Axes>"
      ]
     },
     "metadata": {
      "needs_background": "light"
     },
     "output_type": "display_data"
    },
    {
     "data": {
      "image/png": "[encoded data removed]",
      "text/plain": [
       "<Figure size 432x288 with 1 Axes>"
      ]
     },
     "metadata": {
      "needs_background": "light"
     },
     "output_type": "display_data"
    }
   ],
   "source": [
    "for col in df_adv_beer.select_dtypes('float'):\n",
    "    plt.figure()\n",
    "    sns.histplot(df_adv_beer[col])"
   ]
  },
  {
   "cell_type": "code",
   "execution_count": 27,
   "id": "f2318c51",
   "metadata": {},
   "outputs": [
    {
     "data": {
      "text/plain": [
       "beer_id                        int64\n",
       "beer_name                     object\n",
       "brewery_id                     int64\n",
       "brewery_name                  object\n",
       "style                         object\n",
       "nbr_ratings                    int64\n",
       "nbr_reviews                    int64\n",
       "avg                          float64\n",
       "abv                          float64\n",
       "avg_computed                 float64\n",
       "nbr_matched_valid_ratings      int64\n",
       "dtype: object"
      ]
     },
     "execution_count": 27,
     "metadata": {},
     "output_type": "execute_result"
    }
   ],
   "source": [
    "df_adv_beer.dtypes"
   ]
  },
  {
   "cell_type": "markdown",
   "id": "17880de1",
   "metadata": {},
   "source": [
    "### Object variables"
   ]
  },
  {
   "cell_type": "code",
   "execution_count": 41,
   "id": "dca388d1",
   "metadata": {},
   "outputs": [
    {
     "name": "stdout",
     "output_type": "stream",
     "text": [
      "beer_name----------------------------------------- ['Nashe Moskovskoe' 'Nashe Pivovskoe' 'Nashe Shakhterskoe' ...\n",
      " \"Witch's Hair Pumpkin Ale With Graham Crackers\" 'Diamond Stout'\n",
      " 'Irvington Pale Ale']\n",
      "\n",
      "\n",
      "brewery_name-------------------------------------- ['Abdysh-Ata (Абдыш Ата)' 'Arpa (АРПА)' 'Bear Beer' ...\n",
      " 'Alt Platz Brewing Company LLC' 'Twisted Manzanita Ales'\n",
      " 'Summit Station Restaurant & Brewery']\n",
      "\n",
      "\n",
      "style--------------------------------------------- ['Euro Pale Lager' 'American Pale Lager' 'Euro Dark Lager'\n",
      " 'Foreign / Export Stout' 'Irish Red Ale' 'Czech Pilsener' 'Kölsch'\n",
      " 'Dortmunder / Export Lager' 'Munich Dunkel Lager' 'Märzen / Oktoberfest'\n",
      " 'English Pale Ale' 'English Bitter' 'American Pale Wheat Ale'\n",
      " 'American Blonde Ale' 'English India Pale Ale (IPA)' 'Irish Dry Stout'\n",
      " 'American Stout' 'American Pale Ale (APA)' 'Milk / Sweet Stout'\n",
      " 'American Double / Imperial IPA' 'German Pilsener' 'American IPA'\n",
      " 'Witbier' 'Munich Helles Lager' 'English Brown Ale' 'English Porter'\n",
      " 'English Pale Mild Ale' 'American Black Ale' 'Saison / Farmhouse Ale'\n",
      " 'Berliner Weissbier' 'American Double / Imperial Stout' 'American Porter'\n",
      " 'American Wild Ale' 'Fruit / Vegetable Beer' 'English Dark Mild Ale'\n",
      " 'Hefeweizen' 'English Stout' 'California Common / Steam Beer'\n",
      " 'American Amber / Red Ale' 'Tripel' 'Altbier' 'Smoked Beer'\n",
      " 'Bière de Garde' 'Oatmeal Stout' 'Rye Beer'\n",
      " 'Extra Special / Strong Bitter (ESB)' 'Russian Imperial Stout'\n",
      " 'Winter Warmer' 'Belgian Pale Ale' 'Belgian IPA'\n",
      " 'Belgian Strong Pale Ale' 'Old Ale' 'Dunkelweizen' 'English Barleywine'\n",
      " 'English Strong Ale' 'American Brown Ale' 'Schwarzbier' 'Baltic Porter'\n",
      " 'Vienna Lager' 'Herbed / Spiced Beer' 'Rauchbier' 'Scottish Ale'\n",
      " 'Scottish Gruit / Ancient Herbed Ale' 'Black & Tan' 'Gose'\n",
      " 'Scotch Ale / Wee Heavy' 'Low Alcohol Beer' 'Kristalweizen' 'Doppelbock'\n",
      " 'Chile Beer' 'Sahti' 'Euro Strong Lager' 'American Strong Ale' 'Dubbel'\n",
      " 'Cream Ale' 'American Barleywine' 'Flanders Red Ale' 'Light Lager'\n",
      " 'Pumpkin Ale' 'Quadrupel (Quad)' 'Bock' 'Bière de Champagne / Bière Brut'\n",
      " 'Kellerbier / Zwickelbier' 'American Amber / Red Lager'\n",
      " 'American Dark Wheat Ale' 'Weizenbock'\n",
      " 'American Double / Imperial Pilsner' 'Belgian Strong Dark Ale'\n",
      " 'Lambic - Fruit' 'Eisbock' 'Braggot' 'Belgian Dark Ale'\n",
      " 'Maibock / Helles Bock' 'Flanders Oud Bruin' 'American Adjunct Lager'\n",
      " 'American Malt Liquor' 'Kvass' 'Wheatwine' 'Gueuze' 'Roggenbier'\n",
      " 'Lambic - Unblended' 'Japanese Rice Lager' 'Happoshu' 'Faro']\n",
      "\n",
      "\n"
     ]
    }
   ],
   "source": [
    "for col in df_adv_beer.select_dtypes('object'):\n",
    "    print(f'{col:-<50} {df_adv_beer[col].unique()}')\n",
    "    print('\\n')"
   ]
  },
  {
   "cell_type": "code",
   "execution_count": 42,
   "id": "4782aa84",
   "metadata": {},
   "outputs": [
    {
     "data": {
      "text/plain": [
       "104"
      ]
     },
     "execution_count": 42,
     "metadata": {},
     "output_type": "execute_result"
    }
   ],
   "source": [
    "df_adv_beer['style'].nunique()"
   ]
  },
  {
   "cell_type": "code",
   "execution_count": null,
   "id": "50cd8205",
   "metadata": {},
   "outputs": [],
   "source": []
  }
 ],
 "metadata": {
  "kernelspec": {
   "display_name": "Python 3",
   "language": "python",
   "name": "python3"
  },
  "language_info": {
   "codemirror_mode": {
    "name": "ipython",
    "version": 3
   },
   "file_extension": ".py",
   "mimetype": "text/x-python",
   "name": "python",
   "nbconvert_exporter": "python",
   "pygments_lexer": "ipython3",
   "version": "3.8.8"
  }
 },
 "nbformat": 4,
 "nbformat_minor": 5
}
