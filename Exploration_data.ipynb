{
 "cells": [
  {
   "cell_type": "markdown",
   "id": "66d5d02d",
   "metadata": {},
   "source": [
    "### Goal: exploration of the dataframe, understand the data"
   ]
  },
  {
   "cell_type": "code",
   "execution_count": 1,
   "id": "32fd7df0",
   "metadata": {},
   "outputs": [],
   "source": [
    "import pandas as pd\n",
    "import numpy as np\n",
    "import seaborn as sns\n",
    "import matplotlib.pyplot as plt\n"
   ]
  },
  {
   "cell_type": "code",
   "execution_count": 2,
   "id": "a8bd04d1",
   "metadata": {},
   "outputs": [],
   "source": [
    "pd.set_option('display.max_rows', None)\n",
    "pd.set_option('display.max_columns', None)\n",
    "pd.set_option('display.width', None)\n",
    "pd.set_option('display.max_colwidth', None)"
   ]
  },
  {
   "cell_type": "code",
   "execution_count": 3,
   "id": "06038314",
   "metadata": {},
   "outputs": [],
   "source": [
    "DATASET_BEERADVOCATE = 'DATA/BeerAdvocate/'\n",
    "DATASET_MATCHEDBEER = 'DATA/matched_beer_data/'\n",
    "DATASET_RATEBEER = 'DATA/RateBeer/'"
   ]
  },
  {
   "cell_type": "code",
   "execution_count": 4,
   "id": "6ffe98b8",
   "metadata": {},
   "outputs": [
    {
     "name": "stdout",
     "output_type": "stream",
     "text": [
      "shape of all datasets: \n",
      " beer (280823, 15) \n",
      " users (153704, 6) \n",
      " breweries (16758, 4)\n"
     ]
    }
   ],
   "source": [
    "df_adv_beer = pd.read_csv(DATASET_BEERADVOCATE + 'beers.csv')\n",
    "df_adv_breweries = pd.read_csv(DATASET_BEERADVOCATE + 'breweries.csv')\n",
    "df_adv_users = pd.read_csv(DATASET_BEERADVOCATE + 'users.csv')\n",
    "\n",
    "print('shape of all datasets: \\n',\n",
    "     'beer',df_adv_beer.shape,'\\n',\n",
    "      'users',df_adv_users.shape,'\\n',\n",
    "     'breweries',df_adv_breweries.shape)"
   ]
  },
  {
   "cell_type": "markdown",
   "id": "dce7e071",
   "metadata": {},
   "source": [
    "## Exploration of the datasets\n",
    "### Adv Beer"
   ]
  },
  {
   "cell_type": "code",
   "execution_count": 5,
   "id": "584a50a5",
   "metadata": {},
   "outputs": [
    {
     "data": {
      "text/html": [
       "<div>\n",
       "<style scoped>\n",
       "    .dataframe tbody tr th:only-of-type {\n",
       "        vertical-align: middle;\n",
       "    }\n",
       "\n",
       "    .dataframe tbody tr th {\n",
       "        vertical-align: top;\n",
       "    }\n",
       "\n",
       "    .dataframe thead th {\n",
       "        text-align: right;\n",
       "    }\n",
       "</style>\n",
       "<table border=\"1\" class=\"dataframe\">\n",
       "  <thead>\n",
       "    <tr style=\"text-align: right;\">\n",
       "      <th></th>\n",
       "      <th>beer_id</th>\n",
       "      <th>beer_name</th>\n",
       "      <th>brewery_id</th>\n",
       "      <th>brewery_name</th>\n",
       "      <th>style</th>\n",
       "      <th>nbr_ratings</th>\n",
       "      <th>nbr_reviews</th>\n",
       "      <th>avg</th>\n",
       "      <th>ba_score</th>\n",
       "      <th>bros_score</th>\n",
       "      <th>abv</th>\n",
       "      <th>avg_computed</th>\n",
       "      <th>zscore</th>\n",
       "      <th>nbr_matched_valid_ratings</th>\n",
       "      <th>avg_matched_valid_ratings</th>\n",
       "    </tr>\n",
       "  </thead>\n",
       "  <tbody>\n",
       "    <tr>\n",
       "      <th>254271</th>\n",
       "      <td>232029</td>\n",
       "      <td>Sassafras Flower Pale Ale</td>\n",
       "      <td>31049</td>\n",
       "      <td>Scratch Brewing Company</td>\n",
       "      <td>Herbed / Spiced Beer</td>\n",
       "      <td>1</td>\n",
       "      <td>0</td>\n",
       "      <td>4.25</td>\n",
       "      <td>NaN</td>\n",
       "      <td>NaN</td>\n",
       "      <td>5.1</td>\n",
       "      <td>4.250000</td>\n",
       "      <td>NaN</td>\n",
       "      <td>0</td>\n",
       "      <td>NaN</td>\n",
       "    </tr>\n",
       "    <tr>\n",
       "      <th>249099</th>\n",
       "      <td>200489</td>\n",
       "      <td>Brewer's Cut Blackberry Saison</td>\n",
       "      <td>458</td>\n",
       "      <td>Real Ale Brewing Company</td>\n",
       "      <td>Saison / Farmhouse Ale</td>\n",
       "      <td>24</td>\n",
       "      <td>4</td>\n",
       "      <td>3.87</td>\n",
       "      <td>85.0</td>\n",
       "      <td>NaN</td>\n",
       "      <td>6.5</td>\n",
       "      <td>3.683750</td>\n",
       "      <td>-0.599835</td>\n",
       "      <td>4</td>\n",
       "      <td>3.93</td>\n",
       "    </tr>\n",
       "    <tr>\n",
       "      <th>43858</th>\n",
       "      <td>70293</td>\n",
       "      <td>India Brown Ale</td>\n",
       "      <td>17998</td>\n",
       "      <td>Brasserie Trois Dames</td>\n",
       "      <td>American Brown Ale</td>\n",
       "      <td>7</td>\n",
       "      <td>4</td>\n",
       "      <td>3.58</td>\n",
       "      <td>NaN</td>\n",
       "      <td>NaN</td>\n",
       "      <td>5.3</td>\n",
       "      <td>3.505714</td>\n",
       "      <td>NaN</td>\n",
       "      <td>0</td>\n",
       "      <td>NaN</td>\n",
       "    </tr>\n",
       "    <tr>\n",
       "      <th>220758</th>\n",
       "      <td>275653</td>\n",
       "      <td>Strong Like Bull</td>\n",
       "      <td>44038</td>\n",
       "      <td>Birdfish Brewing Company</td>\n",
       "      <td>American Double / Imperial IPA</td>\n",
       "      <td>0</td>\n",
       "      <td>0</td>\n",
       "      <td>NaN</td>\n",
       "      <td>NaN</td>\n",
       "      <td>NaN</td>\n",
       "      <td>10.5</td>\n",
       "      <td>NaN</td>\n",
       "      <td>NaN</td>\n",
       "      <td>0</td>\n",
       "      <td>NaN</td>\n",
       "    </tr>\n",
       "    <tr>\n",
       "      <th>107683</th>\n",
       "      <td>112070</td>\n",
       "      <td>Belgian Dubbel</td>\n",
       "      <td>31030</td>\n",
       "      <td>Populuxe Brewing</td>\n",
       "      <td>Dubbel</td>\n",
       "      <td>1</td>\n",
       "      <td>1</td>\n",
       "      <td>3.70</td>\n",
       "      <td>NaN</td>\n",
       "      <td>NaN</td>\n",
       "      <td>6.9</td>\n",
       "      <td>3.700000</td>\n",
       "      <td>-0.346446</td>\n",
       "      <td>1</td>\n",
       "      <td>3.70</td>\n",
       "    </tr>\n",
       "  </tbody>\n",
       "</table>\n",
       "</div>"
      ],
      "text/plain": [
       "        beer_id                       beer_name  brewery_id  \\\n",
       "254271   232029       Sassafras Flower Pale Ale       31049   \n",
       "249099   200489  Brewer's Cut Blackberry Saison         458   \n",
       "43858     70293                 India Brown Ale       17998   \n",
       "220758   275653                Strong Like Bull       44038   \n",
       "107683   112070                  Belgian Dubbel       31030   \n",
       "\n",
       "                    brewery_name                           style  nbr_ratings  \\\n",
       "254271   Scratch Brewing Company            Herbed / Spiced Beer            1   \n",
       "249099  Real Ale Brewing Company          Saison / Farmhouse Ale           24   \n",
       "43858      Brasserie Trois Dames              American Brown Ale            7   \n",
       "220758  Birdfish Brewing Company  American Double / Imperial IPA            0   \n",
       "107683          Populuxe Brewing                          Dubbel            1   \n",
       "\n",
       "        nbr_reviews   avg  ba_score  bros_score   abv  avg_computed    zscore  \\\n",
       "254271            0  4.25       NaN         NaN   5.1      4.250000       NaN   \n",
       "249099            4  3.87      85.0         NaN   6.5      3.683750 -0.599835   \n",
       "43858             4  3.58       NaN         NaN   5.3      3.505714       NaN   \n",
       "220758            0   NaN       NaN         NaN  10.5           NaN       NaN   \n",
       "107683            1  3.70       NaN         NaN   6.9      3.700000 -0.346446   \n",
       "\n",
       "        nbr_matched_valid_ratings  avg_matched_valid_ratings  \n",
       "254271                          0                        NaN  \n",
       "249099                          4                       3.93  \n",
       "43858                           0                        NaN  \n",
       "220758                          0                        NaN  \n",
       "107683                          1                       3.70  "
      ]
     },
     "execution_count": 5,
     "metadata": {},
     "output_type": "execute_result"
    }
   ],
   "source": [
    "df_adv_beer.sample(5)"
   ]
  },
  {
   "cell_type": "code",
   "execution_count": 6,
   "id": "9d4bf1c4",
   "metadata": {},
   "outputs": [
    {
     "data": {
      "text/plain": [
       "float64    7\n",
       "int64      5\n",
       "object     3\n",
       "dtype: int64"
      ]
     },
     "execution_count": 6,
     "metadata": {},
     "output_type": "execute_result"
    }
   ],
   "source": [
    "df_adv_beer.dtypes.value_counts()"
   ]
  },
  {
   "cell_type": "code",
   "execution_count": 7,
   "id": "a84525a6",
   "metadata": {},
   "outputs": [
    {
     "data": {
      "text/plain": [
       "<AxesSubplot:>"
      ]
     },
     "execution_count": 7,
     "metadata": {},
     "output_type": "execute_result"
    },
    {
     "data": {
      "image/png": "[encoded data removed]",
      "text/plain": [
       "<Figure size 1080x720 with 1 Axes>"
      ]
     },
     "metadata": {
      "needs_background": "light"
     },
     "output_type": "display_data"
    }
   ],
   "source": [
    "# show in white the nan values in a column\n",
    "plt.figure(figsize=(15,10))\n",
    "sns.heatmap(df_adv_beer.isna(), cbar=False)"
   ]
  },
  {
   "cell_type": "code",
   "execution_count": 8,
   "id": "186507e4",
   "metadata": {},
   "outputs": [
    {
     "data": {
      "text/plain": [
       "beer_id                      0.000000\n",
       "beer_name                    0.000000\n",
       "brewery_id                   0.000000\n",
       "brewery_name                 0.000000\n",
       "style                        0.000000\n",
       "nbr_ratings                  0.000000\n",
       "nbr_reviews                  0.000000\n",
       "nbr_matched_valid_ratings    0.000000\n",
       "avg                          0.116903\n",
       "avg_computed                 0.116946\n",
       "abv                          0.128280\n",
       "ba_score                     0.782069\n",
       "zscore                       0.856547\n",
       "avg_matched_valid_ratings    0.899324\n",
       "bros_score                   0.979695\n",
       "dtype: float64"
      ]
     },
     "execution_count": 8,
     "metadata": {},
     "output_type": "execute_result"
    }
   ],
   "source": [
    "(df_adv_beer.isna().sum()/df_adv_beer.shape[0]).sort_values(ascending=True)"
   ]
  },
  {
   "cell_type": "markdown",
   "id": "9204a24e",
   "metadata": {},
   "source": [
    "### Adv Breweries dataset"
   ]
  },
  {
   "cell_type": "code",
   "execution_count": 26,
   "id": "8bc75095",
   "metadata": {},
   "outputs": [
    {
     "data": {
      "text/html": [
       "<div>\n",
       "<style scoped>\n",
       "    .dataframe tbody tr th:only-of-type {\n",
       "        vertical-align: middle;\n",
       "    }\n",
       "\n",
       "    .dataframe tbody tr th {\n",
       "        vertical-align: top;\n",
       "    }\n",
       "\n",
       "    .dataframe thead th {\n",
       "        text-align: right;\n",
       "    }\n",
       "</style>\n",
       "<table border=\"1\" class=\"dataframe\">\n",
       "  <thead>\n",
       "    <tr style=\"text-align: right;\">\n",
       "      <th></th>\n",
       "      <th>id</th>\n",
       "      <th>location</th>\n",
       "      <th>name</th>\n",
       "      <th>nbr_beers</th>\n",
       "    </tr>\n",
       "  </thead>\n",
       "  <tbody>\n",
       "    <tr>\n",
       "      <th>0</th>\n",
       "      <td>39912</td>\n",
       "      <td>Kyrgyzstan</td>\n",
       "      <td>Abdysh-Ata (Абдыш Ата)</td>\n",
       "      <td>5</td>\n",
       "    </tr>\n",
       "    <tr>\n",
       "      <th>1</th>\n",
       "      <td>39913</td>\n",
       "      <td>Kyrgyzstan</td>\n",
       "      <td>Arpa (АРПА)</td>\n",
       "      <td>1</td>\n",
       "    </tr>\n",
       "    <tr>\n",
       "      <th>2</th>\n",
       "      <td>39914</td>\n",
       "      <td>Kyrgyzstan</td>\n",
       "      <td>Bear Beer</td>\n",
       "      <td>4</td>\n",
       "    </tr>\n",
       "    <tr>\n",
       "      <th>3</th>\n",
       "      <td>39915</td>\n",
       "      <td>Kyrgyzstan</td>\n",
       "      <td>Blonder Pub</td>\n",
       "      <td>4</td>\n",
       "    </tr>\n",
       "    <tr>\n",
       "      <th>4</th>\n",
       "      <td>39916</td>\n",
       "      <td>Kyrgyzstan</td>\n",
       "      <td>Kellers Bier</td>\n",
       "      <td>2</td>\n",
       "    </tr>\n",
       "  </tbody>\n",
       "</table>\n",
       "</div>"
      ],
      "text/plain": [
       "      id    location                    name  nbr_beers\n",
       "0  39912  Kyrgyzstan  Abdysh-Ata (Абдыш Ата)          5\n",
       "1  39913  Kyrgyzstan             Arpa (АРПА)          1\n",
       "2  39914  Kyrgyzstan               Bear Beer          4\n",
       "3  39915  Kyrgyzstan             Blonder Pub          4\n",
       "4  39916  Kyrgyzstan            Kellers Bier          2"
      ]
     },
     "execution_count": 26,
     "metadata": {},
     "output_type": "execute_result"
    }
   ],
   "source": [
    "df_adv_breweries.head()"
   ]
  },
  {
   "cell_type": "code",
   "execution_count": 9,
   "id": "6b9fd33e",
   "metadata": {},
   "outputs": [
    {
     "data": {
      "text/plain": [
       "id            int64\n",
       "location     object\n",
       "name         object\n",
       "nbr_beers     int64\n",
       "dtype: object"
      ]
     },
     "execution_count": 9,
     "metadata": {},
     "output_type": "execute_result"
    }
   ],
   "source": [
    "df_adv_breweries.dtypes"
   ]
  },
  {
   "cell_type": "code",
   "execution_count": 10,
   "id": "a7fd5ec1",
   "metadata": {},
   "outputs": [
    {
     "data": {
      "text/plain": [
       "id           0.0\n",
       "location     0.0\n",
       "name         0.0\n",
       "nbr_beers    0.0\n",
       "dtype: float64"
      ]
     },
     "execution_count": 10,
     "metadata": {},
     "output_type": "execute_result"
    }
   ],
   "source": [
    "df_adv_breweries.isna().sum()/df_adv_breweries.shape[0]"
   ]
  },
  {
   "cell_type": "markdown",
   "id": "cd5e66bf",
   "metadata": {},
   "source": [
    "### Adv User dataset"
   ]
  },
  {
   "cell_type": "code",
   "execution_count": 30,
   "id": "8daee610",
   "metadata": {},
   "outputs": [
    {
     "name": "stdout",
     "output_type": "stream",
     "text": [
      "(153704, 6)\n"
     ]
    },
    {
     "data": {
      "text/html": [
       "<div>\n",
       "<style scoped>\n",
       "    .dataframe tbody tr th:only-of-type {\n",
       "        vertical-align: middle;\n",
       "    }\n",
       "\n",
       "    .dataframe tbody tr th {\n",
       "        vertical-align: top;\n",
       "    }\n",
       "\n",
       "    .dataframe thead th {\n",
       "        text-align: right;\n",
       "    }\n",
       "</style>\n",
       "<table border=\"1\" class=\"dataframe\">\n",
       "  <thead>\n",
       "    <tr style=\"text-align: right;\">\n",
       "      <th></th>\n",
       "      <th>nbr_ratings</th>\n",
       "      <th>nbr_reviews</th>\n",
       "      <th>user_id</th>\n",
       "      <th>user_name</th>\n",
       "      <th>joined</th>\n",
       "      <th>location</th>\n",
       "    </tr>\n",
       "  </thead>\n",
       "  <tbody>\n",
       "    <tr>\n",
       "      <th>0</th>\n",
       "      <td>7820</td>\n",
       "      <td>465</td>\n",
       "      <td>nmann08.184925</td>\n",
       "      <td>nmann08</td>\n",
       "      <td>1.199704e+09</td>\n",
       "      <td>United States, Washington</td>\n",
       "    </tr>\n",
       "    <tr>\n",
       "      <th>1</th>\n",
       "      <td>2521</td>\n",
       "      <td>2504</td>\n",
       "      <td>stjamesgate.163714</td>\n",
       "      <td>StJamesGate</td>\n",
       "      <td>1.191838e+09</td>\n",
       "      <td>United States, New York</td>\n",
       "    </tr>\n",
       "    <tr>\n",
       "      <th>2</th>\n",
       "      <td>1797</td>\n",
       "      <td>1143</td>\n",
       "      <td>mdagnew.19527</td>\n",
       "      <td>mdagnew</td>\n",
       "      <td>1.116410e+09</td>\n",
       "      <td>Northern Ireland</td>\n",
       "    </tr>\n",
       "    <tr>\n",
       "      <th>3</th>\n",
       "      <td>31</td>\n",
       "      <td>31</td>\n",
       "      <td>helloloser12345.10867</td>\n",
       "      <td>helloloser12345</td>\n",
       "      <td>1.101380e+09</td>\n",
       "      <td>Northern Ireland</td>\n",
       "    </tr>\n",
       "    <tr>\n",
       "      <th>4</th>\n",
       "      <td>604</td>\n",
       "      <td>604</td>\n",
       "      <td>cypressbob.3708</td>\n",
       "      <td>cypressbob</td>\n",
       "      <td>1.069326e+09</td>\n",
       "      <td>Northern Ireland</td>\n",
       "    </tr>\n",
       "  </tbody>\n",
       "</table>\n",
       "</div>"
      ],
      "text/plain": [
       "   nbr_ratings  nbr_reviews                user_id        user_name  \\\n",
       "0         7820          465         nmann08.184925          nmann08   \n",
       "1         2521         2504     stjamesgate.163714      StJamesGate   \n",
       "2         1797         1143          mdagnew.19527          mdagnew   \n",
       "3           31           31  helloloser12345.10867  helloloser12345   \n",
       "4          604          604        cypressbob.3708       cypressbob   \n",
       "\n",
       "         joined                   location  \n",
       "0  1.199704e+09  United States, Washington  \n",
       "1  1.191838e+09    United States, New York  \n",
       "2  1.116410e+09           Northern Ireland  \n",
       "3  1.101380e+09           Northern Ireland  \n",
       "4  1.069326e+09           Northern Ireland  "
      ]
     },
     "execution_count": 30,
     "metadata": {},
     "output_type": "execute_result"
    }
   ],
   "source": [
    "print(df_adv_users.shape)\n",
    "df_adv_users.head()"
   ]
  },
  {
   "cell_type": "code",
   "execution_count": 12,
   "id": "122d13ef",
   "metadata": {},
   "outputs": [
    {
     "data": {
      "text/plain": [
       "nbr_ratings      int64\n",
       "nbr_reviews      int64\n",
       "user_id         object\n",
       "user_name       object\n",
       "joined         float64\n",
       "location        object\n",
       "dtype: object"
      ]
     },
     "execution_count": 12,
     "metadata": {},
     "output_type": "execute_result"
    }
   ],
   "source": [
    "df_adv_users.dtypes"
   ]
  },
  {
   "cell_type": "code",
   "execution_count": 13,
   "id": "13e59454",
   "metadata": {},
   "outputs": [
    {
     "data": {
      "text/plain": [
       "nbr_ratings    0.000000\n",
       "nbr_reviews    0.000000\n",
       "user_id        0.000000\n",
       "user_name      0.000007\n",
       "joined         0.017254\n",
       "location       0.203502\n",
       "dtype: float64"
      ]
     },
     "execution_count": 13,
     "metadata": {},
     "output_type": "execute_result"
    }
   ],
   "source": [
    "# nan percentage\n",
    "df_adv_users.isna().sum()/df_adv_users.shape[0]"
   ]
  },
  {
   "cell_type": "code",
   "execution_count": 14,
   "id": "be80bfda",
   "metadata": {},
   "outputs": [
    {
     "data": {
      "text/plain": [
       "<AxesSubplot:>"
      ]
     },
     "execution_count": 14,
     "metadata": {},
     "output_type": "execute_result"
    },
    {
     "data": {
      "image/png": "[encoded data removed]",
      "text/plain": [
       "<Figure size 432x288 with 1 Axes>"
      ]
     },
     "metadata": {
      "needs_background": "light"
     },
     "output_type": "display_data"
    }
   ],
   "source": [
    "# nan heatmap\n",
    "sns.heatmap(df_adv_users.isna(), cbar=False)"
   ]
  },
  {
   "cell_type": "markdown",
   "id": "06c666a9",
   "metadata": {},
   "source": [
    "## Background Analysis\n",
    "### Adv Beer"
   ]
  },
  {
   "cell_type": "code",
   "execution_count": 15,
   "id": "91ad1585",
   "metadata": {},
   "outputs": [],
   "source": [
    "# Drop all columns with more than 78% of nan values\n",
    "\n",
    "df_adv_beer = df_adv_beer[df_adv_beer.columns[df_adv_beer.isna().sum()/df_adv_beer.shape[0] < 0.78]]\n",
    "df_adv_beer = df_adv_beer.drop('beer_id', axis=1)"
   ]
  },
  {
   "cell_type": "code",
   "execution_count": 16,
   "id": "b37fea0e",
   "metadata": {},
   "outputs": [
    {
     "data": {
      "text/html": [
       "<div>\n",
       "<style scoped>\n",
       "    .dataframe tbody tr th:only-of-type {\n",
       "        vertical-align: middle;\n",
       "    }\n",
       "\n",
       "    .dataframe tbody tr th {\n",
       "        vertical-align: top;\n",
       "    }\n",
       "\n",
       "    .dataframe thead th {\n",
       "        text-align: right;\n",
       "    }\n",
       "</style>\n",
       "<table border=\"1\" class=\"dataframe\">\n",
       "  <thead>\n",
       "    <tr style=\"text-align: right;\">\n",
       "      <th></th>\n",
       "      <th>beer_name</th>\n",
       "      <th>brewery_id</th>\n",
       "      <th>brewery_name</th>\n",
       "      <th>style</th>\n",
       "      <th>nbr_ratings</th>\n",
       "      <th>nbr_reviews</th>\n",
       "      <th>avg</th>\n",
       "      <th>abv</th>\n",
       "      <th>avg_computed</th>\n",
       "      <th>nbr_matched_valid_ratings</th>\n",
       "    </tr>\n",
       "  </thead>\n",
       "  <tbody>\n",
       "    <tr>\n",
       "      <th>0</th>\n",
       "      <td>Nashe Moskovskoe</td>\n",
       "      <td>39912</td>\n",
       "      <td>Abdysh-Ata (Абдыш Ата)</td>\n",
       "      <td>Euro Pale Lager</td>\n",
       "      <td>0</td>\n",
       "      <td>0</td>\n",
       "      <td>NaN</td>\n",
       "      <td>4.7</td>\n",
       "      <td>NaN</td>\n",
       "      <td>0</td>\n",
       "    </tr>\n",
       "    <tr>\n",
       "      <th>1</th>\n",
       "      <td>Nashe Pivovskoe</td>\n",
       "      <td>39912</td>\n",
       "      <td>Abdysh-Ata (Абдыш Ата)</td>\n",
       "      <td>Euro Pale Lager</td>\n",
       "      <td>0</td>\n",
       "      <td>0</td>\n",
       "      <td>NaN</td>\n",
       "      <td>3.8</td>\n",
       "      <td>NaN</td>\n",
       "      <td>0</td>\n",
       "    </tr>\n",
       "    <tr>\n",
       "      <th>2</th>\n",
       "      <td>Nashe Shakhterskoe</td>\n",
       "      <td>39912</td>\n",
       "      <td>Abdysh-Ata (Абдыш Ата)</td>\n",
       "      <td>Euro Pale Lager</td>\n",
       "      <td>0</td>\n",
       "      <td>0</td>\n",
       "      <td>NaN</td>\n",
       "      <td>4.8</td>\n",
       "      <td>NaN</td>\n",
       "      <td>0</td>\n",
       "    </tr>\n",
       "    <tr>\n",
       "      <th>3</th>\n",
       "      <td>Nashe Zhigulevskoe</td>\n",
       "      <td>39912</td>\n",
       "      <td>Abdysh-Ata (Абдыш Ата)</td>\n",
       "      <td>Euro Pale Lager</td>\n",
       "      <td>0</td>\n",
       "      <td>0</td>\n",
       "      <td>NaN</td>\n",
       "      <td>4.0</td>\n",
       "      <td>NaN</td>\n",
       "      <td>0</td>\n",
       "    </tr>\n",
       "    <tr>\n",
       "      <th>4</th>\n",
       "      <td>Zhivoe</td>\n",
       "      <td>39912</td>\n",
       "      <td>Abdysh-Ata (Абдыш Ата)</td>\n",
       "      <td>Euro Pale Lager</td>\n",
       "      <td>0</td>\n",
       "      <td>0</td>\n",
       "      <td>NaN</td>\n",
       "      <td>4.5</td>\n",
       "      <td>NaN</td>\n",
       "      <td>0</td>\n",
       "    </tr>\n",
       "  </tbody>\n",
       "</table>\n",
       "</div>"
      ],
      "text/plain": [
       "            beer_name  brewery_id            brewery_name            style  \\\n",
       "0    Nashe Moskovskoe       39912  Abdysh-Ata (Абдыш Ата)  Euro Pale Lager   \n",
       "1     Nashe Pivovskoe       39912  Abdysh-Ata (Абдыш Ата)  Euro Pale Lager   \n",
       "2  Nashe Shakhterskoe       39912  Abdysh-Ata (Абдыш Ата)  Euro Pale Lager   \n",
       "3  Nashe Zhigulevskoe       39912  Abdysh-Ata (Абдыш Ата)  Euro Pale Lager   \n",
       "4              Zhivoe       39912  Abdysh-Ata (Абдыш Ата)  Euro Pale Lager   \n",
       "\n",
       "   nbr_ratings  nbr_reviews  avg  abv  avg_computed  nbr_matched_valid_ratings  \n",
       "0            0            0  NaN  4.7           NaN                          0  \n",
       "1            0            0  NaN  3.8           NaN                          0  \n",
       "2            0            0  NaN  4.8           NaN                          0  \n",
       "3            0            0  NaN  4.0           NaN                          0  \n",
       "4            0            0  NaN  4.5           NaN                          0  "
      ]
     },
     "execution_count": 16,
     "metadata": {},
     "output_type": "execute_result"
    }
   ],
   "source": [
    "df_adv_beer.head()"
   ]
  },
  {
   "cell_type": "markdown",
   "id": "c7d0b207",
   "metadata": {},
   "source": [
    "#### Continues variables"
   ]
  },
  {
   "cell_type": "code",
   "execution_count": 17,
   "id": "5d1e9d0c",
   "metadata": {},
   "outputs": [
    {
     "data": {
      "text/plain": [
       "<seaborn.axisgrid.FacetGrid at 0x296ac98ba30>"
      ]
     },
     "execution_count": 17,
     "metadata": {},
     "output_type": "execute_result"
    },
    {
     "data": {
      "text/plain": [
       "<Figure size 432x288 with 0 Axes>"
      ]
     },
     "metadata": {},
     "output_type": "display_data"
    },
    {
     "data": {
      "image/png": "[encoded data removed]",
      "text/plain": [
       "<Figure size 360x360 with 1 Axes>"
      ]
     },
     "metadata": {
      "needs_background": "light"
     },
     "output_type": "display_data"
    }
   ],
   "source": [
    "plt.figure()\n",
    "sns.displot(df_adv_beer['brewery_id'])"
   ]
  },
  {
   "cell_type": "code",
   "execution_count": 18,
   "id": "54f8c00e",
   "metadata": {},
   "outputs": [
    {
     "data": {
      "text/plain": [
       "<seaborn.axisgrid.FacetGrid at 0x296ac9415b0>"
      ]
     },
     "execution_count": 18,
     "metadata": {},
     "output_type": "execute_result"
    },
    {
     "data": {
      "text/plain": [
       "<Figure size 432x288 with 0 Axes>"
      ]
     },
     "metadata": {},
     "output_type": "display_data"
    },
    {
     "data": {
      "image/png": "[encoded data removed]",
      "text/plain": [
       "<Figure size 360x360 with 1 Axes>"
      ]
     },
     "metadata": {
      "needs_background": "light"
     },
     "output_type": "display_data"
    }
   ],
   "source": [
    "plt.figure()\n",
    "sns.displot(df_adv_beer['avg'])"
   ]
  },
  {
   "cell_type": "code",
   "execution_count": 19,
   "id": "0eaf0008",
   "metadata": {},
   "outputs": [
    {
     "data": {
      "image/png": "[encoded data removed]",
      "text/plain": [
       "<Figure size 432x288 with 1 Axes>"
      ]
     },
     "metadata": {
      "needs_background": "light"
     },
     "output_type": "display_data"
    },
    {
     "data": {
      "image/png": "[encoded data removed]",
      "text/plain": [
       "<Figure size 432x288 with 1 Axes>"
      ]
     },
     "metadata": {
      "needs_background": "light"
     },
     "output_type": "display_data"
    },
    {
     "data": {
      "image/png": "[encoded data removed]",
      "text/plain": [
       "<Figure size 432x288 with 1 Axes>"
      ]
     },
     "metadata": {
      "needs_background": "light"
     },
     "output_type": "display_data"
    },
    {
     "data": {
      "image/png": "[encoded data removed]",
      "text/plain": [
       "<Figure size 432x288 with 1 Axes>"
      ]
     },
     "metadata": {
      "needs_background": "light"
     },
     "output_type": "display_data"
    }
   ],
   "source": [
    "for col in df_adv_beer.select_dtypes('int64'):\n",
    "    plt.figure()\n",
    "    sns.histplot(df_adv_beer[col])"
   ]
  },
  {
   "cell_type": "code",
   "execution_count": 20,
   "id": "96dade6e",
   "metadata": {},
   "outputs": [
    {
     "data": {
      "text/plain": [
       "0       252551\n",
       "1        12117\n",
       "2         4683\n",
       "3         2485\n",
       "4         1523\n",
       "5         1027\n",
       "6          765\n",
       "7          608\n",
       "8          485\n",
       "9          360\n",
       "10         325\n",
       "11         286\n",
       "12         250\n",
       "13         214\n",
       "14         169\n",
       "17         160\n",
       "16         152\n",
       "15         149\n",
       "18         121\n",
       "19         111\n",
       "20         100\n",
       "22          91\n",
       "23          89\n",
       "21          79\n",
       "24          77\n",
       "26          61\n",
       "28          60\n",
       "27          58\n",
       "29          55\n",
       "25          54\n",
       "34          54\n",
       "33          47\n",
       "30          46\n",
       "31          44\n",
       "36          42\n",
       "35          33\n",
       "37          32\n",
       "44          32\n",
       "32          32\n",
       "39          31\n",
       "41          30\n",
       "38          23\n",
       "56          23\n",
       "47          23\n",
       "42          22\n",
       "40          22\n",
       "54          21\n",
       "48          21\n",
       "59          20\n",
       "46          20\n",
       "64          19\n",
       "49          17\n",
       "45          17\n",
       "50          17\n",
       "53          16\n",
       "52          16\n",
       "43          16\n",
       "67          16\n",
       "65          14\n",
       "57          14\n",
       "58          13\n",
       "60          13\n",
       "70          12\n",
       "72          12\n",
       "55          11\n",
       "63          11\n",
       "86          10\n",
       "69          10\n",
       "62           9\n",
       "68           9\n",
       "75           9\n",
       "84           9\n",
       "103          9\n",
       "95           9\n",
       "83           8\n",
       "74           8\n",
       "78           8\n",
       "85           8\n",
       "91           8\n",
       "51           8\n",
       "71           8\n",
       "121          8\n",
       "77           7\n",
       "118          7\n",
       "61           7\n",
       "130          7\n",
       "88           7\n",
       "66           7\n",
       "93           7\n",
       "105          7\n",
       "98           7\n",
       "81           7\n",
       "80           6\n",
       "100          6\n",
       "110          6\n",
       "82           6\n",
       "92           6\n",
       "112          6\n",
       "107          6\n",
       "108          6\n",
       "99           5\n",
       "87           5\n",
       "79           5\n",
       "89           5\n",
       "111          5\n",
       "193          5\n",
       "128          5\n",
       "147          5\n",
       "109          5\n",
       "76           5\n",
       "97           5\n",
       "140          4\n",
       "139          4\n",
       "125          4\n",
       "129          4\n",
       "124          4\n",
       "115          4\n",
       "73           4\n",
       "135          4\n",
       "94           4\n",
       "119          4\n",
       "228          4\n",
       "183          4\n",
       "161          4\n",
       "162          4\n",
       "181          4\n",
       "116          3\n",
       "134          3\n",
       "163          3\n",
       "192          3\n",
       "380          3\n",
       "148          3\n",
       "127          3\n",
       "101          3\n",
       "132          3\n",
       "178          3\n",
       "144          3\n",
       "141          3\n",
       "194          3\n",
       "106          3\n",
       "165          3\n",
       "175          3\n",
       "186          3\n",
       "137          3\n",
       "155          3\n",
       "387          3\n",
       "273          3\n",
       "120          3\n",
       "117          3\n",
       "142          3\n",
       "284          3\n",
       "182          3\n",
       "256          3\n",
       "285          2\n",
       "459          2\n",
       "304          2\n",
       "207          2\n",
       "143          2\n",
       "413          2\n",
       "102          2\n",
       "166          2\n",
       "329          2\n",
       "253          2\n",
       "174          2\n",
       "255          2\n",
       "138          2\n",
       "170          2\n",
       "263          2\n",
       "266          2\n",
       "235          2\n",
       "229          2\n",
       "248          2\n",
       "152          2\n",
       "261          2\n",
       "157          2\n",
       "90           2\n",
       "169          2\n",
       "160          2\n",
       "149          2\n",
       "230          2\n",
       "330          2\n",
       "241          2\n",
       "243          2\n",
       "146          2\n",
       "164          2\n",
       "232          2\n",
       "179          2\n",
       "218          2\n",
       "126          2\n",
       "154          2\n",
       "173          2\n",
       "236          2\n",
       "156          2\n",
       "145          2\n",
       "421          2\n",
       "151          2\n",
       "104          2\n",
       "113          2\n",
       "168          2\n",
       "242          2\n",
       "262          2\n",
       "860          1\n",
       "471          1\n",
       "211          1\n",
       "636          1\n",
       "649          1\n",
       "195          1\n",
       "320          1\n",
       "514          1\n",
       "573          1\n",
       "287          1\n",
       "315          1\n",
       "219          1\n",
       "311          1\n",
       "431          1\n",
       "223          1\n",
       "675          1\n",
       "615          1\n",
       "275          1\n",
       "858          1\n",
       "361          1\n",
       "197          1\n",
       "392          1\n",
       "225          1\n",
       "667          1\n",
       "233          1\n",
       "766          1\n",
       "371          1\n",
       "216          1\n",
       "486          1\n",
       "580          1\n",
       "762          1\n",
       "324          1\n",
       "96           1\n",
       "735          1\n",
       "723          1\n",
       "1081         1\n",
       "397          1\n",
       "316          1\n",
       "945          1\n",
       "807          1\n",
       "1773         1\n",
       "234          1\n",
       "239          1\n",
       "834          1\n",
       "422          1\n",
       "213          1\n",
       "278          1\n",
       "2968         1\n",
       "198          1\n",
       "356          1\n",
       "340          1\n",
       "333          1\n",
       "426          1\n",
       "743          1\n",
       "122          1\n",
       "203          1\n",
       "774          1\n",
       "185          1\n",
       "488          1\n",
       "346          1\n",
       "390          1\n",
       "212          1\n",
       "214          1\n",
       "201          1\n",
       "172          1\n",
       "274          1\n",
       "136          1\n",
       "428          1\n",
       "298          1\n",
       "332          1\n",
       "200          1\n",
       "254          1\n",
       "286          1\n",
       "318          1\n",
       "227          1\n",
       "2861         1\n",
       "879          1\n",
       "391          1\n",
       "980          1\n",
       "1287         1\n",
       "789          1\n",
       "306          1\n",
       "291          1\n",
       "215          1\n",
       "574          1\n",
       "501          1\n",
       "954          1\n",
       "294          1\n",
       "282          1\n",
       "593          1\n",
       "1369         1\n",
       "221          1\n",
       "133          1\n",
       "210          1\n",
       "348          1\n",
       "150          1\n",
       "491          1\n",
       "244          1\n",
       "439          1\n",
       "449          1\n",
       "1511         1\n",
       "1201         1\n",
       "1179         1\n",
       "191          1\n",
       "483          1\n",
       "196          1\n",
       "640          1\n",
       "131          1\n",
       "408          1\n",
       "1761         1\n",
       "354          1\n",
       "599          1\n",
       "508          1\n",
       "359          1\n",
       "308          1\n",
       "224          1\n",
       "445          1\n",
       "325          1\n",
       "928          1\n",
       "167          1\n",
       "205          1\n",
       "670          1\n",
       "345          1\n",
       "268          1\n",
       "247          1\n",
       "403          1\n",
       "625          1\n",
       "1225         1\n",
       "226          1\n",
       "159          1\n",
       "758          1\n",
       "158          1\n",
       "481          1\n",
       "220          1\n",
       "882          1\n",
       "383          1\n",
       "388          1\n",
       "176          1\n",
       "633          1\n",
       "381          1\n",
       "372          1\n",
       "187          1\n",
       "835          1\n",
       "579          1\n",
       "540          1\n",
       "462          1\n",
       "457          1\n",
       "393          1\n",
       "309          1\n",
       "217          1\n",
       "454          1\n",
       "1513         1\n",
       "327          1\n",
       "379          1\n",
       "841          1\n",
       "114          1\n",
       "1250         1\n",
       "123          1\n",
       "Name: nbr_matched_valid_ratings, dtype: int64"
      ]
     },
     "execution_count": 20,
     "metadata": {},
     "output_type": "execute_result"
    }
   ],
   "source": [
    "df_adv_beer['nbr_matched_valid_ratings'].value_counts()"
   ]
  },
  {
   "cell_type": "code",
   "execution_count": 21,
   "id": "aa29d709",
   "metadata": {
    "scrolled": true
   },
   "outputs": [
    {
     "data": {
      "image/png": "[encoded data removed]",
      "text/plain": [
       "<Figure size 432x288 with 1 Axes>"
      ]
     },
     "metadata": {
      "needs_background": "light"
     },
     "output_type": "display_data"
    },
    {
     "data": {
      "image/png": "[encoded data removed]",
      "text/plain": [
       "<Figure size 432x288 with 1 Axes>"
      ]
     },
     "metadata": {
      "needs_background": "light"
     },
     "output_type": "display_data"
    },
    {
     "data": {
      "image/png": "[encoded data removed]",
      "text/plain": [
       "<Figure size 432x288 with 1 Axes>"
      ]
     },
     "metadata": {
      "needs_background": "light"
     },
     "output_type": "display_data"
    }
   ],
   "source": [
    "for col in df_adv_beer.select_dtypes('float'):\n",
    "    plt.figure()\n",
    "    sns.histplot(df_adv_beer[col])"
   ]
  },
  {
   "cell_type": "code",
   "execution_count": 22,
   "id": "f2318c51",
   "metadata": {},
   "outputs": [
    {
     "data": {
      "text/plain": [
       "beer_name                     object\n",
       "brewery_id                     int64\n",
       "brewery_name                  object\n",
       "style                         object\n",
       "nbr_ratings                    int64\n",
       "nbr_reviews                    int64\n",
       "avg                          float64\n",
       "abv                          float64\n",
       "avg_computed                 float64\n",
       "nbr_matched_valid_ratings      int64\n",
       "dtype: object"
      ]
     },
     "execution_count": 22,
     "metadata": {},
     "output_type": "execute_result"
    }
   ],
   "source": [
    "df_adv_beer.dtypes"
   ]
  },
  {
   "cell_type": "markdown",
   "id": "17880de1",
   "metadata": {},
   "source": [
    "#### Object variables"
   ]
  },
  {
   "cell_type": "code",
   "execution_count": 66,
   "id": "047bb7b3",
   "metadata": {},
   "outputs": [
    {
     "name": "stdout",
     "output_type": "stream",
     "text": [
      "number of different beer name:  236209\n",
      "number of different brewery name:  14098\n",
      "style beer unique value 104\n"
     ]
    }
   ],
   "source": [
    "print('number of different beer name: ',df_adv_beer['beer_name'].nunique())\n",
    "print('number of different brewery name: ',df_adv_beer['brewery_name'].nunique())\n",
    "print('style beer unique value',df_adv_beer['style'].nunique())\n"
   ]
  },
  {
   "cell_type": "code",
   "execution_count": 56,
   "id": "7b56d2e6",
   "metadata": {},
   "outputs": [
    {
     "data": {
      "text/plain": [
       "(104,)"
      ]
     },
     "execution_count": 56,
     "metadata": {},
     "output_type": "execute_result"
    }
   ],
   "source": [
    "beer_occurence = df_adv_beer['beer_name'].value_counts()\n",
    "beer_occurence.shape\n",
    "brewery_occurence = df_adv_beer['brewery_name'].value_counts()\n",
    "brewery_occurence.shape\n",
    "style_occurence = df_adv_beer['style'].value_counts()\n",
    "style_occurence.shape"
   ]
  },
  {
   "cell_type": "code",
   "execution_count": 57,
   "id": "45c1736c",
   "metadata": {},
   "outputs": [],
   "source": [
    "intervals_list = ['> 10', '> 50','> 100 ', '> 500 ', '> 1000']\n",
    "columns_name_list = {'intervals': [],\n",
    "                             'number': []}\n",
    "\n",
    "brewery_occurence_df = pd.DataFrame(columns_name_list)\n",
    "style_occurence_df = pd.DataFrame(columns_name_list)\n",
    "beer_occurence_df = pd.DataFrame(columns_name_list)\n",
    "brewery_occurence_df.loc[:,'intervals'] = intervals_list\n",
    "style_occurence_df.loc[:,'intervals'] = intervals_list\n",
    "beer_occurence_df.loc[:,'intervals'] = intervals_list"
   ]
  },
  {
   "cell_type": "code",
   "execution_count": 58,
   "id": "53771111",
   "metadata": {},
   "outputs": [
    {
     "data": {
      "text/html": [
       "<div>\n",
       "<style scoped>\n",
       "    .dataframe tbody tr th:only-of-type {\n",
       "        vertical-align: middle;\n",
       "    }\n",
       "\n",
       "    .dataframe tbody tr th {\n",
       "        vertical-align: top;\n",
       "    }\n",
       "\n",
       "    .dataframe thead th {\n",
       "        text-align: right;\n",
       "    }\n",
       "</style>\n",
       "<table border=\"1\" class=\"dataframe\">\n",
       "  <thead>\n",
       "    <tr style=\"text-align: right;\">\n",
       "      <th></th>\n",
       "      <th>intervals</th>\n",
       "      <th>number</th>\n",
       "    </tr>\n",
       "  </thead>\n",
       "  <tbody>\n",
       "    <tr>\n",
       "      <th>0</th>\n",
       "      <td>&gt; 10</td>\n",
       "      <td>548.0</td>\n",
       "    </tr>\n",
       "    <tr>\n",
       "      <th>1</th>\n",
       "      <td>&gt; 50</td>\n",
       "      <td>97.0</td>\n",
       "    </tr>\n",
       "    <tr>\n",
       "      <th>2</th>\n",
       "      <td>&gt; 100</td>\n",
       "      <td>47.0</td>\n",
       "    </tr>\n",
       "    <tr>\n",
       "      <th>3</th>\n",
       "      <td>&gt; 500</td>\n",
       "      <td>3.0</td>\n",
       "    </tr>\n",
       "    <tr>\n",
       "      <th>4</th>\n",
       "      <td>&gt; 1000</td>\n",
       "      <td>0.0</td>\n",
       "    </tr>\n",
       "  </tbody>\n",
       "</table>\n",
       "</div>"
      ],
      "text/plain": [
       "  intervals  number\n",
       "0      > 10   548.0\n",
       "1      > 50    97.0\n",
       "2    > 100     47.0\n",
       "3    > 500      3.0\n",
       "4    > 1000     0.0"
      ]
     },
     "execution_count": 58,
     "metadata": {},
     "output_type": "execute_result"
    }
   ],
   "source": [
    "beer_occurence_df.iloc[0,1] = beer_occurence[beer_occurence > 10].count()\n",
    "beer_occurence_df.iloc[1,1] = beer_occurence[beer_occurence > 50].count()\n",
    "beer_occurence_df.iloc[2,1] = beer_occurence[beer_occurence > 100].count()\n",
    "beer_occurence_df.iloc[3,1] = beer_occurence[beer_occurence > 500].count()\n",
    "beer_occurence_df.iloc[4,1] = beer_occurence[beer_occurence > 1000].count()\n",
    "beer_occurence_df.head()"
   ]
  },
  {
   "cell_type": "code",
   "execution_count": 59,
   "id": "c5a6f320",
   "metadata": {},
   "outputs": [
    {
     "data": {
      "text/html": [
       "<div>\n",
       "<style scoped>\n",
       "    .dataframe tbody tr th:only-of-type {\n",
       "        vertical-align: middle;\n",
       "    }\n",
       "\n",
       "    .dataframe tbody tr th {\n",
       "        vertical-align: top;\n",
       "    }\n",
       "\n",
       "    .dataframe thead th {\n",
       "        text-align: right;\n",
       "    }\n",
       "</style>\n",
       "<table border=\"1\" class=\"dataframe\">\n",
       "  <thead>\n",
       "    <tr style=\"text-align: right;\">\n",
       "      <th></th>\n",
       "      <th>intervals</th>\n",
       "      <th>number</th>\n",
       "    </tr>\n",
       "  </thead>\n",
       "  <tbody>\n",
       "    <tr>\n",
       "      <th>0</th>\n",
       "      <td>&gt; 10</td>\n",
       "      <td>104.0</td>\n",
       "    </tr>\n",
       "    <tr>\n",
       "      <th>1</th>\n",
       "      <td>&gt; 50</td>\n",
       "      <td>103.0</td>\n",
       "    </tr>\n",
       "    <tr>\n",
       "      <th>2</th>\n",
       "      <td>&gt; 100</td>\n",
       "      <td>101.0</td>\n",
       "    </tr>\n",
       "    <tr>\n",
       "      <th>3</th>\n",
       "      <td>&gt; 500</td>\n",
       "      <td>88.0</td>\n",
       "    </tr>\n",
       "    <tr>\n",
       "      <th>4</th>\n",
       "      <td>&gt; 1000</td>\n",
       "      <td>70.0</td>\n",
       "    </tr>\n",
       "  </tbody>\n",
       "</table>\n",
       "</div>"
      ],
      "text/plain": [
       "  intervals  number\n",
       "0      > 10   104.0\n",
       "1      > 50   103.0\n",
       "2    > 100    101.0\n",
       "3    > 500     88.0\n",
       "4    > 1000    70.0"
      ]
     },
     "execution_count": 59,
     "metadata": {},
     "output_type": "execute_result"
    }
   ],
   "source": [
    "style_occurence_df.iloc[0,1] = style_occurence[style_occurence > 10].count()\n",
    "style_occurence_df.iloc[1,1] = style_occurence[style_occurence > 50].count()\n",
    "style_occurence_df.iloc[2,1] = style_occurence[style_occurence > 100].count()\n",
    "style_occurence_df.iloc[3,1] = style_occurence[style_occurence > 500].count()\n",
    "style_occurence_df.iloc[4,1] = style_occurence[style_occurence > 1000].count()\n",
    "style_occurence_df.head()"
   ]
  },
  {
   "cell_type": "code",
   "execution_count": 60,
   "id": "218babcd",
   "metadata": {},
   "outputs": [
    {
     "data": {
      "text/html": [
       "<div>\n",
       "<style scoped>\n",
       "    .dataframe tbody tr th:only-of-type {\n",
       "        vertical-align: middle;\n",
       "    }\n",
       "\n",
       "    .dataframe tbody tr th {\n",
       "        vertical-align: top;\n",
       "    }\n",
       "\n",
       "    .dataframe thead th {\n",
       "        text-align: right;\n",
       "    }\n",
       "</style>\n",
       "<table border=\"1\" class=\"dataframe\">\n",
       "  <thead>\n",
       "    <tr style=\"text-align: right;\">\n",
       "      <th></th>\n",
       "      <th>intervals</th>\n",
       "      <th>number</th>\n",
       "    </tr>\n",
       "  </thead>\n",
       "  <tbody>\n",
       "    <tr>\n",
       "      <th>0</th>\n",
       "      <td>&gt; 10</td>\n",
       "      <td>6011.0</td>\n",
       "    </tr>\n",
       "    <tr>\n",
       "      <th>1</th>\n",
       "      <td>&gt; 50</td>\n",
       "      <td>1254.0</td>\n",
       "    </tr>\n",
       "    <tr>\n",
       "      <th>2</th>\n",
       "      <td>&gt; 100</td>\n",
       "      <td>450.0</td>\n",
       "    </tr>\n",
       "    <tr>\n",
       "      <th>3</th>\n",
       "      <td>&gt; 500</td>\n",
       "      <td>11.0</td>\n",
       "    </tr>\n",
       "    <tr>\n",
       "      <th>4</th>\n",
       "      <td>&gt; 1000</td>\n",
       "      <td>1.0</td>\n",
       "    </tr>\n",
       "  </tbody>\n",
       "</table>\n",
       "</div>"
      ],
      "text/plain": [
       "  intervals  number\n",
       "0      > 10  6011.0\n",
       "1      > 50  1254.0\n",
       "2    > 100    450.0\n",
       "3    > 500     11.0\n",
       "4    > 1000     1.0"
      ]
     },
     "execution_count": 60,
     "metadata": {},
     "output_type": "execute_result"
    }
   ],
   "source": [
    "brewery_occurence_df.iloc[0,1] = brewery_occurence[brewery_occurence > 10].count()\n",
    "brewery_occurence_df.iloc[1,1] = brewery_occurence[brewery_occurence > 50].count()\n",
    "brewery_occurence_df.iloc[2,1] = brewery_occurence[brewery_occurence > 100].count()\n",
    "brewery_occurence_df.iloc[3,1] = brewery_occurence[brewery_occurence > 500].count()\n",
    "brewery_occurence_df.iloc[4,1] = brewery_occurence[brewery_occurence > 1000].count()\n",
    "brewery_occurence_df.head()"
   ]
  },
  {
   "cell_type": "code",
   "execution_count": 23,
   "id": "dca388d1",
   "metadata": {
    "scrolled": true
   },
   "outputs": [
    {
     "name": "stdout",
     "output_type": "stream",
     "text": [
      "beer_name----------------------------------------- ['Nashe Moskovskoe' 'Nashe Pivovskoe' 'Nashe Shakhterskoe' ...\n",
      " \"Witch's Hair Pumpkin Ale With Graham Crackers\" 'Diamond Stout'\n",
      " 'Irvington Pale Ale']\n",
      "\n",
      "\n",
      "brewery_name-------------------------------------- ['Abdysh-Ata (Абдыш Ата)' 'Arpa (АРПА)' 'Bear Beer' ...\n",
      " 'Alt Platz Brewing Company LLC' 'Twisted Manzanita Ales'\n",
      " 'Summit Station Restaurant & Brewery']\n",
      "\n",
      "\n",
      "style--------------------------------------------- ['Euro Pale Lager' 'American Pale Lager' 'Euro Dark Lager'\n",
      " 'Foreign / Export Stout' 'Irish Red Ale' 'Czech Pilsener' 'Kölsch'\n",
      " 'Dortmunder / Export Lager' 'Munich Dunkel Lager' 'Märzen / Oktoberfest'\n",
      " 'English Pale Ale' 'English Bitter' 'American Pale Wheat Ale'\n",
      " 'American Blonde Ale' 'English India Pale Ale (IPA)' 'Irish Dry Stout'\n",
      " 'American Stout' 'American Pale Ale (APA)' 'Milk / Sweet Stout'\n",
      " 'American Double / Imperial IPA' 'German Pilsener' 'American IPA'\n",
      " 'Witbier' 'Munich Helles Lager' 'English Brown Ale' 'English Porter'\n",
      " 'English Pale Mild Ale' 'American Black Ale' 'Saison / Farmhouse Ale'\n",
      " 'Berliner Weissbier' 'American Double / Imperial Stout' 'American Porter'\n",
      " 'American Wild Ale' 'Fruit / Vegetable Beer' 'English Dark Mild Ale'\n",
      " 'Hefeweizen' 'English Stout' 'California Common / Steam Beer'\n",
      " 'American Amber / Red Ale' 'Tripel' 'Altbier' 'Smoked Beer'\n",
      " 'Bière de Garde' 'Oatmeal Stout' 'Rye Beer'\n",
      " 'Extra Special / Strong Bitter (ESB)' 'Russian Imperial Stout'\n",
      " 'Winter Warmer' 'Belgian Pale Ale' 'Belgian IPA'\n",
      " 'Belgian Strong Pale Ale' 'Old Ale' 'Dunkelweizen' 'English Barleywine'\n",
      " 'English Strong Ale' 'American Brown Ale' 'Schwarzbier' 'Baltic Porter'\n",
      " 'Vienna Lager' 'Herbed / Spiced Beer' 'Rauchbier' 'Scottish Ale'\n",
      " 'Scottish Gruit / Ancient Herbed Ale' 'Black & Tan' 'Gose'\n",
      " 'Scotch Ale / Wee Heavy' 'Low Alcohol Beer' 'Kristalweizen' 'Doppelbock'\n",
      " 'Chile Beer' 'Sahti' 'Euro Strong Lager' 'American Strong Ale' 'Dubbel'\n",
      " 'Cream Ale' 'American Barleywine' 'Flanders Red Ale' 'Light Lager'\n",
      " 'Pumpkin Ale' 'Quadrupel (Quad)' 'Bock' 'Bière de Champagne / Bière Brut'\n",
      " 'Kellerbier / Zwickelbier' 'American Amber / Red Lager'\n",
      " 'American Dark Wheat Ale' 'Weizenbock'\n",
      " 'American Double / Imperial Pilsner' 'Belgian Strong Dark Ale'\n",
      " 'Lambic - Fruit' 'Eisbock' 'Braggot' 'Belgian Dark Ale'\n",
      " 'Maibock / Helles Bock' 'Flanders Oud Bruin' 'American Adjunct Lager'\n",
      " 'American Malt Liquor' 'Kvass' 'Wheatwine' 'Gueuze' 'Roggenbier'\n",
      " 'Lambic - Unblended' 'Japanese Rice Lager' 'Happoshu' 'Faro']\n",
      "\n",
      "\n"
     ]
    }
   ],
   "source": [
    "for col in df_adv_beer.select_dtypes('object'):\n",
    "    print(f'{col:-<50} {df_adv_beer[col].unique()}')\n",
    "    print('\\n')"
   ]
  },
  {
   "cell_type": "markdown",
   "id": "80269a72",
   "metadata": {},
   "source": [
    "### Adv Brewery  "
   ]
  },
  {
   "cell_type": "code",
   "execution_count": 61,
   "id": "9ef20c43",
   "metadata": {},
   "outputs": [
    {
     "data": {
      "text/html": [
       "<div>\n",
       "<style scoped>\n",
       "    .dataframe tbody tr th:only-of-type {\n",
       "        vertical-align: middle;\n",
       "    }\n",
       "\n",
       "    .dataframe tbody tr th {\n",
       "        vertical-align: top;\n",
       "    }\n",
       "\n",
       "    .dataframe thead th {\n",
       "        text-align: right;\n",
       "    }\n",
       "</style>\n",
       "<table border=\"1\" class=\"dataframe\">\n",
       "  <thead>\n",
       "    <tr style=\"text-align: right;\">\n",
       "      <th></th>\n",
       "      <th>id</th>\n",
       "      <th>location</th>\n",
       "      <th>name</th>\n",
       "      <th>nbr_beers</th>\n",
       "    </tr>\n",
       "  </thead>\n",
       "  <tbody>\n",
       "    <tr>\n",
       "      <th>0</th>\n",
       "      <td>39912</td>\n",
       "      <td>Kyrgyzstan</td>\n",
       "      <td>Abdysh-Ata (Абдыш Ата)</td>\n",
       "      <td>5</td>\n",
       "    </tr>\n",
       "    <tr>\n",
       "      <th>1</th>\n",
       "      <td>39913</td>\n",
       "      <td>Kyrgyzstan</td>\n",
       "      <td>Arpa (АРПА)</td>\n",
       "      <td>1</td>\n",
       "    </tr>\n",
       "    <tr>\n",
       "      <th>2</th>\n",
       "      <td>39914</td>\n",
       "      <td>Kyrgyzstan</td>\n",
       "      <td>Bear Beer</td>\n",
       "      <td>4</td>\n",
       "    </tr>\n",
       "    <tr>\n",
       "      <th>3</th>\n",
       "      <td>39915</td>\n",
       "      <td>Kyrgyzstan</td>\n",
       "      <td>Blonder Pub</td>\n",
       "      <td>4</td>\n",
       "    </tr>\n",
       "    <tr>\n",
       "      <th>4</th>\n",
       "      <td>39916</td>\n",
       "      <td>Kyrgyzstan</td>\n",
       "      <td>Kellers Bier</td>\n",
       "      <td>2</td>\n",
       "    </tr>\n",
       "  </tbody>\n",
       "</table>\n",
       "</div>"
      ],
      "text/plain": [
       "      id    location                    name  nbr_beers\n",
       "0  39912  Kyrgyzstan  Abdysh-Ata (Абдыш Ата)          5\n",
       "1  39913  Kyrgyzstan             Arpa (АРПА)          1\n",
       "2  39914  Kyrgyzstan               Bear Beer          4\n",
       "3  39915  Kyrgyzstan             Blonder Pub          4\n",
       "4  39916  Kyrgyzstan            Kellers Bier          2"
      ]
     },
     "execution_count": 61,
     "metadata": {},
     "output_type": "execute_result"
    }
   ],
   "source": [
    "df_adv_breweries.head()"
   ]
  },
  {
   "cell_type": "raw",
   "id": "4a67221b",
   "metadata": {},
   "source": []
  },
  {
   "cell_type": "code",
   "execution_count": 63,
   "id": "c2ac9c63",
   "metadata": {
    "scrolled": true
   },
   "outputs": [
    {
     "data": {
      "text/plain": [
       "array(['Kyrgyzstan', 'Gabon', 'Northern Ireland', 'Wales', 'Scotland',\n",
       "       'England', 'Singapore', 'China', 'Chad', 'Saint Lucia', 'Cameroon',\n",
       "       'Burkina Faso', 'Zambia', 'Romania', 'Nigeria', 'South Korea',\n",
       "       'Georgia', 'Hong Kong', 'Guinea', 'Montenegro', 'Benin', 'Mexico',\n",
       "       'Fiji Islands', 'Guam', 'Laos', 'Senegal', 'Honduras', 'Morocco',\n",
       "       'Indonesia', 'Monaco', 'Ukraine', 'Canada', 'Jordan', 'Portugal',\n",
       "       'Guernsey', 'India', 'Puerto Rico', 'Japan', 'Iran', 'Hungary',\n",
       "       'Bulgaria', 'Guinea-Bissau', 'Liberia', 'Togo', 'Niger', 'Croatia',\n",
       "       'Lithuania', 'Cyprus', 'Italy', 'Andorra', 'Botswana',\n",
       "       'Turks and Caicos Islands', 'Papua New Guinea', 'Mongolia',\n",
       "       'Ethiopia', 'Denmark', 'French Polynesia', 'Greece', 'Sri Lanka',\n",
       "       'Syria', 'Germany', 'Jersey', 'Armenia', 'Mozambique', 'Palestine',\n",
       "       'Bangladesh', 'Turkmenistan', 'Reunion', 'Eritrea', 'Switzerland',\n",
       "       'Malta', 'Israel', 'El Salvador', 'French Guiana', 'Tonga',\n",
       "       'Zimbabwe', 'Samoa', 'Barbados', 'Chile', 'Cambodia',\n",
       "       'Cook Islands', 'Trinidad & Tobago', 'Bhutan', 'Uzbekistan',\n",
       "       'Egypt', 'Uruguay', 'Dominican Republic', 'Equatorial Guinea',\n",
       "       'Russia', 'Tajikistan', 'Vietnam', 'Palau', 'Namibia',\n",
       "       'Cayman Islands', 'Sao Tome and Principe', 'Australia',\n",
       "       'Martinique', 'Virgin Islands (British)', 'Ecuador', 'Vanuatu',\n",
       "       'Congo', 'Uganda', 'Mauritius', 'Azerbaijan', 'Argentina',\n",
       "       'Tunisia', 'Belize', 'Luxembourg', 'Madagascar', 'Aruba', 'Spain',\n",
       "       'Swaziland', 'South Sudan', 'Belarus', 'Ivory Coast', 'Austria',\n",
       "       'Bolivia', 'Central African Republic', 'Mali', 'Suriname',\n",
       "       'Solomon Islands', 'Rwanda', 'Brazil', 'Gibraltar', 'Taiwan',\n",
       "       'Turkey', 'Greenland', 'Moldova', 'Haiti', 'Guadeloupe',\n",
       "       'South Africa', 'Lesotho', 'Czech Republic', 'Micronesia',\n",
       "       'Paraguay', 'Iraq', 'Faroe Islands', 'Panama', 'Netherlands',\n",
       "       'Peru', 'New Zealand', 'Ghana', 'Slovenia', 'Serbia', 'Macedonia',\n",
       "       'Latvia', 'Guatemala', 'Cuba', 'Venezuela', 'Angola', 'Finland',\n",
       "       'Nicaragua', 'Sweden', 'Seychelles', 'Poland',\n",
       "       'Cape Verde Islands', 'Libya', 'Isle of Man', 'Ireland', 'Myanmar',\n",
       "       'Algeria', 'Kazakhstan', 'Norway', 'United States, Wisconsin',\n",
       "       'United States, Georgia', 'United States, Arkansas',\n",
       "       'United States, Louisiana', 'United States, West Virginia',\n",
       "       'United States, California', 'United States, Washington',\n",
       "       'United States, Massachusetts', 'United States, New Jersey',\n",
       "       'United States, New York', 'United States, Colorado',\n",
       "       'United States, Maryland', 'United States, Arizona',\n",
       "       'United States, Pennsylvania', 'United States, Indiana',\n",
       "       'United States, Montana', 'United States, South Dakota',\n",
       "       'United States, Tennessee', 'United States, Mississippi',\n",
       "       'United States, Virginia', 'United States, Missouri',\n",
       "       'United States, Alabama', 'United States, New Hampshire',\n",
       "       'United States, Delaware', 'United States, Iowa',\n",
       "       'United States, Minnesota', 'United States, Kentucky',\n",
       "       'United States, North Carolina', 'United States, Nebraska',\n",
       "       'United States, Wyoming', 'United States, Vermont',\n",
       "       'United States, New Mexico', 'United States, Alaska',\n",
       "       'United States, Rhode Island', 'United States, Kansas',\n",
       "       'United States, Florida', 'United States, Idaho',\n",
       "       'United States, Maine', 'United States, Ohio',\n",
       "       'United States, Michigan', 'United States, North Dakota',\n",
       "       'United States, Nevada', 'United States, Oregon',\n",
       "       'United States, Hawaii', 'United States, Connecticut',\n",
       "       'United States, Texas', 'United States, Illinois',\n",
       "       'United States, South Carolina', 'United States, Oklahoma',\n",
       "       'United States, Utah', 'Costa Rica', 'North Korea',\n",
       "       'Bosnia and Herzegovina', 'Jamaica', 'Lebanon', 'Dominica',\n",
       "       'Virgin Islands (U.S.)', 'Colombia', 'Iceland', 'Macau', 'Grenada',\n",
       "       'Malaysia', 'Belgium', 'Saint Vincent and The Grenadines',\n",
       "       'Bahamas', 'Philippines', 'Curaçao', 'San Marino', 'France',\n",
       "       'Bermuda', 'Mayotte', 'Antigua & Barbuda', 'Estonia', 'Gambia',\n",
       "       'Pakistan', 'New Caledonia', 'Slovak Republic', 'Liechtenstein',\n",
       "       'Tanzania', 'Malawi', 'Nepal', 'United Arab Emirates', 'Kenya',\n",
       "       'Thailand', 'Albania', 'Canada, Ontario',\n",
       "       'United Kingdom, England',\n",
       "       'United States</a> | <a href=\"http://maps.google.com/maps?oi=map&q=%2C+US\" target=\"_blank\">map</a><br><a href=\"http://bluecorncafe.com\" target=\"_blank\">bluecorncafe.com',\n",
       "       'Canada, Manitoba', 'Canada, Nova Scotia',\n",
       "       'United States</a> | <a href=\"http://maps.google.com/maps?oi=map&q=%2C+US\" target=\"_blank\">map</a><br><a href=\"http://leinie.com\" target=\"_blank\">leinie.com',\n",
       "       'United States</a> | <a href=\"http://maps.google.com/maps?oi=map&q=%2C+US\" target=\"_blank\">map</a><br><a href=\"http://gordonbiersch.com\" target=\"_blank\">gordonbiersch.com',\n",
       "       'Canada, Quebec', 'Canada, Newfoundland and Labrador',\n",
       "       'Canada, Alberta',\n",
       "       'United States</a> | <a href=\"http://maps.google.com/maps?oi=map&q=%2C+US\" target=\"_blank\">map</a><br><a href=\"http://bigbuck.com\" target=\"_blank\">bigbuck.com',\n",
       "       'United States</a> | <a href=\"http://maps.google.com/maps?oi=map&q=%2C+US\" target=\"_blank\">map</a><br><a href=\"http://bjsrestaurants.com\" target=\"_blank\">bjsrestaurants.com',\n",
       "       'Canada, British Columbia',\n",
       "       'United States</a> | <a href=\"http://maps.google.com/maps?oi=map&q=%2C+US\" target=\"_blank\">map</a><br><a href=\"http://thirstydog.com\" target=\"_blank\">thirstydog.com',\n",
       "       'United States</a> | <a href=\"http://maps.google.com/maps?oi=map&q=%2C+US\" target=\"_blank\">map</a><br><a href=\"http://tiedhouse.com\" target=\"_blank\">tiedhouse.com',\n",
       "       'United States</a> | <a href=\"http://maps.google.com/maps?oi=map&q=%2C+US\" target=\"_blank\">map</a><br><a href=\"http://capcitybrew.com\" target=\"_blank\">capcitybrew.com',\n",
       "       'United States</a> | <a href=\"http://maps.google.com/maps?oi=map&q=%2C+US\" target=\"_blank\">map</a><br><a href=\"http://ironhillbrewery.com\" target=\"_blank\">ironhillbrewery.com',\n",
       "       'Canada, Saskatchewan', 'UNKNOWN',\n",
       "       'United States</a> | <a href=\"http://maps.google.com/maps?oi=map&q=%2C+US\" target=\"_blank\">map</a><br><a href=\"http://empirebrewco.com\" target=\"_blank\">empirebrewco.com',\n",
       "       'United States</a> | <a href=\"http://maps.google.com/maps?oi=map&q=%2C+US\" target=\"_blank\">map</a><br><a href=\"http://tworows.com\" target=\"_blank\">tworows.com',\n",
       "       'United States, United States', 'Canada, New Brunswick',\n",
       "       'United States</a> | <a href=\"http://maps.google.com/maps?oi=map&q=%2C+US\" target=\"_blank\">map</a><br><a href=\"http://buckheadbrewery.com\" target=\"_blank\">buckheadbrewery.com',\n",
       "       'United States</a> | <a href=\"http://maps.google.com/maps?oi=map&q=%2C+US\" target=\"_blank\">map</a><br><a href=\"http://seadogbrewing.com\" target=\"_blank\">seadogbrewing.com',\n",
       "       'United States</a> | <a href=\"http://maps.google.com/maps?oi=map&q=%2C+US\" target=\"_blank\">map',\n",
       "       'United Kingdom, Wales', 'United Kingdom, Scotland',\n",
       "       'United States</a> | <a href=\"http://maps.google.com/maps?oi=map&q=%2C+US\" target=\"_blank\">map</a><br><a href=\"http://sebagobrewing.com\" target=\"_blank\">sebagobrewing.com',\n",
       "       'United States</a> | <a href=\"http://maps.google.com/maps?oi=map&q=%2C+US\" target=\"_blank\">map</a><br><a href=\"http://sonorabrew.com\" target=\"_blank\">sonorabrew.com',\n",
       "       'United States</a> | <a href=\"http://maps.google.com/maps?oi=map&q=%2C+US\" target=\"_blank\">map</a><br><a href=\"http://triumphbrew.com\" target=\"_blank\">triumphbrew.com',\n",
       "       'United States</a> | <a href=\"http://maps.google.com/maps?oi=map&q=%2C+US\" target=\"_blank\">map</a><br><a href=\"http://mcmenamins.com\" target=\"_blank\">mcmenamins.com',\n",
       "       'United States</a> | <a href=\"http://maps.google.com/maps?oi=map&q=%2C+US\" target=\"_blank\">map</a><br><a href=\"http://theram.com\" target=\"_blank\">theram.com',\n",
       "       'United States</a> | <a href=\"http://maps.google.com/maps?oi=map&q=%2C+US\" target=\"_blank\">map</a><br><a href=\"http://herefordandhops.com\" target=\"_blank\">herefordandhops.com',\n",
       "       'United States</a> | <a href=\"http://maps.google.com/maps?oi=map&q=%2C+US\" target=\"_blank\">map</a><br><a href=\"http://barleysbrewing.com\" target=\"_blank\">barleysbrewing.com',\n",
       "       'United States</a> | <a href=\"http://maps.google.com/maps?oi=map&q=%2C+US\" target=\"_blank\">map</a><br><a href=\"http://shipyard.com\" target=\"_blank\">shipyard.com',\n",
       "       'United States</a> | <a href=\"http://maps.google.com/maps?oi=map&q=%2C+US\" target=\"_blank\">map</a><br><a href=\"http://rockbottom.com\" target=\"_blank\">rockbottom.com',\n",
       "       'Illinois</a>, 60614-4939, <a href=\"/place/directory/9/US/\">United States',\n",
       "       'United States</a> | <a href=\"http://maps.google.com/maps?oi=map&q=%2C+US\" target=\"_blank\">map</a><br><a href=\"http://snakeriverbrewing.com\" target=\"_blank\">snakeriverbrewing.com',\n",
       "       'United States</a> | <a href=\"http://maps.google.com/maps?oi=map&q=%2C+US\" target=\"_blank\">map</a><br><a href=\"http://steelheadbrewingco.com\" target=\"_blank\">steelheadbrewingco.com',\n",
       "       'United States</a> | <a href=\"http://maps.google.com/maps?oi=map&q=%2C+US\" target=\"_blank\">map</a><br><a href=\"http://weepingradish.com\" target=\"_blank\">weepingradish.com',\n",
       "       'United States</a> | <a href=\"http://maps.google.com/maps?oi=map&q=%2C+US\" target=\"_blank\">map</a><br><a href=\"http://gcfb.net\" target=\"_blank\">gcfb.net',\n",
       "       'United States</a> | <a href=\"http://maps.google.com/maps?oi=map&q=%2C+US\" target=\"_blank\">map</a><br><a href=\"http://mendobrew.com\" target=\"_blank\">mendobrew.com',\n",
       "       'United States</a> | <a href=\"http://maps.google.com/maps?oi=map&q=%2C+US\" target=\"_blank\">map</a><br><a href=\"http://hopsonline.com\" target=\"_blank\">hopsonline.com',\n",
       "       'United States</a> | <a href=\"http://maps.google.com/maps?oi=map&q=%2C+US\" target=\"_blank\">map</a><br><a href=\"http://eotrading.com\" target=\"_blank\">eotrading.com',\n",
       "       'New York</a>, 13057, <a href=\"/place/directory/9/US/\">United States',\n",
       "       'United States</a> | <a href=\"http://maps.google.com/maps?oi=map&q=%2C+US\" target=\"_blank\">map</a><br><a href=\"http://ilvicino.com\" target=\"_blank\">ilvicino.com',\n",
       "       'Utah</a><br><a href=\"http://utahbeers.com\" target=\"_blank\">utahbeers.com',\n",
       "       'United States</a> | <a href=\"http://maps.google.com/maps?oi=map&q=%2C+US\" target=\"_blank\">map</a><br><a href=\"http://fullsailbrewing.com\" target=\"_blank\">fullsailbrewing.com'],\n",
       "      dtype=object)"
      ]
     },
     "execution_count": 63,
     "metadata": {},
     "output_type": "execute_result"
    }
   ],
   "source": [
    "df_adv_breweries['location'].unique()\n",
    "\n",
    "# need to clean the location - delete http"
   ]
  },
  {
   "cell_type": "code",
   "execution_count": 81,
   "id": "3fcec61a",
   "metadata": {},
   "outputs": [
    {
     "name": "stdout",
     "output_type": "stream",
     "text": [
      "brewery with 0 beer :(  2236\n",
      "brewery with more than 10 beer 6270\n",
      "brewery with more than 100 beer 583\n",
      "brewery with more than 500 beer 59\n",
      "brewery with more than 1000 beer 33\n"
     ]
    }
   ],
   "source": [
    "print('brewery with 0 beer :( ', (df_adv_breweries['nbr_beers'] == 0).sum())\n",
    "print('brewery with more than 10 beer', (df_adv_breweries['nbr_beers'] > 10).sum())\n",
    "print('brewery with more than 100 beer', (df_adv_breweries['nbr_beers'] > 100).sum())\n",
    "print('brewery with more than 500 beer', (df_adv_breweries['nbr_beers'] > 500).sum())\n",
    "print('brewery with more than 1000 beer', (df_adv_breweries['nbr_beers'] > 1000).sum())"
   ]
  },
  {
   "cell_type": "markdown",
   "id": "5266f388",
   "metadata": {},
   "source": [
    "### Adv User"
   ]
  },
  {
   "cell_type": "code",
   "execution_count": 82,
   "id": "59c3c829",
   "metadata": {},
   "outputs": [
    {
     "data": {
      "text/html": [
       "<div>\n",
       "<style scoped>\n",
       "    .dataframe tbody tr th:only-of-type {\n",
       "        vertical-align: middle;\n",
       "    }\n",
       "\n",
       "    .dataframe tbody tr th {\n",
       "        vertical-align: top;\n",
       "    }\n",
       "\n",
       "    .dataframe thead th {\n",
       "        text-align: right;\n",
       "    }\n",
       "</style>\n",
       "<table border=\"1\" class=\"dataframe\">\n",
       "  <thead>\n",
       "    <tr style=\"text-align: right;\">\n",
       "      <th></th>\n",
       "      <th>nbr_ratings</th>\n",
       "      <th>nbr_reviews</th>\n",
       "      <th>user_id</th>\n",
       "      <th>user_name</th>\n",
       "      <th>joined</th>\n",
       "      <th>location</th>\n",
       "    </tr>\n",
       "  </thead>\n",
       "  <tbody>\n",
       "    <tr>\n",
       "      <th>0</th>\n",
       "      <td>7820</td>\n",
       "      <td>465</td>\n",
       "      <td>nmann08.184925</td>\n",
       "      <td>nmann08</td>\n",
       "      <td>1.199704e+09</td>\n",
       "      <td>United States, Washington</td>\n",
       "    </tr>\n",
       "    <tr>\n",
       "      <th>1</th>\n",
       "      <td>2521</td>\n",
       "      <td>2504</td>\n",
       "      <td>stjamesgate.163714</td>\n",
       "      <td>StJamesGate</td>\n",
       "      <td>1.191838e+09</td>\n",
       "      <td>United States, New York</td>\n",
       "    </tr>\n",
       "    <tr>\n",
       "      <th>2</th>\n",
       "      <td>1797</td>\n",
       "      <td>1143</td>\n",
       "      <td>mdagnew.19527</td>\n",
       "      <td>mdagnew</td>\n",
       "      <td>1.116410e+09</td>\n",
       "      <td>Northern Ireland</td>\n",
       "    </tr>\n",
       "    <tr>\n",
       "      <th>3</th>\n",
       "      <td>31</td>\n",
       "      <td>31</td>\n",
       "      <td>helloloser12345.10867</td>\n",
       "      <td>helloloser12345</td>\n",
       "      <td>1.101380e+09</td>\n",
       "      <td>Northern Ireland</td>\n",
       "    </tr>\n",
       "    <tr>\n",
       "      <th>4</th>\n",
       "      <td>604</td>\n",
       "      <td>604</td>\n",
       "      <td>cypressbob.3708</td>\n",
       "      <td>cypressbob</td>\n",
       "      <td>1.069326e+09</td>\n",
       "      <td>Northern Ireland</td>\n",
       "    </tr>\n",
       "  </tbody>\n",
       "</table>\n",
       "</div>"
      ],
      "text/plain": [
       "   nbr_ratings  nbr_reviews                user_id        user_name  \\\n",
       "0         7820          465         nmann08.184925          nmann08   \n",
       "1         2521         2504     stjamesgate.163714      StJamesGate   \n",
       "2         1797         1143          mdagnew.19527          mdagnew   \n",
       "3           31           31  helloloser12345.10867  helloloser12345   \n",
       "4          604          604        cypressbob.3708       cypressbob   \n",
       "\n",
       "         joined                   location  \n",
       "0  1.199704e+09  United States, Washington  \n",
       "1  1.191838e+09    United States, New York  \n",
       "2  1.116410e+09           Northern Ireland  \n",
       "3  1.101380e+09           Northern Ireland  \n",
       "4  1.069326e+09           Northern Ireland  "
      ]
     },
     "execution_count": 82,
     "metadata": {},
     "output_type": "execute_result"
    }
   ],
   "source": [
    "df_adv_users.head()"
   ]
  },
  {
   "cell_type": "code",
   "execution_count": 84,
   "id": "73904897",
   "metadata": {},
   "outputs": [
    {
     "data": {
      "text/plain": [
       "194"
      ]
     },
     "execution_count": 84,
     "metadata": {},
     "output_type": "execute_result"
    }
   ],
   "source": [
    "df_adv_users['location'].nunique()\n",
    "# \n",
    "# we need to count the number of user per location to see\n",
    "#"
   ]
  },
  {
   "cell_type": "code",
   "execution_count": 88,
   "id": "dd236f01",
   "metadata": {},
   "outputs": [
    {
     "name": "stdout",
     "output_type": "stream",
     "text": [
      "user with more than 10 review 15017\n",
      "user with more than 100 review 4332\n",
      "user with more than 500 review 1125\n",
      "user with more than 1000 review 488\n"
     ]
    }
   ],
   "source": [
    "print('user with more than 10 review', (df_adv_users['nbr_reviews'] > 10).sum())\n",
    "print('user with more than 100 review', (df_adv_users['nbr_reviews'] > 100).sum())\n",
    "print('user with more than 500 review', (df_adv_users['nbr_reviews'] > 500).sum())\n",
    "print('user with more than 1000 review', (df_adv_users['nbr_reviews'] > 1000).sum())\n"
   ]
  },
  {
   "cell_type": "code",
   "execution_count": 90,
   "id": "cc3ca75c",
   "metadata": {},
   "outputs": [
    {
     "name": "stdout",
     "output_type": "stream",
     "text": [
      "user with more than 10 ratings 46404\n",
      "user with more than 100 ratings 14387\n",
      "user with more than 500 ratings 3826\n",
      "user with more than 1000 ratings 1607\n"
     ]
    }
   ],
   "source": [
    "print('user with more than 10 ratings', (df_adv_users['nbr_ratings'] > 10).sum())\n",
    "print('user with more than 100 ratings', (df_adv_users['nbr_ratings'] > 100).sum())\n",
    "print('user with more than 500 ratings', (df_adv_users['nbr_ratings'] > 500).sum())\n",
    "print('user with more than 1000 ratings', (df_adv_users['nbr_ratings'] > 1000).sum())"
   ]
  },
  {
   "cell_type": "code",
   "execution_count": null,
   "id": "4c63c2e0",
   "metadata": {},
   "outputs": [],
   "source": []
  }
 ],
 "metadata": {
  "kernelspec": {
   "display_name": "Python 3 (ipykernel)",
   "language": "python",
   "name": "python3"
  },
  "language_info": {
   "codemirror_mode": {
    "name": "ipython",
    "version": 3
   },
   "file_extension": ".py",
   "mimetype": "text/x-python",
   "name": "python",
   "nbconvert_exporter": "python",
   "pygments_lexer": "ipython3",
   "version": "3.9.7"
  }
 },
 "nbformat": 4,
 "nbformat_minor": 5
}
