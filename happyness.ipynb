{
 "cells": [
  {
   "cell_type": "code",
   "execution_count": 55,
   "id": "6478ddb3",
   "metadata": {},
   "outputs": [
    {
     "name": "stdout",
     "output_type": "stream",
     "text": [
      "The autoreload extension is already loaded. To reload it, use:\n",
      "  %reload_ext autoreload\n"
     ]
    }
   ],
   "source": [
    "%load_ext autoreload\n",
    "%autoreload 2\n",
    "\n",
    "import os, codecs, string, random\n",
    "import numpy as np\n",
    "import pandas as pd\n",
    "\n",
    "#NLP libraries\n",
    "import spacy, nltk, gensim, sklearn\n",
    "import pyLDAvis.gensim_models\n",
    "\n",
    "import matplotlib.pyplot as plt\n",
    "\n",
    "\n",
    "#The data\n",
    "corpus_advBeer_root = 'DATA/BeerAdvocate/'\n",
    "df_adv_breweries = pd.read_csv(corpus_advBeer_root + 'breweries.csv')"
   ]
  },
  {
   "cell_type": "code",
   "execution_count": 35,
   "id": "f622e1c7",
   "metadata": {},
   "outputs": [],
   "source": [
    "import vaderSentiment\n",
    "from vaderSentiment.vaderSentiment import SentimentIntensityAnalyzer\n",
    "\n",
    "analyzer = SentimentIntensityAnalyzer()"
   ]
  },
  {
   "cell_type": "code",
   "execution_count": null,
   "id": "a42299d3",
   "metadata": {},
   "outputs": [],
   "source": [
    "#from functions import read_data\n",
    "#mysmallratings=read_data.fetch_reviews(\"DATA/RateBeer.tar\", max_csv_size = 500000,early_stop = 0)"
   ]
  },
  {
   "cell_type": "code",
   "execution_count": null,
   "id": "b57b5006",
   "metadata": {},
   "outputs": [],
   "source": [
    "df_adv_breweries.head()"
   ]
  },
  {
   "cell_type": "code",
   "execution_count": null,
   "id": "c00b8a02",
   "metadata": {},
   "outputs": [],
   "source": [
    "nlp = spacy.load('en_core_web_sm')"
   ]
  },
  {
   "cell_type": "code",
   "execution_count": null,
   "id": "aebcc450",
   "metadata": {},
   "outputs": [],
   "source": [
    "books = list()\n",
    "\n",
    "for book_file in os.listdir(corpus_advBeer_root):\n",
    "    if \".txt\" in book_file:\n",
    "        if not \".gz\" in book_file:\n",
    "            print(book_file)\n",
    "            with codecs.open(os.path.join(corpus_advBeer_root,book_file), encoding=\"utf8\") as f:\n",
    "                books.append(f.read())"
   ]
  },
  {
   "cell_type": "code",
   "execution_count": 3,
   "id": "c6c86fb8",
   "metadata": {},
   "outputs": [],
   "source": [
    "beers_name = \"\"\n",
    "beer_id = \"\"\n",
    "brewery_name = \"\"\n",
    "brewery_id = \"\"\n",
    "user_id = \"\"\n",
    "text = []\n",
    "data = []\n",
    "with open(corpus_advBeer_root + \"reviews.txt\", encoding='utf-8') as f:\n",
    "    for line in f.readlines():\n",
    "        line = line[:-1]\n",
    "        #print(line)\n",
    "            \n",
    "        if line.startswith(\"beer_id: \"):\n",
    "            beer_id = line[9:]\n",
    "            #print('BEER ID:', beers_id)\n",
    "            continue\n",
    "            \n",
    "        if line.startswith(\"brewery_id: \"):\n",
    "            brewery_id = line[11:]\n",
    "            #print('Brewery ID:', brewery_id)\n",
    "            continue\n",
    "            \n",
    "        if line.startswith(\"text: \"):\n",
    "            review = line[6:]\n",
    "            #print('TEXT:', reviews)\n",
    "            data.append([beer_id,brewery_id, review])\n",
    "            continue\n",
    "            \n",
    "            \n",
    "df_rev = pd.DataFrame(data, columns=[\"beer_id\",\"brewery_id\", \"review\"])\n",
    "       "
   ]
  },
  {
   "cell_type": "code",
   "execution_count": 4,
   "id": "549f787a",
   "metadata": {},
   "outputs": [
    {
     "data": {
      "text/plain": [
       "(2589586, 3)"
      ]
     },
     "execution_count": 4,
     "metadata": {},
     "output_type": "execute_result"
    }
   ],
   "source": [
    "df_rev.shape"
   ]
  },
  {
   "cell_type": "code",
   "execution_count": 5,
   "id": "093e9b40",
   "metadata": {},
   "outputs": [],
   "source": [
    "df_rev_low = df_rev.loc[:10000, :]"
   ]
  },
  {
   "cell_type": "code",
   "execution_count": 7,
   "id": "e28dcab1",
   "metadata": {},
   "outputs": [
    {
     "data": {
      "text/plain": [
       "(10001, 3)"
      ]
     },
     "execution_count": 7,
     "metadata": {},
     "output_type": "execute_result"
    }
   ],
   "source": [
    "df_rev_low.shape"
   ]
  },
  {
   "cell_type": "code",
   "execution_count": 8,
   "id": "ecdb0676",
   "metadata": {},
   "outputs": [
    {
     "name": "stdout",
     "output_type": "stream",
     "text": [
      "10001 2589586\n"
     ]
    },
    {
     "data": {
      "text/html": [
       "<div>\n",
       "<style scoped>\n",
       "    .dataframe tbody tr th:only-of-type {\n",
       "        vertical-align: middle;\n",
       "    }\n",
       "\n",
       "    .dataframe tbody tr th {\n",
       "        vertical-align: top;\n",
       "    }\n",
       "\n",
       "    .dataframe thead th {\n",
       "        text-align: right;\n",
       "    }\n",
       "</style>\n",
       "<table border=\"1\" class=\"dataframe\">\n",
       "  <thead>\n",
       "    <tr style=\"text-align: right;\">\n",
       "      <th></th>\n",
       "      <th>beer_id</th>\n",
       "      <th>brewery_id</th>\n",
       "      <th>review</th>\n",
       "    </tr>\n",
       "  </thead>\n",
       "  <tbody>\n",
       "    <tr>\n",
       "      <th>0</th>\n",
       "      <td>142544</td>\n",
       "      <td>37262</td>\n",
       "      <td>From a bottle, pours a piss yellow color with ...</td>\n",
       "    </tr>\n",
       "    <tr>\n",
       "      <th>1</th>\n",
       "      <td>19590</td>\n",
       "      <td>10093</td>\n",
       "      <td>Pours pale copper with a thin head that quickl...</td>\n",
       "    </tr>\n",
       "    <tr>\n",
       "      <th>2</th>\n",
       "      <td>19590</td>\n",
       "      <td>10093</td>\n",
       "      <td>500ml Bottle bought from The Vintage, Antrim.....</td>\n",
       "    </tr>\n",
       "    <tr>\n",
       "      <th>3</th>\n",
       "      <td>19590</td>\n",
       "      <td>10093</td>\n",
       "      <td>Serving: 500ml brown bottlePour: Good head wit...</td>\n",
       "    </tr>\n",
       "    <tr>\n",
       "      <th>4</th>\n",
       "      <td>19590</td>\n",
       "      <td>10093</td>\n",
       "      <td>500ml bottlePours with a light, slightly hazy ...</td>\n",
       "    </tr>\n",
       "  </tbody>\n",
       "</table>\n",
       "</div>"
      ],
      "text/plain": [
       "  beer_id brewery_id                                             review\n",
       "0  142544      37262  From a bottle, pours a piss yellow color with ...\n",
       "1   19590      10093  Pours pale copper with a thin head that quickl...\n",
       "2   19590      10093  500ml Bottle bought from The Vintage, Antrim.....\n",
       "3   19590      10093  Serving: 500ml brown bottlePour: Good head wit...\n",
       "4   19590      10093  500ml bottlePours with a light, slightly hazy ..."
      ]
     },
     "execution_count": 8,
     "metadata": {},
     "output_type": "execute_result"
    }
   ],
   "source": [
    "# check all brewery id are in the dataset brewery\n",
    "print(df_rev_low['brewery_id'].astype(int).isin(df_adv_breweries['id']).sum(), df_rev.shape[0])\n",
    "\n",
    "df_rev_low.head()"
   ]
  },
  {
   "cell_type": "code",
   "execution_count": 9,
   "id": "d3ef0080",
   "metadata": {},
   "outputs": [
    {
     "name": "stdout",
     "output_type": "stream",
     "text": [
      "(92, 2)\n"
     ]
    }
   ],
   "source": [
    "review = df_adv_breweries.loc[df_adv_breweries['id'].isin(df_rev_low['brewery_id'].astype(int)),['id','location']]\n",
    "print(review.shape)"
   ]
  },
  {
   "cell_type": "code",
   "execution_count": 18,
   "id": "b2390bde",
   "metadata": {},
   "outputs": [
    {
     "data": {
      "text/html": [
       "<div>\n",
       "<style scoped>\n",
       "    .dataframe tbody tr th:only-of-type {\n",
       "        vertical-align: middle;\n",
       "    }\n",
       "\n",
       "    .dataframe tbody tr th {\n",
       "        vertical-align: top;\n",
       "    }\n",
       "\n",
       "    .dataframe thead th {\n",
       "        text-align: right;\n",
       "    }\n",
       "</style>\n",
       "<table border=\"1\" class=\"dataframe\">\n",
       "  <thead>\n",
       "    <tr style=\"text-align: right;\">\n",
       "      <th></th>\n",
       "      <th>id</th>\n",
       "      <th>location</th>\n",
       "    </tr>\n",
       "  </thead>\n",
       "  <tbody>\n",
       "    <tr>\n",
       "      <th>8</th>\n",
       "      <td>37262</td>\n",
       "      <td>Gabon</td>\n",
       "    </tr>\n",
       "    <tr>\n",
       "      <th>9</th>\n",
       "      <td>10093</td>\n",
       "      <td>Northern Ireland</td>\n",
       "    </tr>\n",
       "    <tr>\n",
       "      <th>11</th>\n",
       "      <td>297</td>\n",
       "      <td>Northern Ireland</td>\n",
       "    </tr>\n",
       "    <tr>\n",
       "      <th>12</th>\n",
       "      <td>40360</td>\n",
       "      <td>Northern Ireland</td>\n",
       "    </tr>\n",
       "    <tr>\n",
       "      <th>13</th>\n",
       "      <td>3415</td>\n",
       "      <td>Northern Ireland</td>\n",
       "    </tr>\n",
       "  </tbody>\n",
       "</table>\n",
       "</div>"
      ],
      "text/plain": [
       "       id          location\n",
       "8   37262             Gabon\n",
       "9   10093  Northern Ireland\n",
       "11    297  Northern Ireland\n",
       "12  40360  Northern Ireland\n",
       "13   3415  Northern Ireland"
      ]
     },
     "execution_count": 18,
     "metadata": {},
     "output_type": "execute_result"
    }
   ],
   "source": [
    "review.head()"
   ]
  },
  {
   "cell_type": "code",
   "execution_count": 19,
   "id": "029ffcf1",
   "metadata": {},
   "outputs": [
    {
     "data": {
      "text/html": [
       "<div>\n",
       "<style scoped>\n",
       "    .dataframe tbody tr th:only-of-type {\n",
       "        vertical-align: middle;\n",
       "    }\n",
       "\n",
       "    .dataframe tbody tr th {\n",
       "        vertical-align: top;\n",
       "    }\n",
       "\n",
       "    .dataframe thead th {\n",
       "        text-align: right;\n",
       "    }\n",
       "</style>\n",
       "<table border=\"1\" class=\"dataframe\">\n",
       "  <thead>\n",
       "    <tr style=\"text-align: right;\">\n",
       "      <th></th>\n",
       "      <th>beer_id</th>\n",
       "      <th>brewery_id</th>\n",
       "      <th>review</th>\n",
       "    </tr>\n",
       "  </thead>\n",
       "  <tbody>\n",
       "    <tr>\n",
       "      <th>0</th>\n",
       "      <td>142544</td>\n",
       "      <td>37262</td>\n",
       "      <td>From a bottle, pours a piss yellow color with ...</td>\n",
       "    </tr>\n",
       "    <tr>\n",
       "      <th>1</th>\n",
       "      <td>19590</td>\n",
       "      <td>10093</td>\n",
       "      <td>Pours pale copper with a thin head that quickl...</td>\n",
       "    </tr>\n",
       "    <tr>\n",
       "      <th>2</th>\n",
       "      <td>19590</td>\n",
       "      <td>10093</td>\n",
       "      <td>500ml Bottle bought from The Vintage, Antrim.....</td>\n",
       "    </tr>\n",
       "    <tr>\n",
       "      <th>3</th>\n",
       "      <td>19590</td>\n",
       "      <td>10093</td>\n",
       "      <td>Serving: 500ml brown bottlePour: Good head wit...</td>\n",
       "    </tr>\n",
       "    <tr>\n",
       "      <th>4</th>\n",
       "      <td>19590</td>\n",
       "      <td>10093</td>\n",
       "      <td>500ml bottlePours with a light, slightly hazy ...</td>\n",
       "    </tr>\n",
       "  </tbody>\n",
       "</table>\n",
       "</div>"
      ],
      "text/plain": [
       "  beer_id brewery_id                                             review\n",
       "0  142544      37262  From a bottle, pours a piss yellow color with ...\n",
       "1   19590      10093  Pours pale copper with a thin head that quickl...\n",
       "2   19590      10093  500ml Bottle bought from The Vintage, Antrim.....\n",
       "3   19590      10093  Serving: 500ml brown bottlePour: Good head wit...\n",
       "4   19590      10093  500ml bottlePours with a light, slightly hazy ..."
      ]
     },
     "execution_count": 19,
     "metadata": {},
     "output_type": "execute_result"
    }
   ],
   "source": [
    "df_rev_low.head()"
   ]
  },
  {
   "cell_type": "code",
   "execution_count": 28,
   "id": "c2e2d2a6",
   "metadata": {},
   "outputs": [],
   "source": [
    "counter = 0\n",
    "\n",
    "def my_location4(x, review):\n",
    "    \n",
    "    #print(x, type(x))\n",
    "    \n",
    "    location =  review.loc[review['id'] == int(x),'location'].values  \n",
    "    \n",
    "    return location[0]\n",
    "    "
   ]
  },
  {
   "cell_type": "code",
   "execution_count": 32,
   "id": "b2e5df8c",
   "metadata": {},
   "outputs": [
    {
     "name": "stderr",
     "output_type": "stream",
     "text": [
      "C:\\Users\\xavie\\AppData\\Local\\Programs\\Python\\Python39\\lib\\site-packages\\pandas\\core\\indexing.py:1773: SettingWithCopyWarning: \n",
      "A value is trying to be set on a copy of a slice from a DataFrame.\n",
      "Try using .loc[row_indexer,col_indexer] = value instead\n",
      "\n",
      "See the caveats in the documentation: https://pandas.pydata.org/pandas-docs/stable/user_guide/indexing.html#returning-a-view-versus-a-copy\n",
      "  self._setitem_single_column(ilocs[0], value, pi)\n"
     ]
    }
   ],
   "source": [
    "df_rev_low.loc[:,'location'] = df_rev_low['brewery_id'].apply(my_location4, args= (review,) )"
   ]
  },
  {
   "cell_type": "code",
   "execution_count": 33,
   "id": "0fc0808f",
   "metadata": {},
   "outputs": [
    {
     "data": {
      "text/html": [
       "<div>\n",
       "<style scoped>\n",
       "    .dataframe tbody tr th:only-of-type {\n",
       "        vertical-align: middle;\n",
       "    }\n",
       "\n",
       "    .dataframe tbody tr th {\n",
       "        vertical-align: top;\n",
       "    }\n",
       "\n",
       "    .dataframe thead th {\n",
       "        text-align: right;\n",
       "    }\n",
       "</style>\n",
       "<table border=\"1\" class=\"dataframe\">\n",
       "  <thead>\n",
       "    <tr style=\"text-align: right;\">\n",
       "      <th></th>\n",
       "      <th>beer_id</th>\n",
       "      <th>brewery_id</th>\n",
       "      <th>review</th>\n",
       "      <th>location</th>\n",
       "    </tr>\n",
       "  </thead>\n",
       "  <tbody>\n",
       "    <tr>\n",
       "      <th>0</th>\n",
       "      <td>142544</td>\n",
       "      <td>37262</td>\n",
       "      <td>From a bottle, pours a piss yellow color with ...</td>\n",
       "      <td>Gabon</td>\n",
       "    </tr>\n",
       "    <tr>\n",
       "      <th>1</th>\n",
       "      <td>19590</td>\n",
       "      <td>10093</td>\n",
       "      <td>Pours pale copper with a thin head that quickl...</td>\n",
       "      <td>Northern Ireland</td>\n",
       "    </tr>\n",
       "    <tr>\n",
       "      <th>2</th>\n",
       "      <td>19590</td>\n",
       "      <td>10093</td>\n",
       "      <td>500ml Bottle bought from The Vintage, Antrim.....</td>\n",
       "      <td>Northern Ireland</td>\n",
       "    </tr>\n",
       "    <tr>\n",
       "      <th>3</th>\n",
       "      <td>19590</td>\n",
       "      <td>10093</td>\n",
       "      <td>Serving: 500ml brown bottlePour: Good head wit...</td>\n",
       "      <td>Northern Ireland</td>\n",
       "    </tr>\n",
       "    <tr>\n",
       "      <th>4</th>\n",
       "      <td>19590</td>\n",
       "      <td>10093</td>\n",
       "      <td>500ml bottlePours with a light, slightly hazy ...</td>\n",
       "      <td>Northern Ireland</td>\n",
       "    </tr>\n",
       "  </tbody>\n",
       "</table>\n",
       "</div>"
      ],
      "text/plain": [
       "  beer_id brewery_id                                             review  \\\n",
       "0  142544      37262  From a bottle, pours a piss yellow color with ...   \n",
       "1   19590      10093  Pours pale copper with a thin head that quickl...   \n",
       "2   19590      10093  500ml Bottle bought from The Vintage, Antrim.....   \n",
       "3   19590      10093  Serving: 500ml brown bottlePour: Good head wit...   \n",
       "4   19590      10093  500ml bottlePours with a light, slightly hazy ...   \n",
       "\n",
       "           location  \n",
       "0             Gabon  \n",
       "1  Northern Ireland  \n",
       "2  Northern Ireland  \n",
       "3  Northern Ireland  \n",
       "4  Northern Ireland  "
      ]
     },
     "execution_count": 33,
     "metadata": {},
     "output_type": "execute_result"
    }
   ],
   "source": [
    "df_rev_low.head()"
   ]
  },
  {
   "cell_type": "code",
   "execution_count": 162,
   "id": "baeac77e",
   "metadata": {},
   "outputs": [],
   "source": [
    "def my_location3(re, df1):\n",
    "    \n",
    "    for i in range(review.shape[0]):\n",
    "        df1.loc[2['brewery_id'] == re.iloc[i,0],'location'] = re.iloc[i,1]\n",
    "        \n",
    "        if (i % 10) == 0:\n",
    "            print('step',i)\n",
    "        \n",
    "    return df1\n",
    "    \n",
    "    "
   ]
  },
  {
   "cell_type": "code",
   "execution_count": null,
   "id": "126ccb0b",
   "metadata": {
    "scrolled": true
   },
   "outputs": [
    {
     "name": "stdout",
     "output_type": "stream",
     "text": [
      "step 0\n",
      "step 10\n",
      "step 20\n",
      "step 30\n",
      "step 40\n",
      "step 50\n",
      "step 60\n",
      "step 70\n",
      "step 80\n",
      "step 90\n",
      "step 100\n",
      "step 110\n",
      "step 120\n",
      "step 130\n",
      "step 140\n",
      "step 150\n",
      "step 160\n",
      "step 170\n",
      "step 180\n",
      "step 190\n",
      "step 200\n",
      "step 210\n",
      "step 220\n",
      "step 230\n",
      "step 240\n",
      "step 250\n",
      "step 260\n",
      "step 270\n",
      "step 280\n",
      "step 290\n",
      "step 300\n",
      "step 310\n",
      "step 320\n",
      "step 330\n",
      "step 340\n",
      "step 350\n",
      "step 360\n",
      "step 370\n",
      "step 380\n",
      "step 390\n",
      "step 400\n",
      "step 410\n",
      "step 420\n",
      "step 430\n",
      "step 440\n",
      "step 450\n",
      "step 460\n"
     ]
    }
   ],
   "source": [
    "df_rev = my_location3(review, df_rev)"
   ]
  },
  {
   "cell_type": "code",
   "execution_count": null,
   "id": "1ccadcec",
   "metadata": {},
   "outputs": [],
   "source": [
    "def my_location2(x, df_local, df2):\n",
    "    \n",
    "    #print(type(df_local), df_local.shape)\n",
    "\n",
    "    #print(df2['location'].isna().values.any())\n",
    "    if (df2['location'].isna().values.any()):\n",
    "        \n",
    "        location = df_local.loc[df_local['id'] == int(x), 'location'].values\n",
    "\n",
    "        df2.loc[df2['brewery_id'].astype(int) == int(x), 'location' ] = df2.loc[df2['id']]\n",
    "    else:\n",
    "        print('finish')\n",
    "    \n",
    "    return df2"
   ]
  },
  {
   "cell_type": "code",
   "execution_count": 154,
   "id": "19c7a4eb",
   "metadata": {},
   "outputs": [],
   "source": [
    "count = 0"
   ]
  },
  {
   "cell_type": "code",
   "execution_count": 155,
   "id": "1ac41c80",
   "metadata": {},
   "outputs": [],
   "source": [
    "def my_location(x, df_local, df2):\n",
    "    count = count +1\n",
    "    print(count)\n",
    "\n",
    "    #print(type(df_local), df_local.shape)\n",
    "\n",
    "    #print(df2['location'].isna().values.any())\n",
    "    if (df2['location'].isna().values.any()):\n",
    "\n",
    "        location = df_local.loc[df_local['id'] == int(x), 'location'].values\n",
    "\n",
    "        df2.loc[df2['brewery_id'].astype(int) == int(x), 'location' ] = location[0]\n",
    "    else:\n",
    "        print('finish')\n",
    "\n",
    "    return df2\n"
   ]
  },
  {
   "cell_type": "code",
   "execution_count": 156,
   "id": "9b224439",
   "metadata": {},
   "outputs": [
    {
     "ename": "UnboundLocalError",
     "evalue": "local variable 'count' referenced before assignment",
     "output_type": "error",
     "traceback": [
      "\u001b[1;31m---------------------------------------------------------------------------\u001b[0m",
      "\u001b[1;31mUnboundLocalError\u001b[0m                         Traceback (most recent call last)",
      "\u001b[1;32m~\\AppData\\Local\\Temp/ipykernel_9652/637884372.py\u001b[0m in \u001b[0;36m<module>\u001b[1;34m\u001b[0m\n\u001b[1;32m----> 1\u001b[1;33m \u001b[0mdf_rev\u001b[0m \u001b[1;33m=\u001b[0m \u001b[0mreview\u001b[0m\u001b[1;33m[\u001b[0m\u001b[1;34m'id'\u001b[0m\u001b[1;33m]\u001b[0m\u001b[1;33m.\u001b[0m\u001b[0mapply\u001b[0m\u001b[1;33m(\u001b[0m\u001b[0mmy_location\u001b[0m\u001b[1;33m,\u001b[0m \u001b[0margs\u001b[0m\u001b[1;33m=\u001b[0m \u001b[1;33m(\u001b[0m\u001b[0mdf_adv_breweries\u001b[0m\u001b[1;33m,\u001b[0m\u001b[0mdf_rev\u001b[0m\u001b[1;33m,\u001b[0m\u001b[1;33m)\u001b[0m\u001b[1;33m)\u001b[0m\u001b[1;33m\u001b[0m\u001b[1;33m\u001b[0m\u001b[0m\n\u001b[0m",
      "\u001b[1;32m~\\AppData\\Local\\Programs\\Python\\Python39\\lib\\site-packages\\pandas\\core\\series.py\u001b[0m in \u001b[0;36mapply\u001b[1;34m(self, func, convert_dtype, args, **kwargs)\u001b[0m\n\u001b[0;32m   4355\u001b[0m         \u001b[0mdtype\u001b[0m\u001b[1;33m:\u001b[0m \u001b[0mfloat64\u001b[0m\u001b[1;33m\u001b[0m\u001b[1;33m\u001b[0m\u001b[0m\n\u001b[0;32m   4356\u001b[0m         \"\"\"\n\u001b[1;32m-> 4357\u001b[1;33m         \u001b[1;32mreturn\u001b[0m \u001b[0mSeriesApply\u001b[0m\u001b[1;33m(\u001b[0m\u001b[0mself\u001b[0m\u001b[1;33m,\u001b[0m \u001b[0mfunc\u001b[0m\u001b[1;33m,\u001b[0m \u001b[0mconvert_dtype\u001b[0m\u001b[1;33m,\u001b[0m \u001b[0margs\u001b[0m\u001b[1;33m,\u001b[0m \u001b[0mkwargs\u001b[0m\u001b[1;33m)\u001b[0m\u001b[1;33m.\u001b[0m\u001b[0mapply\u001b[0m\u001b[1;33m(\u001b[0m\u001b[1;33m)\u001b[0m\u001b[1;33m\u001b[0m\u001b[1;33m\u001b[0m\u001b[0m\n\u001b[0m\u001b[0;32m   4358\u001b[0m \u001b[1;33m\u001b[0m\u001b[0m\n\u001b[0;32m   4359\u001b[0m     def _reduce(\n",
      "\u001b[1;32m~\\AppData\\Local\\Programs\\Python\\Python39\\lib\\site-packages\\pandas\\core\\apply.py\u001b[0m in \u001b[0;36mapply\u001b[1;34m(self)\u001b[0m\n\u001b[0;32m   1041\u001b[0m             \u001b[1;32mreturn\u001b[0m \u001b[0mself\u001b[0m\u001b[1;33m.\u001b[0m\u001b[0mapply_str\u001b[0m\u001b[1;33m(\u001b[0m\u001b[1;33m)\u001b[0m\u001b[1;33m\u001b[0m\u001b[1;33m\u001b[0m\u001b[0m\n\u001b[0;32m   1042\u001b[0m \u001b[1;33m\u001b[0m\u001b[0m\n\u001b[1;32m-> 1043\u001b[1;33m         \u001b[1;32mreturn\u001b[0m \u001b[0mself\u001b[0m\u001b[1;33m.\u001b[0m\u001b[0mapply_standard\u001b[0m\u001b[1;33m(\u001b[0m\u001b[1;33m)\u001b[0m\u001b[1;33m\u001b[0m\u001b[1;33m\u001b[0m\u001b[0m\n\u001b[0m\u001b[0;32m   1044\u001b[0m \u001b[1;33m\u001b[0m\u001b[0m\n\u001b[0;32m   1045\u001b[0m     \u001b[1;32mdef\u001b[0m \u001b[0magg\u001b[0m\u001b[1;33m(\u001b[0m\u001b[0mself\u001b[0m\u001b[1;33m)\u001b[0m\u001b[1;33m:\u001b[0m\u001b[1;33m\u001b[0m\u001b[1;33m\u001b[0m\u001b[0m\n",
      "\u001b[1;32m~\\AppData\\Local\\Programs\\Python\\Python39\\lib\\site-packages\\pandas\\core\\apply.py\u001b[0m in \u001b[0;36mapply_standard\u001b[1;34m(self)\u001b[0m\n\u001b[0;32m   1096\u001b[0m                 \u001b[1;31m# List[Union[Callable[..., Any], str]]]]]\"; expected\u001b[0m\u001b[1;33m\u001b[0m\u001b[1;33m\u001b[0m\u001b[0m\n\u001b[0;32m   1097\u001b[0m                 \u001b[1;31m# \"Callable[[Any], Any]\"\u001b[0m\u001b[1;33m\u001b[0m\u001b[1;33m\u001b[0m\u001b[0m\n\u001b[1;32m-> 1098\u001b[1;33m                 mapped = lib.map_infer(\n\u001b[0m\u001b[0;32m   1099\u001b[0m                     \u001b[0mvalues\u001b[0m\u001b[1;33m,\u001b[0m\u001b[1;33m\u001b[0m\u001b[1;33m\u001b[0m\u001b[0m\n\u001b[0;32m   1100\u001b[0m                     \u001b[0mf\u001b[0m\u001b[1;33m,\u001b[0m  \u001b[1;31m# type: ignore[arg-type]\u001b[0m\u001b[1;33m\u001b[0m\u001b[1;33m\u001b[0m\u001b[0m\n",
      "\u001b[1;32m~\\AppData\\Local\\Programs\\Python\\Python39\\lib\\site-packages\\pandas\\_libs\\lib.pyx\u001b[0m in \u001b[0;36mpandas._libs.lib.map_infer\u001b[1;34m()\u001b[0m\n",
      "\u001b[1;32m~\\AppData\\Local\\Programs\\Python\\Python39\\lib\\site-packages\\pandas\\core\\apply.py\u001b[0m in \u001b[0;36mf\u001b[1;34m(x)\u001b[0m\n\u001b[0;32m    129\u001b[0m \u001b[1;33m\u001b[0m\u001b[0m\n\u001b[0;32m    130\u001b[0m             \u001b[1;32mdef\u001b[0m \u001b[0mf\u001b[0m\u001b[1;33m(\u001b[0m\u001b[0mx\u001b[0m\u001b[1;33m)\u001b[0m\u001b[1;33m:\u001b[0m\u001b[1;33m\u001b[0m\u001b[1;33m\u001b[0m\u001b[0m\n\u001b[1;32m--> 131\u001b[1;33m                 \u001b[1;32mreturn\u001b[0m \u001b[0mfunc\u001b[0m\u001b[1;33m(\u001b[0m\u001b[0mx\u001b[0m\u001b[1;33m,\u001b[0m \u001b[1;33m*\u001b[0m\u001b[0margs\u001b[0m\u001b[1;33m,\u001b[0m \u001b[1;33m**\u001b[0m\u001b[0mkwargs\u001b[0m\u001b[1;33m)\u001b[0m\u001b[1;33m\u001b[0m\u001b[1;33m\u001b[0m\u001b[0m\n\u001b[0m\u001b[0;32m    132\u001b[0m \u001b[1;33m\u001b[0m\u001b[0m\n\u001b[0;32m    133\u001b[0m         \u001b[1;32melse\u001b[0m\u001b[1;33m:\u001b[0m\u001b[1;33m\u001b[0m\u001b[1;33m\u001b[0m\u001b[0m\n",
      "\u001b[1;32m~\\AppData\\Local\\Temp/ipykernel_9652/2695529126.py\u001b[0m in \u001b[0;36mmy_location\u001b[1;34m(x, df_local, df2)\u001b[0m\n\u001b[0;32m      1\u001b[0m \u001b[1;32mdef\u001b[0m \u001b[0mmy_location\u001b[0m\u001b[1;33m(\u001b[0m\u001b[0mx\u001b[0m\u001b[1;33m,\u001b[0m \u001b[0mdf_local\u001b[0m\u001b[1;33m,\u001b[0m \u001b[0mdf2\u001b[0m\u001b[1;33m)\u001b[0m\u001b[1;33m:\u001b[0m\u001b[1;33m\u001b[0m\u001b[1;33m\u001b[0m\u001b[0m\n\u001b[1;32m----> 2\u001b[1;33m     \u001b[0mcount\u001b[0m \u001b[1;33m=\u001b[0m \u001b[0mcount\u001b[0m \u001b[1;33m+\u001b[0m\u001b[1;36m1\u001b[0m\u001b[1;33m\u001b[0m\u001b[1;33m\u001b[0m\u001b[0m\n\u001b[0m\u001b[0;32m      3\u001b[0m     \u001b[0mprint\u001b[0m\u001b[1;33m(\u001b[0m\u001b[0mcount\u001b[0m\u001b[1;33m)\u001b[0m\u001b[1;33m\u001b[0m\u001b[1;33m\u001b[0m\u001b[0m\n\u001b[0;32m      4\u001b[0m \u001b[1;33m\u001b[0m\u001b[0m\n\u001b[0;32m      5\u001b[0m     \u001b[1;31m#print(type(df_local), df_local.shape)\u001b[0m\u001b[1;33m\u001b[0m\u001b[1;33m\u001b[0m\u001b[0m\n",
      "\u001b[1;31mUnboundLocalError\u001b[0m: local variable 'count' referenced before assignment"
     ]
    }
   ],
   "source": [
    "df_rev = review['id'].apply(my_location, args= (df_adv_breweries,df_rev,))"
   ]
  },
  {
   "cell_type": "code",
   "execution_count": 62,
   "id": "6f26dcf6",
   "metadata": {},
   "outputs": [
    {
     "name": "stdout",
     "output_type": "stream",
     "text": [
      "Northern Ireland\n"
     ]
    }
   ],
   "source": [
    "location = df_adv_breweries.loc[df_adv_breweries['id'] == 10093, 'location'].values\n",
    "print(location[0])"
   ]
  },
  {
   "cell_type": "code",
   "execution_count": null,
   "id": "b9c77b56",
   "metadata": {},
   "outputs": [],
   "source": [
    "def get_location(x, df1,df2):\n",
    "    #print(value)\n",
    "    \n",
    "    location = df1.loc[df1['id']== int(x), 'location'].values\n",
    "    \n",
    "    df2.loc[df2['brewery_id'].astype(int) == int(x9 'location' ] = location[0]\n",
    "    \n",
    "    return df2"
   ]
  },
  {
   "cell_type": "markdown",
   "id": "bc605c1a",
   "metadata": {},
   "source": [
    "### Sentiment Analyzer"
   ]
  },
  {
   "cell_type": "code",
   "execution_count": 103,
   "id": "b940d005",
   "metadata": {},
   "outputs": [],
   "source": [
    "# try a simple example to check the code is okay\n",
    "example = df_rev_low.review[0]\n",
    "vs = analyzer.polarity_scores(example)"
   ]
  },
  {
   "cell_type": "code",
   "execution_count": 104,
   "id": "213a3184",
   "metadata": {},
   "outputs": [
    {
     "name": "stdout",
     "output_type": "stream",
     "text": [
      "From a bottle, pours a piss yellow color with a fizzy white head.  This is carbonated similar to soda.The nose is basic.. malt, corn, a little floral, some earthy straw.  The flavor is boring, not offensive, just boring.  Tastes a little like corn and grain.  Hard to write a review on something so simple.Its ok, could be way worse. \n",
      "\n",
      "Negative sentiment: 0.139\n",
      "Neutral sentiment: 0.763\n",
      "Positive sentiment: 0.098\n",
      "Compound sentiment: -0.4312\n"
     ]
    }
   ],
   "source": [
    "print(example, '\\n')\n",
    "print('Negative sentiment:',vs['neg'])\n",
    "print('Neutral sentiment:',vs['neu'])\n",
    "print('Positive sentiment:',vs['pos'])\n",
    "print('Compound sentiment:',vs['compound'])"
   ]
  },
  {
   "cell_type": "code",
   "execution_count": 90,
   "id": "3fc9e1ea",
   "metadata": {},
   "outputs": [
    {
     "data": {
      "text/plain": [
       "(10001, 4)"
      ]
     },
     "execution_count": 90,
     "metadata": {},
     "output_type": "execute_result"
    }
   ],
   "source": [
    "import matplotlib.pyplot as plt\n",
    "ROW = 10000\n",
    "df_rev_low.shape"
   ]
  },
  {
   "cell_type": "code",
   "execution_count": 111,
   "id": "6e068926",
   "metadata": {},
   "outputs": [
    {
     "data": {
      "image/png": "[encoded data removed]",
      "text/plain": [
       "<Figure size 1152x432 with 4 Axes>"
      ]
     },
     "metadata": {
      "needs_background": "light"
     },
     "output_type": "display_data"
    }
   ],
   "source": [
    "plt.close('all')\n",
    "fig = plt.figure(figsize=(16,6))\n",
    "\n",
    "ax1 = plt.subplot(141)\n",
    "ax2 = plt.subplot(142)\n",
    "ax3 = plt.subplot(143)\n",
    "ax4 = plt.subplot(144)\n",
    "\n",
    "negative_sent = []\n",
    "[negative_sent.append(analyzer.polarity_scores(sent)['neg']) for sent in df_rev_low.review]\n",
    "ax1.hist(negative_sent,bins=15)\n",
    "ax1.set(xlim = [0,1], ylim = [0,ROW] , xlabel='Negative sentiment', ylabel = 'Number of review') \n",
    "\n",
    "positive_sent = []\n",
    "[positive_sent.append(analyzer.polarity_scores(sent)['pos']) for sent in df_rev_low.review]\n",
    "ax2.hist(positive_sent,bins=15)\n",
    "ax2.set(xlim = [0,1], ylim = [0,ROW] , xlabel='Positive sentiment', ylabel = 'Number of review') \n",
    "\n",
    "total_sent = []\n",
    "[total_sent.append(analyzer.polarity_scores(sent)['compound']) for sent in df_rev_low.review]\n",
    "ax3.hist(total_sent,bins=15)\n",
    "ax3.set(xlim = [0,1], ylim = [0,ROW] , xlabel='Compound sentiment', ylabel = 'Number of review') \n",
    "\n",
    "neutre_sent = []\n",
    "[neutre_sent.append(analyzer.polarity_scores(sent)['neu']) for sent in df_rev_low.review]\n",
    "ax4.hist(neutre_sent,bins=15)\n",
    "ax4.set(xlim = [0,1], ylim = [0,ROW] , xlabel='Neutral sentiment', ylabel = 'Number of review') \n",
    "\n",
    "plt.tight_layout()"
   ]
  },
  {
   "cell_type": "code",
   "execution_count": null,
   "id": "5876fbb3",
   "metadata": {},
   "outputs": [],
   "source": [
    "#print('Number of positive sentences:',sum(np.array(sents)>=0.05))\n",
    "#print('Number of negative sentences:',sum(np.array(sents)<=-0.05))\n",
    "#print('Number of neutral sentences:',sum(np.abs(np.array(sents))<0.05))"
   ]
  },
  {
   "cell_type": "markdown",
   "id": "d9c155cb",
   "metadata": {},
   "source": [
    "###  Sentiments Analysis with Location"
   ]
  },
  {
   "cell_type": "code",
   "execution_count": 94,
   "id": "5ab8a458",
   "metadata": {},
   "outputs": [
    {
     "data": {
      "text/plain": [
       "Scotland            8627\n",
       "Wales                969\n",
       "Northern Ireland     404\n",
       "Gabon                  1\n",
       "Name: location, dtype: int64"
      ]
     },
     "execution_count": 94,
     "metadata": {},
     "output_type": "execute_result"
    }
   ],
   "source": [
    "df_rev_low['location'].value_counts()"
   ]
  },
  {
   "cell_type": "code",
   "execution_count": 95,
   "id": "05bd6b43",
   "metadata": {},
   "outputs": [],
   "source": [
    "df_rev_low_sco = df_rev_low.loc[df_rev_low['location'] == 'Scotland',:]\n",
    "df_rev_low_wal = df_rev_low.loc[df_rev_low['location'] == 'Wales',:]\n",
    "df_rev_low_noir = df_rev_low.loc[df_rev_low['location'] == 'Northern Ireland',:]"
   ]
  },
  {
   "cell_type": "code",
   "execution_count": 99,
   "id": "194f97e0",
   "metadata": {},
   "outputs": [
    {
     "data": {
      "text/plain": [
       "[(0.0, 1.0),\n",
       " (0.0, 10000.0),\n",
       " Text(0.5, 0, 'Negative sentiment Northern Ireland'),\n",
       " Text(0, 0.5, 'Number of review gabon')]"
      ]
     },
     "execution_count": 99,
     "metadata": {},
     "output_type": "execute_result"
    },
    {
     "data": {
      "image/png": "[encoded data removed]",
      "text/plain": [
       "<Figure size 792x432 with 3 Axes>"
      ]
     },
     "metadata": {
      "needs_background": "light"
     },
     "output_type": "display_data"
    }
   ],
   "source": [
    "plt.close('all')\n",
    "fig = plt.figure(figsize=(11,6))\n",
    "\n",
    "ax1 = plt.subplot(131)\n",
    "ax2 = plt.subplot(132)\n",
    "ax3 = plt.subplot(133)\n",
    "\n",
    "negative_sent = []\n",
    "[negative_sent.append(analyzer.polarity_scores(sent)['neg']) for sent in df_rev_low_sco.review]\n",
    "ax1.hist(negative_sent,bins=15)\n",
    "ax1.set(xlim = [0,1], ylim = [0,ROW] , xlabel='Negative sentiment Scoland', ylabel = 'Number of review sco') \n",
    "\n",
    "negative_sent = []\n",
    "[negative_sent.append(analyzer.polarity_scores(sent)['neg']) for sent in df_rev_low_wal.review]\n",
    "ax2.hist(negative_sent,bins=15)\n",
    "ax2.set(xlim = [0,1], ylim = [0,ROW] , xlabel='Negative sentiment Wales', ylabel = 'Number of review wales') \n",
    "\n",
    "negative_sent = []\n",
    "[negative_sent.append(analyzer.polarity_scores(sent)['neg']) for sent in df_rev_low_noir.review]\n",
    "ax3.hist(negative_sent,bins=15)\n",
    "ax3.set(xlim = [0,1], ylim = [0,ROW] , xlabel='Negative sentiment Northern Ireland', ylabel = 'Number of review gabon') \n",
    "\n",
    "\n"
   ]
  },
  {
   "cell_type": "code",
   "execution_count": 101,
   "id": "6f4929cb",
   "metadata": {},
   "outputs": [
    {
     "data": {
      "text/plain": [
       "[(0.0, 1.0),\n",
       " (0.0, 10000.0),\n",
       " Text(0.5, 0, 'Positive sentiment Northern Ireland'),\n",
       " Text(0, 0.5, 'Number of review Northern Ireland')]"
      ]
     },
     "execution_count": 101,
     "metadata": {},
     "output_type": "execute_result"
    },
    {
     "data": {
      "image/png": "[encoded data removed]",
      "text/plain": [
       "<Figure size 792x432 with 3 Axes>"
      ]
     },
     "metadata": {
      "needs_background": "light"
     },
     "output_type": "display_data"
    }
   ],
   "source": [
    "plt.close('all')\n",
    "fig2 = plt.figure(figsize=(11,6))\n",
    "\n",
    "ax1 = plt.subplot(131)\n",
    "ax2 = plt.subplot(132)\n",
    "ax3 = plt.subplot(133)\n",
    "\n",
    "positive_sent = []\n",
    "[positive_sent.append(analyzer.polarity_scores(sent)['pos']) for sent in df_rev_low_sco.review]\n",
    "ax1.hist(positive_sent,bins=15)\n",
    "ax1.set(xlim = [0,1], ylim = [0,ROW] , xlabel='Positive sentiment sco', ylabel = 'Number of review sco') \n",
    "\n",
    "positive_sent=[]\n",
    "[positive_sent.append(analyzer.polarity_scores(sent)['pos']) for sent in df_rev_low_wal.review]\n",
    "ax2.hist(positive_sent,bins=15)\n",
    "ax2.set(xlim = [0,1], ylim = [0,ROW] , xlabel='Positive sentiment Wales', ylabel = 'Number of review wales') \n",
    "\n",
    "positive_sent=[]\n",
    "[positive_sent.append(analyzer.polarity_scores(sent)['pos']) for sent in df_rev_low_noir.review]\n",
    "ax3.hist(positive_sent,bins=15)\n",
    "ax3.set(xlim = [0,1], ylim = [0,ROW] , xlabel='Positive sentiment Northern Ireland', ylabel = 'Number of review Northern Ireland') "
   ]
  },
  {
   "cell_type": "code",
   "execution_count": 105,
   "id": "96539498",
   "metadata": {},
   "outputs": [
    {
     "data": {
      "text/plain": [
       "[(0.0, 1.0),\n",
       " (0.0, 10000.0),\n",
       " Text(0.5, 0, 'Neutral sentiment Northern Ireland'),\n",
       " Text(0, 0.5, 'Number of review Northern Ireland')]"
      ]
     },
     "execution_count": 105,
     "metadata": {},
     "output_type": "execute_result"
    },
    {
     "data": {
      "image/png": "[encoded data removed]",
      "text/plain": [
       "<Figure size 792x432 with 3 Axes>"
      ]
     },
     "metadata": {
      "needs_background": "light"
     },
     "output_type": "display_data"
    }
   ],
   "source": [
    "plt.close('all')\n",
    "fig2 = plt.figure(figsize=(11,6))\n",
    "\n",
    "ax1 = plt.subplot(131)\n",
    "ax2 = plt.subplot(132)\n",
    "ax3 = plt.subplot(133)\n",
    "\n",
    "neutre_sent = []\n",
    "[neutre_sent.append(analyzer.polarity_scores(sent)['neu']) for sent in df_rev_low_sco.review]\n",
    "ax1.hist(neutre_sent,bins=15)\n",
    "ax1.set(xlim = [0,1], ylim = [0,ROW] , xlabel='Neutral sentiment sco', ylabel = 'Number of review sco') \n",
    "\n",
    "neutre_sent=[]\n",
    "[neutre_sent.append(analyzer.polarity_scores(sent)['neu']) for sent in df_rev_low_wal.review]\n",
    "ax2.hist(neutre_sent,bins=15)\n",
    "ax2.set(xlim = [0,1], ylim = [0,ROW] , xlabel='Neutral sentiment Wales', ylabel = 'Number of review wales') \n",
    "\n",
    "neutre_sent=[]\n",
    "[neutre_sent.append(analyzer.polarity_scores(sent)['neu']) for sent in df_rev_low_noir.review]\n",
    "ax3.hist(neutre_sent,bins=15)\n",
    "ax3.set(xlim = [0,1], ylim = [0,ROW] , xlabel='Neutral sentiment Northern Ireland', ylabel = 'Number of review Northern Ireland') "
   ]
  },
  {
   "cell_type": "code",
   "execution_count": null,
   "id": "69a5fb9b",
   "metadata": {},
   "outputs": [],
   "source": []
  }
 ],
 "metadata": {
  "kernelspec": {
   "display_name": "Python 3 (ipykernel)",
   "language": "python",
   "name": "python3"
  },
  "language_info": {
   "codemirror_mode": {
    "name": "ipython",
    "version": 3
   },
   "file_extension": ".py",
   "mimetype": "text/x-python",
   "name": "python",
   "nbconvert_exporter": "python",
   "pygments_lexer": "ipython3",
   "version": "3.9.7"
  }
 },
 "nbformat": 4,
 "nbformat_minor": 5
}
