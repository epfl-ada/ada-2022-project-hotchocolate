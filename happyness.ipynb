{
 "cells": [
  {
   "cell_type": "code",
   "execution_count": 2,
   "id": "6478ddb3",
   "metadata": {},
   "outputs": [
    {
     "name": "stdout",
     "output_type": "stream",
     "text": [
      "The autoreload extension is already loaded. To reload it, use:\n",
      "  %reload_ext autoreload\n"
     ]
    }
   ],
   "source": [
    "%load_ext autoreload\n",
    "%autoreload 2\n",
    "\n",
    "import os, codecs, string, random\n",
    "import numpy as np\n",
    "import pandas as pd\n",
    "\n",
    "#NLP libraries\n",
    "import spacy, nltk, gensim, sklearn\n",
    "import pyLDAvis.gensim_models\n",
    "\n",
    "\n",
    "#The data\n",
    "corpus_advBeer_root = 'DATA/BeerAdvocate/'\n",
    "df_adv_breweries = pd.read_csv(corpus_advBeer_root + 'breweries.csv')"
   ]
  },
  {
   "cell_type": "code",
   "execution_count": 3,
   "id": "c00b8a02",
   "metadata": {},
   "outputs": [],
   "source": [
    "nlp = spacy.load('en_core_web_sm')"
   ]
  },
  {
   "cell_type": "code",
   "execution_count": 4,
   "id": "aebcc450",
   "metadata": {},
   "outputs": [
    {
     "name": "stdout",
     "output_type": "stream",
     "text": [
      "ratings.txt\n",
      "reviews.txt\n"
     ]
    }
   ],
   "source": [
    "books = list()\n",
    "\n",
    "for book_file in os.listdir(corpus_advBeer_root):\n",
    "    if \".txt\" in book_file:\n",
    "        if not \".gz\" in book_file:\n",
    "            print(book_file)\n",
    "            with codecs.open(os.path.join(corpus_advBeer_root,book_file), encoding=\"utf8\") as f:\n",
    "                books.append(f.read())"
   ]
  },
  {
   "cell_type": "code",
   "execution_count": 21,
   "id": "c6c86fb8",
   "metadata": {},
   "outputs": [],
   "source": [
    "beers_name = \"\"\n",
    "beer_id = \"\"\n",
    "brewery_name = \"\"\n",
    "brewery_id = \"\"\n",
    "user_id = \"\"\n",
    "text = []\n",
    "data = []\n",
    "with open(corpus_advBeer_root + \"reviews.txt\", encoding='utf-8') as f:\n",
    "    for line in f.readlines():\n",
    "        line = line[:-1]\n",
    "        #print(line)\n",
    "            \n",
    "        if line.startswith(\"beer_id: \"):\n",
    "            beer_id = line[9:]\n",
    "            #print('BEER ID:', beers_id)\n",
    "            continue\n",
    "        if line.startswith(\"text: \"):\n",
    "            review = line[6:]\n",
    "            #print('TEXT:', reviews)\n",
    "            data.append([beer_id, review])\n",
    "            continue\n",
    "            \n",
    "            \n",
    "df_rev = pd.DataFrame(data, columns=[\"beer_id\", \"review\"])\n",
    "       "
   ]
  },
  {
   "cell_type": "code",
   "execution_count": 23,
   "id": "ecdb0676",
   "metadata": {},
   "outputs": [
    {
     "data": {
      "text/html": [
       "<div>\n",
       "<style scoped>\n",
       "    .dataframe tbody tr th:only-of-type {\n",
       "        vertical-align: middle;\n",
       "    }\n",
       "\n",
       "    .dataframe tbody tr th {\n",
       "        vertical-align: top;\n",
       "    }\n",
       "\n",
       "    .dataframe thead th {\n",
       "        text-align: right;\n",
       "    }\n",
       "</style>\n",
       "<table border=\"1\" class=\"dataframe\">\n",
       "  <thead>\n",
       "    <tr style=\"text-align: right;\">\n",
       "      <th></th>\n",
       "      <th>beer_id</th>\n",
       "      <th>review</th>\n",
       "    </tr>\n",
       "  </thead>\n",
       "  <tbody>\n",
       "    <tr>\n",
       "      <th>0</th>\n",
       "      <td>142544</td>\n",
       "      <td>From a bottle, pours a piss yellow color with ...</td>\n",
       "    </tr>\n",
       "    <tr>\n",
       "      <th>1</th>\n",
       "      <td>19590</td>\n",
       "      <td>Pours pale copper with a thin head that quickl...</td>\n",
       "    </tr>\n",
       "    <tr>\n",
       "      <th>2</th>\n",
       "      <td>19590</td>\n",
       "      <td>500ml Bottle bought from The Vintage, Antrim.....</td>\n",
       "    </tr>\n",
       "    <tr>\n",
       "      <th>3</th>\n",
       "      <td>19590</td>\n",
       "      <td>Serving: 500ml brown bottlePour: Good head wit...</td>\n",
       "    </tr>\n",
       "    <tr>\n",
       "      <th>4</th>\n",
       "      <td>19590</td>\n",
       "      <td>500ml bottlePours with a light, slightly hazy ...</td>\n",
       "    </tr>\n",
       "  </tbody>\n",
       "</table>\n",
       "</div>"
      ],
      "text/plain": [
       "  beer_id                                             review\n",
       "0  142544  From a bottle, pours a piss yellow color with ...\n",
       "1   19590  Pours pale copper with a thin head that quickl...\n",
       "2   19590  500ml Bottle bought from The Vintage, Antrim.....\n",
       "3   19590  Serving: 500ml brown bottlePour: Good head wit...\n",
       "4   19590  500ml bottlePours with a light, slightly hazy ..."
      ]
     },
     "execution_count": 23,
     "metadata": {},
     "output_type": "execute_result"
    }
   ],
   "source": [
    "df_rev.head()"
   ]
  },
  {
   "cell_type": "code",
   "execution_count": 42,
   "id": "bfae743b",
   "metadata": {},
   "outputs": [
    {
     "data": {
      "text/plain": [
       "2093      3899\n",
       "11757     3811\n",
       "412       3722\n",
       "7971      3690\n",
       "1093      3561\n",
       "          ... \n",
       "110494       1\n",
       "109150       1\n",
       "168270       1\n",
       "293103       1\n",
       "19140        1\n",
       "Name: beer_id, Length: 166649, dtype: int64"
      ]
     },
     "execution_count": 42,
     "metadata": {},
     "output_type": "execute_result"
    }
   ],
   "source": [
    "# need to drop beer id with few review\n",
    "review_beer_id_list = df_rev['beer_id'].unique().astype(int)\n",
    "df_rev['beer_id'].value_counts()"
   ]
  },
  {
   "cell_type": "code",
   "execution_count": 43,
   "id": "1b3881b0",
   "metadata": {},
   "outputs": [
    {
     "data": {
      "text/plain": [
       "array([142544,  19590,  19827, ...,  19141,  19139,  19140])"
      ]
     },
     "execution_count": 43,
     "metadata": {},
     "output_type": "execute_result"
    }
   ],
   "source": [
    "review_beer_id_list"
   ]
  },
  {
   "cell_type": "code",
   "execution_count": 44,
   "id": "eb622ea9",
   "metadata": {},
   "outputs": [
    {
     "data": {
      "text/plain": [
       "13894"
      ]
     },
     "execution_count": 44,
     "metadata": {},
     "output_type": "execute_result"
    }
   ],
   "source": [
    "df_adv_breweries['id'].isin(review_beer_id_list).sum()"
   ]
  },
  {
   "cell_type": "code",
   "execution_count": 47,
   "id": "da429151",
   "metadata": {},
   "outputs": [
    {
     "ename": "ValueError",
     "evalue": "Can only compare identically-labeled Series objects",
     "output_type": "error",
     "traceback": [
      "\u001b[1;31m---------------------------------------------------------------------------\u001b[0m",
      "\u001b[1;31mValueError\u001b[0m                                Traceback (most recent call last)",
      "\u001b[1;32m~\\AppData\\Local\\Temp/ipykernel_8528/1577961552.py\u001b[0m in \u001b[0;36m<module>\u001b[1;34m\u001b[0m\n\u001b[1;32m----> 1\u001b[1;33m \u001b[0mdf_rev\u001b[0m\u001b[1;33m[\u001b[0m\u001b[1;34m'location'\u001b[0m\u001b[1;33m]\u001b[0m \u001b[1;33m=\u001b[0m \u001b[0mdf_adv_breweries\u001b[0m\u001b[1;33m.\u001b[0m\u001b[0mloc\u001b[0m\u001b[1;33m[\u001b[0m\u001b[0mdf_adv_breweries\u001b[0m\u001b[1;33m[\u001b[0m\u001b[1;34m'id'\u001b[0m\u001b[1;33m]\u001b[0m \u001b[1;33m==\u001b[0m \u001b[0mdf_rev\u001b[0m\u001b[1;33m[\u001b[0m\u001b[1;34m'beer_id'\u001b[0m\u001b[1;33m]\u001b[0m\u001b[1;33m.\u001b[0m\u001b[0mastype\u001b[0m\u001b[1;33m(\u001b[0m\u001b[0mint\u001b[0m\u001b[1;33m)\u001b[0m\u001b[1;33m,\u001b[0m \u001b[1;34m'location'\u001b[0m\u001b[1;33m]\u001b[0m\u001b[1;33m\u001b[0m\u001b[1;33m\u001b[0m\u001b[0m\n\u001b[0m",
      "\u001b[1;32m~\\AppData\\Local\\Programs\\Python\\Python39\\lib\\site-packages\\pandas\\core\\ops\\common.py\u001b[0m in \u001b[0;36mnew_method\u001b[1;34m(self, other)\u001b[0m\n\u001b[0;32m     67\u001b[0m         \u001b[0mother\u001b[0m \u001b[1;33m=\u001b[0m \u001b[0mitem_from_zerodim\u001b[0m\u001b[1;33m(\u001b[0m\u001b[0mother\u001b[0m\u001b[1;33m)\u001b[0m\u001b[1;33m\u001b[0m\u001b[1;33m\u001b[0m\u001b[0m\n\u001b[0;32m     68\u001b[0m \u001b[1;33m\u001b[0m\u001b[0m\n\u001b[1;32m---> 69\u001b[1;33m         \u001b[1;32mreturn\u001b[0m \u001b[0mmethod\u001b[0m\u001b[1;33m(\u001b[0m\u001b[0mself\u001b[0m\u001b[1;33m,\u001b[0m \u001b[0mother\u001b[0m\u001b[1;33m)\u001b[0m\u001b[1;33m\u001b[0m\u001b[1;33m\u001b[0m\u001b[0m\n\u001b[0m\u001b[0;32m     70\u001b[0m \u001b[1;33m\u001b[0m\u001b[0m\n\u001b[0;32m     71\u001b[0m     \u001b[1;32mreturn\u001b[0m \u001b[0mnew_method\u001b[0m\u001b[1;33m\u001b[0m\u001b[1;33m\u001b[0m\u001b[0m\n",
      "\u001b[1;32m~\\AppData\\Local\\Programs\\Python\\Python39\\lib\\site-packages\\pandas\\core\\arraylike.py\u001b[0m in \u001b[0;36m__eq__\u001b[1;34m(self, other)\u001b[0m\n\u001b[0;32m     30\u001b[0m     \u001b[1;33m@\u001b[0m\u001b[0munpack_zerodim_and_defer\u001b[0m\u001b[1;33m(\u001b[0m\u001b[1;34m\"__eq__\"\u001b[0m\u001b[1;33m)\u001b[0m\u001b[1;33m\u001b[0m\u001b[1;33m\u001b[0m\u001b[0m\n\u001b[0;32m     31\u001b[0m     \u001b[1;32mdef\u001b[0m \u001b[0m__eq__\u001b[0m\u001b[1;33m(\u001b[0m\u001b[0mself\u001b[0m\u001b[1;33m,\u001b[0m \u001b[0mother\u001b[0m\u001b[1;33m)\u001b[0m\u001b[1;33m:\u001b[0m\u001b[1;33m\u001b[0m\u001b[1;33m\u001b[0m\u001b[0m\n\u001b[1;32m---> 32\u001b[1;33m         \u001b[1;32mreturn\u001b[0m \u001b[0mself\u001b[0m\u001b[1;33m.\u001b[0m\u001b[0m_cmp_method\u001b[0m\u001b[1;33m(\u001b[0m\u001b[0mother\u001b[0m\u001b[1;33m,\u001b[0m \u001b[0moperator\u001b[0m\u001b[1;33m.\u001b[0m\u001b[0meq\u001b[0m\u001b[1;33m)\u001b[0m\u001b[1;33m\u001b[0m\u001b[1;33m\u001b[0m\u001b[0m\n\u001b[0m\u001b[0;32m     33\u001b[0m \u001b[1;33m\u001b[0m\u001b[0m\n\u001b[0;32m     34\u001b[0m     \u001b[1;33m@\u001b[0m\u001b[0munpack_zerodim_and_defer\u001b[0m\u001b[1;33m(\u001b[0m\u001b[1;34m\"__ne__\"\u001b[0m\u001b[1;33m)\u001b[0m\u001b[1;33m\u001b[0m\u001b[1;33m\u001b[0m\u001b[0m\n",
      "\u001b[1;32m~\\AppData\\Local\\Programs\\Python\\Python39\\lib\\site-packages\\pandas\\core\\series.py\u001b[0m in \u001b[0;36m_cmp_method\u001b[1;34m(self, other, op)\u001b[0m\n\u001b[0;32m   5494\u001b[0m \u001b[1;33m\u001b[0m\u001b[0m\n\u001b[0;32m   5495\u001b[0m         \u001b[1;32mif\u001b[0m \u001b[0misinstance\u001b[0m\u001b[1;33m(\u001b[0m\u001b[0mother\u001b[0m\u001b[1;33m,\u001b[0m \u001b[0mSeries\u001b[0m\u001b[1;33m)\u001b[0m \u001b[1;32mand\u001b[0m \u001b[1;32mnot\u001b[0m \u001b[0mself\u001b[0m\u001b[1;33m.\u001b[0m\u001b[0m_indexed_same\u001b[0m\u001b[1;33m(\u001b[0m\u001b[0mother\u001b[0m\u001b[1;33m)\u001b[0m\u001b[1;33m:\u001b[0m\u001b[1;33m\u001b[0m\u001b[1;33m\u001b[0m\u001b[0m\n\u001b[1;32m-> 5496\u001b[1;33m             \u001b[1;32mraise\u001b[0m \u001b[0mValueError\u001b[0m\u001b[1;33m(\u001b[0m\u001b[1;34m\"Can only compare identically-labeled Series objects\"\u001b[0m\u001b[1;33m)\u001b[0m\u001b[1;33m\u001b[0m\u001b[1;33m\u001b[0m\u001b[0m\n\u001b[0m\u001b[0;32m   5497\u001b[0m \u001b[1;33m\u001b[0m\u001b[0m\n\u001b[0;32m   5498\u001b[0m         \u001b[0mlvalues\u001b[0m \u001b[1;33m=\u001b[0m \u001b[0mself\u001b[0m\u001b[1;33m.\u001b[0m\u001b[0m_values\u001b[0m\u001b[1;33m\u001b[0m\u001b[1;33m\u001b[0m\u001b[0m\n",
      "\u001b[1;31mValueError\u001b[0m: Can only compare identically-labeled Series objects"
     ]
    }
   ],
   "source": [
    "df_rev['location'] = df_adv_breweries.loc[ , 'location']"
   ]
  },
  {
   "cell_type": "code",
   "execution_count": 11,
   "id": "a6d1b0e4",
   "metadata": {
    "scrolled": true
   },
   "outputs": [
    {
     "name": "stdout",
     "output_type": "stream",
     "text": [
      "beer_name: Régab\n",
      "beer_id: 142544\n",
      "brewery_name: Societe des Brasseries du Gabon (SOBRAGA)\n",
      "brewery_id: 37262\n",
      "style: Euro Pale Lager\n",
      "abv: 4.5\n",
      "date: 1440064800\n",
      "user_name: nmann08\n",
      "user_id: nmann08.184925\n",
      "appearance: 3.25\n",
      "aroma: 2.75\n",
      "palate: 3.25\n",
      "taste: 2.75\n",
      "overall: 3.0\n",
      "rating: 2.88\n",
      "text: From a bottle, pours a piss yellow color with a fizzy white head.  This is carbonated similar to soda.The nose is basic.. malt, corn, a little floral, some earthy straw.  The flavor is boring, not offensive, just boring.  Tastes a little like corn and grain.  Hard to write a review on something so simple.Its ok, c\n"
     ]
    }
   ],
   "source": [
    "print(books[0][0:600])"
   ]
  },
  {
   "cell_type": "code",
   "execution_count": 12,
   "id": "4d6f315e",
   "metadata": {
    "scrolled": true
   },
   "outputs": [
    {
     "name": "stdout",
     "output_type": "stream",
     "text": [
      "beer_name: Régab\n",
      "beer_id: 142544\n",
      "brewery_name: Societe des Brasseries du Gabon (SOBRAGA)\n",
      "brewery_id: 37262\n",
      "style: Euro Pale Lager\n",
      "abv: 4.5\n",
      "date: 1440064800\n",
      "user_name: nmann08\n",
      "user_id: nmann08.184925\n",
      "appearance: 3.25\n",
      "aroma: 2.75\n",
      "palate: 3.25\n",
      "taste: 2.75\n",
      "overall: 3.0\n",
      "rating: 2.88\n",
      "text: From a bottle, pours a piss yellow color with a fizzy white head.  This is carbonated similar to soda.The nose is basic.. malt, corn, a little floral, some earthy straw.  The flavor is boring, not offensive, just boring.  Tastes a little like corn and grain.  Hard to write a review on something so simple.Its ok, c\n"
     ]
    }
   ],
   "source": [
    "print(books[1][0:600])"
   ]
  },
  {
   "cell_type": "code",
   "execution_count": 7,
   "id": "5c42787c",
   "metadata": {},
   "outputs": [
    {
     "name": "stdout",
     "output_type": "stream",
     "text": [
      "2492374664\n"
     ]
    }
   ],
   "source": [
    "print(len(books[1]))"
   ]
  },
  {
   "cell_type": "code",
   "execution_count": 8,
   "id": "8c2aa37f",
   "metadata": {},
   "outputs": [
    {
     "name": "stdout",
     "output_type": "stream",
     "text": [
      "4296763783\n"
     ]
    }
   ],
   "source": [
    "print(len(books[0]))"
   ]
  },
  {
   "cell_type": "code",
   "execution_count": 9,
   "id": "47a64405",
   "metadata": {},
   "outputs": [],
   "source": [
    "book = [\" \".join(books[1][0:600].split())]"
   ]
  },
  {
   "cell_type": "code",
   "execution_count": 10,
   "id": "162eae1c",
   "metadata": {},
   "outputs": [
    {
     "name": "stdout",
     "output_type": "stream",
     "text": [
      "['beer_name: Régab beer_id: 142544 brewery_name: Societe des Brasseries du Gabon (SOBRAGA) brewery_id: 37262 style: Euro Pale Lager abv: 4.5 date: 1440064800 user_name: nmann08 user_id: nmann08.184925 appearance: 3.25 aroma: 2.75 palate: 3.25 taste: 2.75 overall: 3.0 rating: 2.88 text: From a bottle, pours a piss yellow color with a fizzy white head. This is carbonated similar to soda.The nose is basic.. malt, corn, a little floral, some earthy straw. The flavor is boring, not offensive, just boring. Tastes a little like corn and grain. Hard to write a review on something so simple.Its ok, c']\n"
     ]
    }
   ],
   "source": [
    "print(book)"
   ]
  },
  {
   "cell_type": "code",
   "execution_count": null,
   "id": "4cba3989",
   "metadata": {},
   "outputs": [],
   "source": []
  }
 ],
 "metadata": {
  "kernelspec": {
   "display_name": "Python 3 (ipykernel)",
   "language": "python",
   "name": "python3"
  },
  "language_info": {
   "codemirror_mode": {
    "name": "ipython",
    "version": 3
   },
   "file_extension": ".py",
   "mimetype": "text/x-python",
   "name": "python",
   "nbconvert_exporter": "python",
   "pygments_lexer": "ipython3",
   "version": "3.9.7"
  }
 },
 "nbformat": 4,
 "nbformat_minor": 5
}
