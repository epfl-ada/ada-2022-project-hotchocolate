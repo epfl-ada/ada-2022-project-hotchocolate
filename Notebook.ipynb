{
 "cells": [
  {
   "cell_type": "markdown",
   "metadata": {},
   "source": [
    "# Pre-processing and exploration of the data"
   ]
  },
  {
   "cell_type": "markdown",
   "metadata": {},
   "source": [
    "# Summary\n",
    "\n",
    "* [Pre-processing : checking for NaN values](#preprocessing)\n",
    "    * [Beer datasets](#beer_processing)\n",
    "    * [User datasets](#user_processing)\n",
    "    * [Brewery datasets](#brewery_processing)\n",
    "    \n",
    "* [Exploration of the datasets](#exploration)\n",
    "    * Summary statistics ? (discuter quoi mettre ici)\n",
    "    * [Textual reviews](#textual_reviews)\n",
    "\n",
    "* [SAT dataset](#sat)"
   ]
  },
  {
   "cell_type": "code",
   "execution_count": 1,
   "metadata": {
    "ExecuteTime": {
     "end_time": "2022-11-18T11:18:03.687341Z",
     "start_time": "2022-11-18T11:18:01.872780Z"
    }
   },
   "outputs": [],
   "source": [
    "#Uploading of the necessary libraries:\n",
    "\n",
    "import pandas as pd\n",
    "import numpy as np\n",
    "import seaborn as sns\n",
    "import matplotlib.pyplot as plt\n",
    "from scipy import stats\n",
    "import re"
   ]
  },
  {
   "cell_type": "code",
   "execution_count": 2,
   "metadata": {
    "ExecuteTime": {
     "end_time": "2022-11-18T11:18:05.356435Z",
     "start_time": "2022-11-18T11:18:03.688796Z"
    }
   },
   "outputs": [
    {
     "name": "stdout",
     "output_type": "stream",
     "text": [
      "Requirement already satisfied: seaborn in /Users/joaoprado/opt/miniconda3/envs/ada/lib/python3.9/site-packages (0.12.1)\n",
      "Requirement already satisfied: matplotlib!=3.6.1,>=3.1 in /Users/joaoprado/opt/miniconda3/envs/ada/lib/python3.9/site-packages (from seaborn) (3.5.2)\n",
      "Requirement already satisfied: pandas>=0.25 in /Users/joaoprado/opt/miniconda3/envs/ada/lib/python3.9/site-packages (from seaborn) (1.4.4)\n",
      "Requirement already satisfied: numpy>=1.17 in /Users/joaoprado/opt/miniconda3/envs/ada/lib/python3.9/site-packages (from seaborn) (1.21.5)\n",
      "Requirement already satisfied: cycler>=0.10 in /Users/joaoprado/opt/miniconda3/envs/ada/lib/python3.9/site-packages (from matplotlib!=3.6.1,>=3.1->seaborn) (0.11.0)\n",
      "Requirement already satisfied: pyparsing>=2.2.1 in /Users/joaoprado/opt/miniconda3/envs/ada/lib/python3.9/site-packages (from matplotlib!=3.6.1,>=3.1->seaborn) (3.0.9)\n",
      "Requirement already satisfied: pillow>=6.2.0 in /Users/joaoprado/opt/miniconda3/envs/ada/lib/python3.9/site-packages (from matplotlib!=3.6.1,>=3.1->seaborn) (9.2.0)\n",
      "Requirement already satisfied: python-dateutil>=2.7 in /Users/joaoprado/opt/miniconda3/envs/ada/lib/python3.9/site-packages (from matplotlib!=3.6.1,>=3.1->seaborn) (2.8.2)\n",
      "Requirement already satisfied: fonttools>=4.22.0 in /Users/joaoprado/opt/miniconda3/envs/ada/lib/python3.9/site-packages (from matplotlib!=3.6.1,>=3.1->seaborn) (4.25.0)\n",
      "Requirement already satisfied: kiwisolver>=1.0.1 in /Users/joaoprado/opt/miniconda3/envs/ada/lib/python3.9/site-packages (from matplotlib!=3.6.1,>=3.1->seaborn) (1.4.2)\n",
      "Requirement already satisfied: packaging>=20.0 in /Users/joaoprado/opt/miniconda3/envs/ada/lib/python3.9/site-packages (from matplotlib!=3.6.1,>=3.1->seaborn) (21.3)\n",
      "Requirement already satisfied: pytz>=2020.1 in /Users/joaoprado/opt/miniconda3/envs/ada/lib/python3.9/site-packages (from pandas>=0.25->seaborn) (2022.1)\n",
      "Requirement already satisfied: six>=1.5 in /Users/joaoprado/opt/miniconda3/envs/ada/lib/python3.9/site-packages (from python-dateutil>=2.7->matplotlib!=3.6.1,>=3.1->seaborn) (1.16.0)\n",
      "Note: you may need to restart the kernel to use updated packages.\n"
     ]
    }
   ],
   "source": [
    "pip install -U seaborn"
   ]
  },
  {
   "cell_type": "code",
   "execution_count": 3,
   "metadata": {
    "ExecuteTime": {
     "end_time": "2022-11-18T11:18:06.701794Z",
     "start_time": "2022-11-18T11:18:05.359517Z"
    }
   },
   "outputs": [],
   "source": [
    "#Uploading of the datasets: \n",
    "\n",
    "DATASET_BEERADVOCATE = 'DATA/BeerAdvocate/'\n",
    "DATASET_MATCHEDBEER = 'DATA/matched_beer_data/'\n",
    "DATASET_RATEBEER = 'DATA/RateBeer/'\n",
    "\n",
    "#Beer advocate dataset\n",
    "df_adv_beer = pd.read_csv(DATASET_BEERADVOCATE + 'beers.csv')\n",
    "df_adv_breweries = pd.read_csv(DATASET_BEERADVOCATE + 'breweries.csv')\n",
    "df_adv_users = pd.read_csv(DATASET_BEERADVOCATE + 'users.csv')\n",
    "\n",
    "#Matched beer dataset\n",
    "df_md_beer = pd.read_csv(DATASET_MATCHEDBEER + 'beers.csv',skiprows=1)\n",
    "df_md_beer_origin = pd.read_csv(DATASET_MATCHEDBEER + 'beers.csv', nrows=0)\n",
    "df_md_breweries = pd.read_csv(DATASET_MATCHEDBEER + 'breweries.csv', skiprows=1)\n",
    "df_md_breweries_origin = pd.read_csv(DATASET_MATCHEDBEER + 'breweries.csv', nrows=0)\n",
    "df_md_users = pd.read_csv(DATASET_MATCHEDBEER + 'users.csv', skiprows=1)\n",
    "df_md_users_origin = pd.read_csv(DATASET_MATCHEDBEER + 'users.csv', nrows=0)\n",
    "df_md_users_approx = pd.read_csv(DATASET_MATCHEDBEER + 'users_approx.csv', skiprows=1)\n",
    "df_md_users_approx_origin = pd.read_csv(DATASET_MATCHEDBEER + 'users_approx.csv', nrows=0)\n",
    "\n",
    "##Add suffix of original dataset to columns' name\n",
    "df_md_beer.columns = df_md_beer_origin.columns + '_' + df_md_beer.columns\n",
    "df_md_breweries.columns = df_md_breweries_origin.columns + '_' + df_md_breweries.columns\n",
    "df_md_users.columns = df_md_users_origin.columns + '_' + df_md_users.columns\n",
    "df_md_users_approx.columns = df_md_users_approx_origin.columns + '_' + df_md_users_approx.columns\n",
    "\n",
    "##remove '.' and numbers from column's name \n",
    "pattern_number = r'[0-9]'\n",
    "pattern_dot = r'[.]'\n",
    "df_md_beer = df_md_beer.rename(columns={c: re.sub(pattern_number,'',c) for c in df_md_beer.columns})\n",
    "df_md_beer = df_md_beer.rename(columns={c: re.sub(pattern_dot,'',c) for c in df_md_beer.columns})\n",
    "df_md_breweries = df_md_breweries.rename(columns={c: re.sub(pattern_number,'',c) for c in df_md_breweries.columns})\n",
    "df_md_breweries = df_md_breweries.rename(columns={c: re.sub(pattern_dot,'',c) for c in df_md_breweries.columns})\n",
    "df_md_users = df_md_users.rename(columns={c: re.sub(pattern_number,'',c) for c in df_md_users.columns})\n",
    "df_md_users = df_md_users.rename(columns={c: re.sub(pattern_dot,'',c) for c in df_md_users.columns})\n",
    "df_md_users_approx = df_md_users_approx.rename(columns={c: re.sub(pattern_number,'',c) for c in df_md_users_approx.columns})\n",
    "df_md_users_approx = df_md_users_approx.rename(columns={c: re.sub(pattern_dot,'',c) for c in df_md_users_approx.columns})\n",
    "\n",
    "#Ratebeer dataset\n",
    "df_rb_beer = pd.read_csv(DATASET_RATEBEER + 'beers.csv')\n",
    "df_rb_breweries = pd.read_csv(DATASET_RATEBEER + 'breweries.csv')\n",
    "df_rb_users = pd.read_csv(DATASET_RATEBEER + 'users.csv')"
   ]
  },
  {
   "cell_type": "markdown",
   "metadata": {},
   "source": [
    "<a id='preprocessing'></a>\n",
    "\n",
    "## Pre-processing: checking for NaN values\n"
   ]
  },
  {
   "cell_type": "markdown",
   "metadata": {},
   "source": [
    "<a id='beer_processing'></a>\n",
    "\n",
    "### Beer datasets"
   ]
  },
  {
   "cell_type": "code",
   "execution_count": 4,
   "metadata": {
    "ExecuteTime": {
     "end_time": "2022-11-18T11:18:06.716920Z",
     "start_time": "2022-11-18T11:18:06.703962Z"
    }
   },
   "outputs": [
    {
     "data": {
      "text/html": [
       "<div>\n",
       "<style scoped>\n",
       "    .dataframe tbody tr th:only-of-type {\n",
       "        vertical-align: middle;\n",
       "    }\n",
       "\n",
       "    .dataframe tbody tr th {\n",
       "        vertical-align: top;\n",
       "    }\n",
       "\n",
       "    .dataframe thead th {\n",
       "        text-align: right;\n",
       "    }\n",
       "</style>\n",
       "<table border=\"1\" class=\"dataframe\">\n",
       "  <thead>\n",
       "    <tr style=\"text-align: right;\">\n",
       "      <th></th>\n",
       "      <th>beer_id</th>\n",
       "      <th>beer_name</th>\n",
       "      <th>brewery_id</th>\n",
       "      <th>brewery_name</th>\n",
       "      <th>style</th>\n",
       "      <th>nbr_ratings</th>\n",
       "      <th>nbr_reviews</th>\n",
       "      <th>avg</th>\n",
       "      <th>ba_score</th>\n",
       "      <th>bros_score</th>\n",
       "      <th>abv</th>\n",
       "      <th>avg_computed</th>\n",
       "      <th>zscore</th>\n",
       "      <th>nbr_matched_valid_ratings</th>\n",
       "      <th>avg_matched_valid_ratings</th>\n",
       "    </tr>\n",
       "  </thead>\n",
       "  <tbody>\n",
       "    <tr>\n",
       "      <th>0</th>\n",
       "      <td>166064</td>\n",
       "      <td>Nashe Moskovskoe</td>\n",
       "      <td>39912</td>\n",
       "      <td>Abdysh-Ata (Абдыш Ата)</td>\n",
       "      <td>Euro Pale Lager</td>\n",
       "      <td>0</td>\n",
       "      <td>0</td>\n",
       "      <td>NaN</td>\n",
       "      <td>NaN</td>\n",
       "      <td>NaN</td>\n",
       "      <td>4.7</td>\n",
       "      <td>NaN</td>\n",
       "      <td>NaN</td>\n",
       "      <td>0</td>\n",
       "      <td>NaN</td>\n",
       "    </tr>\n",
       "    <tr>\n",
       "      <th>1</th>\n",
       "      <td>166065</td>\n",
       "      <td>Nashe Pivovskoe</td>\n",
       "      <td>39912</td>\n",
       "      <td>Abdysh-Ata (Абдыш Ата)</td>\n",
       "      <td>Euro Pale Lager</td>\n",
       "      <td>0</td>\n",
       "      <td>0</td>\n",
       "      <td>NaN</td>\n",
       "      <td>NaN</td>\n",
       "      <td>NaN</td>\n",
       "      <td>3.8</td>\n",
       "      <td>NaN</td>\n",
       "      <td>NaN</td>\n",
       "      <td>0</td>\n",
       "      <td>NaN</td>\n",
       "    </tr>\n",
       "    <tr>\n",
       "      <th>2</th>\n",
       "      <td>166066</td>\n",
       "      <td>Nashe Shakhterskoe</td>\n",
       "      <td>39912</td>\n",
       "      <td>Abdysh-Ata (Абдыш Ата)</td>\n",
       "      <td>Euro Pale Lager</td>\n",
       "      <td>0</td>\n",
       "      <td>0</td>\n",
       "      <td>NaN</td>\n",
       "      <td>NaN</td>\n",
       "      <td>NaN</td>\n",
       "      <td>4.8</td>\n",
       "      <td>NaN</td>\n",
       "      <td>NaN</td>\n",
       "      <td>0</td>\n",
       "      <td>NaN</td>\n",
       "    </tr>\n",
       "    <tr>\n",
       "      <th>3</th>\n",
       "      <td>166067</td>\n",
       "      <td>Nashe Zhigulevskoe</td>\n",
       "      <td>39912</td>\n",
       "      <td>Abdysh-Ata (Абдыш Ата)</td>\n",
       "      <td>Euro Pale Lager</td>\n",
       "      <td>0</td>\n",
       "      <td>0</td>\n",
       "      <td>NaN</td>\n",
       "      <td>NaN</td>\n",
       "      <td>NaN</td>\n",
       "      <td>4.0</td>\n",
       "      <td>NaN</td>\n",
       "      <td>NaN</td>\n",
       "      <td>0</td>\n",
       "      <td>NaN</td>\n",
       "    </tr>\n",
       "    <tr>\n",
       "      <th>4</th>\n",
       "      <td>166063</td>\n",
       "      <td>Zhivoe</td>\n",
       "      <td>39912</td>\n",
       "      <td>Abdysh-Ata (Абдыш Ата)</td>\n",
       "      <td>Euro Pale Lager</td>\n",
       "      <td>0</td>\n",
       "      <td>0</td>\n",
       "      <td>NaN</td>\n",
       "      <td>NaN</td>\n",
       "      <td>NaN</td>\n",
       "      <td>4.5</td>\n",
       "      <td>NaN</td>\n",
       "      <td>NaN</td>\n",
       "      <td>0</td>\n",
       "      <td>NaN</td>\n",
       "    </tr>\n",
       "  </tbody>\n",
       "</table>\n",
       "</div>"
      ],
      "text/plain": [
       "   beer_id           beer_name  brewery_id            brewery_name  \\\n",
       "0   166064    Nashe Moskovskoe       39912  Abdysh-Ata (Абдыш Ата)   \n",
       "1   166065     Nashe Pivovskoe       39912  Abdysh-Ata (Абдыш Ата)   \n",
       "2   166066  Nashe Shakhterskoe       39912  Abdysh-Ata (Абдыш Ата)   \n",
       "3   166067  Nashe Zhigulevskoe       39912  Abdysh-Ata (Абдыш Ата)   \n",
       "4   166063              Zhivoe       39912  Abdysh-Ata (Абдыш Ата)   \n",
       "\n",
       "             style  nbr_ratings  nbr_reviews  avg  ba_score  bros_score  abv  \\\n",
       "0  Euro Pale Lager            0            0  NaN       NaN         NaN  4.7   \n",
       "1  Euro Pale Lager            0            0  NaN       NaN         NaN  3.8   \n",
       "2  Euro Pale Lager            0            0  NaN       NaN         NaN  4.8   \n",
       "3  Euro Pale Lager            0            0  NaN       NaN         NaN  4.0   \n",
       "4  Euro Pale Lager            0            0  NaN       NaN         NaN  4.5   \n",
       "\n",
       "   avg_computed  zscore  nbr_matched_valid_ratings  avg_matched_valid_ratings  \n",
       "0           NaN     NaN                          0                        NaN  \n",
       "1           NaN     NaN                          0                        NaN  \n",
       "2           NaN     NaN                          0                        NaN  \n",
       "3           NaN     NaN                          0                        NaN  \n",
       "4           NaN     NaN                          0                        NaN  "
      ]
     },
     "execution_count": 4,
     "metadata": {},
     "output_type": "execute_result"
    }
   ],
   "source": [
    "#Let's have a look \n",
    "df_adv_beer.head()"
   ]
  },
  {
   "cell_type": "code",
   "execution_count": 5,
   "metadata": {
    "ExecuteTime": {
     "end_time": "2022-11-18T11:18:06.733007Z",
     "start_time": "2022-11-18T11:18:06.719167Z"
    }
   },
   "outputs": [
    {
     "data": {
      "text/html": [
       "<div>\n",
       "<style scoped>\n",
       "    .dataframe tbody tr th:only-of-type {\n",
       "        vertical-align: middle;\n",
       "    }\n",
       "\n",
       "    .dataframe tbody tr th {\n",
       "        vertical-align: top;\n",
       "    }\n",
       "\n",
       "    .dataframe thead th {\n",
       "        text-align: right;\n",
       "    }\n",
       "</style>\n",
       "<table border=\"1\" class=\"dataframe\">\n",
       "  <thead>\n",
       "    <tr style=\"text-align: right;\">\n",
       "      <th></th>\n",
       "      <th>ba_abv</th>\n",
       "      <th>ba_avg</th>\n",
       "      <th>ba_avg_computed</th>\n",
       "      <th>ba_avg_matched_valid_ratings</th>\n",
       "      <th>ba_ba_score</th>\n",
       "      <th>ba_beer_id</th>\n",
       "      <th>ba_beer_name</th>\n",
       "      <th>ba_beer_wout_brewery_name</th>\n",
       "      <th>ba_brewery_id</th>\n",
       "      <th>ba_brewery_name</th>\n",
       "      <th>...</th>\n",
       "      <th>rb_brewery_id</th>\n",
       "      <th>rb_brewery_name</th>\n",
       "      <th>rb_nbr_matched_valid_ratings</th>\n",
       "      <th>rb_nbr_ratings</th>\n",
       "      <th>rb_overall_score</th>\n",
       "      <th>rb_style</th>\n",
       "      <th>rb_style_score</th>\n",
       "      <th>rb_zscore</th>\n",
       "      <th>scores_diff</th>\n",
       "      <th>scores_sim</th>\n",
       "    </tr>\n",
       "  </thead>\n",
       "  <tbody>\n",
       "    <tr>\n",
       "      <th>0</th>\n",
       "      <td>4.8</td>\n",
       "      <td>3.45</td>\n",
       "      <td>3.439867</td>\n",
       "      <td>3.504068</td>\n",
       "      <td>80.0</td>\n",
       "      <td>19827</td>\n",
       "      <td>Legbiter</td>\n",
       "      <td>Legbiter</td>\n",
       "      <td>10093</td>\n",
       "      <td>Strangford Lough Brewing Company Ltd</td>\n",
       "      <td>...</td>\n",
       "      <td>4959</td>\n",
       "      <td>Strangford Lough</td>\n",
       "      <td>89</td>\n",
       "      <td>89</td>\n",
       "      <td>23.0</td>\n",
       "      <td>Golden Ale/Blond Ale</td>\n",
       "      <td>27.0</td>\n",
       "      <td>-0.698304</td>\n",
       "      <td>1.000000</td>\n",
       "      <td>1.0</td>\n",
       "    </tr>\n",
       "    <tr>\n",
       "      <th>1</th>\n",
       "      <td>6.0</td>\n",
       "      <td>3.86</td>\n",
       "      <td>3.888750</td>\n",
       "      <td>3.768333</td>\n",
       "      <td>NaN</td>\n",
       "      <td>20841</td>\n",
       "      <td>St. Patrick's Ale</td>\n",
       "      <td>Patricks Ale St</td>\n",
       "      <td>10093</td>\n",
       "      <td>Strangford Lough Brewing Company Ltd</td>\n",
       "      <td>...</td>\n",
       "      <td>4959</td>\n",
       "      <td>Strangford Lough</td>\n",
       "      <td>11</td>\n",
       "      <td>11</td>\n",
       "      <td>52.0</td>\n",
       "      <td>Irish Ale</td>\n",
       "      <td>79.0</td>\n",
       "      <td>0.005754</td>\n",
       "      <td>0.527141</td>\n",
       "      <td>1.0</td>\n",
       "    </tr>\n",
       "    <tr>\n",
       "      <th>2</th>\n",
       "      <td>4.2</td>\n",
       "      <td>3.56</td>\n",
       "      <td>3.556094</td>\n",
       "      <td>3.580417</td>\n",
       "      <td>82.0</td>\n",
       "      <td>20842</td>\n",
       "      <td>St. Patrick's Best</td>\n",
       "      <td>Patricks Best St</td>\n",
       "      <td>10093</td>\n",
       "      <td>Strangford Lough Brewing Company Ltd</td>\n",
       "      <td>...</td>\n",
       "      <td>4959</td>\n",
       "      <td>Strangford Lough</td>\n",
       "      <td>74</td>\n",
       "      <td>74</td>\n",
       "      <td>26.0</td>\n",
       "      <td>Bitter</td>\n",
       "      <td>25.0</td>\n",
       "      <td>-0.862119</td>\n",
       "      <td>0.527141</td>\n",
       "      <td>1.0</td>\n",
       "    </tr>\n",
       "    <tr>\n",
       "      <th>3</th>\n",
       "      <td>4.8</td>\n",
       "      <td>3.96</td>\n",
       "      <td>3.960000</td>\n",
       "      <td>3.960000</td>\n",
       "      <td>NaN</td>\n",
       "      <td>22659</td>\n",
       "      <td>St. Patrick's Gold</td>\n",
       "      <td>Patricks Gold St</td>\n",
       "      <td>10093</td>\n",
       "      <td>Strangford Lough Brewing Company Ltd</td>\n",
       "      <td>...</td>\n",
       "      <td>4959</td>\n",
       "      <td>Strangford Lough</td>\n",
       "      <td>4</td>\n",
       "      <td>4</td>\n",
       "      <td>NaN</td>\n",
       "      <td>Amber Ale</td>\n",
       "      <td>NaN</td>\n",
       "      <td>-0.758491</td>\n",
       "      <td>0.527141</td>\n",
       "      <td>1.0</td>\n",
       "    </tr>\n",
       "    <tr>\n",
       "      <th>4</th>\n",
       "      <td>4.5</td>\n",
       "      <td>NaN</td>\n",
       "      <td>NaN</td>\n",
       "      <td>NaN</td>\n",
       "      <td>NaN</td>\n",
       "      <td>178681</td>\n",
       "      <td>Sheelin Stout</td>\n",
       "      <td>Stout</td>\n",
       "      <td>32848</td>\n",
       "      <td>The Sheelin Brewery</td>\n",
       "      <td>...</td>\n",
       "      <td>17616</td>\n",
       "      <td>Sheelin</td>\n",
       "      <td>2</td>\n",
       "      <td>2</td>\n",
       "      <td>NaN</td>\n",
       "      <td>Mild Ale</td>\n",
       "      <td>NaN</td>\n",
       "      <td>-0.347271</td>\n",
       "      <td>1.000000</td>\n",
       "      <td>1.0</td>\n",
       "    </tr>\n",
       "  </tbody>\n",
       "</table>\n",
       "<p>5 rows × 33 columns</p>\n",
       "</div>"
      ],
      "text/plain": [
       "   ba_abv  ba_avg  ba_avg_computed  ba_avg_matched_valid_ratings  ba_ba_score  \\\n",
       "0     4.8    3.45         3.439867                      3.504068         80.0   \n",
       "1     6.0    3.86         3.888750                      3.768333          NaN   \n",
       "2     4.2    3.56         3.556094                      3.580417         82.0   \n",
       "3     4.8    3.96         3.960000                      3.960000          NaN   \n",
       "4     4.5     NaN              NaN                           NaN          NaN   \n",
       "\n",
       "   ba_beer_id        ba_beer_name ba_beer_wout_brewery_name  ba_brewery_id  \\\n",
       "0       19827            Legbiter                  Legbiter          10093   \n",
       "1       20841   St. Patrick's Ale           Patricks Ale St          10093   \n",
       "2       20842  St. Patrick's Best          Patricks Best St          10093   \n",
       "3       22659  St. Patrick's Gold          Patricks Gold St          10093   \n",
       "4      178681       Sheelin Stout                     Stout          32848   \n",
       "\n",
       "                        ba_brewery_name  ...  rb_brewery_id   rb_brewery_name  \\\n",
       "0  Strangford Lough Brewing Company Ltd  ...           4959  Strangford Lough   \n",
       "1  Strangford Lough Brewing Company Ltd  ...           4959  Strangford Lough   \n",
       "2  Strangford Lough Brewing Company Ltd  ...           4959  Strangford Lough   \n",
       "3  Strangford Lough Brewing Company Ltd  ...           4959  Strangford Lough   \n",
       "4                   The Sheelin Brewery  ...          17616           Sheelin   \n",
       "\n",
       "   rb_nbr_matched_valid_ratings  rb_nbr_ratings rb_overall_score  \\\n",
       "0                            89              89             23.0   \n",
       "1                            11              11             52.0   \n",
       "2                            74              74             26.0   \n",
       "3                             4               4              NaN   \n",
       "4                             2               2              NaN   \n",
       "\n",
       "               rb_style  rb_style_score  rb_zscore  scores_diff  scores_sim  \n",
       "0  Golden Ale/Blond Ale            27.0  -0.698304     1.000000         1.0  \n",
       "1             Irish Ale            79.0   0.005754     0.527141         1.0  \n",
       "2                Bitter            25.0  -0.862119     0.527141         1.0  \n",
       "3             Amber Ale             NaN  -0.758491     0.527141         1.0  \n",
       "4              Mild Ale             NaN  -0.347271     1.000000         1.0  \n",
       "\n",
       "[5 rows x 33 columns]"
      ]
     },
     "execution_count": 5,
     "metadata": {},
     "output_type": "execute_result"
    }
   ],
   "source": [
    "df_md_beer.head()"
   ]
  },
  {
   "cell_type": "code",
   "execution_count": 6,
   "metadata": {
    "ExecuteTime": {
     "end_time": "2022-11-18T11:18:06.743342Z",
     "start_time": "2022-11-18T11:18:06.734261Z"
    }
   },
   "outputs": [
    {
     "data": {
      "text/html": [
       "<div>\n",
       "<style scoped>\n",
       "    .dataframe tbody tr th:only-of-type {\n",
       "        vertical-align: middle;\n",
       "    }\n",
       "\n",
       "    .dataframe tbody tr th {\n",
       "        vertical-align: top;\n",
       "    }\n",
       "\n",
       "    .dataframe thead th {\n",
       "        text-align: right;\n",
       "    }\n",
       "</style>\n",
       "<table border=\"1\" class=\"dataframe\">\n",
       "  <thead>\n",
       "    <tr style=\"text-align: right;\">\n",
       "      <th></th>\n",
       "      <th>beer_id</th>\n",
       "      <th>beer_name</th>\n",
       "      <th>brewery_id</th>\n",
       "      <th>brewery_name</th>\n",
       "      <th>style</th>\n",
       "      <th>nbr_ratings</th>\n",
       "      <th>overall_score</th>\n",
       "      <th>style_score</th>\n",
       "      <th>avg</th>\n",
       "      <th>abv</th>\n",
       "      <th>avg_computed</th>\n",
       "      <th>zscore</th>\n",
       "      <th>nbr_matched_valid_ratings</th>\n",
       "      <th>avg_matched_valid_ratings</th>\n",
       "    </tr>\n",
       "  </thead>\n",
       "  <tbody>\n",
       "    <tr>\n",
       "      <th>0</th>\n",
       "      <td>410549</td>\n",
       "      <td>33 Export (Gabon)</td>\n",
       "      <td>3198</td>\n",
       "      <td>Sobraga</td>\n",
       "      <td>Pale Lager</td>\n",
       "      <td>1</td>\n",
       "      <td>NaN</td>\n",
       "      <td>NaN</td>\n",
       "      <td>2.72</td>\n",
       "      <td>5.0</td>\n",
       "      <td>2.000000</td>\n",
       "      <td>NaN</td>\n",
       "      <td>0</td>\n",
       "      <td>NaN</td>\n",
       "    </tr>\n",
       "    <tr>\n",
       "      <th>1</th>\n",
       "      <td>105273</td>\n",
       "      <td>Castel Beer (Gabon)</td>\n",
       "      <td>3198</td>\n",
       "      <td>Sobraga</td>\n",
       "      <td>Pale Lager</td>\n",
       "      <td>10</td>\n",
       "      <td>5.0</td>\n",
       "      <td>58.0</td>\n",
       "      <td>2.18</td>\n",
       "      <td>5.2</td>\n",
       "      <td>1.910000</td>\n",
       "      <td>NaN</td>\n",
       "      <td>0</td>\n",
       "      <td>NaN</td>\n",
       "    </tr>\n",
       "    <tr>\n",
       "      <th>2</th>\n",
       "      <td>19445</td>\n",
       "      <td>Régab</td>\n",
       "      <td>3198</td>\n",
       "      <td>Sobraga</td>\n",
       "      <td>Pale Lager</td>\n",
       "      <td>27</td>\n",
       "      <td>1.0</td>\n",
       "      <td>22.0</td>\n",
       "      <td>1.83</td>\n",
       "      <td>4.5</td>\n",
       "      <td>1.811111</td>\n",
       "      <td>NaN</td>\n",
       "      <td>0</td>\n",
       "      <td>NaN</td>\n",
       "    </tr>\n",
       "    <tr>\n",
       "      <th>3</th>\n",
       "      <td>155699</td>\n",
       "      <td>Ards Bally Black Stout</td>\n",
       "      <td>13538</td>\n",
       "      <td>Ards Brewing Co.</td>\n",
       "      <td>Stout</td>\n",
       "      <td>6</td>\n",
       "      <td>NaN</td>\n",
       "      <td>NaN</td>\n",
       "      <td>3.18</td>\n",
       "      <td>4.6</td>\n",
       "      <td>3.866667</td>\n",
       "      <td>0.823699</td>\n",
       "      <td>6</td>\n",
       "      <td>3.866667</td>\n",
       "    </tr>\n",
       "    <tr>\n",
       "      <th>4</th>\n",
       "      <td>239097</td>\n",
       "      <td>Ards Belfast 366</td>\n",
       "      <td>13538</td>\n",
       "      <td>Ards Brewing Co.</td>\n",
       "      <td>Golden Ale/Blond Ale</td>\n",
       "      <td>1</td>\n",
       "      <td>NaN</td>\n",
       "      <td>NaN</td>\n",
       "      <td>2.79</td>\n",
       "      <td>4.2</td>\n",
       "      <td>3.000000</td>\n",
       "      <td>NaN</td>\n",
       "      <td>0</td>\n",
       "      <td>NaN</td>\n",
       "    </tr>\n",
       "  </tbody>\n",
       "</table>\n",
       "</div>"
      ],
      "text/plain": [
       "   beer_id               beer_name  brewery_id      brewery_name  \\\n",
       "0   410549       33 Export (Gabon)        3198           Sobraga   \n",
       "1   105273     Castel Beer (Gabon)        3198           Sobraga   \n",
       "2    19445                   Régab        3198           Sobraga   \n",
       "3   155699  Ards Bally Black Stout       13538  Ards Brewing Co.   \n",
       "4   239097        Ards Belfast 366       13538  Ards Brewing Co.   \n",
       "\n",
       "                  style  nbr_ratings  overall_score  style_score   avg  abv  \\\n",
       "0            Pale Lager            1            NaN          NaN  2.72  5.0   \n",
       "1            Pale Lager           10            5.0         58.0  2.18  5.2   \n",
       "2            Pale Lager           27            1.0         22.0  1.83  4.5   \n",
       "3                 Stout            6            NaN          NaN  3.18  4.6   \n",
       "4  Golden Ale/Blond Ale            1            NaN          NaN  2.79  4.2   \n",
       "\n",
       "   avg_computed    zscore  nbr_matched_valid_ratings  \\\n",
       "0      2.000000       NaN                          0   \n",
       "1      1.910000       NaN                          0   \n",
       "2      1.811111       NaN                          0   \n",
       "3      3.866667  0.823699                          6   \n",
       "4      3.000000       NaN                          0   \n",
       "\n",
       "   avg_matched_valid_ratings  \n",
       "0                        NaN  \n",
       "1                        NaN  \n",
       "2                        NaN  \n",
       "3                   3.866667  \n",
       "4                        NaN  "
      ]
     },
     "execution_count": 6,
     "metadata": {},
     "output_type": "execute_result"
    }
   ],
   "source": [
    "df_rb_beer.head()"
   ]
  },
  {
   "cell_type": "code",
   "execution_count": 7,
   "metadata": {
    "ExecuteTime": {
     "end_time": "2022-11-18T11:18:06.748245Z",
     "start_time": "2022-11-18T11:18:06.745025Z"
    }
   },
   "outputs": [
    {
     "name": "stdout",
     "output_type": "stream",
     "text": [
      "Beer advocate beer dataset has 280823 rows and 15 colomns\n",
      "Matched beer beer dataset has 45640 rows and 33 colomns\n",
      "RateBeer beer dataset has 442081 rows and 14 colomns\n"
     ]
    }
   ],
   "source": [
    "#Let's check the shape of the datasets: \n",
    "\n",
    "print(\"Beer advocate beer dataset has {} rows and {} colomns\".format(df_adv_beer.shape[0],df_adv_beer.shape[1]))\n",
    "print(\"Matched beer beer dataset has {} rows and {} colomns\".format(df_md_beer.shape[0],df_md_beer.shape[1]))\n",
    "print(\"RateBeer beer dataset has {} rows and {} colomns\".format(df_rb_beer.shape[0],df_rb_beer.shape[1]))"
   ]
  },
  {
   "cell_type": "code",
   "execution_count": 8,
   "metadata": {
    "ExecuteTime": {
     "end_time": "2022-11-18T11:18:07.297666Z",
     "start_time": "2022-11-18T11:18:06.749899Z"
    }
   },
   "outputs": [],
   "source": [
    "list = ['Total','NaN_percentage','NaN_number']\n",
    "dfnan_adv = pd.DataFrame(columns = list)\n",
    "dfnan_rate = pd.DataFrame(columns = list)\n",
    "dfnan_md = pd.DataFrame(columns = list)\n",
    "\n",
    "dfnan_adv['NaN_percentage'] = (df_adv_beer.isna().sum()/df_adv_beer.shape[0])\n",
    "dfnan_adv['NaN_number'] = (df_adv_beer.isna().sum())\n",
    "dfnan_adv.loc[:,'Total'] = df_adv_beer.shape[0]\n",
    "\n",
    "dfnan_rate['NaN_percentage'] = (df_rb_beer.isna().sum()/df_rb_beer.shape[0])\n",
    "dfnan_rate['NaN_number'] = (df_rb_beer.isna().sum())\n",
    "dfnan_rate.loc[:,'Total'] = df_rb_beer.shape[0]\n",
    "\n",
    "dfnan_md['NaN_percentage'] = (df_md_beer.isna().sum()/df_md_beer.shape[0])\n",
    "dfnan_md['NaN_number'] = (df_md_beer.isna().sum())\n",
    "dfnan_md.loc[:,'Total'] = df_md_beer.shape[0]"
   ]
  },
  {
   "cell_type": "code",
   "execution_count": 9,
   "metadata": {
    "ExecuteTime": {
     "end_time": "2022-11-18T11:18:07.948991Z",
     "start_time": "2022-11-18T11:18:07.298713Z"
    }
   },
   "outputs": [
    {
     "data": {
      "image/png": "[encoded data removed]",
      "text/plain": [
       "<Figure size 1600x600 with 3 Axes>"
      ]
     },
     "metadata": {},
     "output_type": "display_data"
    }
   ],
   "source": [
    "## Initialize the matplotlib figure:\n",
    "fig2, (ax1, ax2, ax3) = plt.subplots(1,3, figsize=(16,6), sharey=False)\n",
    "fig2.tight_layout()  #When working with 'tight_layout', \n",
    "fig2.subplots_adjust(top=0.96)  #Adjusting the space for the superior title\n",
    "\n",
    "## Plot the relative absence by neighborhood\n",
    "#Total appointments\n",
    "sns.set_color_codes(\"pastel\")\n",
    "sns.barplot(x=\"Total\", y = dfnan_adv.index, data=dfnan_adv, label=\"Total\", color=\"b\", ax=ax1)\n",
    "#Attended appointments\n",
    "sns.set_color_codes(\"muted\")\n",
    "sns.barplot(x='NaN_percentage', y = dfnan_adv.index, data=dfnan_adv, label=\"NaN Value\", color=\"b\", ax=ax1)\n",
    "## Add a legend and informative axis label\n",
    "ax1.legend(ncol=2, loc=\"lower left\", frameon=True)\n",
    "ax1.set(xlim=(0, 1), ylabel=\"\", xlabel=\"Relative Nan values BeerAdvocate\")\n",
    "sns.despine(left=True, bottom=True,ax=ax1)\n",
    "\n",
    "## Plot the absolute absence by neighborhood\n",
    "#Total appointments\n",
    "sns.set_color_codes(\"pastel\")\n",
    "sns.barplot(x=\"Total\", y = dfnan_rate.index, data=dfnan_rate, label=\"Total\", color=\"b\",ax=ax2)\n",
    "#Attended appointments\n",
    "sns.set_color_codes(\"muted\")\n",
    "sns.barplot(x='NaN_percentage',  y = dfnan_rate.index, data=dfnan_rate, label=\"Nan\", color=\"b\", ax=ax2)\n",
    "## Add a legend and informative axis label\n",
    "ax2.legend(ncol=2, loc=\"lower right\", frameon=True)\n",
    "ax2.set(xlim=(0, 1), ylabel=\"\", xlabel=\"Relative Nan values RateBeer\") \n",
    "#ax2.set_yticklabels([''])\n",
    "sns.despine(left=True, bottom=True, ax=ax2)\n",
    "\n",
    "## Plot the absolute absence by neighborhood\n",
    "#Total appointments\n",
    "sns.set_color_codes(\"pastel\")\n",
    "sns.barplot(x=\"Total\", y = dfnan_md.index, data=dfnan_md, label=\"Total\", color=\"b\",ax=ax3)\n",
    "#Attended appointments\n",
    "sns.set_color_codes(\"muted\")\n",
    "sns.barplot(x='NaN_percentage',  y = dfnan_md.index, data=dfnan_md, label=\"Nan\", color=\"b\", ax=ax3)\n",
    "## Add a legend and informative axis label\n",
    "ax3.legend(ncol=2, loc=\"lower right\", frameon=True)\n",
    "ax3.set(xlim=(0, 1), ylabel=\"\", xlabel=\"Relative Nan values RateBeer\") \n",
    "#ax3.set_yticklabels([''])\n",
    "sns.despine(left=True, bottom=True, ax=ax2)\n",
    "\n",
    "plt.suptitle('Missing values percentage per columns per dataset', fontsize=14, fontweight='bold')\n",
    "plt.tight_layout()\n",
    "plt.show()"
   ]
  },
  {
   "cell_type": "code",
   "execution_count": 10,
   "metadata": {
    "ExecuteTime": {
     "end_time": "2022-11-18T11:18:16.423297Z",
     "start_time": "2022-11-18T11:18:07.951797Z"
    }
   },
   "outputs": [
    {
     "data": {
      "text/plain": [
       "<AxesSubplot:title={'center':'Ratebeer dataset'}>"
      ]
     },
     "execution_count": 10,
     "metadata": {},
     "output_type": "execute_result"
    },
    {
     "data": {
      "image/png": "[encoded data removed]",
      "text/plain": [
       "<Figure size 1500x600 with 4 Axes>"
      ]
     },
     "metadata": {},
     "output_type": "display_data"
    }
   ],
   "source": [
    "#We plot heatmaps for each dataset showing in white where there are NaN values (black: no NaN values)\n",
    "\n",
    "fig, (ax1, ax2, ax3) = plt.subplots(1, 3,figsize=(15,6))\n",
    "plt.suptitle('NaN heatmaps')\n",
    "ax1.title.set_text('Beer Advocate dataset')\n",
    "ax2.title.set_text('Matched beer dataset')\n",
    "ax3.title.set_text('Ratebeer dataset')\n",
    "sns.heatmap(df_adv_beer.isna(),ax=ax1,cbar=False,yticklabels=False)\n",
    "sns.heatmap(df_md_beer.isna(),ax=ax2,cbar=False,yticklabels=False)\n",
    "sns.heatmap(df_rb_beer.isna(),ax=ax3,cbar=True,yticklabels=False)\n",
    "\n",
    "#print(\"Proportion of Na values for each column of the Beer Advocate beer dataset\")\n",
    "#print((df_adv_beer.isna().sum()/df_adv_beer.shape[0]).sort_values(ascending=True))\n",
    "#print(\"Proportion of Na values for each column of the Matched beer beer dataset\")\n",
    "#print((df_md_beer.isna().sum()/df_md_beer.shape[0]).sort_values(ascending=True))\n",
    "#print(\"Proportion of Na values for each column of the RateBeer beer dataset\")\n",
    "#print((df_rb_beer.isna().sum()/df_rb_beer.shape[0]).sort_values(ascending=True))"
   ]
  },
  {
   "cell_type": "markdown",
   "metadata": {},
   "source": [
    "We notice that a number of columns have a very high percentage of NA values. Analysis on these columns would be limited to a very narrow portion of the dataset, so we decide to drop these columns instead. We decide to drop columns that have more than 60% of NA values. "
   ]
  },
  {
   "cell_type": "code",
   "execution_count": 11,
   "metadata": {
    "ExecuteTime": {
     "end_time": "2022-11-18T11:18:16.741935Z",
     "start_time": "2022-11-18T11:18:16.424838Z"
    }
   },
   "outputs": [],
   "source": [
    "df_adv_beer = df_adv_beer[df_adv_beer.columns[df_adv_beer.isna().sum()/df_adv_beer.shape[0] < 0.60]]\n",
    "df_md_beer=df_md_beer[df_md_beer.columns[df_md_beer.isna().sum()/df_md_beer.shape[0] < 0.60]]\n",
    "df_rb_beer=df_rb_beer[df_rb_beer.columns[df_rb_beer.isna().sum()/df_rb_beer.shape[0] < 0.60]]"
   ]
  },
  {
   "cell_type": "code",
   "execution_count": 12,
   "metadata": {
    "ExecuteTime": {
     "end_time": "2022-11-18T11:18:16.758464Z",
     "start_time": "2022-11-18T11:18:16.743091Z"
    }
   },
   "outputs": [
    {
     "name": "stdout",
     "output_type": "stream",
     "text": [
      "True\n",
      "True\n"
     ]
    }
   ],
   "source": [
    "#We check that all beers are unique in both datasets\n",
    "print(df_adv_beer[\"beer_id\"].nunique()==df_adv_beer.shape[0])\n",
    "print(df_rb_beer[\"beer_id\"].nunique()==df_rb_beer.shape[0])"
   ]
  },
  {
   "cell_type": "code",
   "execution_count": 13,
   "metadata": {
    "ExecuteTime": {
     "end_time": "2022-11-18T11:18:16.817256Z",
     "start_time": "2022-11-18T11:18:16.759906Z"
    }
   },
   "outputs": [
    {
     "name": "stdout",
     "output_type": "stream",
     "text": [
      "32841 beers of the Beer Advocate dataset have been dropped\n",
      "7563 beers of the matched dataset have been dropped\n",
      "45391 beers of the RateBeer dataset have been dropped\n"
     ]
    }
   ],
   "source": [
    "#Some beers don't have ratings. We are not interested in them, so we drop them\n",
    "df_adv_beer_wrating=df_adv_beer.drop(df_adv_beer[df_adv_beer['nbr_ratings']==0].index)\n",
    "print(\"{} beers of the Beer Advocate dataset have been dropped\".format((df_adv_beer.shape[0]-df_adv_beer_wrating.shape[0])))\n",
    "df_md_beer_wrating=df_md_beer.drop(df_md_beer[df_md_beer['rb_nbr_ratings']==0].index)\n",
    "df_md_beer_wrating=df_md_beer_wrating.drop(df_md_beer_wrating[df_md_beer_wrating['ba_nbr_ratings']==0].index)\n",
    "print(\"{} beers of the matched dataset have been dropped\".format((df_md_beer.shape[0]-df_md_beer_wrating.shape[0])))\n",
    "df_rb_beer_wrating=df_rb_beer.drop(df_rb_beer[df_rb_beer['nbr_ratings']==0].index)\n",
    "print(\"{} beers of the RateBeer dataset have been dropped\".format((df_rb_beer.shape[0]-df_rb_beer_wrating.shape[0])))"
   ]
  },
  {
   "cell_type": "markdown",
   "metadata": {},
   "source": [
    "<a id='user_processing'></a>\n",
    "\n",
    "### Users datasets "
   ]
  },
  {
   "cell_type": "code",
   "execution_count": 14,
   "metadata": {
    "ExecuteTime": {
     "end_time": "2022-11-18T11:18:16.825575Z",
     "start_time": "2022-11-18T11:18:16.818692Z"
    }
   },
   "outputs": [
    {
     "data": {
      "text/html": [
       "<div>\n",
       "<style scoped>\n",
       "    .dataframe tbody tr th:only-of-type {\n",
       "        vertical-align: middle;\n",
       "    }\n",
       "\n",
       "    .dataframe tbody tr th {\n",
       "        vertical-align: top;\n",
       "    }\n",
       "\n",
       "    .dataframe thead th {\n",
       "        text-align: right;\n",
       "    }\n",
       "</style>\n",
       "<table border=\"1\" class=\"dataframe\">\n",
       "  <thead>\n",
       "    <tr style=\"text-align: right;\">\n",
       "      <th></th>\n",
       "      <th>nbr_ratings</th>\n",
       "      <th>nbr_reviews</th>\n",
       "      <th>user_id</th>\n",
       "      <th>user_name</th>\n",
       "      <th>joined</th>\n",
       "      <th>location</th>\n",
       "    </tr>\n",
       "  </thead>\n",
       "  <tbody>\n",
       "    <tr>\n",
       "      <th>0</th>\n",
       "      <td>7820</td>\n",
       "      <td>465</td>\n",
       "      <td>nmann08.184925</td>\n",
       "      <td>nmann08</td>\n",
       "      <td>1.199704e+09</td>\n",
       "      <td>United States, Washington</td>\n",
       "    </tr>\n",
       "    <tr>\n",
       "      <th>1</th>\n",
       "      <td>2521</td>\n",
       "      <td>2504</td>\n",
       "      <td>stjamesgate.163714</td>\n",
       "      <td>StJamesGate</td>\n",
       "      <td>1.191838e+09</td>\n",
       "      <td>United States, New York</td>\n",
       "    </tr>\n",
       "    <tr>\n",
       "      <th>2</th>\n",
       "      <td>1797</td>\n",
       "      <td>1143</td>\n",
       "      <td>mdagnew.19527</td>\n",
       "      <td>mdagnew</td>\n",
       "      <td>1.116410e+09</td>\n",
       "      <td>Northern Ireland</td>\n",
       "    </tr>\n",
       "    <tr>\n",
       "      <th>3</th>\n",
       "      <td>31</td>\n",
       "      <td>31</td>\n",
       "      <td>helloloser12345.10867</td>\n",
       "      <td>helloloser12345</td>\n",
       "      <td>1.101380e+09</td>\n",
       "      <td>Northern Ireland</td>\n",
       "    </tr>\n",
       "    <tr>\n",
       "      <th>4</th>\n",
       "      <td>604</td>\n",
       "      <td>604</td>\n",
       "      <td>cypressbob.3708</td>\n",
       "      <td>cypressbob</td>\n",
       "      <td>1.069326e+09</td>\n",
       "      <td>Northern Ireland</td>\n",
       "    </tr>\n",
       "  </tbody>\n",
       "</table>\n",
       "</div>"
      ],
      "text/plain": [
       "   nbr_ratings  nbr_reviews                user_id        user_name  \\\n",
       "0         7820          465         nmann08.184925          nmann08   \n",
       "1         2521         2504     stjamesgate.163714      StJamesGate   \n",
       "2         1797         1143          mdagnew.19527          mdagnew   \n",
       "3           31           31  helloloser12345.10867  helloloser12345   \n",
       "4          604          604        cypressbob.3708       cypressbob   \n",
       "\n",
       "         joined                   location  \n",
       "0  1.199704e+09  United States, Washington  \n",
       "1  1.191838e+09    United States, New York  \n",
       "2  1.116410e+09           Northern Ireland  \n",
       "3  1.101380e+09           Northern Ireland  \n",
       "4  1.069326e+09           Northern Ireland  "
      ]
     },
     "execution_count": 14,
     "metadata": {},
     "output_type": "execute_result"
    }
   ],
   "source": [
    "#Let's have a look \n",
    "df_adv_users.head()"
   ]
  },
  {
   "cell_type": "code",
   "execution_count": 15,
   "metadata": {
    "ExecuteTime": {
     "end_time": "2022-11-18T11:18:16.835972Z",
     "start_time": "2022-11-18T11:18:16.826900Z"
    }
   },
   "outputs": [
    {
     "data": {
      "text/html": [
       "<div>\n",
       "<style scoped>\n",
       "    .dataframe tbody tr th:only-of-type {\n",
       "        vertical-align: middle;\n",
       "    }\n",
       "\n",
       "    .dataframe tbody tr th {\n",
       "        vertical-align: top;\n",
       "    }\n",
       "\n",
       "    .dataframe thead th {\n",
       "        text-align: right;\n",
       "    }\n",
       "</style>\n",
       "<table border=\"1\" class=\"dataframe\">\n",
       "  <thead>\n",
       "    <tr style=\"text-align: right;\">\n",
       "      <th></th>\n",
       "      <th>ba_joined</th>\n",
       "      <th>ba_location</th>\n",
       "      <th>ba_nbr_ratings</th>\n",
       "      <th>ba_nbr_reviews</th>\n",
       "      <th>ba_user_id</th>\n",
       "      <th>ba_user_name</th>\n",
       "      <th>ba_user_name_lower</th>\n",
       "      <th>rb_joined</th>\n",
       "      <th>rb_location</th>\n",
       "      <th>rb_nbr_ratings</th>\n",
       "      <th>rb_user_id</th>\n",
       "      <th>rb_user_name</th>\n",
       "      <th>rb_user_name_lower</th>\n",
       "    </tr>\n",
       "  </thead>\n",
       "  <tbody>\n",
       "    <tr>\n",
       "      <th>0</th>\n",
       "      <td>1.220868e+09</td>\n",
       "      <td>Germany</td>\n",
       "      <td>6</td>\n",
       "      <td>6</td>\n",
       "      <td>erzengel.248045</td>\n",
       "      <td>Erzengel</td>\n",
       "      <td>erzengel</td>\n",
       "      <td>1.224324e+09</td>\n",
       "      <td>Germany</td>\n",
       "      <td>8781</td>\n",
       "      <td>83106</td>\n",
       "      <td>Erzengel</td>\n",
       "      <td>erzengel</td>\n",
       "    </tr>\n",
       "    <tr>\n",
       "      <th>1</th>\n",
       "      <td>1.348394e+09</td>\n",
       "      <td>United States, Virginia</td>\n",
       "      <td>1</td>\n",
       "      <td>1</td>\n",
       "      <td>gendv138.695700</td>\n",
       "      <td>GenDV138</td>\n",
       "      <td>gendv138</td>\n",
       "      <td>1.385723e+09</td>\n",
       "      <td>United States, Virginia</td>\n",
       "      <td>6240</td>\n",
       "      <td>290599</td>\n",
       "      <td>GenDV138</td>\n",
       "      <td>gendv138</td>\n",
       "    </tr>\n",
       "    <tr>\n",
       "      <th>2</th>\n",
       "      <td>1.207303e+09</td>\n",
       "      <td>United States, Washington</td>\n",
       "      <td>3</td>\n",
       "      <td>3</td>\n",
       "      <td>nimbleprop.208928</td>\n",
       "      <td>nimbleprop</td>\n",
       "      <td>nimbleprop</td>\n",
       "      <td>1.150798e+09</td>\n",
       "      <td>United States, Washington</td>\n",
       "      <td>7452</td>\n",
       "      <td>38859</td>\n",
       "      <td>nimbleprop</td>\n",
       "      <td>nimbleprop</td>\n",
       "    </tr>\n",
       "    <tr>\n",
       "      <th>3</th>\n",
       "      <td>1.322737e+09</td>\n",
       "      <td>Estonia</td>\n",
       "      <td>11</td>\n",
       "      <td>0</td>\n",
       "      <td>visionthing.639993</td>\n",
       "      <td>visionthing</td>\n",
       "      <td>visionthing</td>\n",
       "      <td>1.242986e+09</td>\n",
       "      <td>Estonia</td>\n",
       "      <td>5462</td>\n",
       "      <td>91324</td>\n",
       "      <td>visionthing</td>\n",
       "      <td>visionthing</td>\n",
       "    </tr>\n",
       "    <tr>\n",
       "      <th>4</th>\n",
       "      <td>1.432116e+09</td>\n",
       "      <td>England</td>\n",
       "      <td>1</td>\n",
       "      <td>0</td>\n",
       "      <td>lazypyro.989356</td>\n",
       "      <td>LazyPyro</td>\n",
       "      <td>lazypyro</td>\n",
       "      <td>1.431166e+09</td>\n",
       "      <td>England</td>\n",
       "      <td>1096</td>\n",
       "      <td>368991</td>\n",
       "      <td>LazyPyro</td>\n",
       "      <td>lazypyro</td>\n",
       "    </tr>\n",
       "  </tbody>\n",
       "</table>\n",
       "</div>"
      ],
      "text/plain": [
       "      ba_joined                ba_location  ba_nbr_ratings  ba_nbr_reviews  \\\n",
       "0  1.220868e+09                    Germany               6               6   \n",
       "1  1.348394e+09    United States, Virginia               1               1   \n",
       "2  1.207303e+09  United States, Washington               3               3   \n",
       "3  1.322737e+09                    Estonia              11               0   \n",
       "4  1.432116e+09                    England               1               0   \n",
       "\n",
       "           ba_user_id ba_user_name ba_user_name_lower     rb_joined  \\\n",
       "0     erzengel.248045     Erzengel           erzengel  1.224324e+09   \n",
       "1     gendv138.695700     GenDV138           gendv138  1.385723e+09   \n",
       "2   nimbleprop.208928   nimbleprop         nimbleprop  1.150798e+09   \n",
       "3  visionthing.639993  visionthing        visionthing  1.242986e+09   \n",
       "4     lazypyro.989356     LazyPyro           lazypyro  1.431166e+09   \n",
       "\n",
       "                 rb_location  rb_nbr_ratings  rb_user_id rb_user_name  \\\n",
       "0                    Germany            8781       83106     Erzengel   \n",
       "1    United States, Virginia            6240      290599     GenDV138   \n",
       "2  United States, Washington            7452       38859   nimbleprop   \n",
       "3                    Estonia            5462       91324  visionthing   \n",
       "4                    England            1096      368991     LazyPyro   \n",
       "\n",
       "  rb_user_name_lower  \n",
       "0           erzengel  \n",
       "1           gendv138  \n",
       "2         nimbleprop  \n",
       "3        visionthing  \n",
       "4           lazypyro  "
      ]
     },
     "execution_count": 15,
     "metadata": {},
     "output_type": "execute_result"
    }
   ],
   "source": [
    "df_md_users.head()"
   ]
  },
  {
   "cell_type": "code",
   "execution_count": 16,
   "metadata": {
    "ExecuteTime": {
     "end_time": "2022-11-18T11:18:16.843663Z",
     "start_time": "2022-11-18T11:18:16.837681Z"
    }
   },
   "outputs": [
    {
     "data": {
      "text/html": [
       "<div>\n",
       "<style scoped>\n",
       "    .dataframe tbody tr th:only-of-type {\n",
       "        vertical-align: middle;\n",
       "    }\n",
       "\n",
       "    .dataframe tbody tr th {\n",
       "        vertical-align: top;\n",
       "    }\n",
       "\n",
       "    .dataframe thead th {\n",
       "        text-align: right;\n",
       "    }\n",
       "</style>\n",
       "<table border=\"1\" class=\"dataframe\">\n",
       "  <thead>\n",
       "    <tr style=\"text-align: right;\">\n",
       "      <th></th>\n",
       "      <th>nbr_ratings</th>\n",
       "      <th>nbr_reviews</th>\n",
       "      <th>user_id</th>\n",
       "      <th>user_name</th>\n",
       "      <th>joined</th>\n",
       "      <th>location</th>\n",
       "    </tr>\n",
       "  </thead>\n",
       "  <tbody>\n",
       "    <tr>\n",
       "      <th>0</th>\n",
       "      <td>7820</td>\n",
       "      <td>465</td>\n",
       "      <td>nmann08.184925</td>\n",
       "      <td>nmann08</td>\n",
       "      <td>1.199704e+09</td>\n",
       "      <td>United States, Washington</td>\n",
       "    </tr>\n",
       "    <tr>\n",
       "      <th>1</th>\n",
       "      <td>2521</td>\n",
       "      <td>2504</td>\n",
       "      <td>stjamesgate.163714</td>\n",
       "      <td>StJamesGate</td>\n",
       "      <td>1.191838e+09</td>\n",
       "      <td>United States, New York</td>\n",
       "    </tr>\n",
       "    <tr>\n",
       "      <th>2</th>\n",
       "      <td>1797</td>\n",
       "      <td>1143</td>\n",
       "      <td>mdagnew.19527</td>\n",
       "      <td>mdagnew</td>\n",
       "      <td>1.116410e+09</td>\n",
       "      <td>Northern Ireland</td>\n",
       "    </tr>\n",
       "    <tr>\n",
       "      <th>3</th>\n",
       "      <td>31</td>\n",
       "      <td>31</td>\n",
       "      <td>helloloser12345.10867</td>\n",
       "      <td>helloloser12345</td>\n",
       "      <td>1.101380e+09</td>\n",
       "      <td>Northern Ireland</td>\n",
       "    </tr>\n",
       "    <tr>\n",
       "      <th>4</th>\n",
       "      <td>604</td>\n",
       "      <td>604</td>\n",
       "      <td>cypressbob.3708</td>\n",
       "      <td>cypressbob</td>\n",
       "      <td>1.069326e+09</td>\n",
       "      <td>Northern Ireland</td>\n",
       "    </tr>\n",
       "  </tbody>\n",
       "</table>\n",
       "</div>"
      ],
      "text/plain": [
       "   nbr_ratings  nbr_reviews                user_id        user_name  \\\n",
       "0         7820          465         nmann08.184925          nmann08   \n",
       "1         2521         2504     stjamesgate.163714      StJamesGate   \n",
       "2         1797         1143          mdagnew.19527          mdagnew   \n",
       "3           31           31  helloloser12345.10867  helloloser12345   \n",
       "4          604          604        cypressbob.3708       cypressbob   \n",
       "\n",
       "         joined                   location  \n",
       "0  1.199704e+09  United States, Washington  \n",
       "1  1.191838e+09    United States, New York  \n",
       "2  1.116410e+09           Northern Ireland  \n",
       "3  1.101380e+09           Northern Ireland  \n",
       "4  1.069326e+09           Northern Ireland  "
      ]
     },
     "execution_count": 16,
     "metadata": {},
     "output_type": "execute_result"
    }
   ],
   "source": [
    "df_adv_users.head()"
   ]
  },
  {
   "cell_type": "code",
   "execution_count": 17,
   "metadata": {
    "ExecuteTime": {
     "end_time": "2022-11-18T11:18:16.847933Z",
     "start_time": "2022-11-18T11:18:16.844960Z"
    }
   },
   "outputs": [
    {
     "name": "stdout",
     "output_type": "stream",
     "text": [
      "Beer advocate users dataset has 153704 rows and 6 colomns\n",
      "Matched beer users dataset has 3020 rows and 13 colomns\n",
      "RateBeer users dataset has 70174 rows and 5 colomns\n"
     ]
    }
   ],
   "source": [
    "#Let's check the shape of the datasets\n",
    "print(\"Beer advocate users dataset has {} rows and {} colomns\".format(df_adv_users.shape[0],df_adv_users.shape[1]))\n",
    "print(\"Matched beer users dataset has {} rows and {} colomns\".format(df_md_users.shape[0],df_md_users.shape[1]))\n",
    "print(\"RateBeer users dataset has {} rows and {} colomns\".format(df_rb_users.shape[0],df_rb_users.shape[1]))"
   ]
  },
  {
   "cell_type": "code",
   "execution_count": 18,
   "metadata": {
    "ExecuteTime": {
     "end_time": "2022-11-18T11:18:16.954087Z",
     "start_time": "2022-11-18T11:18:16.849210Z"
    }
   },
   "outputs": [
    {
     "name": "stdout",
     "output_type": "stream",
     "text": [
      "True\n",
      "True\n",
      "True\n",
      "True\n"
     ]
    }
   ],
   "source": [
    "#Drop users that are in duplicates in the dataset\n",
    "\n",
    "df_adv_unique_users=df_adv_users.drop_duplicates(subset=\"user_id\",keep=\"first\") #suppresses all copies of same user_id and keeps the first instance\n",
    "#sanity check \n",
    "print(df_adv_unique_users.shape[0]==df_adv_unique_users[\"user_id\"].nunique())\n",
    "\n",
    "df_md_unique_ba_users=df_md_users.drop_duplicates(subset=\"ba_user_id\",keep=\"first\")\n",
    "df_md_unique_rb_users=df_md_users.drop_duplicates(subset=\"rb_user_id\",keep=\"first\")\n",
    "#sanity check \n",
    "print(df_md_unique_ba_users.shape[0]==df_md_unique_ba_users[\"ba_user_id\"].nunique())\n",
    "print(df_md_unique_rb_users.shape[0]==df_md_unique_rb_users[\"rb_user_id\"].nunique())\n",
    "\n",
    "df_rb_unique_users=df_rb_users.drop_duplicates(subset=\"user_id\",keep=\"first\") \n",
    "#sanity check \n",
    "print(df_rb_unique_users.shape[0]==df_rb_unique_users[\"user_id\"].nunique())"
   ]
  },
  {
   "cell_type": "markdown",
   "metadata": {},
   "source": [
    "<a id='brewery_processing'></a>\n",
    "\n",
    "### Breweries dataset"
   ]
  },
  {
   "cell_type": "code",
   "execution_count": 19,
   "metadata": {
    "ExecuteTime": {
     "end_time": "2022-11-18T11:18:16.958879Z",
     "start_time": "2022-11-18T11:18:16.955457Z"
    }
   },
   "outputs": [
    {
     "name": "stdout",
     "output_type": "stream",
     "text": [
      "Beer advocate breweries dataset has 16758 rows and 4 colomns\n",
      "Matched beer breweries dataset has 8281 rows and 10 colomns\n",
      "RateBeer breweries dataset has 24189 rows and 4 colomns\n"
     ]
    }
   ],
   "source": [
    "#Let's check the shape of the breweries dataset\n",
    "print(\"Beer advocate breweries dataset has {} rows and {} colomns\".format(df_adv_breweries.shape[0],df_adv_breweries.shape[1]))\n",
    "print(\"Matched beer breweries dataset has {} rows and {} colomns\".format(df_md_breweries.shape[0],df_md_breweries.shape[1]))\n",
    "print(\"RateBeer breweries dataset has {} rows and {} colomns\".format(df_rb_breweries.shape[0],df_rb_breweries.shape[1]))"
   ]
  },
  {
   "cell_type": "code",
   "execution_count": 20,
   "metadata": {
    "ExecuteTime": {
     "end_time": "2022-11-18T11:18:16.966151Z",
     "start_time": "2022-11-18T11:18:16.960340Z"
    }
   },
   "outputs": [
    {
     "data": {
      "text/html": [
       "<div>\n",
       "<style scoped>\n",
       "    .dataframe tbody tr th:only-of-type {\n",
       "        vertical-align: middle;\n",
       "    }\n",
       "\n",
       "    .dataframe tbody tr th {\n",
       "        vertical-align: top;\n",
       "    }\n",
       "\n",
       "    .dataframe thead th {\n",
       "        text-align: right;\n",
       "    }\n",
       "</style>\n",
       "<table border=\"1\" class=\"dataframe\">\n",
       "  <thead>\n",
       "    <tr style=\"text-align: right;\">\n",
       "      <th></th>\n",
       "      <th>id</th>\n",
       "      <th>location</th>\n",
       "      <th>name</th>\n",
       "      <th>nbr_beers</th>\n",
       "    </tr>\n",
       "  </thead>\n",
       "  <tbody>\n",
       "    <tr>\n",
       "      <th>0</th>\n",
       "      <td>39912</td>\n",
       "      <td>Kyrgyzstan</td>\n",
       "      <td>Abdysh-Ata (Абдыш Ата)</td>\n",
       "      <td>5</td>\n",
       "    </tr>\n",
       "    <tr>\n",
       "      <th>1</th>\n",
       "      <td>39913</td>\n",
       "      <td>Kyrgyzstan</td>\n",
       "      <td>Arpa (АРПА)</td>\n",
       "      <td>1</td>\n",
       "    </tr>\n",
       "    <tr>\n",
       "      <th>2</th>\n",
       "      <td>39914</td>\n",
       "      <td>Kyrgyzstan</td>\n",
       "      <td>Bear Beer</td>\n",
       "      <td>4</td>\n",
       "    </tr>\n",
       "    <tr>\n",
       "      <th>3</th>\n",
       "      <td>39915</td>\n",
       "      <td>Kyrgyzstan</td>\n",
       "      <td>Blonder Pub</td>\n",
       "      <td>4</td>\n",
       "    </tr>\n",
       "    <tr>\n",
       "      <th>4</th>\n",
       "      <td>39916</td>\n",
       "      <td>Kyrgyzstan</td>\n",
       "      <td>Kellers Bier</td>\n",
       "      <td>2</td>\n",
       "    </tr>\n",
       "  </tbody>\n",
       "</table>\n",
       "</div>"
      ],
      "text/plain": [
       "      id    location                    name  nbr_beers\n",
       "0  39912  Kyrgyzstan  Abdysh-Ata (Абдыш Ата)          5\n",
       "1  39913  Kyrgyzstan             Arpa (АРПА)          1\n",
       "2  39914  Kyrgyzstan               Bear Beer          4\n",
       "3  39915  Kyrgyzstan             Blonder Pub          4\n",
       "4  39916  Kyrgyzstan            Kellers Bier          2"
      ]
     },
     "execution_count": 20,
     "metadata": {},
     "output_type": "execute_result"
    }
   ],
   "source": [
    "#Let's have a look\n",
    "df_adv_breweries.head()"
   ]
  },
  {
   "cell_type": "code",
   "execution_count": 21,
   "metadata": {
    "ExecuteTime": {
     "end_time": "2022-11-18T11:18:16.975638Z",
     "start_time": "2022-11-18T11:18:16.967509Z"
    }
   },
   "outputs": [
    {
     "data": {
      "text/html": [
       "<div>\n",
       "<style scoped>\n",
       "    .dataframe tbody tr th:only-of-type {\n",
       "        vertical-align: middle;\n",
       "    }\n",
       "\n",
       "    .dataframe tbody tr th {\n",
       "        vertical-align: top;\n",
       "    }\n",
       "\n",
       "    .dataframe thead th {\n",
       "        text-align: right;\n",
       "    }\n",
       "</style>\n",
       "<table border=\"1\" class=\"dataframe\">\n",
       "  <thead>\n",
       "    <tr style=\"text-align: right;\">\n",
       "      <th></th>\n",
       "      <th>ba_id</th>\n",
       "      <th>ba_location</th>\n",
       "      <th>ba_name</th>\n",
       "      <th>ba_nbr_beers</th>\n",
       "      <th>rb_id</th>\n",
       "      <th>rb_location</th>\n",
       "      <th>rb_name</th>\n",
       "      <th>rb_nbr_beers</th>\n",
       "      <th>scores_diff</th>\n",
       "      <th>scores_sim</th>\n",
       "    </tr>\n",
       "  </thead>\n",
       "  <tbody>\n",
       "    <tr>\n",
       "      <th>0</th>\n",
       "      <td>10093</td>\n",
       "      <td>Northern Ireland</td>\n",
       "      <td>Strangford Lough Brewing Company Ltd</td>\n",
       "      <td>5</td>\n",
       "      <td>4959</td>\n",
       "      <td>Northern Ireland</td>\n",
       "      <td>Strangford Lough</td>\n",
       "      <td>5</td>\n",
       "      <td>0.431275</td>\n",
       "      <td>0.889062</td>\n",
       "    </tr>\n",
       "    <tr>\n",
       "      <th>1</th>\n",
       "      <td>32848</td>\n",
       "      <td>Northern Ireland</td>\n",
       "      <td>The Sheelin Brewery</td>\n",
       "      <td>4</td>\n",
       "      <td>17616</td>\n",
       "      <td>Northern Ireland</td>\n",
       "      <td>Sheelin</td>\n",
       "      <td>2</td>\n",
       "      <td>0.526388</td>\n",
       "      <td>0.863596</td>\n",
       "    </tr>\n",
       "    <tr>\n",
       "      <th>2</th>\n",
       "      <td>40360</td>\n",
       "      <td>Northern Ireland</td>\n",
       "      <td>Walled City Brewing Company</td>\n",
       "      <td>6</td>\n",
       "      <td>24866</td>\n",
       "      <td>Northern Ireland</td>\n",
       "      <td>Walled City</td>\n",
       "      <td>3</td>\n",
       "      <td>0.527852</td>\n",
       "      <td>0.954183</td>\n",
       "    </tr>\n",
       "    <tr>\n",
       "      <th>3</th>\n",
       "      <td>40309</td>\n",
       "      <td>Northern Ireland</td>\n",
       "      <td>Ards Brewing Company</td>\n",
       "      <td>7</td>\n",
       "      <td>13538</td>\n",
       "      <td>Northern Ireland</td>\n",
       "      <td>Ards Brewing Co.</td>\n",
       "      <td>13</td>\n",
       "      <td>0.554395</td>\n",
       "      <td>0.896098</td>\n",
       "    </tr>\n",
       "    <tr>\n",
       "      <th>4</th>\n",
       "      <td>41205</td>\n",
       "      <td>Northern Ireland</td>\n",
       "      <td>Barrahooley Brewery</td>\n",
       "      <td>3</td>\n",
       "      <td>22304</td>\n",
       "      <td>Northern Ireland</td>\n",
       "      <td>Barrahooley Craft Brewery</td>\n",
       "      <td>4</td>\n",
       "      <td>0.602544</td>\n",
       "      <td>0.896205</td>\n",
       "    </tr>\n",
       "  </tbody>\n",
       "</table>\n",
       "</div>"
      ],
      "text/plain": [
       "   ba_id       ba_location                               ba_name  \\\n",
       "0  10093  Northern Ireland  Strangford Lough Brewing Company Ltd   \n",
       "1  32848  Northern Ireland                   The Sheelin Brewery   \n",
       "2  40360  Northern Ireland           Walled City Brewing Company   \n",
       "3  40309  Northern Ireland                  Ards Brewing Company   \n",
       "4  41205  Northern Ireland                   Barrahooley Brewery   \n",
       "\n",
       "   ba_nbr_beers  rb_id       rb_location                    rb_name  \\\n",
       "0             5   4959  Northern Ireland           Strangford Lough   \n",
       "1             4  17616  Northern Ireland                    Sheelin   \n",
       "2             6  24866  Northern Ireland                Walled City   \n",
       "3             7  13538  Northern Ireland           Ards Brewing Co.   \n",
       "4             3  22304  Northern Ireland  Barrahooley Craft Brewery   \n",
       "\n",
       "   rb_nbr_beers  scores_diff  scores_sim  \n",
       "0             5     0.431275    0.889062  \n",
       "1             2     0.526388    0.863596  \n",
       "2             3     0.527852    0.954183  \n",
       "3            13     0.554395    0.896098  \n",
       "4             4     0.602544    0.896205  "
      ]
     },
     "execution_count": 21,
     "metadata": {},
     "output_type": "execute_result"
    }
   ],
   "source": [
    "df_md_breweries.head()"
   ]
  },
  {
   "cell_type": "code",
   "execution_count": 22,
   "metadata": {
    "ExecuteTime": {
     "end_time": "2022-11-18T11:18:16.981380Z",
     "start_time": "2022-11-18T11:18:16.976850Z"
    }
   },
   "outputs": [
    {
     "data": {
      "text/html": [
       "<div>\n",
       "<style scoped>\n",
       "    .dataframe tbody tr th:only-of-type {\n",
       "        vertical-align: middle;\n",
       "    }\n",
       "\n",
       "    .dataframe tbody tr th {\n",
       "        vertical-align: top;\n",
       "    }\n",
       "\n",
       "    .dataframe thead th {\n",
       "        text-align: right;\n",
       "    }\n",
       "</style>\n",
       "<table border=\"1\" class=\"dataframe\">\n",
       "  <thead>\n",
       "    <tr style=\"text-align: right;\">\n",
       "      <th></th>\n",
       "      <th>id</th>\n",
       "      <th>location</th>\n",
       "      <th>name</th>\n",
       "      <th>nbr_beers</th>\n",
       "    </tr>\n",
       "  </thead>\n",
       "  <tbody>\n",
       "    <tr>\n",
       "      <th>0</th>\n",
       "      <td>3198</td>\n",
       "      <td>Gabon</td>\n",
       "      <td>Sobraga</td>\n",
       "      <td>3</td>\n",
       "    </tr>\n",
       "    <tr>\n",
       "      <th>1</th>\n",
       "      <td>13538</td>\n",
       "      <td>Northern Ireland</td>\n",
       "      <td>Ards Brewing Co.</td>\n",
       "      <td>13</td>\n",
       "    </tr>\n",
       "    <tr>\n",
       "      <th>2</th>\n",
       "      <td>22304</td>\n",
       "      <td>Northern Ireland</td>\n",
       "      <td>Barrahooley Craft Brewery</td>\n",
       "      <td>4</td>\n",
       "    </tr>\n",
       "    <tr>\n",
       "      <th>3</th>\n",
       "      <td>22818</td>\n",
       "      <td>Northern Ireland</td>\n",
       "      <td>Boundary</td>\n",
       "      <td>66</td>\n",
       "    </tr>\n",
       "    <tr>\n",
       "      <th>4</th>\n",
       "      <td>24297</td>\n",
       "      <td>Northern Ireland</td>\n",
       "      <td>Brewbot Belfast</td>\n",
       "      <td>3</td>\n",
       "    </tr>\n",
       "  </tbody>\n",
       "</table>\n",
       "</div>"
      ],
      "text/plain": [
       "      id          location                       name  nbr_beers\n",
       "0   3198             Gabon                    Sobraga          3\n",
       "1  13538  Northern Ireland           Ards Brewing Co.         13\n",
       "2  22304  Northern Ireland  Barrahooley Craft Brewery          4\n",
       "3  22818  Northern Ireland                   Boundary         66\n",
       "4  24297  Northern Ireland            Brewbot Belfast          3"
      ]
     },
     "execution_count": 22,
     "metadata": {},
     "output_type": "execute_result"
    }
   ],
   "source": [
    "df_rb_breweries.head()"
   ]
  },
  {
   "cell_type": "code",
   "execution_count": 23,
   "metadata": {
    "ExecuteTime": {
     "end_time": "2022-11-18T11:18:17.006344Z",
     "start_time": "2022-11-18T11:18:16.982599Z"
    }
   },
   "outputs": [
    {
     "name": "stdout",
     "output_type": "stream",
     "text": [
      "2236 breweries have been dropped from the Beer Advocate dataset\n",
      "681 breweries have been dropped from the Matched Beer dataset\n",
      "71 breweries have been dropped from the RateBeer dataset\n"
     ]
    }
   ],
   "source": [
    "#We don't care about breweries that don't have any beers, so we drop them \n",
    "\n",
    "df_adv_breweries_wbeer=df_adv_breweries.drop(df_adv_breweries[df_adv_breweries['nbr_beers']==0].index)\n",
    "df_adv_breweries_wbeer['nbr_beers'].sort_values(ascending=True) #pq je fais ça lol ?\n",
    "print(\"{} breweries have been dropped from the Beer Advocate dataset\".format((df_adv_breweries.shape[0]-df_adv_breweries_wbeer.shape[0])))\n",
    "\n",
    "df_md_breweries_wbeer=df_md_breweries.drop(df_md_breweries[df_md_breweries['rb_nbr_beers']==0].index)\n",
    "df_md_breweries_wbeer=df_md_breweries_wbeer.drop(df_md_breweries_wbeer[df_md_breweries_wbeer['ba_nbr_beers']==0].index)\n",
    "\n",
    "print(\"{} breweries have been dropped from the Matched Beer dataset\".format((df_md_breweries.shape[0]-df_md_breweries_wbeer.shape[0])))\n",
    "\n",
    "df_rb_breweries_wbeer=df_rb_breweries.drop(df_rb_breweries[df_rb_breweries['nbr_beers']==0].index)\n",
    "df_rb_breweries_wbeer['nbr_beers'].sort_values(ascending=True)\n",
    "print(\"{} breweries have been dropped from the RateBeer dataset\".format((df_rb_breweries.shape[0]-df_rb_breweries_wbeer.shape[0])))"
   ]
  },
  {
   "cell_type": "markdown",
   "metadata": {},
   "source": [
    "<a id='exploration'></a>\n",
    "\n",
    "## Exploration of the datasets \n"
   ]
  },
  {
   "cell_type": "markdown",
   "metadata": {},
   "source": [
    "### Beers dataset"
   ]
  },
  {
   "cell_type": "code",
   "execution_count": 24,
   "metadata": {
    "ExecuteTime": {
     "end_time": "2022-11-18T11:18:18.970328Z",
     "start_time": "2022-11-18T11:18:17.008044Z"
    }
   },
   "outputs": [
    {
     "data": {
      "image/png": "[encoded data removed]",
      "text/plain": [
       "<Figure size 2000x700 with 4 Axes>"
      ]
     },
     "metadata": {},
     "output_type": "display_data"
    }
   ],
   "source": [
    "#Histograms\n",
    "#Beers binned by ratings count:\n",
    "quantiles = [0.25, 0.5, 0.75]\n",
    "\n",
    "titles = ['Rate Beer - ratings by beer', 'Beer Advocate - ratings by beer', 'Matched RateBeer - ratings by beer','Matched Beer Advocate - ratings by beer']\n",
    "plot_data = [df_rb_beer_wrating.nbr_ratings, df_adv_beer_wrating.nbr_ratings, df_md_beer_wrating.rb_nbr_ratings, df_md_beer_wrating.ba_nbr_ratings]\n",
    "\n",
    "\n",
    "fig, axes = plt.subplots(2, 2, figsize=(20, 7),sharey=True,sharex=True)\n",
    "fig.tight_layout(pad=5)\n",
    "for i,datum in enumerate(plot_data):\n",
    "    sns.histplot(ax=axes.flat[i],data=datum,bins=100,log_scale=(True,True), kde=False, color=\"blue\")\n",
    "    axes.flat[i].set_xlabel(\"Beer count\")\n",
    "    axes.flat[i].set_ylabel(\"Rating Count\")\n",
    "    axes.flat[i].set_title(titles[i], pad=20)\n",
    "    for q in quantiles:\n",
    "        axes.flat[i].axvline(plot_data[i].quantile(q), 0, 1, color=\"black\", ls='--',linewidth=3)\n",
    "        axes.flat[i].text(plot_data[i].quantile(q)+0.1, 2e5, str(int(q*100))+'%', horizontalalignment='left', size='medium', color='black', weight='semibold')"
   ]
  },
  {
   "cell_type": "code",
   "execution_count": 25,
   "metadata": {
    "ExecuteTime": {
     "end_time": "2022-11-18T11:18:19.012136Z",
     "start_time": "2022-11-18T11:18:18.971436Z"
    }
   },
   "outputs": [
    {
     "name": "stdout",
     "output_type": "stream",
     "text": [
      "(247982, 11)\n"
     ]
    },
    {
     "data": {
      "text/html": [
       "<div>\n",
       "<style scoped>\n",
       "    .dataframe tbody tr th:only-of-type {\n",
       "        vertical-align: middle;\n",
       "    }\n",
       "\n",
       "    .dataframe tbody tr th {\n",
       "        vertical-align: top;\n",
       "    }\n",
       "\n",
       "    .dataframe thead th {\n",
       "        text-align: right;\n",
       "    }\n",
       "</style>\n",
       "<table border=\"1\" class=\"dataframe\">\n",
       "  <thead>\n",
       "    <tr style=\"text-align: right;\">\n",
       "      <th></th>\n",
       "      <th>nbr_ratings</th>\n",
       "      <th>avg</th>\n",
       "      <th>abv</th>\n",
       "      <th>avg_computed</th>\n",
       "    </tr>\n",
       "  </thead>\n",
       "  <tbody>\n",
       "    <tr>\n",
       "      <th>count</th>\n",
       "      <td>247982.000000</td>\n",
       "      <td>247982.000000</td>\n",
       "      <td>217107.000000</td>\n",
       "      <td>247982.000000</td>\n",
       "    </tr>\n",
       "    <tr>\n",
       "      <th>mean</th>\n",
       "      <td>33.845327</td>\n",
       "      <td>3.721189</td>\n",
       "      <td>6.541211</td>\n",
       "      <td>3.717594</td>\n",
       "    </tr>\n",
       "    <tr>\n",
       "      <th>std</th>\n",
       "      <td>245.558727</td>\n",
       "      <td>0.475414</td>\n",
       "      <td>2.076558</td>\n",
       "      <td>0.464248</td>\n",
       "    </tr>\n",
       "    <tr>\n",
       "      <th>min</th>\n",
       "      <td>1.000000</td>\n",
       "      <td>0.000000</td>\n",
       "      <td>0.010000</td>\n",
       "      <td>1.000000</td>\n",
       "    </tr>\n",
       "    <tr>\n",
       "      <th>25%</th>\n",
       "      <td>1.000000</td>\n",
       "      <td>3.500000</td>\n",
       "      <td>5.000000</td>\n",
       "      <td>3.500000</td>\n",
       "    </tr>\n",
       "    <tr>\n",
       "      <th>50%</th>\n",
       "      <td>3.000000</td>\n",
       "      <td>3.780000</td>\n",
       "      <td>6.000000</td>\n",
       "      <td>3.770000</td>\n",
       "    </tr>\n",
       "    <tr>\n",
       "      <th>75%</th>\n",
       "      <td>9.000000</td>\n",
       "      <td>4.010000</td>\n",
       "      <td>7.500000</td>\n",
       "      <td>4.000000</td>\n",
       "    </tr>\n",
       "    <tr>\n",
       "      <th>max</th>\n",
       "      <td>16509.000000</td>\n",
       "      <td>5.000000</td>\n",
       "      <td>67.500000</td>\n",
       "      <td>5.000000</td>\n",
       "    </tr>\n",
       "  </tbody>\n",
       "</table>\n",
       "</div>"
      ],
      "text/plain": [
       "         nbr_ratings            avg            abv   avg_computed\n",
       "count  247982.000000  247982.000000  217107.000000  247982.000000\n",
       "mean       33.845327       3.721189       6.541211       3.717594\n",
       "std       245.558727       0.475414       2.076558       0.464248\n",
       "min         1.000000       0.000000       0.010000       1.000000\n",
       "25%         1.000000       3.500000       5.000000       3.500000\n",
       "50%         3.000000       3.780000       6.000000       3.770000\n",
       "75%         9.000000       4.010000       7.500000       4.000000\n",
       "max     16509.000000       5.000000      67.500000       5.000000"
      ]
     },
     "execution_count": 25,
     "metadata": {},
     "output_type": "execute_result"
    }
   ],
   "source": [
    "#Some stats\n",
    "print(df_adv_beer_wrating.shape)\n",
    "df_adv_beer_wrating[[\"nbr_ratings\",\"avg\",\"abv\",\"avg_computed\"]].describe()"
   ]
  },
  {
   "cell_type": "code",
   "execution_count": 26,
   "metadata": {
    "ExecuteTime": {
     "end_time": "2022-11-18T11:18:19.038198Z",
     "start_time": "2022-11-18T11:18:19.013414Z"
    }
   },
   "outputs": [
    {
     "name": "stdout",
     "output_type": "stream",
     "text": [
      "(38077, 29)\n"
     ]
    },
    {
     "data": {
      "text/html": [
       "<div>\n",
       "<style scoped>\n",
       "    .dataframe tbody tr th:only-of-type {\n",
       "        vertical-align: middle;\n",
       "    }\n",
       "\n",
       "    .dataframe tbody tr th {\n",
       "        vertical-align: top;\n",
       "    }\n",
       "\n",
       "    .dataframe thead th {\n",
       "        text-align: right;\n",
       "    }\n",
       "</style>\n",
       "<table border=\"1\" class=\"dataframe\">\n",
       "  <thead>\n",
       "    <tr style=\"text-align: right;\">\n",
       "      <th></th>\n",
       "      <th>ba_nbr_ratings</th>\n",
       "      <th>rb_nbr_ratings</th>\n",
       "      <th>ba_avg</th>\n",
       "      <th>rb_avg</th>\n",
       "      <th>ba_abv</th>\n",
       "      <th>rb_abv</th>\n",
       "      <th>ba_avg_computed</th>\n",
       "      <th>rb_avg_computed</th>\n",
       "    </tr>\n",
       "  </thead>\n",
       "  <tbody>\n",
       "    <tr>\n",
       "      <th>count</th>\n",
       "      <td>38077.000000</td>\n",
       "      <td>38077.000000</td>\n",
       "      <td>38077.000000</td>\n",
       "      <td>38022.000000</td>\n",
       "      <td>38077.000000</td>\n",
       "      <td>38077.000000</td>\n",
       "      <td>38077.000000</td>\n",
       "      <td>38077.000000</td>\n",
       "    </tr>\n",
       "    <tr>\n",
       "      <th>mean</th>\n",
       "      <td>24.973238</td>\n",
       "      <td>26.060036</td>\n",
       "      <td>3.728644</td>\n",
       "      <td>3.154684</td>\n",
       "      <td>6.366607</td>\n",
       "      <td>6.366607</td>\n",
       "      <td>3.724193</td>\n",
       "      <td>3.382589</td>\n",
       "    </tr>\n",
       "    <tr>\n",
       "      <th>std</th>\n",
       "      <td>150.504514</td>\n",
       "      <td>87.137093</td>\n",
       "      <td>0.439621</td>\n",
       "      <td>0.287264</td>\n",
       "      <td>1.890536</td>\n",
       "      <td>1.890536</td>\n",
       "      <td>0.424084</td>\n",
       "      <td>0.410644</td>\n",
       "    </tr>\n",
       "    <tr>\n",
       "      <th>min</th>\n",
       "      <td>1.000000</td>\n",
       "      <td>1.000000</td>\n",
       "      <td>1.000000</td>\n",
       "      <td>0.000000</td>\n",
       "      <td>0.380000</td>\n",
       "      <td>0.380000</td>\n",
       "      <td>1.000000</td>\n",
       "      <td>0.600000</td>\n",
       "    </tr>\n",
       "    <tr>\n",
       "      <th>25%</th>\n",
       "      <td>1.000000</td>\n",
       "      <td>2.000000</td>\n",
       "      <td>3.520000</td>\n",
       "      <td>2.990000</td>\n",
       "      <td>5.000000</td>\n",
       "      <td>5.000000</td>\n",
       "      <td>3.520000</td>\n",
       "      <td>3.169231</td>\n",
       "    </tr>\n",
       "    <tr>\n",
       "      <th>50%</th>\n",
       "      <td>4.000000</td>\n",
       "      <td>6.000000</td>\n",
       "      <td>3.780000</td>\n",
       "      <td>3.140000</td>\n",
       "      <td>6.000000</td>\n",
       "      <td>6.000000</td>\n",
       "      <td>3.770000</td>\n",
       "      <td>3.425000</td>\n",
       "    </tr>\n",
       "    <tr>\n",
       "      <th>75%</th>\n",
       "      <td>11.000000</td>\n",
       "      <td>20.000000</td>\n",
       "      <td>4.000000</td>\n",
       "      <td>3.330000</td>\n",
       "      <td>7.200000</td>\n",
       "      <td>7.200000</td>\n",
       "      <td>4.000000</td>\n",
       "      <td>3.650000</td>\n",
       "    </tr>\n",
       "    <tr>\n",
       "      <th>max</th>\n",
       "      <td>9228.000000</td>\n",
       "      <td>5272.000000</td>\n",
       "      <td>5.000000</td>\n",
       "      <td>4.420000</td>\n",
       "      <td>67.500000</td>\n",
       "      <td>67.500000</td>\n",
       "      <td>5.000000</td>\n",
       "      <td>5.000000</td>\n",
       "    </tr>\n",
       "  </tbody>\n",
       "</table>\n",
       "</div>"
      ],
      "text/plain": [
       "       ba_nbr_ratings  rb_nbr_ratings        ba_avg        rb_avg  \\\n",
       "count    38077.000000    38077.000000  38077.000000  38022.000000   \n",
       "mean        24.973238       26.060036      3.728644      3.154684   \n",
       "std        150.504514       87.137093      0.439621      0.287264   \n",
       "min          1.000000        1.000000      1.000000      0.000000   \n",
       "25%          1.000000        2.000000      3.520000      2.990000   \n",
       "50%          4.000000        6.000000      3.780000      3.140000   \n",
       "75%         11.000000       20.000000      4.000000      3.330000   \n",
       "max       9228.000000     5272.000000      5.000000      4.420000   \n",
       "\n",
       "             ba_abv        rb_abv  ba_avg_computed  rb_avg_computed  \n",
       "count  38077.000000  38077.000000     38077.000000     38077.000000  \n",
       "mean       6.366607      6.366607         3.724193         3.382589  \n",
       "std        1.890536      1.890536         0.424084         0.410644  \n",
       "min        0.380000      0.380000         1.000000         0.600000  \n",
       "25%        5.000000      5.000000         3.520000         3.169231  \n",
       "50%        6.000000      6.000000         3.770000         3.425000  \n",
       "75%        7.200000      7.200000         4.000000         3.650000  \n",
       "max       67.500000     67.500000         5.000000         5.000000  "
      ]
     },
     "execution_count": 26,
     "metadata": {},
     "output_type": "execute_result"
    }
   ],
   "source": [
    "print(df_md_beer_wrating.shape)\n",
    "df_md_beer_wrating[[\"ba_nbr_ratings\",\"rb_nbr_ratings\",\"ba_avg\",\"rb_avg\",\"ba_abv\",\"rb_abv\",\"ba_avg_computed\",\"rb_avg_computed\"]].describe()"
   ]
  },
  {
   "cell_type": "code",
   "execution_count": 27,
   "metadata": {
    "ExecuteTime": {
     "end_time": "2022-11-18T11:18:19.111863Z",
     "start_time": "2022-11-18T11:18:19.039671Z"
    }
   },
   "outputs": [
    {
     "name": "stdout",
     "output_type": "stream",
     "text": [
      "(396690, 10)\n"
     ]
    },
    {
     "data": {
      "text/html": [
       "<div>\n",
       "<style scoped>\n",
       "    .dataframe tbody tr th:only-of-type {\n",
       "        vertical-align: middle;\n",
       "    }\n",
       "\n",
       "    .dataframe tbody tr th {\n",
       "        vertical-align: top;\n",
       "    }\n",
       "\n",
       "    .dataframe thead th {\n",
       "        text-align: right;\n",
       "    }\n",
       "</style>\n",
       "<table border=\"1\" class=\"dataframe\">\n",
       "  <thead>\n",
       "    <tr style=\"text-align: right;\">\n",
       "      <th></th>\n",
       "      <th>nbr_ratings</th>\n",
       "      <th>avg</th>\n",
       "      <th>abv</th>\n",
       "      <th>avg_computed</th>\n",
       "    </tr>\n",
       "  </thead>\n",
       "  <tbody>\n",
       "    <tr>\n",
       "      <th>count</th>\n",
       "      <td>396690.000000</td>\n",
       "      <td>395647.000000</td>\n",
       "      <td>359958.000000</td>\n",
       "      <td>396690.000000</td>\n",
       "    </tr>\n",
       "    <tr>\n",
       "      <th>mean</th>\n",
       "      <td>17.953752</td>\n",
       "      <td>3.026657</td>\n",
       "      <td>6.059846</td>\n",
       "      <td>3.244649</td>\n",
       "    </tr>\n",
       "    <tr>\n",
       "      <th>std</th>\n",
       "      <td>85.303131</td>\n",
       "      <td>0.304127</td>\n",
       "      <td>1.928548</td>\n",
       "      <td>0.507520</td>\n",
       "    </tr>\n",
       "    <tr>\n",
       "      <th>min</th>\n",
       "      <td>1.000000</td>\n",
       "      <td>0.000000</td>\n",
       "      <td>0.010000</td>\n",
       "      <td>0.500000</td>\n",
       "    </tr>\n",
       "    <tr>\n",
       "      <th>25%</th>\n",
       "      <td>1.000000</td>\n",
       "      <td>2.870000</td>\n",
       "      <td>4.800000</td>\n",
       "      <td>3.000000</td>\n",
       "    </tr>\n",
       "    <tr>\n",
       "      <th>50%</th>\n",
       "      <td>3.000000</td>\n",
       "      <td>3.020000</td>\n",
       "      <td>5.500000</td>\n",
       "      <td>3.300000</td>\n",
       "    </tr>\n",
       "    <tr>\n",
       "      <th>75%</th>\n",
       "      <td>10.000000</td>\n",
       "      <td>3.180000</td>\n",
       "      <td>7.000000</td>\n",
       "      <td>3.594088</td>\n",
       "    </tr>\n",
       "    <tr>\n",
       "      <th>max</th>\n",
       "      <td>5272.000000</td>\n",
       "      <td>4.520000</td>\n",
       "      <td>73.000000</td>\n",
       "      <td>5.000000</td>\n",
       "    </tr>\n",
       "  </tbody>\n",
       "</table>\n",
       "</div>"
      ],
      "text/plain": [
       "         nbr_ratings            avg            abv   avg_computed\n",
       "count  396690.000000  395647.000000  359958.000000  396690.000000\n",
       "mean       17.953752       3.026657       6.059846       3.244649\n",
       "std        85.303131       0.304127       1.928548       0.507520\n",
       "min         1.000000       0.000000       0.010000       0.500000\n",
       "25%         1.000000       2.870000       4.800000       3.000000\n",
       "50%         3.000000       3.020000       5.500000       3.300000\n",
       "75%        10.000000       3.180000       7.000000       3.594088\n",
       "max      5272.000000       4.520000      73.000000       5.000000"
      ]
     },
     "execution_count": 27,
     "metadata": {},
     "output_type": "execute_result"
    }
   ],
   "source": [
    "print(df_rb_beer_wrating.shape)\n",
    "df_rb_beer_wrating[[\"nbr_ratings\",\"avg\",\"abv\",\"avg_computed\"]].describe()"
   ]
  },
  {
   "cell_type": "markdown",
   "metadata": {},
   "source": [
    "### Users"
   ]
  },
  {
   "cell_type": "code",
   "execution_count": 28,
   "metadata": {
    "ExecuteTime": {
     "end_time": "2022-11-18T11:18:20.653967Z",
     "start_time": "2022-11-18T11:18:19.117436Z"
    }
   },
   "outputs": [
    {
     "data": {
      "image/png": "[encoded data removed]",
      "text/plain": [
       "<Figure size 2000x700 with 4 Axes>"
      ]
     },
     "metadata": {},
     "output_type": "display_data"
    }
   ],
   "source": [
    "#Users binned by rating count\n",
    "\n",
    "titles = ['Rate Beer - ratings by user', 'Beer Advocate - ratings by user', 'Matched RateBeer - ratings by user','Matched Beer Advocate - ratings by user']\n",
    "plot_data = [df_rb_unique_users.nbr_ratings, df_adv_unique_users.nbr_ratings, df_md_unique_ba_users.ba_nbr_ratings,df_md_unique_rb_users.rb_nbr_ratings]\n",
    "\n",
    "\n",
    "fig, axes = plt.subplots(2, 2, figsize=(20, 7),sharey=True,sharex=True)\n",
    "fig.tight_layout(pad=5)\n",
    "for i,datum in enumerate(plot_data):\n",
    "    sns.histplot(ax=axes.flat[i],data=datum,bins=100,log_scale=(True,True), kde=False,color=\"blue\")\n",
    "    axes.flat[i].set_xlabel(\"Rating count\")\n",
    "    axes.flat[i].set_ylabel(\"User Count\")\n",
    "    axes.flat[i].set_title(titles[i], pad=20)\n",
    "    for q in quantiles:\n",
    "        #Offset of 0.1 so it is more lisible\n",
    "        axes.flat[i].axvline(plot_data[i].quantile(q)+0.1, 0, 1, color=\"black\", ls='--',linewidth=3)\n",
    "        axes.flat[i].text(plot_data[i].quantile(q)+0.1, 1e5, str(int(q*100))+'%', horizontalalignment='left', size='medium', color='black', weight='semibold')\n",
    "      "
   ]
  },
  {
   "cell_type": "code",
   "execution_count": 29,
   "metadata": {
    "ExecuteTime": {
     "end_time": "2022-11-18T11:18:20.663203Z",
     "start_time": "2022-11-18T11:18:20.654992Z"
    }
   },
   "outputs": [
    {
     "name": "stdout",
     "output_type": "stream",
     "text": [
      "(153704, 6)\n"
     ]
    },
    {
     "data": {
      "text/html": [
       "<div>\n",
       "<style scoped>\n",
       "    .dataframe tbody tr th:only-of-type {\n",
       "        vertical-align: middle;\n",
       "    }\n",
       "\n",
       "    .dataframe tbody tr th {\n",
       "        vertical-align: top;\n",
       "    }\n",
       "\n",
       "    .dataframe thead th {\n",
       "        text-align: right;\n",
       "    }\n",
       "</style>\n",
       "<table border=\"1\" class=\"dataframe\">\n",
       "  <thead>\n",
       "    <tr style=\"text-align: right;\">\n",
       "      <th></th>\n",
       "      <th>nbr_ratings</th>\n",
       "    </tr>\n",
       "  </thead>\n",
       "  <tbody>\n",
       "    <tr>\n",
       "      <th>count</th>\n",
       "      <td>153704.000000</td>\n",
       "    </tr>\n",
       "    <tr>\n",
       "      <th>mean</th>\n",
       "      <td>54.605163</td>\n",
       "    </tr>\n",
       "    <tr>\n",
       "      <th>std</th>\n",
       "      <td>252.388790</td>\n",
       "    </tr>\n",
       "    <tr>\n",
       "      <th>min</th>\n",
       "      <td>1.000000</td>\n",
       "    </tr>\n",
       "    <tr>\n",
       "      <th>25%</th>\n",
       "      <td>1.000000</td>\n",
       "    </tr>\n",
       "    <tr>\n",
       "      <th>50%</th>\n",
       "      <td>3.000000</td>\n",
       "    </tr>\n",
       "    <tr>\n",
       "      <th>75%</th>\n",
       "      <td>16.000000</td>\n",
       "    </tr>\n",
       "    <tr>\n",
       "      <th>max</th>\n",
       "      <td>12046.000000</td>\n",
       "    </tr>\n",
       "  </tbody>\n",
       "</table>\n",
       "</div>"
      ],
      "text/plain": [
       "         nbr_ratings\n",
       "count  153704.000000\n",
       "mean       54.605163\n",
       "std       252.388790\n",
       "min         1.000000\n",
       "25%         1.000000\n",
       "50%         3.000000\n",
       "75%        16.000000\n",
       "max     12046.000000"
      ]
     },
     "execution_count": 29,
     "metadata": {},
     "output_type": "execute_result"
    }
   ],
   "source": [
    "#Some stats\n",
    "print(df_adv_unique_users.shape)\n",
    "df_adv_unique_users[[\"nbr_ratings\"]].describe()"
   ]
  },
  {
   "cell_type": "code",
   "execution_count": 30,
   "metadata": {
    "ExecuteTime": {
     "end_time": "2022-11-18T11:18:20.672278Z",
     "start_time": "2022-11-18T11:18:20.664455Z"
    }
   },
   "outputs": [
    {
     "name": "stdout",
     "output_type": "stream",
     "text": [
      "(70120, 5)\n"
     ]
    },
    {
     "data": {
      "text/html": [
       "<div>\n",
       "<style scoped>\n",
       "    .dataframe tbody tr th:only-of-type {\n",
       "        vertical-align: middle;\n",
       "    }\n",
       "\n",
       "    .dataframe tbody tr th {\n",
       "        vertical-align: top;\n",
       "    }\n",
       "\n",
       "    .dataframe thead th {\n",
       "        text-align: right;\n",
       "    }\n",
       "</style>\n",
       "<table border=\"1\" class=\"dataframe\">\n",
       "  <thead>\n",
       "    <tr style=\"text-align: right;\">\n",
       "      <th></th>\n",
       "      <th>nbr_ratings</th>\n",
       "    </tr>\n",
       "  </thead>\n",
       "  <tbody>\n",
       "    <tr>\n",
       "      <th>count</th>\n",
       "      <td>70120.000000</td>\n",
       "    </tr>\n",
       "    <tr>\n",
       "      <th>mean</th>\n",
       "      <td>108.903936</td>\n",
       "    </tr>\n",
       "    <tr>\n",
       "      <th>std</th>\n",
       "      <td>754.777751</td>\n",
       "    </tr>\n",
       "    <tr>\n",
       "      <th>min</th>\n",
       "      <td>1.000000</td>\n",
       "    </tr>\n",
       "    <tr>\n",
       "      <th>25%</th>\n",
       "      <td>1.000000</td>\n",
       "    </tr>\n",
       "    <tr>\n",
       "      <th>50%</th>\n",
       "      <td>2.000000</td>\n",
       "    </tr>\n",
       "    <tr>\n",
       "      <th>75%</th>\n",
       "      <td>10.000000</td>\n",
       "    </tr>\n",
       "    <tr>\n",
       "      <th>max</th>\n",
       "      <td>46749.000000</td>\n",
       "    </tr>\n",
       "  </tbody>\n",
       "</table>\n",
       "</div>"
      ],
      "text/plain": [
       "        nbr_ratings\n",
       "count  70120.000000\n",
       "mean     108.903936\n",
       "std      754.777751\n",
       "min        1.000000\n",
       "25%        1.000000\n",
       "50%        2.000000\n",
       "75%       10.000000\n",
       "max    46749.000000"
      ]
     },
     "execution_count": 30,
     "metadata": {},
     "output_type": "execute_result"
    }
   ],
   "source": [
    "print(df_rb_unique_users.shape)\n",
    "df_rb_unique_users[[\"nbr_ratings\"]].describe()"
   ]
  },
  {
   "cell_type": "code",
   "execution_count": 31,
   "metadata": {
    "ExecuteTime": {
     "end_time": "2022-11-18T11:18:20.680376Z",
     "start_time": "2022-11-18T11:18:20.673655Z"
    }
   },
   "outputs": [
    {
     "name": "stdout",
     "output_type": "stream",
     "text": [
      "(3020, 13)\n"
     ]
    },
    {
     "data": {
      "text/html": [
       "<div>\n",
       "<style scoped>\n",
       "    .dataframe tbody tr th:only-of-type {\n",
       "        vertical-align: middle;\n",
       "    }\n",
       "\n",
       "    .dataframe tbody tr th {\n",
       "        vertical-align: top;\n",
       "    }\n",
       "\n",
       "    .dataframe thead th {\n",
       "        text-align: right;\n",
       "    }\n",
       "</style>\n",
       "<table border=\"1\" class=\"dataframe\">\n",
       "  <thead>\n",
       "    <tr style=\"text-align: right;\">\n",
       "      <th></th>\n",
       "      <th>ba_nbr_ratings</th>\n",
       "    </tr>\n",
       "  </thead>\n",
       "  <tbody>\n",
       "    <tr>\n",
       "      <th>count</th>\n",
       "      <td>3020.000000</td>\n",
       "    </tr>\n",
       "    <tr>\n",
       "      <th>mean</th>\n",
       "      <td>219.901656</td>\n",
       "    </tr>\n",
       "    <tr>\n",
       "      <th>std</th>\n",
       "      <td>712.112891</td>\n",
       "    </tr>\n",
       "    <tr>\n",
       "      <th>min</th>\n",
       "      <td>1.000000</td>\n",
       "    </tr>\n",
       "    <tr>\n",
       "      <th>25%</th>\n",
       "      <td>2.000000</td>\n",
       "    </tr>\n",
       "    <tr>\n",
       "      <th>50%</th>\n",
       "      <td>13.000000</td>\n",
       "    </tr>\n",
       "    <tr>\n",
       "      <th>75%</th>\n",
       "      <td>112.000000</td>\n",
       "    </tr>\n",
       "    <tr>\n",
       "      <th>max</th>\n",
       "      <td>12046.000000</td>\n",
       "    </tr>\n",
       "  </tbody>\n",
       "</table>\n",
       "</div>"
      ],
      "text/plain": [
       "       ba_nbr_ratings\n",
       "count     3020.000000\n",
       "mean       219.901656\n",
       "std        712.112891\n",
       "min          1.000000\n",
       "25%          2.000000\n",
       "50%         13.000000\n",
       "75%        112.000000\n",
       "max      12046.000000"
      ]
     },
     "execution_count": 31,
     "metadata": {},
     "output_type": "execute_result"
    }
   ],
   "source": [
    "print(df_md_unique_ba_users.shape)\n",
    "df_md_unique_ba_users[[\"ba_nbr_ratings\"]].describe()"
   ]
  },
  {
   "cell_type": "code",
   "execution_count": 32,
   "metadata": {
    "ExecuteTime": {
     "end_time": "2022-11-18T11:18:20.687970Z",
     "start_time": "2022-11-18T11:18:20.681457Z"
    }
   },
   "outputs": [
    {
     "name": "stdout",
     "output_type": "stream",
     "text": [
      "(3020, 13)\n"
     ]
    },
    {
     "data": {
      "text/html": [
       "<div>\n",
       "<style scoped>\n",
       "    .dataframe tbody tr th:only-of-type {\n",
       "        vertical-align: middle;\n",
       "    }\n",
       "\n",
       "    .dataframe tbody tr th {\n",
       "        vertical-align: top;\n",
       "    }\n",
       "\n",
       "    .dataframe thead th {\n",
       "        text-align: right;\n",
       "    }\n",
       "</style>\n",
       "<table border=\"1\" class=\"dataframe\">\n",
       "  <thead>\n",
       "    <tr style=\"text-align: right;\">\n",
       "      <th></th>\n",
       "      <th>rb_nbr_ratings</th>\n",
       "    </tr>\n",
       "  </thead>\n",
       "  <tbody>\n",
       "    <tr>\n",
       "      <th>count</th>\n",
       "      <td>3020.000000</td>\n",
       "    </tr>\n",
       "    <tr>\n",
       "      <th>mean</th>\n",
       "      <td>285.697682</td>\n",
       "    </tr>\n",
       "    <tr>\n",
       "      <th>std</th>\n",
       "      <td>1186.459670</td>\n",
       "    </tr>\n",
       "    <tr>\n",
       "      <th>min</th>\n",
       "      <td>1.000000</td>\n",
       "    </tr>\n",
       "    <tr>\n",
       "      <th>25%</th>\n",
       "      <td>2.000000</td>\n",
       "    </tr>\n",
       "    <tr>\n",
       "      <th>50%</th>\n",
       "      <td>5.000000</td>\n",
       "    </tr>\n",
       "    <tr>\n",
       "      <th>75%</th>\n",
       "      <td>42.000000</td>\n",
       "    </tr>\n",
       "    <tr>\n",
       "      <th>max</th>\n",
       "      <td>20678.000000</td>\n",
       "    </tr>\n",
       "  </tbody>\n",
       "</table>\n",
       "</div>"
      ],
      "text/plain": [
       "       rb_nbr_ratings\n",
       "count     3020.000000\n",
       "mean       285.697682\n",
       "std       1186.459670\n",
       "min          1.000000\n",
       "25%          2.000000\n",
       "50%          5.000000\n",
       "75%         42.000000\n",
       "max      20678.000000"
      ]
     },
     "execution_count": 32,
     "metadata": {},
     "output_type": "execute_result"
    }
   ],
   "source": [
    "print(df_md_unique_rb_users.shape)\n",
    "df_md_unique_rb_users[[\"rb_nbr_ratings\"]].describe()"
   ]
  },
  {
   "cell_type": "code",
   "execution_count": 33,
   "metadata": {
    "ExecuteTime": {
     "end_time": "2022-11-18T11:18:20.701694Z",
     "start_time": "2022-11-18T11:18:20.689459Z"
    }
   },
   "outputs": [
    {
     "name": "stdout",
     "output_type": "stream",
     "text": [
      "The users of Beer Advocate come from 194 different locations\n",
      "The users of RateBeer come from 222 different locations\n",
      "The Beer Advocate users of the Matched Beer dataset come from 110 different locations\n",
      "The RateBeer users of the Matched Beer dataset come from 110 different locations\n"
     ]
    }
   ],
   "source": [
    "#Number of locations the users come from: \n",
    "print(\"The users of Beer Advocate come from {} different locations\".format(df_adv_unique_users[\"location\"].nunique()))\n",
    "print(\"The users of RateBeer come from {} different locations\".format(df_rb_unique_users[\"location\"].nunique()))\n",
    "print(\"The Beer Advocate users of the Matched Beer dataset come from {} different locations\".format(df_md_unique_ba_users[\"ba_location\"].nunique()))\n",
    "print(\"The RateBeer users of the Matched Beer dataset come from {} different locations\".format(df_md_unique_rb_users[\"rb_location\"].nunique()))"
   ]
  },
  {
   "cell_type": "code",
   "execution_count": 34,
   "metadata": {
    "ExecuteTime": {
     "end_time": "2022-11-18T11:18:20.722229Z",
     "start_time": "2022-11-18T11:18:20.703097Z"
    }
   },
   "outputs": [
    {
     "data": {
      "text/html": [
       "<div>\n",
       "<style scoped>\n",
       "    .dataframe tbody tr th:only-of-type {\n",
       "        vertical-align: middle;\n",
       "    }\n",
       "\n",
       "    .dataframe tbody tr th {\n",
       "        vertical-align: top;\n",
       "    }\n",
       "\n",
       "    .dataframe thead th {\n",
       "        text-align: right;\n",
       "    }\n",
       "</style>\n",
       "<table border=\"1\" class=\"dataframe\">\n",
       "  <thead>\n",
       "    <tr style=\"text-align: right;\">\n",
       "      <th></th>\n",
       "      <th>Beer Advocate users</th>\n",
       "      <th>Rate Beer users</th>\n",
       "      <th>Matched Beer Advocate users</th>\n",
       "      <th>Matched Rate Beer users</th>\n",
       "    </tr>\n",
       "  </thead>\n",
       "  <tbody>\n",
       "    <tr>\n",
       "      <th>0</th>\n",
       "      <td>United States, California</td>\n",
       "      <td>Canada</td>\n",
       "      <td>United States, California</td>\n",
       "      <td>United States, California</td>\n",
       "    </tr>\n",
       "    <tr>\n",
       "      <th>1</th>\n",
       "      <td>United States, Pennsylvania</td>\n",
       "      <td>United States, California</td>\n",
       "      <td>Canada</td>\n",
       "      <td>Canada</td>\n",
       "    </tr>\n",
       "    <tr>\n",
       "      <th>2</th>\n",
       "      <td>United States, New York</td>\n",
       "      <td>England</td>\n",
       "      <td>United States, Pennsylvania</td>\n",
       "      <td>United States, Pennsylvania</td>\n",
       "    </tr>\n",
       "    <tr>\n",
       "      <th>3</th>\n",
       "      <td>United States, Illinois</td>\n",
       "      <td>Poland</td>\n",
       "      <td>United States, Illinois</td>\n",
       "      <td>United States, Illinois</td>\n",
       "    </tr>\n",
       "    <tr>\n",
       "      <th>4</th>\n",
       "      <td>United States, Massachusetts</td>\n",
       "      <td>United States, Pennsylvania</td>\n",
       "      <td>United States, New York</td>\n",
       "      <td>United States, New York</td>\n",
       "    </tr>\n",
       "  </tbody>\n",
       "</table>\n",
       "</div>"
      ],
      "text/plain": [
       "            Beer Advocate users              Rate Beer users  \\\n",
       "0     United States, California                       Canada   \n",
       "1   United States, Pennsylvania    United States, California   \n",
       "2       United States, New York                      England   \n",
       "3       United States, Illinois                       Poland   \n",
       "4  United States, Massachusetts  United States, Pennsylvania   \n",
       "\n",
       "   Matched Beer Advocate users      Matched Rate Beer users  \n",
       "0    United States, California    United States, California  \n",
       "1                       Canada                       Canada  \n",
       "2  United States, Pennsylvania  United States, Pennsylvania  \n",
       "3      United States, Illinois      United States, Illinois  \n",
       "4      United States, New York      United States, New York  "
      ]
     },
     "execution_count": 34,
     "metadata": {},
     "output_type": "execute_result"
    }
   ],
   "source": [
    "#Top 5 locations of the users for each dataset:\n",
    "users_top5_locations=pd.DataFrame(columns=['Beer Advocate users','Rate Beer users','Matched Beer Advocate users','Matched Rate Beer users'])\n",
    "users_top5_locations['Beer Advocate users']=df_adv_unique_users[\"location\"].value_counts().index.tolist()[:5] #we sort the number of occurences of each location and extract the corresponding top 5 locations\n",
    "users_top5_locations['Rate Beer users']=df_rb_unique_users[\"location\"].value_counts().index.tolist()[:5]\n",
    "users_top5_locations['Matched Beer Advocate users']=df_md_unique_ba_users[\"ba_location\"].value_counts().index.tolist()[:5]\n",
    "users_top5_locations['Matched Rate Beer users']=df_md_unique_rb_users[\"rb_location\"].value_counts().index.tolist()[:5]\n",
    "\n",
    "\n",
    "users_top5_locations"
   ]
  },
  {
   "cell_type": "markdown",
   "metadata": {},
   "source": [
    "### Breweries"
   ]
  },
  {
   "cell_type": "code",
   "execution_count": 35,
   "metadata": {
    "ExecuteTime": {
     "end_time": "2022-11-18T11:18:22.043595Z",
     "start_time": "2022-11-18T11:18:20.723536Z"
    }
   },
   "outputs": [
    {
     "data": {
      "image/png": "[encoded data removed]",
      "text/plain": [
       "<Figure size 2000x700 with 4 Axes>"
      ]
     },
     "metadata": {},
     "output_type": "display_data"
    }
   ],
   "source": [
    "#Histograms\n",
    "#Breweries binned by beer count\n",
    "\n",
    "titles = ['Rate Beer - beers by brewery', 'Beer Advocate - beers by brewery', 'Matched RateBeer - beers by brewery','Matched Beer Advocate - beers by brewery']\n",
    "plot_data = [df_rb_breweries_wbeer.nbr_beers, df_adv_breweries_wbeer.nbr_beers, df_md_breweries_wbeer.rb_nbr_beers,df_md_breweries_wbeer.ba_nbr_beers]\n",
    "\n",
    "fig, axes = plt.subplots(2, 2, figsize=(20, 7),sharey=True,sharex=True)\n",
    "fig.tight_layout(pad=5)\n",
    "for i,datum in enumerate(plot_data):\n",
    "    sns.histplot(ax=axes.flat[i],data=datum,bins=100,log_scale=(True,True), kde=False, color=\"blue\")\n",
    "    axes.flat[i].set_xlabel(\"Beer count\")\n",
    "    axes.flat[i].set_ylabel(\"Brewery Count\")\n",
    "    axes.flat[i].set_title(titles[i], pad=20)\n",
    "    for q in quantiles:\n",
    "        axes.flat[i].axvline(plot_data[i].quantile(q), 0, 1, color=\"black\", ls='--',linewidth=3)\n",
    "        axes.flat[i].text(plot_data[i].quantile(q)+0.1, 4e3, str(int(q*100))+'%', horizontalalignment='left', size='medium', color='black', weight='semibold')\n",
    "\n",
    "    "
   ]
  },
  {
   "cell_type": "code",
   "execution_count": 36,
   "metadata": {
    "ExecuteTime": {
     "end_time": "2022-11-18T11:18:22.050994Z",
     "start_time": "2022-11-18T11:18:22.044633Z"
    }
   },
   "outputs": [
    {
     "name": "stdout",
     "output_type": "stream",
     "text": [
      "(14522, 4)\n"
     ]
    },
    {
     "data": {
      "text/html": [
       "<div>\n",
       "<style scoped>\n",
       "    .dataframe tbody tr th:only-of-type {\n",
       "        vertical-align: middle;\n",
       "    }\n",
       "\n",
       "    .dataframe tbody tr th {\n",
       "        vertical-align: top;\n",
       "    }\n",
       "\n",
       "    .dataframe thead th {\n",
       "        text-align: right;\n",
       "    }\n",
       "</style>\n",
       "<table border=\"1\" class=\"dataframe\">\n",
       "  <thead>\n",
       "    <tr style=\"text-align: right;\">\n",
       "      <th></th>\n",
       "      <th>nbr_beers</th>\n",
       "    </tr>\n",
       "  </thead>\n",
       "  <tbody>\n",
       "    <tr>\n",
       "      <th>count</th>\n",
       "      <td>14522.000000</td>\n",
       "    </tr>\n",
       "    <tr>\n",
       "      <th>mean</th>\n",
       "      <td>24.298444</td>\n",
       "    </tr>\n",
       "    <tr>\n",
       "      <th>std</th>\n",
       "      <td>74.041044</td>\n",
       "    </tr>\n",
       "    <tr>\n",
       "      <th>min</th>\n",
       "      <td>1.000000</td>\n",
       "    </tr>\n",
       "    <tr>\n",
       "      <th>25%</th>\n",
       "      <td>3.000000</td>\n",
       "    </tr>\n",
       "    <tr>\n",
       "      <th>50%</th>\n",
       "      <td>8.000000</td>\n",
       "    </tr>\n",
       "    <tr>\n",
       "      <th>75%</th>\n",
       "      <td>21.000000</td>\n",
       "    </tr>\n",
       "    <tr>\n",
       "      <th>max</th>\n",
       "      <td>1196.000000</td>\n",
       "    </tr>\n",
       "  </tbody>\n",
       "</table>\n",
       "</div>"
      ],
      "text/plain": [
       "          nbr_beers\n",
       "count  14522.000000\n",
       "mean      24.298444\n",
       "std       74.041044\n",
       "min        1.000000\n",
       "25%        3.000000\n",
       "50%        8.000000\n",
       "75%       21.000000\n",
       "max     1196.000000"
      ]
     },
     "execution_count": 36,
     "metadata": {},
     "output_type": "execute_result"
    }
   ],
   "source": [
    "#Some stats\n",
    "print(df_adv_breweries_wbeer.shape)\n",
    "df_adv_breweries_wbeer[[\"nbr_beers\"]].describe()"
   ]
  },
  {
   "cell_type": "code",
   "execution_count": 37,
   "metadata": {
    "ExecuteTime": {
     "end_time": "2022-11-18T11:18:22.058516Z",
     "start_time": "2022-11-18T11:18:22.052045Z"
    }
   },
   "outputs": [
    {
     "name": "stdout",
     "output_type": "stream",
     "text": [
      "(24118, 4)\n"
     ]
    },
    {
     "data": {
      "text/html": [
       "<div>\n",
       "<style scoped>\n",
       "    .dataframe tbody tr th:only-of-type {\n",
       "        vertical-align: middle;\n",
       "    }\n",
       "\n",
       "    .dataframe tbody tr th {\n",
       "        vertical-align: top;\n",
       "    }\n",
       "\n",
       "    .dataframe thead th {\n",
       "        text-align: right;\n",
       "    }\n",
       "</style>\n",
       "<table border=\"1\" class=\"dataframe\">\n",
       "  <thead>\n",
       "    <tr style=\"text-align: right;\">\n",
       "      <th></th>\n",
       "      <th>nbr_beers</th>\n",
       "    </tr>\n",
       "  </thead>\n",
       "  <tbody>\n",
       "    <tr>\n",
       "      <th>count</th>\n",
       "      <td>24118.000000</td>\n",
       "    </tr>\n",
       "    <tr>\n",
       "      <th>mean</th>\n",
       "      <td>19.078655</td>\n",
       "    </tr>\n",
       "    <tr>\n",
       "      <th>std</th>\n",
       "      <td>31.572100</td>\n",
       "    </tr>\n",
       "    <tr>\n",
       "      <th>min</th>\n",
       "      <td>1.000000</td>\n",
       "    </tr>\n",
       "    <tr>\n",
       "      <th>25%</th>\n",
       "      <td>3.000000</td>\n",
       "    </tr>\n",
       "    <tr>\n",
       "      <th>50%</th>\n",
       "      <td>8.000000</td>\n",
       "    </tr>\n",
       "    <tr>\n",
       "      <th>75%</th>\n",
       "      <td>20.000000</td>\n",
       "    </tr>\n",
       "    <tr>\n",
       "      <th>max</th>\n",
       "      <td>295.000000</td>\n",
       "    </tr>\n",
       "  </tbody>\n",
       "</table>\n",
       "</div>"
      ],
      "text/plain": [
       "          nbr_beers\n",
       "count  24118.000000\n",
       "mean      19.078655\n",
       "std       31.572100\n",
       "min        1.000000\n",
       "25%        3.000000\n",
       "50%        8.000000\n",
       "75%       20.000000\n",
       "max      295.000000"
      ]
     },
     "execution_count": 37,
     "metadata": {},
     "output_type": "execute_result"
    }
   ],
   "source": [
    "print(df_rb_breweries_wbeer.shape)\n",
    "df_rb_breweries_wbeer[[\"nbr_beers\"]].describe()"
   ]
  },
  {
   "cell_type": "code",
   "execution_count": 38,
   "metadata": {
    "ExecuteTime": {
     "end_time": "2022-11-18T11:18:22.067870Z",
     "start_time": "2022-11-18T11:18:22.059752Z"
    }
   },
   "outputs": [
    {
     "name": "stdout",
     "output_type": "stream",
     "text": [
      "(7600, 10)\n"
     ]
    },
    {
     "data": {
      "text/html": [
       "<div>\n",
       "<style scoped>\n",
       "    .dataframe tbody tr th:only-of-type {\n",
       "        vertical-align: middle;\n",
       "    }\n",
       "\n",
       "    .dataframe tbody tr th {\n",
       "        vertical-align: top;\n",
       "    }\n",
       "\n",
       "    .dataframe thead th {\n",
       "        text-align: right;\n",
       "    }\n",
       "</style>\n",
       "<table border=\"1\" class=\"dataframe\">\n",
       "  <thead>\n",
       "    <tr style=\"text-align: right;\">\n",
       "      <th></th>\n",
       "      <th>ba_nbr_beers</th>\n",
       "      <th>rb_nbr_beers</th>\n",
       "    </tr>\n",
       "  </thead>\n",
       "  <tbody>\n",
       "    <tr>\n",
       "      <th>count</th>\n",
       "      <td>7600.000000</td>\n",
       "      <td>7600.000000</td>\n",
       "    </tr>\n",
       "    <tr>\n",
       "      <th>mean</th>\n",
       "      <td>20.411974</td>\n",
       "      <td>30.334474</td>\n",
       "    </tr>\n",
       "    <tr>\n",
       "      <th>std</th>\n",
       "      <td>38.073777</td>\n",
       "      <td>38.668669</td>\n",
       "    </tr>\n",
       "    <tr>\n",
       "      <th>min</th>\n",
       "      <td>1.000000</td>\n",
       "      <td>1.000000</td>\n",
       "    </tr>\n",
       "    <tr>\n",
       "      <th>25%</th>\n",
       "      <td>4.000000</td>\n",
       "      <td>8.000000</td>\n",
       "    </tr>\n",
       "    <tr>\n",
       "      <th>50%</th>\n",
       "      <td>9.000000</td>\n",
       "      <td>17.000000</td>\n",
       "    </tr>\n",
       "    <tr>\n",
       "      <th>75%</th>\n",
       "      <td>23.000000</td>\n",
       "      <td>37.000000</td>\n",
       "    </tr>\n",
       "    <tr>\n",
       "      <th>max</th>\n",
       "      <td>1196.000000</td>\n",
       "      <td>291.000000</td>\n",
       "    </tr>\n",
       "  </tbody>\n",
       "</table>\n",
       "</div>"
      ],
      "text/plain": [
       "       ba_nbr_beers  rb_nbr_beers\n",
       "count   7600.000000   7600.000000\n",
       "mean      20.411974     30.334474\n",
       "std       38.073777     38.668669\n",
       "min        1.000000      1.000000\n",
       "25%        4.000000      8.000000\n",
       "50%        9.000000     17.000000\n",
       "75%       23.000000     37.000000\n",
       "max     1196.000000    291.000000"
      ]
     },
     "execution_count": 38,
     "metadata": {},
     "output_type": "execute_result"
    }
   ],
   "source": [
    "print(df_md_breweries_wbeer.shape)\n",
    "df_md_breweries_wbeer[[\"ba_nbr_beers\",\"rb_nbr_beers\"]].describe()"
   ]
  },
  {
   "cell_type": "code",
   "execution_count": 39,
   "metadata": {
    "ExecuteTime": {
     "end_time": "2022-11-18T11:18:22.075218Z",
     "start_time": "2022-11-18T11:18:22.069090Z"
    }
   },
   "outputs": [
    {
     "name": "stdout",
     "output_type": "stream",
     "text": [
      "The breweries of Beer Advocate come from 277 different locations\n",
      "The breweries of RateBeer come from 267 different locations\n",
      "The Beer Advocate breweries of the Matched Beer dataset come from 202 different locations\n",
      "The RateBeer breweries of the Matched Beer dataset come from 202 different locations\n"
     ]
    }
   ],
   "source": [
    "#Number of locations the breweries come from: \n",
    "print(\"The breweries of Beer Advocate come from {} different locations\".format(df_adv_breweries_wbeer[\"location\"].nunique()))\n",
    "print(\"The breweries of RateBeer come from {} different locations\".format(df_rb_breweries_wbeer[\"location\"].nunique()))\n",
    "print(\"The Beer Advocate breweries of the Matched Beer dataset come from {} different locations\".format(df_md_breweries_wbeer[\"ba_location\"].nunique()))\n",
    "print(\"The RateBeer breweries of the Matched Beer dataset come from {} different locations\".format(df_md_breweries_wbeer[\"rb_location\"].nunique()))"
   ]
  },
  {
   "cell_type": "code",
   "execution_count": 40,
   "metadata": {
    "ExecuteTime": {
     "end_time": "2022-11-18T11:18:22.088003Z",
     "start_time": "2022-11-18T11:18:22.076616Z"
    }
   },
   "outputs": [
    {
     "data": {
      "text/html": [
       "<div>\n",
       "<style scoped>\n",
       "    .dataframe tbody tr th:only-of-type {\n",
       "        vertical-align: middle;\n",
       "    }\n",
       "\n",
       "    .dataframe tbody tr th {\n",
       "        vertical-align: top;\n",
       "    }\n",
       "\n",
       "    .dataframe thead th {\n",
       "        text-align: right;\n",
       "    }\n",
       "</style>\n",
       "<table border=\"1\" class=\"dataframe\">\n",
       "  <thead>\n",
       "    <tr style=\"text-align: right;\">\n",
       "      <th></th>\n",
       "      <th>Beer Advocate breweries</th>\n",
       "      <th>Rate Beer breweries</th>\n",
       "      <th>Matched Beer Advocate breweries</th>\n",
       "      <th>Matched Rate Beer breweries</th>\n",
       "    </tr>\n",
       "  </thead>\n",
       "  <tbody>\n",
       "    <tr>\n",
       "      <th>0</th>\n",
       "      <td>Germany</td>\n",
       "      <td>England</td>\n",
       "      <td>United States, California</td>\n",
       "      <td>United States, California</td>\n",
       "    </tr>\n",
       "    <tr>\n",
       "      <th>1</th>\n",
       "      <td>England</td>\n",
       "      <td>Germany</td>\n",
       "      <td>England</td>\n",
       "      <td>England</td>\n",
       "    </tr>\n",
       "    <tr>\n",
       "      <th>2</th>\n",
       "      <td>United States, California</td>\n",
       "      <td>Italy</td>\n",
       "      <td>Germany</td>\n",
       "      <td>Germany</td>\n",
       "    </tr>\n",
       "    <tr>\n",
       "      <th>3</th>\n",
       "      <td>Canada</td>\n",
       "      <td>Canada</td>\n",
       "      <td>Canada</td>\n",
       "      <td>Canada</td>\n",
       "    </tr>\n",
       "    <tr>\n",
       "      <th>4</th>\n",
       "      <td>United States, New York</td>\n",
       "      <td>United States, California</td>\n",
       "      <td>United States, Colorado</td>\n",
       "      <td>United States, Colorado</td>\n",
       "    </tr>\n",
       "  </tbody>\n",
       "</table>\n",
       "</div>"
      ],
      "text/plain": [
       "     Beer Advocate breweries        Rate Beer breweries  \\\n",
       "0                    Germany                    England   \n",
       "1                    England                    Germany   \n",
       "2  United States, California                      Italy   \n",
       "3                     Canada                     Canada   \n",
       "4    United States, New York  United States, California   \n",
       "\n",
       "  Matched Beer Advocate breweries Matched Rate Beer breweries  \n",
       "0       United States, California   United States, California  \n",
       "1                         England                     England  \n",
       "2                         Germany                     Germany  \n",
       "3                          Canada                      Canada  \n",
       "4         United States, Colorado     United States, Colorado  "
      ]
     },
     "execution_count": 40,
     "metadata": {},
     "output_type": "execute_result"
    }
   ],
   "source": [
    "#Top 5 locations of the breweries for each dataset:\n",
    "breweries_top5_locations=pd.DataFrame(columns=['Beer Advocate breweries','Rate Beer breweries','Matched Beer Advocate breweries','Matched Rate Beer breweries'])\n",
    "breweries_top5_locations['Beer Advocate breweries']=df_adv_breweries_wbeer[\"location\"].value_counts().index.tolist()[:5] #we sort the number of occurences of each location and extract the corresponding top 5 locations\n",
    "breweries_top5_locations['Rate Beer breweries']=df_rb_breweries_wbeer[\"location\"].value_counts().index.tolist()[:5]\n",
    "breweries_top5_locations['Matched Beer Advocate breweries']=df_md_breweries_wbeer[\"ba_location\"].value_counts().index.tolist()[:5]\n",
    "breweries_top5_locations['Matched Rate Beer breweries']=df_md_breweries_wbeer[\"rb_location\"].value_counts().index.tolist()[:5]\n",
    "\n",
    "\n",
    "breweries_top5_locations"
   ]
  },
  {
   "cell_type": "markdown",
   "metadata": {},
   "source": [
    "<a id='textual_reviews'></a>\n",
    "## Textual reviews and rating analysis"
   ]
  },
  {
   "cell_type": "markdown",
   "metadata": {},
   "source": [
    "### Textual reviews"
   ]
  },
  {
   "cell_type": "code",
   "execution_count": 41,
   "metadata": {
    "ExecuteTime": {
     "end_time": "2022-11-18T11:18:24.431359Z",
     "start_time": "2022-11-18T11:18:22.089140Z"
    }
   },
   "outputs": [
    {
     "name": "stderr",
     "output_type": "stream",
     "text": [
      "[nltk_data] Downloading package stopwords to\n",
      "[nltk_data]     /Users/joaoprado/nltk_data...\n",
      "[nltk_data]   Package stopwords is already up-to-date!\n",
      "Warning : `load_model` does not return WordVectorModel or SupervisedModel any more, but a `FastText` object which is very similar.\n"
     ]
    }
   ],
   "source": [
    "#Why this is here? df_md_breweries_wbeer.head()\n",
    "\n",
    "#Here we use a utilitary function to directly compute everything:\n",
    "from functions import NLP_utils\n",
    "\n"
   ]
  },
  {
   "cell_type": "code",
   "execution_count": 42,
   "metadata": {
    "ExecuteTime": {
     "end_time": "2022-11-18T11:22:57.110665Z",
     "start_time": "2022-11-18T11:18:24.433730Z"
    }
   },
   "outputs": [
    {
     "name": "stdout",
     "output_type": "stream",
     "text": [
      "Started identifying languages, counting words and binning dates...\n",
      "Done\n"
     ]
    }
   ],
   "source": [
    "#Takes 5 minutes\n",
    "RB_langs,RB_counts, RB_dates = NLP_utils.summary_analysis(\"RateBeer\")"
   ]
  },
  {
   "cell_type": "code",
   "execution_count": 43,
   "metadata": {
    "ExecuteTime": {
     "end_time": "2022-11-18T11:26:20.302848Z",
     "start_time": "2022-11-18T11:22:57.115083Z"
    }
   },
   "outputs": [
    {
     "name": "stdout",
     "output_type": "stream",
     "text": [
      "Started identifying languages, counting words and binning dates...\n",
      "Done\n"
     ]
    }
   ],
   "source": [
    "#Takes 5 minutes\n",
    "BA_langs,BA_counts, BA_dates = NLP_utils.summary_analysis(\"BeerAdvocate\")"
   ]
  },
  {
   "cell_type": "code",
   "execution_count": 44,
   "metadata": {
    "ExecuteTime": {
     "end_time": "2022-11-18T11:27:01.323261Z",
     "start_time": "2022-11-18T11:26:20.304802Z"
    }
   },
   "outputs": [
    {
     "data": {
      "text/plain": [
       "<AxesSubplot:xlabel='date', ylabel='Count'>"
      ]
     },
     "execution_count": 44,
     "metadata": {},
     "output_type": "execute_result"
    },
    {
     "data": {
      "image/png": "[encoded data removed]",
      "text/plain": [
       "<Figure size 2000x700 with 2 Axes>"
      ]
     },
     "metadata": {},
     "output_type": "display_data"
    }
   ],
   "source": [
    "# How does the review rate of users changes with time for each site ? \n",
    "\n",
    "fig, axes = plt.subplots(2, 1, figsize=(20, 7),sharey=True,sharex=True)\n",
    "RB_dates = pd.to_datetime(RB_dates,unit='s')\n",
    "BA_dates = pd.to_datetime(BA_dates,unit='s')\n",
    "axes[0].set_title(\"Time evolution of RateBeer review posting\", pad=20)\n",
    "sns.histplot(RB_dates,log_scale=(False,False),kde=True,ax=axes[0])\n",
    "axes[0].set_title(\"Time evolution of BeerAdvocate review posting\", pad=20)\n",
    "sns.histplot(BA_dates,log_scale=(False,False),kde=True,ax=axes[1])"
   ]
  },
  {
   "cell_type": "code",
   "execution_count": 45,
   "metadata": {
    "ExecuteTime": {
     "end_time": "2022-11-18T11:27:06.004930Z",
     "start_time": "2022-11-18T11:27:01.324524Z"
    }
   },
   "outputs": [
    {
     "data": {
      "text/plain": [
       "<AxesSubplot:title={'center':'Beer Advocate - Review word count'}, xlabel='Word per review', ylabel='Review count'>"
      ]
     },
     "execution_count": 45,
     "metadata": {},
     "output_type": "execute_result"
    },
    {
     "data": {
      "image/png": "[encoded data removed]",
      "text/plain": [
       "<Figure size 2000x700 with 2 Axes>"
      ]
     },
     "metadata": {},
     "output_type": "display_data"
    }
   ],
   "source": [
    "## How are the word count distributions for each site ? \n",
    "fig, axes = plt.subplots(1, 2, figsize=(20, 7),sharey=True,sharex=False)\n",
    "\n",
    "axes[0].set_title('Beer Advocate - Review word count')\n",
    "axes[0].set_xlabel('Word per review')\n",
    "axes[0].set_ylabel('Review count')\n",
    "sns.histplot(RB_counts,bins=100, log_scale=(True,False),ax=axes[0])\n",
    "\n",
    "axes[1].set_title('Beer Advocate - Review word count')\n",
    "axes[1].set_xlabel('Word per review')\n",
    "axes[1].set_ylabel('Review count')\n",
    "sns.histplot(BA_counts,bins=100, log_scale=(True,False),ax=axes[1])"
   ]
  },
  {
   "cell_type": "markdown",
   "metadata": {},
   "source": [
    "### Rating analysis"
   ]
  },
  {
   "cell_type": "code",
   "execution_count": 46,
   "metadata": {
    "ExecuteTime": {
     "end_time": "2022-11-18T11:27:08.767435Z",
     "start_time": "2022-11-18T11:27:06.006228Z"
    }
   },
   "outputs": [
    {
     "data": {
      "text/html": [
       "<div>\n",
       "<style scoped>\n",
       "    .dataframe tbody tr th:only-of-type {\n",
       "        vertical-align: middle;\n",
       "    }\n",
       "\n",
       "    .dataframe tbody tr th {\n",
       "        vertical-align: top;\n",
       "    }\n",
       "\n",
       "    .dataframe thead th {\n",
       "        text-align: right;\n",
       "    }\n",
       "</style>\n",
       "<table border=\"1\" class=\"dataframe\">\n",
       "  <thead>\n",
       "    <tr style=\"text-align: right;\">\n",
       "      <th></th>\n",
       "      <th>Unnamed: 0</th>\n",
       "      <th>beer_name</th>\n",
       "      <th>beer_id</th>\n",
       "      <th>brewery_name</th>\n",
       "      <th>brewery_id</th>\n",
       "      <th>style</th>\n",
       "      <th>abv</th>\n",
       "      <th>date</th>\n",
       "      <th>username</th>\n",
       "      <th>user_id</th>\n",
       "      <th>appearance</th>\n",
       "      <th>aroma</th>\n",
       "      <th>palate</th>\n",
       "      <th>taste</th>\n",
       "      <th>overall</th>\n",
       "      <th>rating</th>\n",
       "      <th>text</th>\n",
       "    </tr>\n",
       "  </thead>\n",
       "  <tbody>\n",
       "    <tr>\n",
       "      <th>0</th>\n",
       "      <td>0</td>\n",
       "      <td>33 Export (Gabon)</td>\n",
       "      <td>410549</td>\n",
       "      <td>Sobraga</td>\n",
       "      <td>3198</td>\n",
       "      <td>Pale Lager</td>\n",
       "      <td>5.0</td>\n",
       "      <td>1461664800</td>\n",
       "      <td>Manslow</td>\n",
       "      <td>175852</td>\n",
       "      <td>2</td>\n",
       "      <td>4</td>\n",
       "      <td>2</td>\n",
       "      <td>4</td>\n",
       "      <td>8</td>\n",
       "      <td>2.0</td>\n",
       "      <td>Puszka 0,33l dzięki Christoph . Kolor jasnozł...</td>\n",
       "    </tr>\n",
       "    <tr>\n",
       "      <th>1</th>\n",
       "      <td>1</td>\n",
       "      <td>Castel Beer (Gabon)</td>\n",
       "      <td>105273</td>\n",
       "      <td>Sobraga</td>\n",
       "      <td>3198</td>\n",
       "      <td>Pale Lager</td>\n",
       "      <td>5.2</td>\n",
       "      <td>1487329200</td>\n",
       "      <td>MAGICuenca91</td>\n",
       "      <td>442761</td>\n",
       "      <td>2</td>\n",
       "      <td>3</td>\n",
       "      <td>2</td>\n",
       "      <td>4</td>\n",
       "      <td>8</td>\n",
       "      <td>1.9</td>\n",
       "      <td>Cerveza pale lager gabonesa. MÃ¡s floja que l...</td>\n",
       "    </tr>\n",
       "    <tr>\n",
       "      <th>2</th>\n",
       "      <td>2</td>\n",
       "      <td>Castel Beer (Gabon)</td>\n",
       "      <td>105273</td>\n",
       "      <td>Sobraga</td>\n",
       "      <td>3198</td>\n",
       "      <td>Pale Lager</td>\n",
       "      <td>5.2</td>\n",
       "      <td>1466762400</td>\n",
       "      <td>Sibarh</td>\n",
       "      <td>288889</td>\n",
       "      <td>3</td>\n",
       "      <td>3</td>\n",
       "      <td>2</td>\n",
       "      <td>3</td>\n",
       "      <td>5</td>\n",
       "      <td>1.6</td>\n",
       "      <td>Kolor- złoty, klarowny. Piana - drobna, średn...</td>\n",
       "    </tr>\n",
       "    <tr>\n",
       "      <th>3</th>\n",
       "      <td>3</td>\n",
       "      <td>Castel Beer (Gabon)</td>\n",
       "      <td>105273</td>\n",
       "      <td>Sobraga</td>\n",
       "      <td>3198</td>\n",
       "      <td>Pale Lager</td>\n",
       "      <td>5.2</td>\n",
       "      <td>1451646000</td>\n",
       "      <td>fombe89</td>\n",
       "      <td>250510</td>\n",
       "      <td>4</td>\n",
       "      <td>3</td>\n",
       "      <td>1</td>\n",
       "      <td>2</td>\n",
       "      <td>5</td>\n",
       "      <td>1.5</td>\n",
       "      <td>Botella, de GabÃ³n regalo familiar.31/01/2015...</td>\n",
       "    </tr>\n",
       "    <tr>\n",
       "      <th>4</th>\n",
       "      <td>4</td>\n",
       "      <td>Castel Beer (Gabon)</td>\n",
       "      <td>105273</td>\n",
       "      <td>Sobraga</td>\n",
       "      <td>3198</td>\n",
       "      <td>Pale Lager</td>\n",
       "      <td>5.2</td>\n",
       "      <td>1445594400</td>\n",
       "      <td>kevnic2008</td>\n",
       "      <td>122778</td>\n",
       "      <td>2</td>\n",
       "      <td>4</td>\n",
       "      <td>2</td>\n",
       "      <td>4</td>\n",
       "      <td>7</td>\n",
       "      <td>1.9</td>\n",
       "      <td>Many thanks for this beer to Erzengel. Pours ...</td>\n",
       "    </tr>\n",
       "    <tr>\n",
       "      <th>...</th>\n",
       "      <td>...</td>\n",
       "      <td>...</td>\n",
       "      <td>...</td>\n",
       "      <td>...</td>\n",
       "      <td>...</td>\n",
       "      <td>...</td>\n",
       "      <td>...</td>\n",
       "      <td>...</td>\n",
       "      <td>...</td>\n",
       "      <td>...</td>\n",
       "      <td>...</td>\n",
       "      <td>...</td>\n",
       "      <td>...</td>\n",
       "      <td>...</td>\n",
       "      <td>...</td>\n",
       "      <td>...</td>\n",
       "      <td>...</td>\n",
       "    </tr>\n",
       "    <tr>\n",
       "      <th>499995</th>\n",
       "      <td>499995</td>\n",
       "      <td>Bad Guy Anastasia</td>\n",
       "      <td>219990</td>\n",
       "      <td>Bad Guy Brewery</td>\n",
       "      <td>17089</td>\n",
       "      <td>American Pale Ale</td>\n",
       "      <td>6.0</td>\n",
       "      <td>1392548400</td>\n",
       "      <td>Dorqui</td>\n",
       "      <td>17425</td>\n",
       "      <td>4</td>\n",
       "      <td>7</td>\n",
       "      <td>4</td>\n",
       "      <td>7</td>\n",
       "      <td>13</td>\n",
       "      <td>3.5</td>\n",
       "      <td>Draught at \"GolosItalia 2014\". Reddish amber ...</td>\n",
       "    </tr>\n",
       "    <tr>\n",
       "      <th>499996</th>\n",
       "      <td>499996</td>\n",
       "      <td>Bad Guy Anastasia</td>\n",
       "      <td>219990</td>\n",
       "      <td>Bad Guy Brewery</td>\n",
       "      <td>17089</td>\n",
       "      <td>American Pale Ale</td>\n",
       "      <td>6.0</td>\n",
       "      <td>1393844400</td>\n",
       "      <td>daniele</td>\n",
       "      <td>55098</td>\n",
       "      <td>3</td>\n",
       "      <td>7</td>\n",
       "      <td>4</td>\n",
       "      <td>6</td>\n",
       "      <td>13</td>\n",
       "      <td>3.3</td>\n",
       "      <td>ambrata buona schiuma piuttosto persistente n...</td>\n",
       "    </tr>\n",
       "    <tr>\n",
       "      <th>499997</th>\n",
       "      <td>499997</td>\n",
       "      <td>Bad Guy Foxy Lady</td>\n",
       "      <td>219986</td>\n",
       "      <td>Bad Guy Brewery</td>\n",
       "      <td>17089</td>\n",
       "      <td>California Common</td>\n",
       "      <td>5.5</td>\n",
       "      <td>1396519200</td>\n",
       "      <td>sebletitje</td>\n",
       "      <td>74926</td>\n",
       "      <td>3</td>\n",
       "      <td>7</td>\n",
       "      <td>3</td>\n",
       "      <td>7</td>\n",
       "      <td>15</td>\n",
       "      <td>3.5</td>\n",
       "      <td>Draft @ Fiera della birra di Forli â14. Cui...</td>\n",
       "    </tr>\n",
       "    <tr>\n",
       "      <th>499998</th>\n",
       "      <td>499998</td>\n",
       "      <td>Bad Guy Foxy Lady</td>\n",
       "      <td>219986</td>\n",
       "      <td>Bad Guy Brewery</td>\n",
       "      <td>17089</td>\n",
       "      <td>California Common</td>\n",
       "      <td>5.5</td>\n",
       "      <td>1393498800</td>\n",
       "      <td>Silvan7</td>\n",
       "      <td>201189</td>\n",
       "      <td>4</td>\n",
       "      <td>8</td>\n",
       "      <td>3</td>\n",
       "      <td>7</td>\n",
       "      <td>14</td>\n",
       "      <td>3.6</td>\n",
       "      <td>On tap, golositalia 2014. Rara California Com...</td>\n",
       "    </tr>\n",
       "    <tr>\n",
       "      <th>499999</th>\n",
       "      <td>499999</td>\n",
       "      <td>Bad Guy Foxy Lady</td>\n",
       "      <td>219986</td>\n",
       "      <td>Bad Guy Brewery</td>\n",
       "      <td>17089</td>\n",
       "      <td>California Common</td>\n",
       "      <td>5.5</td>\n",
       "      <td>1392202800</td>\n",
       "      <td>Dorqui</td>\n",
       "      <td>17425</td>\n",
       "      <td>4</td>\n",
       "      <td>7</td>\n",
       "      <td>4</td>\n",
       "      <td>8</td>\n",
       "      <td>13</td>\n",
       "      <td>3.6</td>\n",
       "      <td>Draught at \"GolosItalia 2014. Dark orange col...</td>\n",
       "    </tr>\n",
       "  </tbody>\n",
       "</table>\n",
       "<p>500000 rows × 17 columns</p>\n",
       "</div>"
      ],
      "text/plain": [
       "        Unnamed: 0             beer_name  beer_id      brewery_name  \\\n",
       "0                0     33 Export (Gabon)   410549           Sobraga   \n",
       "1                1   Castel Beer (Gabon)   105273           Sobraga   \n",
       "2                2   Castel Beer (Gabon)   105273           Sobraga   \n",
       "3                3   Castel Beer (Gabon)   105273           Sobraga   \n",
       "4                4   Castel Beer (Gabon)   105273           Sobraga   \n",
       "...            ...                   ...      ...               ...   \n",
       "499995      499995     Bad Guy Anastasia   219990   Bad Guy Brewery   \n",
       "499996      499996     Bad Guy Anastasia   219990   Bad Guy Brewery   \n",
       "499997      499997     Bad Guy Foxy Lady   219986   Bad Guy Brewery   \n",
       "499998      499998     Bad Guy Foxy Lady   219986   Bad Guy Brewery   \n",
       "499999      499999     Bad Guy Foxy Lady   219986   Bad Guy Brewery   \n",
       "\n",
       "        brewery_id               style   abv        date       username  \\\n",
       "0             3198          Pale Lager   5.0  1461664800        Manslow   \n",
       "1             3198          Pale Lager   5.2  1487329200   MAGICuenca91   \n",
       "2             3198          Pale Lager   5.2  1466762400         Sibarh   \n",
       "3             3198          Pale Lager   5.2  1451646000        fombe89   \n",
       "4             3198          Pale Lager   5.2  1445594400     kevnic2008   \n",
       "...            ...                 ...   ...         ...            ...   \n",
       "499995       17089   American Pale Ale   6.0  1392548400         Dorqui   \n",
       "499996       17089   American Pale Ale   6.0  1393844400        daniele   \n",
       "499997       17089   California Common   5.5  1396519200     sebletitje   \n",
       "499998       17089   California Common   5.5  1393498800        Silvan7   \n",
       "499999       17089   California Common   5.5  1392202800         Dorqui   \n",
       "\n",
       "        user_id  appearance  aroma  palate  taste  overall  rating  \\\n",
       "0        175852           2      4       2      4        8     2.0   \n",
       "1        442761           2      3       2      4        8     1.9   \n",
       "2        288889           3      3       2      3        5     1.6   \n",
       "3        250510           4      3       1      2        5     1.5   \n",
       "4        122778           2      4       2      4        7     1.9   \n",
       "...         ...         ...    ...     ...    ...      ...     ...   \n",
       "499995    17425           4      7       4      7       13     3.5   \n",
       "499996    55098           3      7       4      6       13     3.3   \n",
       "499997    74926           3      7       3      7       15     3.5   \n",
       "499998   201189           4      8       3      7       14     3.6   \n",
       "499999    17425           4      7       4      8       13     3.6   \n",
       "\n",
       "                                                     text  \n",
       "0        Puszka 0,33l dzięki Christoph . Kolor jasnozł...  \n",
       "1        Cerveza pale lager gabonesa. MÃ¡s floja que l...  \n",
       "2        Kolor- złoty, klarowny. Piana - drobna, średn...  \n",
       "3        Botella, de GabÃ³n regalo familiar.31/01/2015...  \n",
       "4        Many thanks for this beer to Erzengel. Pours ...  \n",
       "...                                                   ...  \n",
       "499995   Draught at \"GolosItalia 2014\". Reddish amber ...  \n",
       "499996   ambrata buona schiuma piuttosto persistente n...  \n",
       "499997   Draft @ Fiera della birra di Forli â14. Cui...  \n",
       "499998   On tap, golositalia 2014. Rara California Com...  \n",
       "499999   Draught at \"GolosItalia 2014. Dark orange col...  \n",
       "\n",
       "[500000 rows x 17 columns]"
      ]
     },
     "metadata": {},
     "output_type": "display_data"
    }
   ],
   "source": [
    "import pandas as pd\n",
    "first = pd.read_csv(f\"data/RateBeer_ratings_part_0.csv\",low_memory=False)\n",
    "display(first)"
   ]
  },
  {
   "cell_type": "code",
   "execution_count": 47,
   "metadata": {
    "ExecuteTime": {
     "end_time": "2022-11-18T11:27:09.186373Z",
     "start_time": "2022-11-18T11:27:08.768763Z"
    }
   },
   "outputs": [
    {
     "ename": "NameError",
     "evalue": "name 'rb_ratings' is not defined",
     "output_type": "error",
     "traceback": [
      "\u001b[0;31m---------------------------------------------------------------------------\u001b[0m",
      "\u001b[0;31mNameError\u001b[0m                                 Traceback (most recent call last)",
      "Input \u001b[0;32mIn [47]\u001b[0m, in \u001b[0;36m<cell line: 10>\u001b[0;34m()\u001b[0m\n\u001b[1;32m      8\u001b[0m axes[\u001b[38;5;241m0\u001b[39m]\u001b[38;5;241m.\u001b[39mset_xlabel(\u001b[38;5;124m'\u001b[39m\u001b[38;5;124mWord per review\u001b[39m\u001b[38;5;124m'\u001b[39m)\n\u001b[1;32m      9\u001b[0m axes[\u001b[38;5;241m0\u001b[39m]\u001b[38;5;241m.\u001b[39mset_ylabel(\u001b[38;5;124m'\u001b[39m\u001b[38;5;124mReview count\u001b[39m\u001b[38;5;124m'\u001b[39m)\n\u001b[0;32m---> 10\u001b[0m sns\u001b[38;5;241m.\u001b[39mhistplot(\u001b[43mrb_ratings\u001b[49m,bins\u001b[38;5;241m=\u001b[39m\u001b[38;5;241m100\u001b[39m, log_scale\u001b[38;5;241m=\u001b[39m(\u001b[38;5;28;01mFalse\u001b[39;00m,\u001b[38;5;28;01mFalse\u001b[39;00m),ax\u001b[38;5;241m=\u001b[39maxes[\u001b[38;5;241m0\u001b[39m])\n\u001b[1;32m     12\u001b[0m axes[\u001b[38;5;241m1\u001b[39m]\u001b[38;5;241m.\u001b[39mset_title(\u001b[38;5;124m'\u001b[39m\u001b[38;5;124mBeer Advocate - Review word count\u001b[39m\u001b[38;5;124m'\u001b[39m)\n\u001b[1;32m     13\u001b[0m axes[\u001b[38;5;241m1\u001b[39m]\u001b[38;5;241m.\u001b[39mset_xlabel(\u001b[38;5;124m'\u001b[39m\u001b[38;5;124mWord per review\u001b[39m\u001b[38;5;124m'\u001b[39m)\n",
      "\u001b[0;31mNameError\u001b[0m: name 'rb_ratings' is not defined"
     ]
    },
    {
     "data": {
      "image/png": "[encoded data removed]",
      "text/plain": [
       "<Figure size 2000x700 with 2 Axes>"
      ]
     },
     "metadata": {},
     "output_type": "display_data"
    }
   ],
   "source": [
    "import matplotlib.pyplot as plt\n",
    "\n",
    "import seaborn as sns\n",
    "## How are the word count distributions for each site ? \n",
    "fig, axes = plt.subplots(1, 2, figsize=(20, 7),sharey=True,sharex=False)\n",
    "\n",
    "axes[0].set_title('Beer Advocate - Review word count')\n",
    "axes[0].set_xlabel('Word per review')\n",
    "axes[0].set_ylabel('Review count')\n",
    "sns.histplot(rb_ratings,bins=100, log_scale=(False,False),ax=axes[0])\n",
    "\n",
    "axes[1].set_title('Beer Advocate - Review word count')\n",
    "axes[1].set_xlabel('Word per review')\n",
    "axes[1].set_ylabel('Review count')\n",
    "sns.histplot(ba_ratings,bins=100, log_scale=(False,False),ax=axes[1])"
   ]
  },
  {
   "cell_type": "markdown",
   "metadata": {},
   "source": [
    "<a id='sat'></a>\n",
    "## SAT Dataset"
   ]
  },
  {
   "cell_type": "code",
   "execution_count": null,
   "metadata": {
    "ExecuteTime": {
     "end_time": "2022-11-18T11:27:09.187976Z",
     "start_time": "2022-11-18T11:27:09.187964Z"
    }
   },
   "outputs": [],
   "source": [
    "from functions import read_data\n",
    "\n",
    "SAT_beers = read_data.fetch_satellite_df()\n",
    "BA_beers = df_adv_beer_wrating\n",
    "RB_beers = df_rb_beer_wrating\n",
    "\n",
    "# Keep only the maximum price, corresponding to the volume in the 'vol' column of the dataframe\n",
    "SAT_beers[\"prix\"] = SAT_beers['prix'].str.findall('[0-9]*\\.?[0-9]*').apply(lambda x : max([float(price) for price in x if len(price)!=0]))\n",
    "\n",
    "\n",
    "SAT_beers.head(15)\n",
    "\n",
    "SAT_matched = pd.read_csv(\"DATA/matched_SATbeers.csv\")\n",
    "#Here are all the results of our vector space retrieval approach:\n",
    "display(SAT_matched)\n"
   ]
  },
  {
   "cell_type": "code",
   "execution_count": null,
   "metadata": {
    "ExecuteTime": {
     "end_time": "2022-11-18T11:27:09.188695Z",
     "start_time": "2022-11-18T11:27:09.188688Z"
    }
   },
   "outputs": [],
   "source": [
    "#Some have low cosine similarity, lets check them\n",
    "\n",
    "unmatched_beers = SAT_matched[(SAT_matched[\"Similarity with BeerAdvocate\"]< 0.7) & (SAT_matched[\"Similarity with RateBeer\"] < 0.7)]\n",
    "display(unmatched_beers)\n"
   ]
  }
 ],
 "metadata": {
  "kernelspec": {
   "display_name": "Python 3.9.13 ('ada')",
   "language": "python",
   "name": "python3913jvsc74a57bd09926dd7e9f4363b057e6144c0c7872a75f3da9669f13ec6aba9c30d81a49fba0"
  },
  "language_info": {
   "codemirror_mode": {
    "name": "ipython",
    "version": 3
   },
   "file_extension": ".py",
   "mimetype": "text/x-python",
   "name": "python",
   "nbconvert_exporter": "python",
   "pygments_lexer": "ipython3",
   "version": "3.9.13"
  }
 },
 "nbformat": 4,
 "nbformat_minor": 4
}
