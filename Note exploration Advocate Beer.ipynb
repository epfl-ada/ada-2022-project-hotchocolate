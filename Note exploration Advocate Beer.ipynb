{
 "cells": [
  {
   "cell_type": "markdown",
   "id": "3548f213",
   "metadata": {},
   "source": [
    "# BeerAdvocate\n",
    "Beer rating website for a period of 17 years ranging from 2001 to 2017\n",
    "\n",
    "papers link:\n",
    "https://arxiv.org/abs/1802.06578\n",
    "https://arxiv.org/abs/1210.3926\n"
   ]
  },
  {
   "cell_type": "markdown",
   "id": "1f3abd10",
   "metadata": {},
   "source": [
    "## Goal\n",
    "- Understand the data from the Advocate dataset\n",
    "- developping a strategie of modelisation\n",
    "\n",
    "\n",
    "## Checklist\n",
    "\n",
    "### Form Analysis\n",
    "- **Dataset**: Advocate Beer\n",
    "- **variable target**: avg, ba_score, bros_score, abv\n",
    "- **row and columns**: 280823, 15\n",
    "- **type of variable**: float64: 7, int64: 5, object: 3\n",
    "- **Nan analysis**:\n",
    "  avg                          0.116903,\n",
    "  avg_computed                 0.116946,\n",
    "  abv                          0.128280,\n",
    "  ba_score                     0.782069,\n",
    "  zscore                       0.856547,\n",
    "  avg_matched_valid_ratings    0.899324,\n",
    "  bros_score                   0.979695\n",
    "\n",
    "\n",
    "- **Dataset**: Advocate Breweries\n",
    "- **row and columns**: 16758, 4\n",
    "- **type of variable**: int64: 2, object: 2,\n",
    "- **Nan analysis**:  no value missing\n",
    "\n",
    "\n",
    "- **Dataset**: Advocate User\n",
    "- **row and columns**: 153704, 6\n",
    "- **type of variable**: int64: 2, float64: 1, object: 3,\n",
    "- **Nan analysis**:  \n",
    "  user_name      0.000007,\n",
    "  joined         0.017254,\n",
    "  location       0.203502\n",
    "\n",
    "\n"
   ]
  },
  {
   "cell_type": "markdown",
   "id": "10406034",
   "metadata": {},
   "source": [
    "### Columns meaning\n",
    "- **avg**:\n",
    "- **abv**: Alcohol by volume\n",
    "- **avg_computed**: \n",
    "- **nbr_matched_valid_ratings**:\n",
    "- **bros_score**: \n",
    "- **ba_score**: is the beer's overall score based on its ranking within its style category (https://www.beeradvocate.com/community/threads/beeradvocate-ratings-explained.184726/#:~:text=The%20BA%20Score%20is%20the%20beer%27s%20overall%20score,formula%20that%20takes%20the%20beer%27s%20style%20into%20consideration.)"
   ]
  },
  {
   "cell_type": "markdown",
   "id": "c04af790",
   "metadata": {},
   "source": [
    "\n",
    "### Backround analysis\n",
    "- **target visualisation**\n",
    "- **meaning variables**\n",
    "- **realationship**"
   ]
  },
  {
   "cell_type": "code",
   "execution_count": null,
   "id": "3e97b04f",
   "metadata": {},
   "outputs": [],
   "source": []
  }
 ],
 "metadata": {
  "kernelspec": {
   "display_name": "Python 3",
   "language": "python",
   "name": "python3"
  },
  "language_info": {
   "codemirror_mode": {
    "name": "ipython",
    "version": 3
   },
   "file_extension": ".py",
   "mimetype": "text/x-python",
   "name": "python",
   "nbconvert_exporter": "python",
   "pygments_lexer": "ipython3",
   "version": "3.8.8"
  }
 },
 "nbformat": 4,
 "nbformat_minor": 5
}
