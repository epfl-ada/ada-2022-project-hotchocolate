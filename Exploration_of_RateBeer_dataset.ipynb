{
 "cells": [
  {
   "cell_type": "code",
   "execution_count": 3,
   "metadata": {},
   "outputs": [],
   "source": [
    "import pandas as pd\n",
    "import numpy as np\n",
    "import seaborn as sns\n",
    "import matplotlib.pyplot as plt\n",
    "from scipy import stats"
   ]
  },
  {
   "cell_type": "code",
   "execution_count": null,
   "metadata": {},
   "outputs": [],
   "source": []
  },
  {
   "cell_type": "code",
   "execution_count": 4,
   "metadata": {},
   "outputs": [],
   "source": [
    "DATASET_RATEBEER = 'DATA/RateBeer/'"
   ]
  },
  {
   "cell_type": "code",
   "execution_count": 5,
   "metadata": {},
   "outputs": [
    {
     "name": "stdout",
     "output_type": "stream",
     "text": [
      "shape of all datasets: \n",
      " beer (442081, 14) \n",
      " users (70174, 5) \n",
      " breweries (24189, 4)\n"
     ]
    }
   ],
   "source": [
    "df_rb_beer = pd.read_csv(DATASET_RATEBEER + 'beers.csv')\n",
    "df_rb_breweries = pd.read_csv(DATASET_RATEBEER + 'breweries.csv')\n",
    "df_rb_users = pd.read_csv(DATASET_RATEBEER + 'users.csv')\n",
    "\n",
    "print('shape of all datasets: \\n',\n",
    "     'beer',df_rb_beer.shape,'\\n',\n",
    "      'users',df_rb_users.shape,'\\n',\n",
    "     'breweries',df_rb_breweries.shape)"
   ]
  },
  {
   "cell_type": "markdown",
   "metadata": {},
   "source": [
    "Exploration of the three datasets: "
   ]
  },
  {
   "cell_type": "code",
   "execution_count": 4,
   "metadata": {},
   "outputs": [
    {
     "data": {
      "text/html": [
       "<div>\n",
       "<style scoped>\n",
       "    .dataframe tbody tr th:only-of-type {\n",
       "        vertical-align: middle;\n",
       "    }\n",
       "\n",
       "    .dataframe tbody tr th {\n",
       "        vertical-align: top;\n",
       "    }\n",
       "\n",
       "    .dataframe thead th {\n",
       "        text-align: right;\n",
       "    }\n",
       "</style>\n",
       "<table border=\"1\" class=\"dataframe\">\n",
       "  <thead>\n",
       "    <tr style=\"text-align: right;\">\n",
       "      <th></th>\n",
       "      <th>beer_id</th>\n",
       "      <th>beer_name</th>\n",
       "      <th>brewery_id</th>\n",
       "      <th>brewery_name</th>\n",
       "      <th>style</th>\n",
       "      <th>nbr_ratings</th>\n",
       "      <th>overall_score</th>\n",
       "      <th>style_score</th>\n",
       "      <th>avg</th>\n",
       "      <th>abv</th>\n",
       "      <th>avg_computed</th>\n",
       "      <th>zscore</th>\n",
       "      <th>nbr_matched_valid_ratings</th>\n",
       "      <th>avg_matched_valid_ratings</th>\n",
       "    </tr>\n",
       "  </thead>\n",
       "  <tbody>\n",
       "    <tr>\n",
       "      <th>0</th>\n",
       "      <td>410549</td>\n",
       "      <td>33 Export (Gabon)</td>\n",
       "      <td>3198</td>\n",
       "      <td>Sobraga</td>\n",
       "      <td>Pale Lager</td>\n",
       "      <td>1</td>\n",
       "      <td>NaN</td>\n",
       "      <td>NaN</td>\n",
       "      <td>2.72</td>\n",
       "      <td>5.0</td>\n",
       "      <td>2.000000</td>\n",
       "      <td>NaN</td>\n",
       "      <td>0</td>\n",
       "      <td>NaN</td>\n",
       "    </tr>\n",
       "    <tr>\n",
       "      <th>1</th>\n",
       "      <td>105273</td>\n",
       "      <td>Castel Beer (Gabon)</td>\n",
       "      <td>3198</td>\n",
       "      <td>Sobraga</td>\n",
       "      <td>Pale Lager</td>\n",
       "      <td>10</td>\n",
       "      <td>5.0</td>\n",
       "      <td>58.0</td>\n",
       "      <td>2.18</td>\n",
       "      <td>5.2</td>\n",
       "      <td>1.910000</td>\n",
       "      <td>NaN</td>\n",
       "      <td>0</td>\n",
       "      <td>NaN</td>\n",
       "    </tr>\n",
       "    <tr>\n",
       "      <th>2</th>\n",
       "      <td>19445</td>\n",
       "      <td>Régab</td>\n",
       "      <td>3198</td>\n",
       "      <td>Sobraga</td>\n",
       "      <td>Pale Lager</td>\n",
       "      <td>27</td>\n",
       "      <td>1.0</td>\n",
       "      <td>22.0</td>\n",
       "      <td>1.83</td>\n",
       "      <td>4.5</td>\n",
       "      <td>1.811111</td>\n",
       "      <td>NaN</td>\n",
       "      <td>0</td>\n",
       "      <td>NaN</td>\n",
       "    </tr>\n",
       "    <tr>\n",
       "      <th>3</th>\n",
       "      <td>155699</td>\n",
       "      <td>Ards Bally Black Stout</td>\n",
       "      <td>13538</td>\n",
       "      <td>Ards Brewing Co.</td>\n",
       "      <td>Stout</td>\n",
       "      <td>6</td>\n",
       "      <td>NaN</td>\n",
       "      <td>NaN</td>\n",
       "      <td>3.18</td>\n",
       "      <td>4.6</td>\n",
       "      <td>3.866667</td>\n",
       "      <td>0.823699</td>\n",
       "      <td>6</td>\n",
       "      <td>3.866667</td>\n",
       "    </tr>\n",
       "    <tr>\n",
       "      <th>4</th>\n",
       "      <td>239097</td>\n",
       "      <td>Ards Belfast 366</td>\n",
       "      <td>13538</td>\n",
       "      <td>Ards Brewing Co.</td>\n",
       "      <td>Golden Ale/Blond Ale</td>\n",
       "      <td>1</td>\n",
       "      <td>NaN</td>\n",
       "      <td>NaN</td>\n",
       "      <td>2.79</td>\n",
       "      <td>4.2</td>\n",
       "      <td>3.000000</td>\n",
       "      <td>NaN</td>\n",
       "      <td>0</td>\n",
       "      <td>NaN</td>\n",
       "    </tr>\n",
       "  </tbody>\n",
       "</table>\n",
       "</div>"
      ],
      "text/plain": [
       "   beer_id               beer_name  brewery_id      brewery_name  \\\n",
       "0   410549       33 Export (Gabon)        3198           Sobraga   \n",
       "1   105273     Castel Beer (Gabon)        3198           Sobraga   \n",
       "2    19445                   Régab        3198           Sobraga   \n",
       "3   155699  Ards Bally Black Stout       13538  Ards Brewing Co.   \n",
       "4   239097        Ards Belfast 366       13538  Ards Brewing Co.   \n",
       "\n",
       "                  style  nbr_ratings  overall_score  style_score   avg  abv  \\\n",
       "0            Pale Lager            1            NaN          NaN  2.72  5.0   \n",
       "1            Pale Lager           10            5.0         58.0  2.18  5.2   \n",
       "2            Pale Lager           27            1.0         22.0  1.83  4.5   \n",
       "3                 Stout            6            NaN          NaN  3.18  4.6   \n",
       "4  Golden Ale/Blond Ale            1            NaN          NaN  2.79  4.2   \n",
       "\n",
       "   avg_computed    zscore  nbr_matched_valid_ratings  \\\n",
       "0      2.000000       NaN                          0   \n",
       "1      1.910000       NaN                          0   \n",
       "2      1.811111       NaN                          0   \n",
       "3      3.866667  0.823699                          6   \n",
       "4      3.000000       NaN                          0   \n",
       "\n",
       "   avg_matched_valid_ratings  \n",
       "0                        NaN  \n",
       "1                        NaN  \n",
       "2                        NaN  \n",
       "3                   3.866667  \n",
       "4                        NaN  "
      ]
     },
     "execution_count": 4,
     "metadata": {},
     "output_type": "execute_result"
    }
   ],
   "source": [
    "df_rb_beer.head()"
   ]
  },
  {
   "cell_type": "code",
   "execution_count": 5,
   "metadata": {},
   "outputs": [
    {
     "data": {
      "text/plain": [
       "<matplotlib.axes._subplots.AxesSubplot at 0x7f8c95cd7790>"
      ]
     },
     "execution_count": 5,
     "metadata": {},
     "output_type": "execute_result"
    },
    {
     "data": {
      "image/png": "[encoded data removed]",
      "text/plain": [
       "<Figure size 1080x720 with 2 Axes>"
      ]
     },
     "metadata": {
      "needs_background": "light"
     },
     "output_type": "display_data"
    }
   ],
   "source": [
    "# show in white the nan values in a column\n",
    "plt.figure(figsize=(15,10))\n",
    "sns.heatmap(df_rb_beer.isna(), cbar=True)"
   ]
  },
  {
   "cell_type": "code",
   "execution_count": 7,
   "metadata": {},
   "outputs": [
    {
     "data": {
      "text/plain": [
       "beer_id                      0.000000\n",
       "beer_name                    0.000000\n",
       "brewery_id                   0.000000\n",
       "brewery_name                 0.000000\n",
       "style                        0.000000\n",
       "nbr_ratings                  0.000000\n",
       "nbr_matched_valid_ratings    0.000000\n",
       "abv                          0.095218\n",
       "avg_computed                 0.102676\n",
       "avg                          0.105012\n",
       "style_score                  0.764595\n",
       "overall_score                0.764686\n",
       "zscore                       0.904479\n",
       "avg_matched_valid_ratings    0.904479\n",
       "dtype: float64"
      ]
     },
     "execution_count": 7,
     "metadata": {},
     "output_type": "execute_result"
    }
   ],
   "source": [
    "(df_rb_beer.isna().sum()/df_rb_beer.shape[0]).sort_values(ascending=True)"
   ]
  },
  {
   "cell_type": "code",
   "execution_count": 8,
   "metadata": {},
   "outputs": [
    {
     "data": {
      "text/html": [
       "<div>\n",
       "<style scoped>\n",
       "    .dataframe tbody tr th:only-of-type {\n",
       "        vertical-align: middle;\n",
       "    }\n",
       "\n",
       "    .dataframe tbody tr th {\n",
       "        vertical-align: top;\n",
       "    }\n",
       "\n",
       "    .dataframe thead th {\n",
       "        text-align: right;\n",
       "    }\n",
       "</style>\n",
       "<table border=\"1\" class=\"dataframe\">\n",
       "  <thead>\n",
       "    <tr style=\"text-align: right;\">\n",
       "      <th></th>\n",
       "      <th>id</th>\n",
       "      <th>location</th>\n",
       "      <th>name</th>\n",
       "      <th>nbr_beers</th>\n",
       "    </tr>\n",
       "  </thead>\n",
       "  <tbody>\n",
       "    <tr>\n",
       "      <th>0</th>\n",
       "      <td>3198</td>\n",
       "      <td>Gabon</td>\n",
       "      <td>Sobraga</td>\n",
       "      <td>3</td>\n",
       "    </tr>\n",
       "    <tr>\n",
       "      <th>1</th>\n",
       "      <td>13538</td>\n",
       "      <td>Northern Ireland</td>\n",
       "      <td>Ards Brewing Co.</td>\n",
       "      <td>13</td>\n",
       "    </tr>\n",
       "    <tr>\n",
       "      <th>2</th>\n",
       "      <td>22304</td>\n",
       "      <td>Northern Ireland</td>\n",
       "      <td>Barrahooley Craft Brewery</td>\n",
       "      <td>4</td>\n",
       "    </tr>\n",
       "    <tr>\n",
       "      <th>3</th>\n",
       "      <td>22818</td>\n",
       "      <td>Northern Ireland</td>\n",
       "      <td>Boundary</td>\n",
       "      <td>66</td>\n",
       "    </tr>\n",
       "    <tr>\n",
       "      <th>4</th>\n",
       "      <td>24297</td>\n",
       "      <td>Northern Ireland</td>\n",
       "      <td>Brewbot Belfast</td>\n",
       "      <td>3</td>\n",
       "    </tr>\n",
       "  </tbody>\n",
       "</table>\n",
       "</div>"
      ],
      "text/plain": [
       "      id          location                       name  nbr_beers\n",
       "0   3198             Gabon                    Sobraga          3\n",
       "1  13538  Northern Ireland           Ards Brewing Co.         13\n",
       "2  22304  Northern Ireland  Barrahooley Craft Brewery          4\n",
       "3  22818  Northern Ireland                   Boundary         66\n",
       "4  24297  Northern Ireland            Brewbot Belfast          3"
      ]
     },
     "execution_count": 8,
     "metadata": {},
     "output_type": "execute_result"
    }
   ],
   "source": [
    "df_rb_breweries.head()"
   ]
  },
  {
   "cell_type": "code",
   "execution_count": 10,
   "metadata": {},
   "outputs": [
    {
     "data": {
      "text/plain": [
       "<matplotlib.axes._subplots.AxesSubplot at 0x7f8c964c3a50>"
      ]
     },
     "execution_count": 10,
     "metadata": {},
     "output_type": "execute_result"
    },
    {
     "data": {
      "image/png": "[encoded data removed]",
      "text/plain": [
       "<Figure size 1080x720 with 2 Axes>"
      ]
     },
     "metadata": {
      "needs_background": "light"
     },
     "output_type": "display_data"
    }
   ],
   "source": [
    "# show in white the nan values in a column\n",
    "plt.figure(figsize=(15,10))\n",
    "sns.heatmap(df_rb_breweries.isna(), cbar=True)"
   ]
  },
  {
   "cell_type": "code",
   "execution_count": 12,
   "metadata": {},
   "outputs": [
    {
     "data": {
      "text/plain": [
       "id           0.0\n",
       "location     0.0\n",
       "name         0.0\n",
       "nbr_beers    0.0\n",
       "dtype: float64"
      ]
     },
     "execution_count": 12,
     "metadata": {},
     "output_type": "execute_result"
    }
   ],
   "source": [
    "(df_rb_breweries.isna().sum()/df_rb_breweries.shape[0]).sort_values(ascending=True)"
   ]
  },
  {
   "cell_type": "code",
   "execution_count": 13,
   "metadata": {},
   "outputs": [
    {
     "data": {
      "text/html": [
       "<div>\n",
       "<style scoped>\n",
       "    .dataframe tbody tr th:only-of-type {\n",
       "        vertical-align: middle;\n",
       "    }\n",
       "\n",
       "    .dataframe tbody tr th {\n",
       "        vertical-align: top;\n",
       "    }\n",
       "\n",
       "    .dataframe thead th {\n",
       "        text-align: right;\n",
       "    }\n",
       "</style>\n",
       "<table border=\"1\" class=\"dataframe\">\n",
       "  <thead>\n",
       "    <tr style=\"text-align: right;\">\n",
       "      <th></th>\n",
       "      <th>nbr_ratings</th>\n",
       "      <th>user_id</th>\n",
       "      <th>user_name</th>\n",
       "      <th>joined</th>\n",
       "      <th>location</th>\n",
       "    </tr>\n",
       "  </thead>\n",
       "  <tbody>\n",
       "    <tr>\n",
       "      <th>0</th>\n",
       "      <td>1890</td>\n",
       "      <td>175852</td>\n",
       "      <td>Manslow</td>\n",
       "      <td>1.337508e+09</td>\n",
       "      <td>Poland</td>\n",
       "    </tr>\n",
       "    <tr>\n",
       "      <th>1</th>\n",
       "      <td>89</td>\n",
       "      <td>442761</td>\n",
       "      <td>MAGICuenca91</td>\n",
       "      <td>1.484046e+09</td>\n",
       "      <td>Spain</td>\n",
       "    </tr>\n",
       "    <tr>\n",
       "      <th>2</th>\n",
       "      <td>169</td>\n",
       "      <td>288889</td>\n",
       "      <td>Sibarh</td>\n",
       "      <td>1.384600e+09</td>\n",
       "      <td>Poland</td>\n",
       "    </tr>\n",
       "    <tr>\n",
       "      <th>3</th>\n",
       "      <td>3371</td>\n",
       "      <td>250510</td>\n",
       "      <td>fombe89</td>\n",
       "      <td>1.363950e+09</td>\n",
       "      <td>Spain</td>\n",
       "    </tr>\n",
       "    <tr>\n",
       "      <th>4</th>\n",
       "      <td>13043</td>\n",
       "      <td>122778</td>\n",
       "      <td>kevnic2008</td>\n",
       "      <td>1.296644e+09</td>\n",
       "      <td>Germany</td>\n",
       "    </tr>\n",
       "  </tbody>\n",
       "</table>\n",
       "</div>"
      ],
      "text/plain": [
       "   nbr_ratings  user_id     user_name        joined location\n",
       "0         1890   175852       Manslow  1.337508e+09   Poland\n",
       "1           89   442761  MAGICuenca91  1.484046e+09    Spain\n",
       "2          169   288889        Sibarh  1.384600e+09   Poland\n",
       "3         3371   250510       fombe89  1.363950e+09    Spain\n",
       "4        13043   122778    kevnic2008  1.296644e+09  Germany"
      ]
     },
     "execution_count": 13,
     "metadata": {},
     "output_type": "execute_result"
    }
   ],
   "source": [
    "df_rb_users.head()"
   ]
  },
  {
   "cell_type": "code",
   "execution_count": 14,
   "metadata": {},
   "outputs": [
    {
     "data": {
      "text/plain": [
       "<matplotlib.axes._subplots.AxesSubplot at 0x7f8c5e9ef910>"
      ]
     },
     "execution_count": 14,
     "metadata": {},
     "output_type": "execute_result"
    },
    {
     "data": {
      "image/png": "[encoded data removed]",
      "text/plain": [
       "<Figure size 1080x720 with 2 Axes>"
      ]
     },
     "metadata": {
      "needs_background": "light"
     },
     "output_type": "display_data"
    }
   ],
   "source": [
    "# show in white the nan values in a column\n",
    "plt.figure(figsize=(15,10))\n",
    "sns.heatmap(df_rb_users.isna(), cbar=True)"
   ]
  },
  {
   "cell_type": "code",
   "execution_count": 15,
   "metadata": {},
   "outputs": [
    {
     "data": {
      "text/plain": [
       "nbr_ratings    0.000000\n",
       "user_id        0.000000\n",
       "user_name      0.000000\n",
       "joined         0.000428\n",
       "location       0.279049\n",
       "dtype: float64"
      ]
     },
     "execution_count": 15,
     "metadata": {},
     "output_type": "execute_result"
    }
   ],
   "source": [
    "(df_rb_users.isna().sum()/df_rb_users.shape[0]).sort_values(ascending=True)"
   ]
  },
  {
   "cell_type": "markdown",
   "metadata": {},
   "source": [
    "Users stats"
   ]
  },
  {
   "cell_type": "code",
   "execution_count": 51,
   "metadata": {},
   "outputs": [
    {
     "data": {
      "text/plain": [
       "(70174, 5)"
      ]
     },
     "execution_count": 51,
     "metadata": {},
     "output_type": "execute_result"
    }
   ],
   "source": [
    "df_rb_users.shape"
   ]
  },
  {
   "cell_type": "code",
   "execution_count": 49,
   "metadata": {},
   "outputs": [
    {
     "data": {
      "text/plain": [
       "70120"
      ]
     },
     "execution_count": 49,
     "metadata": {},
     "output_type": "execute_result"
    }
   ],
   "source": [
    "df_rb_users[\"user_id\"].nunique() #there are some users that are several times in the dataset."
   ]
  },
  {
   "cell_type": "code",
   "execution_count": 6,
   "metadata": {},
   "outputs": [
    {
     "data": {
      "text/plain": [
       "True"
      ]
     },
     "execution_count": 6,
     "metadata": {},
     "output_type": "execute_result"
    }
   ],
   "source": [
    "df_rb_unique_users=df_rb_users.drop_duplicates(subset=\"user_id\",keep=\"first\") #je supprime tous les users id en doublon, mais l'id 46797 a des nombres de review différents selon la ligne\n",
    "#sanity check \n",
    "df_rb_unique_users.shape[0]==df_rb_unique_users[\"user_id\"].nunique()"
   ]
  },
  {
   "cell_type": "code",
   "execution_count": 17,
   "metadata": {},
   "outputs": [
    {
     "data": {
      "text/plain": [
       "222"
      ]
     },
     "execution_count": 17,
     "metadata": {},
     "output_type": "execute_result"
    }
   ],
   "source": [
    "#number of countries the users come from\n",
    "df_rb_unique_users[\"location\"].nunique()"
   ]
  },
  {
   "cell_type": "code",
   "execution_count": 29,
   "metadata": {},
   "outputs": [
    {
     "data": {
      "text/plain": [
       "Canada                         3255\n",
       "United States, California      2804\n",
       "England                        2734\n",
       "Poland                         1701\n",
       "United States, Pennsylvania    1632\n",
       "Name: location, dtype: int64"
      ]
     },
     "execution_count": 29,
     "metadata": {},
     "output_type": "execute_result"
    }
   ],
   "source": [
    "location_users=df_rb_users[\"location\"].value_counts()\n",
    "#5 locations with the most users \n",
    "location_users.head()"
   ]
  },
  {
   "cell_type": "code",
   "execution_count": 4,
   "metadata": {},
   "outputs": [
    {
     "data": {
      "text/plain": [
       "Text(0, 0.5, 'Number of reviews')"
      ]
     },
     "execution_count": 4,
     "metadata": {},
     "output_type": "execute_result"
    },
    {
     "data": {
      "image/png": "[encoded data removed]",
      "text/plain": [
       "<Figure size 432x288 with 1 Axes>"
      ]
     },
     "metadata": {
      "needs_background": "light"
     },
     "output_type": "display_data"
    }
   ],
   "source": [
    "df_rb_users['nbr_ratings'].plot(kind=\"hist\",logx=False,logy=True)\n",
    "plt.xlabel(\"Number of users\")\n",
    "plt.ylabel(\"Number of reviews\")"
   ]
  },
  {
   "cell_type": "code",
   "execution_count": 7,
   "metadata": {},
   "outputs": [
    {
     "data": {
      "text/plain": [
       "count    70120.000000\n",
       "mean       108.903936\n",
       "std        754.777751\n",
       "min          1.000000\n",
       "25%          1.000000\n",
       "50%          2.000000\n",
       "75%         10.000000\n",
       "max      46749.000000\n",
       "Name: nbr_ratings, dtype: float64"
      ]
     },
     "execution_count": 7,
     "metadata": {},
     "output_type": "execute_result"
    }
   ],
   "source": [
    "df_rb_unique_users[\"nbr_ratings\"].describe() #faire un boxplot à la place d'un histogramme?"
   ]
  },
  {
   "cell_type": "code",
   "execution_count": 38,
   "metadata": {},
   "outputs": [
    {
     "name": "stdout",
     "output_type": "stream",
     "text": [
      "Number of users with less than 10 reviews: 52430 \n",
      "Number of users having written between 10 and 100 reviews: 11325 \n",
      "Number of users having written between 100 and 1000 reviews: 4753 \n",
      "Number of users having written between 1000 and 10000 reviews: 1589 \n",
      "Number of users having written more than 10000 reviews: 77 \n"
     ]
    },
    {
     "data": {
      "text/plain": [
       "True"
      ]
     },
     "execution_count": 38,
     "metadata": {},
     "output_type": "execute_result"
    }
   ],
   "source": [
    "#user10 is the number of users having written <10 reviews\n",
    "#userx_y is the number of users having written x<= nb_reviews < y \n",
    "#user10000 is the number of users having written >= 10000 reviews\n",
    "user10=(df_rb_users['nbr_ratings']<10).sum()\n",
    "user10_100=(df_rb_users['nbr_ratings']<100).sum()-user10\n",
    "user100_1000=(df_rb_users['nbr_ratings']<1000).sum()-user10-user10_100\n",
    "user1000_10000=(df_rb_users['nbr_ratings']<10000).sum()-user10-user10_100-user100_1000\n",
    "user10000=(df_rb_users['nbr_ratings']>=10000).sum()\n",
    "\n",
    "print('Number of users with less than 10 reviews: {} '.format(user10))\n",
    "print('Number of users having written between 10 and 100 reviews: {} '.format(user10_100))\n",
    "print('Number of users having written between 100 and 1000 reviews: {} '.format(user100_1000))\n",
    "print('Number of users having written between 1000 and 10000 reviews: {} '.format(user1000_10000))\n",
    "print('Number of users having written more than 10000 reviews: {} '.format(user10000))\n",
    "\n",
    "#sanity check\n",
    "\n",
    "user10+user10_100+user100_1000+user1000_10000+user10000==df_rb_users.shape[0]\n",
    "\n"
   ]
  },
  {
   "cell_type": "markdown",
   "metadata": {},
   "source": [
    "Breweries stats"
   ]
  },
  {
   "cell_type": "code",
   "execution_count": 45,
   "metadata": {},
   "outputs": [
    {
     "data": {
      "text/html": [
       "<div>\n",
       "<style scoped>\n",
       "    .dataframe tbody tr th:only-of-type {\n",
       "        vertical-align: middle;\n",
       "    }\n",
       "\n",
       "    .dataframe tbody tr th {\n",
       "        vertical-align: top;\n",
       "    }\n",
       "\n",
       "    .dataframe thead th {\n",
       "        text-align: right;\n",
       "    }\n",
       "</style>\n",
       "<table border=\"1\" class=\"dataframe\">\n",
       "  <thead>\n",
       "    <tr style=\"text-align: right;\">\n",
       "      <th></th>\n",
       "      <th>id</th>\n",
       "      <th>location</th>\n",
       "      <th>name</th>\n",
       "      <th>nbr_beers</th>\n",
       "    </tr>\n",
       "  </thead>\n",
       "  <tbody>\n",
       "    <tr>\n",
       "      <th>0</th>\n",
       "      <td>3198</td>\n",
       "      <td>Gabon</td>\n",
       "      <td>Sobraga</td>\n",
       "      <td>3</td>\n",
       "    </tr>\n",
       "    <tr>\n",
       "      <th>1</th>\n",
       "      <td>13538</td>\n",
       "      <td>Northern Ireland</td>\n",
       "      <td>Ards Brewing Co.</td>\n",
       "      <td>13</td>\n",
       "    </tr>\n",
       "    <tr>\n",
       "      <th>2</th>\n",
       "      <td>22304</td>\n",
       "      <td>Northern Ireland</td>\n",
       "      <td>Barrahooley Craft Brewery</td>\n",
       "      <td>4</td>\n",
       "    </tr>\n",
       "    <tr>\n",
       "      <th>3</th>\n",
       "      <td>22818</td>\n",
       "      <td>Northern Ireland</td>\n",
       "      <td>Boundary</td>\n",
       "      <td>66</td>\n",
       "    </tr>\n",
       "    <tr>\n",
       "      <th>4</th>\n",
       "      <td>24297</td>\n",
       "      <td>Northern Ireland</td>\n",
       "      <td>Brewbot Belfast</td>\n",
       "      <td>3</td>\n",
       "    </tr>\n",
       "  </tbody>\n",
       "</table>\n",
       "</div>"
      ],
      "text/plain": [
       "      id          location                       name  nbr_beers\n",
       "0   3198             Gabon                    Sobraga          3\n",
       "1  13538  Northern Ireland           Ards Brewing Co.         13\n",
       "2  22304  Northern Ireland  Barrahooley Craft Brewery          4\n",
       "3  22818  Northern Ireland                   Boundary         66\n",
       "4  24297  Northern Ireland            Brewbot Belfast          3"
      ]
     },
     "execution_count": 45,
     "metadata": {},
     "output_type": "execute_result"
    }
   ],
   "source": [
    "df_rb_breweries.head()"
   ]
  },
  {
   "cell_type": "code",
   "execution_count": 68,
   "metadata": {},
   "outputs": [
    {
     "data": {
      "text/plain": [
       "(24189, 4)"
      ]
     },
     "execution_count": 68,
     "metadata": {},
     "output_type": "execute_result"
    }
   ],
   "source": [
    "df_rb_breweries.shape"
   ]
  },
  {
   "cell_type": "code",
   "execution_count": 19,
   "metadata": {},
   "outputs": [
    {
     "data": {
      "text/plain": [
       "24189"
      ]
     },
     "execution_count": 19,
     "metadata": {},
     "output_type": "execute_result"
    }
   ],
   "source": [
    "df_rb_breweries['id'].nunique() #good, we have each brewery only once"
   ]
  },
  {
   "cell_type": "code",
   "execution_count": 47,
   "metadata": {},
   "outputs": [
    {
     "data": {
      "text/plain": [
       "267"
      ]
     },
     "execution_count": 47,
     "metadata": {},
     "output_type": "execute_result"
    }
   ],
   "source": [
    "df_rb_breweries[\"location\"].nunique()"
   ]
  },
  {
   "cell_type": "code",
   "execution_count": 28,
   "metadata": {},
   "outputs": [
    {
     "data": {
      "text/plain": [
       "England                      2124\n",
       "Germany                      1999\n",
       "Italy                        1051\n",
       "Canada                        884\n",
       "United States, California     867\n",
       "Name: location, dtype: int64"
      ]
     },
     "execution_count": 28,
     "metadata": {},
     "output_type": "execute_result"
    }
   ],
   "source": [
    "location_breweries=df_rb_breweries[\"location\"].value_counts()\n",
    "#5 locations with the most breweries\n",
    "location_breweries.head()"
   ]
  },
  {
   "cell_type": "markdown",
   "metadata": {},
   "source": [
    "It is interesting to see that the 5 locations with the most breweries don't match the 5 locations with the most users. Is it possible to make a plot to see (or not) some sort of correlation? (check that)"
   ]
  },
  {
   "cell_type": "code",
   "execution_count": 30,
   "metadata": {},
   "outputs": [
    {
     "data": {
      "text/html": [
       "<div>\n",
       "<style scoped>\n",
       "    .dataframe tbody tr th:only-of-type {\n",
       "        vertical-align: middle;\n",
       "    }\n",
       "\n",
       "    .dataframe tbody tr th {\n",
       "        vertical-align: top;\n",
       "    }\n",
       "\n",
       "    .dataframe thead th {\n",
       "        text-align: right;\n",
       "    }\n",
       "</style>\n",
       "<table border=\"1\" class=\"dataframe\">\n",
       "  <thead>\n",
       "    <tr style=\"text-align: right;\">\n",
       "      <th></th>\n",
       "      <th>country</th>\n",
       "      <th>counts_breweries</th>\n",
       "    </tr>\n",
       "  </thead>\n",
       "  <tbody>\n",
       "    <tr>\n",
       "      <th>0</th>\n",
       "      <td>England</td>\n",
       "      <td>2124</td>\n",
       "    </tr>\n",
       "    <tr>\n",
       "      <th>1</th>\n",
       "      <td>Germany</td>\n",
       "      <td>1999</td>\n",
       "    </tr>\n",
       "    <tr>\n",
       "      <th>2</th>\n",
       "      <td>Italy</td>\n",
       "      <td>1051</td>\n",
       "    </tr>\n",
       "    <tr>\n",
       "      <th>3</th>\n",
       "      <td>Canada</td>\n",
       "      <td>884</td>\n",
       "    </tr>\n",
       "    <tr>\n",
       "      <th>4</th>\n",
       "      <td>United States, California</td>\n",
       "      <td>867</td>\n",
       "    </tr>\n",
       "  </tbody>\n",
       "</table>\n",
       "</div>"
      ],
      "text/plain": [
       "                     country  counts_breweries\n",
       "0                    England              2124\n",
       "1                    Germany              1999\n",
       "2                      Italy              1051\n",
       "3                     Canada               884\n",
       "4  United States, California               867"
      ]
     },
     "execution_count": 30,
     "metadata": {},
     "output_type": "execute_result"
    }
   ],
   "source": [
    "location_breweries=location_breweries.to_frame().reset_index()\n",
    "location_breweries.columns=[\"country\",\"counts_breweries\"]\n",
    "location_breweries.head()"
   ]
  },
  {
   "cell_type": "code",
   "execution_count": 31,
   "metadata": {},
   "outputs": [
    {
     "data": {
      "text/html": [
       "<div>\n",
       "<style scoped>\n",
       "    .dataframe tbody tr th:only-of-type {\n",
       "        vertical-align: middle;\n",
       "    }\n",
       "\n",
       "    .dataframe tbody tr th {\n",
       "        vertical-align: top;\n",
       "    }\n",
       "\n",
       "    .dataframe thead th {\n",
       "        text-align: right;\n",
       "    }\n",
       "</style>\n",
       "<table border=\"1\" class=\"dataframe\">\n",
       "  <thead>\n",
       "    <tr style=\"text-align: right;\">\n",
       "      <th></th>\n",
       "      <th>country</th>\n",
       "      <th>counts_users</th>\n",
       "    </tr>\n",
       "  </thead>\n",
       "  <tbody>\n",
       "    <tr>\n",
       "      <th>0</th>\n",
       "      <td>Canada</td>\n",
       "      <td>3255</td>\n",
       "    </tr>\n",
       "    <tr>\n",
       "      <th>1</th>\n",
       "      <td>United States, California</td>\n",
       "      <td>2804</td>\n",
       "    </tr>\n",
       "    <tr>\n",
       "      <th>2</th>\n",
       "      <td>England</td>\n",
       "      <td>2734</td>\n",
       "    </tr>\n",
       "    <tr>\n",
       "      <th>3</th>\n",
       "      <td>Poland</td>\n",
       "      <td>1701</td>\n",
       "    </tr>\n",
       "    <tr>\n",
       "      <th>4</th>\n",
       "      <td>United States, Pennsylvania</td>\n",
       "      <td>1632</td>\n",
       "    </tr>\n",
       "  </tbody>\n",
       "</table>\n",
       "</div>"
      ],
      "text/plain": [
       "                       country  counts_users\n",
       "0                       Canada          3255\n",
       "1    United States, California          2804\n",
       "2                      England          2734\n",
       "3                       Poland          1701\n",
       "4  United States, Pennsylvania          1632"
      ]
     },
     "execution_count": 31,
     "metadata": {},
     "output_type": "execute_result"
    }
   ],
   "source": [
    "location_users=location_users.to_frame().reset_index()\n",
    "location_users.columns=[\"country\",\"counts_users\"]\n",
    "location_users.head()"
   ]
  },
  {
   "cell_type": "code",
   "execution_count": 35,
   "metadata": {},
   "outputs": [
    {
     "data": {
      "text/plain": [
       "267"
      ]
     },
     "execution_count": 35,
     "metadata": {},
     "output_type": "execute_result"
    }
   ],
   "source": [
    "location_breweries.shape[0]"
   ]
  },
  {
   "cell_type": "code",
   "execution_count": null,
   "metadata": {
    "collapsed": true
   },
   "outputs": [],
   "source": []
  },
  {
   "cell_type": "code",
   "execution_count": 33,
   "metadata": {},
   "outputs": [
    {
     "data": {
      "text/plain": [
       "(207, 3)"
      ]
     },
     "execution_count": 33,
     "metadata": {},
     "output_type": "execute_result"
    }
   ],
   "source": [
    "#want to see if there is a correlation betweenthe ranking of locations of users\n",
    "#and the ranking of locations of breweries. Need to do so only on locations that match.\n",
    "compare_locations=location_users.merge(location_breweries,on=\"country\",how=\"inner\")\n"
   ]
  },
  {
   "cell_type": "code",
   "execution_count": 36,
   "metadata": {},
   "outputs": [
    {
     "data": {
      "text/html": [
       "<div>\n",
       "<style scoped>\n",
       "    .dataframe tbody tr th:only-of-type {\n",
       "        vertical-align: middle;\n",
       "    }\n",
       "\n",
       "    .dataframe tbody tr th {\n",
       "        vertical-align: top;\n",
       "    }\n",
       "\n",
       "    .dataframe thead th {\n",
       "        text-align: right;\n",
       "    }\n",
       "</style>\n",
       "<table border=\"1\" class=\"dataframe\">\n",
       "  <thead>\n",
       "    <tr style=\"text-align: right;\">\n",
       "      <th></th>\n",
       "      <th>country</th>\n",
       "      <th>counts_users</th>\n",
       "      <th>counts_breweries</th>\n",
       "    </tr>\n",
       "  </thead>\n",
       "  <tbody>\n",
       "    <tr>\n",
       "      <th>0</th>\n",
       "      <td>Canada</td>\n",
       "      <td>3255</td>\n",
       "      <td>884</td>\n",
       "    </tr>\n",
       "    <tr>\n",
       "      <th>1</th>\n",
       "      <td>United States, California</td>\n",
       "      <td>2804</td>\n",
       "      <td>867</td>\n",
       "    </tr>\n",
       "    <tr>\n",
       "      <th>2</th>\n",
       "      <td>England</td>\n",
       "      <td>2734</td>\n",
       "      <td>2124</td>\n",
       "    </tr>\n",
       "    <tr>\n",
       "      <th>3</th>\n",
       "      <td>Poland</td>\n",
       "      <td>1701</td>\n",
       "      <td>367</td>\n",
       "    </tr>\n",
       "    <tr>\n",
       "      <th>4</th>\n",
       "      <td>United States, Pennsylvania</td>\n",
       "      <td>1632</td>\n",
       "      <td>298</td>\n",
       "    </tr>\n",
       "  </tbody>\n",
       "</table>\n",
       "</div>"
      ],
      "text/plain": [
       "                       country  counts_users  counts_breweries\n",
       "0                       Canada          3255               884\n",
       "1    United States, California          2804               867\n",
       "2                      England          2734              2124\n",
       "3                       Poland          1701               367\n",
       "4  United States, Pennsylvania          1632               298"
      ]
     },
     "execution_count": 36,
     "metadata": {},
     "output_type": "execute_result"
    }
   ],
   "source": [
    "compare_locations.head()"
   ]
  },
  {
   "cell_type": "code",
   "execution_count": 38,
   "metadata": {},
   "outputs": [
    {
     "data": {
      "text/plain": [
       "SpearmanrResult(correlation=0.899222149524048, pvalue=1.5492060355213396e-75)"
      ]
     },
     "execution_count": 38,
     "metadata": {},
     "output_type": "execute_result"
    }
   ],
   "source": [
    "stats.spearmanr(compare_locations[\"counts_users\"],compare_locations[\"counts_breweries\"])"
   ]
  },
  {
   "cell_type": "code",
   "execution_count": 42,
   "metadata": {},
   "outputs": [
    {
     "data": {
      "text/plain": [
       "Text(-2.575000000000003, 0.5, 'Counts breweries')"
      ]
     },
     "execution_count": 42,
     "metadata": {},
     "output_type": "execute_result"
    },
    {
     "data": {
      "image/png": "[encoded data removed]",
      "text/plain": [
       "<Figure size 360x360 with 1 Axes>"
      ]
     },
     "metadata": {
      "needs_background": "light"
     },
     "output_type": "display_data"
    }
   ],
   "source": [
    "sns.lmplot(x='counts_users',y='counts_breweries', data=compare_locations)\n",
    "plt.xlabel(\"Counts users\")\n",
    "plt.ylabel(\"Counts breweries\")"
   ]
  },
  {
   "cell_type": "code",
   "execution_count": 31,
   "metadata": {},
   "outputs": [
    {
     "data": {
      "text/plain": [
       "17671    0\n",
       "16187    0\n",
       "19106    0\n",
       "16245    0\n",
       "16248    0\n",
       "Name: nbr_beers, dtype: int64"
      ]
     },
     "execution_count": 31,
     "metadata": {},
     "output_type": "execute_result"
    }
   ],
   "source": [
    "sorted_nbr_beers=df_rb_breweries['nbr_beers'].sort_values(ascending=True)\n",
    "sorted_nbr_beers.head()"
   ]
  },
  {
   "cell_type": "code",
   "execution_count": 29,
   "metadata": {},
   "outputs": [
    {
     "data": {
      "text/plain": [
       "Text(0, 0.5, 'Number of breweries')"
      ]
     },
     "execution_count": 29,
     "metadata": {},
     "output_type": "execute_result"
    },
    {
     "data": {
      "image/png": "[encoded data removed]",
      "text/plain": [
       "<Figure size 432x288 with 1 Axes>"
      ]
     },
     "metadata": {
      "needs_background": "light"
     },
     "output_type": "display_data"
    }
   ],
   "source": [
    "df_rb_breweries['nbr_beers'].plot(kind=\"hist\",logx=False,logy=True)\n",
    "plt.xlabel(\"Number of beers\")\n",
    "plt.ylabel(\"Number of breweries\")"
   ]
  },
  {
   "cell_type": "markdown",
   "metadata": {},
   "source": [
    "Skewed distribution. There is a number of breweries that don't have any beers, drop them? "
   ]
  },
  {
   "cell_type": "code",
   "execution_count": 50,
   "metadata": {},
   "outputs": [
    {
     "name": "stdout",
     "output_type": "stream",
     "text": [
      "71 breweries have been dropped\n"
     ]
    }
   ],
   "source": [
    "df_rb_breweries_wbeer=df_rb_breweries.drop(df_rb_breweries[df_rb_breweries['nbr_beers']==0].index)\n",
    "df_rb_breweries_wbeer['nbr_beers'].sort_values(ascending=True)\n",
    "print(\"{} breweries have been dropped\".format((df_rb_breweries.shape[0]-df_rb_breweries_wbeer.shape[0])))\n",
    "\n"
   ]
  },
  {
   "cell_type": "code",
   "execution_count": 11,
   "metadata": {},
   "outputs": [
    {
     "data": {
      "text/plain": [
       "count    24118.000000\n",
       "mean        19.078655\n",
       "std         31.572100\n",
       "min          1.000000\n",
       "25%          3.000000\n",
       "50%          8.000000\n",
       "75%         20.000000\n",
       "max        295.000000\n",
       "Name: nbr_beers, dtype: float64"
      ]
     },
     "execution_count": 11,
     "metadata": {},
     "output_type": "execute_result"
    }
   ],
   "source": [
    "df_rb_breweries_wbeer['nbr_beers'].describe()"
   ]
  },
  {
   "cell_type": "code",
   "execution_count": 12,
   "metadata": {},
   "outputs": [
    {
     "data": {
      "text/plain": [
       "Text(0, 0.5, 'Number of breweries')"
      ]
     },
     "execution_count": 12,
     "metadata": {},
     "output_type": "execute_result"
    },
    {
     "data": {
      "image/png": "[encoded data removed]",
      "text/plain": [
       "<Figure size 432x288 with 1 Axes>"
      ]
     },
     "metadata": {
      "needs_background": "light"
     },
     "output_type": "display_data"
    }
   ],
   "source": [
    "df_rb_breweries_wbeer['nbr_beers'].plot(kind=\"hist\",logx=False,logy=True)\n",
    "plt.xlabel(\"Number of beers\")\n",
    "plt.ylabel(\"Number of breweries\") #réfléchir à changer les bins etc"
   ]
  },
  {
   "cell_type": "code",
   "execution_count": 14,
   "metadata": {},
   "outputs": [
    {
     "data": {
      "text/html": [
       "<div>\n",
       "<style scoped>\n",
       "    .dataframe tbody tr th:only-of-type {\n",
       "        vertical-align: middle;\n",
       "    }\n",
       "\n",
       "    .dataframe tbody tr th {\n",
       "        vertical-align: top;\n",
       "    }\n",
       "\n",
       "    .dataframe thead th {\n",
       "        text-align: right;\n",
       "    }\n",
       "</style>\n",
       "<table border=\"1\" class=\"dataframe\">\n",
       "  <thead>\n",
       "    <tr style=\"text-align: right;\">\n",
       "      <th></th>\n",
       "      <th>beer_id</th>\n",
       "      <th>beer_name</th>\n",
       "      <th>brewery_id</th>\n",
       "      <th>brewery_name</th>\n",
       "      <th>style</th>\n",
       "      <th>nbr_ratings</th>\n",
       "      <th>overall_score</th>\n",
       "      <th>style_score</th>\n",
       "      <th>avg</th>\n",
       "      <th>abv</th>\n",
       "      <th>avg_computed</th>\n",
       "      <th>zscore</th>\n",
       "      <th>nbr_matched_valid_ratings</th>\n",
       "      <th>avg_matched_valid_ratings</th>\n",
       "    </tr>\n",
       "  </thead>\n",
       "  <tbody>\n",
       "    <tr>\n",
       "      <th>0</th>\n",
       "      <td>410549</td>\n",
       "      <td>33 Export (Gabon)</td>\n",
       "      <td>3198</td>\n",
       "      <td>Sobraga</td>\n",
       "      <td>Pale Lager</td>\n",
       "      <td>1</td>\n",
       "      <td>NaN</td>\n",
       "      <td>NaN</td>\n",
       "      <td>2.72</td>\n",
       "      <td>5.0</td>\n",
       "      <td>2.000000</td>\n",
       "      <td>NaN</td>\n",
       "      <td>0</td>\n",
       "      <td>NaN</td>\n",
       "    </tr>\n",
       "    <tr>\n",
       "      <th>1</th>\n",
       "      <td>105273</td>\n",
       "      <td>Castel Beer (Gabon)</td>\n",
       "      <td>3198</td>\n",
       "      <td>Sobraga</td>\n",
       "      <td>Pale Lager</td>\n",
       "      <td>10</td>\n",
       "      <td>5.0</td>\n",
       "      <td>58.0</td>\n",
       "      <td>2.18</td>\n",
       "      <td>5.2</td>\n",
       "      <td>1.910000</td>\n",
       "      <td>NaN</td>\n",
       "      <td>0</td>\n",
       "      <td>NaN</td>\n",
       "    </tr>\n",
       "    <tr>\n",
       "      <th>2</th>\n",
       "      <td>19445</td>\n",
       "      <td>Régab</td>\n",
       "      <td>3198</td>\n",
       "      <td>Sobraga</td>\n",
       "      <td>Pale Lager</td>\n",
       "      <td>27</td>\n",
       "      <td>1.0</td>\n",
       "      <td>22.0</td>\n",
       "      <td>1.83</td>\n",
       "      <td>4.5</td>\n",
       "      <td>1.811111</td>\n",
       "      <td>NaN</td>\n",
       "      <td>0</td>\n",
       "      <td>NaN</td>\n",
       "    </tr>\n",
       "    <tr>\n",
       "      <th>3</th>\n",
       "      <td>155699</td>\n",
       "      <td>Ards Bally Black Stout</td>\n",
       "      <td>13538</td>\n",
       "      <td>Ards Brewing Co.</td>\n",
       "      <td>Stout</td>\n",
       "      <td>6</td>\n",
       "      <td>NaN</td>\n",
       "      <td>NaN</td>\n",
       "      <td>3.18</td>\n",
       "      <td>4.6</td>\n",
       "      <td>3.866667</td>\n",
       "      <td>0.823699</td>\n",
       "      <td>6</td>\n",
       "      <td>3.866667</td>\n",
       "    </tr>\n",
       "    <tr>\n",
       "      <th>4</th>\n",
       "      <td>239097</td>\n",
       "      <td>Ards Belfast 366</td>\n",
       "      <td>13538</td>\n",
       "      <td>Ards Brewing Co.</td>\n",
       "      <td>Golden Ale/Blond Ale</td>\n",
       "      <td>1</td>\n",
       "      <td>NaN</td>\n",
       "      <td>NaN</td>\n",
       "      <td>2.79</td>\n",
       "      <td>4.2</td>\n",
       "      <td>3.000000</td>\n",
       "      <td>NaN</td>\n",
       "      <td>0</td>\n",
       "      <td>NaN</td>\n",
       "    </tr>\n",
       "  </tbody>\n",
       "</table>\n",
       "</div>"
      ],
      "text/plain": [
       "   beer_id               beer_name  brewery_id      brewery_name  \\\n",
       "0   410549       33 Export (Gabon)        3198           Sobraga   \n",
       "1   105273     Castel Beer (Gabon)        3198           Sobraga   \n",
       "2    19445                   Régab        3198           Sobraga   \n",
       "3   155699  Ards Bally Black Stout       13538  Ards Brewing Co.   \n",
       "4   239097        Ards Belfast 366       13538  Ards Brewing Co.   \n",
       "\n",
       "                  style  nbr_ratings  overall_score  style_score   avg  abv  \\\n",
       "0            Pale Lager            1            NaN          NaN  2.72  5.0   \n",
       "1            Pale Lager           10            5.0         58.0  2.18  5.2   \n",
       "2            Pale Lager           27            1.0         22.0  1.83  4.5   \n",
       "3                 Stout            6            NaN          NaN  3.18  4.6   \n",
       "4  Golden Ale/Blond Ale            1            NaN          NaN  2.79  4.2   \n",
       "\n",
       "   avg_computed    zscore  nbr_matched_valid_ratings  \\\n",
       "0      2.000000       NaN                          0   \n",
       "1      1.910000       NaN                          0   \n",
       "2      1.811111       NaN                          0   \n",
       "3      3.866667  0.823699                          6   \n",
       "4      3.000000       NaN                          0   \n",
       "\n",
       "   avg_matched_valid_ratings  \n",
       "0                        NaN  \n",
       "1                        NaN  \n",
       "2                        NaN  \n",
       "3                   3.866667  \n",
       "4                        NaN  "
      ]
     },
     "execution_count": 14,
     "metadata": {},
     "output_type": "execute_result"
    }
   ],
   "source": [
    "df_rb_beer.head()"
   ]
  },
  {
   "cell_type": "code",
   "execution_count": 21,
   "metadata": {},
   "outputs": [
    {
     "data": {
      "text/plain": [
       "442081"
      ]
     },
     "execution_count": 21,
     "metadata": {},
     "output_type": "execute_result"
    }
   ],
   "source": [
    "df_rb_beer[\"beer_id\"].nunique() #all beers are unique!"
   ]
  },
  {
   "cell_type": "code",
   "execution_count": 44,
   "metadata": {},
   "outputs": [
    {
     "data": {
      "text/plain": [
       "45391"
      ]
     },
     "execution_count": 44,
     "metadata": {},
     "output_type": "execute_result"
    }
   ],
   "source": [
    "df_rb_beer_preprocessed=df_rb_beer.drop(['style_score', 'overall_score','zscore','avg_matched_valid_ratings'],axis=1)                  \n",
    "(df_rb_beer_preprocessed[\"nbr_ratings\"]==0).sum()\n"
   ]
  },
  {
   "cell_type": "code",
   "execution_count": 45,
   "metadata": {},
   "outputs": [
    {
     "data": {
      "text/plain": [
       "(442081,)"
      ]
     },
     "execution_count": 45,
     "metadata": {},
     "output_type": "execute_result"
    }
   ],
   "source": [
    "df_rb_beer_preprocessed[\"nbr_ratings\"].shape # there are beers with no ratings, drop them "
   ]
  },
  {
   "cell_type": "code",
   "execution_count": 46,
   "metadata": {},
   "outputs": [
    {
     "name": "stdout",
     "output_type": "stream",
     "text": [
      "45391 beers have been dropped\n"
     ]
    }
   ],
   "source": [
    "df_rb_beer_wrating=df_rb_beer_preprocessed.drop(df_rb_beer_preprocessed[df_rb_beer_preprocessed['nbr_ratings']==0].index)\n",
    "print(\"{} beers have been dropped\".format((df_rb_beer_preprocessed.shape[0]-df_rb_beer_wrating.shape[0])))"
   ]
  },
  {
   "cell_type": "code",
   "execution_count": 47,
   "metadata": {},
   "outputs": [
    {
     "data": {
      "text/html": [
       "<div>\n",
       "<style scoped>\n",
       "    .dataframe tbody tr th:only-of-type {\n",
       "        vertical-align: middle;\n",
       "    }\n",
       "\n",
       "    .dataframe tbody tr th {\n",
       "        vertical-align: top;\n",
       "    }\n",
       "\n",
       "    .dataframe thead th {\n",
       "        text-align: right;\n",
       "    }\n",
       "</style>\n",
       "<table border=\"1\" class=\"dataframe\">\n",
       "  <thead>\n",
       "    <tr style=\"text-align: right;\">\n",
       "      <th></th>\n",
       "      <th>nbr_ratings</th>\n",
       "      <th>avg</th>\n",
       "      <th>abv</th>\n",
       "      <th>avg_computed</th>\n",
       "    </tr>\n",
       "  </thead>\n",
       "  <tbody>\n",
       "    <tr>\n",
       "      <th>count</th>\n",
       "      <td>396690.000000</td>\n",
       "      <td>395647.000000</td>\n",
       "      <td>359958.000000</td>\n",
       "      <td>396690.000000</td>\n",
       "    </tr>\n",
       "    <tr>\n",
       "      <th>mean</th>\n",
       "      <td>17.953752</td>\n",
       "      <td>3.026657</td>\n",
       "      <td>6.059846</td>\n",
       "      <td>3.244649</td>\n",
       "    </tr>\n",
       "    <tr>\n",
       "      <th>std</th>\n",
       "      <td>85.303131</td>\n",
       "      <td>0.304127</td>\n",
       "      <td>1.928548</td>\n",
       "      <td>0.507520</td>\n",
       "    </tr>\n",
       "    <tr>\n",
       "      <th>min</th>\n",
       "      <td>1.000000</td>\n",
       "      <td>0.000000</td>\n",
       "      <td>0.010000</td>\n",
       "      <td>0.500000</td>\n",
       "    </tr>\n",
       "    <tr>\n",
       "      <th>25%</th>\n",
       "      <td>1.000000</td>\n",
       "      <td>2.870000</td>\n",
       "      <td>4.800000</td>\n",
       "      <td>3.000000</td>\n",
       "    </tr>\n",
       "    <tr>\n",
       "      <th>50%</th>\n",
       "      <td>3.000000</td>\n",
       "      <td>3.020000</td>\n",
       "      <td>5.500000</td>\n",
       "      <td>3.300000</td>\n",
       "    </tr>\n",
       "    <tr>\n",
       "      <th>75%</th>\n",
       "      <td>10.000000</td>\n",
       "      <td>3.180000</td>\n",
       "      <td>7.000000</td>\n",
       "      <td>3.594088</td>\n",
       "    </tr>\n",
       "    <tr>\n",
       "      <th>max</th>\n",
       "      <td>5272.000000</td>\n",
       "      <td>4.520000</td>\n",
       "      <td>73.000000</td>\n",
       "      <td>5.000000</td>\n",
       "    </tr>\n",
       "  </tbody>\n",
       "</table>\n",
       "</div>"
      ],
      "text/plain": [
       "         nbr_ratings            avg            abv   avg_computed\n",
       "count  396690.000000  395647.000000  359958.000000  396690.000000\n",
       "mean       17.953752       3.026657       6.059846       3.244649\n",
       "std        85.303131       0.304127       1.928548       0.507520\n",
       "min         1.000000       0.000000       0.010000       0.500000\n",
       "25%         1.000000       2.870000       4.800000       3.000000\n",
       "50%         3.000000       3.020000       5.500000       3.300000\n",
       "75%        10.000000       3.180000       7.000000       3.594088\n",
       "max      5272.000000       4.520000      73.000000       5.000000"
      ]
     },
     "execution_count": 47,
     "metadata": {},
     "output_type": "execute_result"
    }
   ],
   "source": [
    "df_rb_beer_wrating[[\"nbr_ratings\",\"avg\",\"abv\",\"avg_computed\"]].describe()"
   ]
  },
  {
   "cell_type": "code",
   "execution_count": 48,
   "metadata": {},
   "outputs": [
    {
     "data": {
      "text/html": [
       "<div>\n",
       "<style scoped>\n",
       "    .dataframe tbody tr th:only-of-type {\n",
       "        vertical-align: middle;\n",
       "    }\n",
       "\n",
       "    .dataframe tbody tr th {\n",
       "        vertical-align: top;\n",
       "    }\n",
       "\n",
       "    .dataframe thead th {\n",
       "        text-align: right;\n",
       "    }\n",
       "</style>\n",
       "<table border=\"1\" class=\"dataframe\">\n",
       "  <thead>\n",
       "    <tr style=\"text-align: right;\">\n",
       "      <th></th>\n",
       "      <th>beer_id</th>\n",
       "      <th>beer_name</th>\n",
       "      <th>brewery_id</th>\n",
       "      <th>brewery_name</th>\n",
       "      <th>style</th>\n",
       "      <th>nbr_ratings</th>\n",
       "      <th>avg</th>\n",
       "      <th>abv</th>\n",
       "      <th>avg_computed</th>\n",
       "      <th>nbr_matched_valid_ratings</th>\n",
       "    </tr>\n",
       "  </thead>\n",
       "  <tbody>\n",
       "    <tr>\n",
       "      <th>0</th>\n",
       "      <td>410549</td>\n",
       "      <td>33 Export (Gabon)</td>\n",
       "      <td>3198</td>\n",
       "      <td>Sobraga</td>\n",
       "      <td>Pale Lager</td>\n",
       "      <td>1</td>\n",
       "      <td>2.72</td>\n",
       "      <td>5.0</td>\n",
       "      <td>2.000000</td>\n",
       "      <td>0</td>\n",
       "    </tr>\n",
       "    <tr>\n",
       "      <th>1</th>\n",
       "      <td>105273</td>\n",
       "      <td>Castel Beer (Gabon)</td>\n",
       "      <td>3198</td>\n",
       "      <td>Sobraga</td>\n",
       "      <td>Pale Lager</td>\n",
       "      <td>10</td>\n",
       "      <td>2.18</td>\n",
       "      <td>5.2</td>\n",
       "      <td>1.910000</td>\n",
       "      <td>0</td>\n",
       "    </tr>\n",
       "    <tr>\n",
       "      <th>2</th>\n",
       "      <td>19445</td>\n",
       "      <td>Régab</td>\n",
       "      <td>3198</td>\n",
       "      <td>Sobraga</td>\n",
       "      <td>Pale Lager</td>\n",
       "      <td>27</td>\n",
       "      <td>1.83</td>\n",
       "      <td>4.5</td>\n",
       "      <td>1.811111</td>\n",
       "      <td>0</td>\n",
       "    </tr>\n",
       "    <tr>\n",
       "      <th>3</th>\n",
       "      <td>155699</td>\n",
       "      <td>Ards Bally Black Stout</td>\n",
       "      <td>13538</td>\n",
       "      <td>Ards Brewing Co.</td>\n",
       "      <td>Stout</td>\n",
       "      <td>6</td>\n",
       "      <td>3.18</td>\n",
       "      <td>4.6</td>\n",
       "      <td>3.866667</td>\n",
       "      <td>6</td>\n",
       "    </tr>\n",
       "    <tr>\n",
       "      <th>4</th>\n",
       "      <td>239097</td>\n",
       "      <td>Ards Belfast 366</td>\n",
       "      <td>13538</td>\n",
       "      <td>Ards Brewing Co.</td>\n",
       "      <td>Golden Ale/Blond Ale</td>\n",
       "      <td>1</td>\n",
       "      <td>2.79</td>\n",
       "      <td>4.2</td>\n",
       "      <td>3.000000</td>\n",
       "      <td>0</td>\n",
       "    </tr>\n",
       "  </tbody>\n",
       "</table>\n",
       "</div>"
      ],
      "text/plain": [
       "   beer_id               beer_name  brewery_id      brewery_name  \\\n",
       "0   410549       33 Export (Gabon)        3198           Sobraga   \n",
       "1   105273     Castel Beer (Gabon)        3198           Sobraga   \n",
       "2    19445                   Régab        3198           Sobraga   \n",
       "3   155699  Ards Bally Black Stout       13538  Ards Brewing Co.   \n",
       "4   239097        Ards Belfast 366       13538  Ards Brewing Co.   \n",
       "\n",
       "                  style  nbr_ratings   avg  abv  avg_computed  \\\n",
       "0            Pale Lager            1  2.72  5.0      2.000000   \n",
       "1            Pale Lager           10  2.18  5.2      1.910000   \n",
       "2            Pale Lager           27  1.83  4.5      1.811111   \n",
       "3                 Stout            6  3.18  4.6      3.866667   \n",
       "4  Golden Ale/Blond Ale            1  2.79  4.2      3.000000   \n",
       "\n",
       "   nbr_matched_valid_ratings  \n",
       "0                          0  \n",
       "1                          0  \n",
       "2                          0  \n",
       "3                          6  \n",
       "4                          0  "
      ]
     },
     "execution_count": 48,
     "metadata": {},
     "output_type": "execute_result"
    }
   ],
   "source": [
    "#look for best beer in each country prior correction \n",
    "df_rb_beer_wrating.head()\n"
   ]
  },
  {
   "cell_type": "code",
   "execution_count": 57,
   "metadata": {},
   "outputs": [
    {
     "data": {
      "text/html": [
       "<div>\n",
       "<style scoped>\n",
       "    .dataframe tbody tr th:only-of-type {\n",
       "        vertical-align: middle;\n",
       "    }\n",
       "\n",
       "    .dataframe tbody tr th {\n",
       "        vertical-align: top;\n",
       "    }\n",
       "\n",
       "    .dataframe thead th {\n",
       "        text-align: right;\n",
       "    }\n",
       "</style>\n",
       "<table border=\"1\" class=\"dataframe\">\n",
       "  <thead>\n",
       "    <tr style=\"text-align: right;\">\n",
       "      <th></th>\n",
       "      <th>beer_id</th>\n",
       "      <th>beer_name</th>\n",
       "      <th>brewery_id</th>\n",
       "      <th>brewery_name</th>\n",
       "      <th>style</th>\n",
       "      <th>nbr_ratings</th>\n",
       "      <th>avg</th>\n",
       "      <th>abv</th>\n",
       "      <th>avg_computed</th>\n",
       "      <th>nbr_matched_valid_ratings</th>\n",
       "      <th>location</th>\n",
       "    </tr>\n",
       "  </thead>\n",
       "  <tbody>\n",
       "    <tr>\n",
       "      <th>0</th>\n",
       "      <td>410549</td>\n",
       "      <td>33 Export (Gabon)</td>\n",
       "      <td>3198</td>\n",
       "      <td>Sobraga</td>\n",
       "      <td>Pale Lager</td>\n",
       "      <td>1</td>\n",
       "      <td>2.72</td>\n",
       "      <td>5.0</td>\n",
       "      <td>2.000000</td>\n",
       "      <td>0</td>\n",
       "      <td>Gabon</td>\n",
       "    </tr>\n",
       "    <tr>\n",
       "      <th>1</th>\n",
       "      <td>105273</td>\n",
       "      <td>Castel Beer (Gabon)</td>\n",
       "      <td>3198</td>\n",
       "      <td>Sobraga</td>\n",
       "      <td>Pale Lager</td>\n",
       "      <td>10</td>\n",
       "      <td>2.18</td>\n",
       "      <td>5.2</td>\n",
       "      <td>1.910000</td>\n",
       "      <td>0</td>\n",
       "      <td>Gabon</td>\n",
       "    </tr>\n",
       "    <tr>\n",
       "      <th>2</th>\n",
       "      <td>19445</td>\n",
       "      <td>Régab</td>\n",
       "      <td>3198</td>\n",
       "      <td>Sobraga</td>\n",
       "      <td>Pale Lager</td>\n",
       "      <td>27</td>\n",
       "      <td>1.83</td>\n",
       "      <td>4.5</td>\n",
       "      <td>1.811111</td>\n",
       "      <td>0</td>\n",
       "      <td>Gabon</td>\n",
       "    </tr>\n",
       "    <tr>\n",
       "      <th>3</th>\n",
       "      <td>155699</td>\n",
       "      <td>Ards Bally Black Stout</td>\n",
       "      <td>13538</td>\n",
       "      <td>Ards Brewing Co.</td>\n",
       "      <td>Stout</td>\n",
       "      <td>6</td>\n",
       "      <td>3.18</td>\n",
       "      <td>4.6</td>\n",
       "      <td>3.866667</td>\n",
       "      <td>6</td>\n",
       "      <td>Northern Ireland</td>\n",
       "    </tr>\n",
       "    <tr>\n",
       "      <th>4</th>\n",
       "      <td>239097</td>\n",
       "      <td>Ards Belfast 366</td>\n",
       "      <td>13538</td>\n",
       "      <td>Ards Brewing Co.</td>\n",
       "      <td>Golden Ale/Blond Ale</td>\n",
       "      <td>1</td>\n",
       "      <td>2.79</td>\n",
       "      <td>4.2</td>\n",
       "      <td>3.000000</td>\n",
       "      <td>0</td>\n",
       "      <td>Northern Ireland</td>\n",
       "    </tr>\n",
       "  </tbody>\n",
       "</table>\n",
       "</div>"
      ],
      "text/plain": [
       "   beer_id               beer_name  brewery_id      brewery_name  \\\n",
       "0   410549       33 Export (Gabon)        3198           Sobraga   \n",
       "1   105273     Castel Beer (Gabon)        3198           Sobraga   \n",
       "2    19445                   Régab        3198           Sobraga   \n",
       "3   155699  Ards Bally Black Stout       13538  Ards Brewing Co.   \n",
       "4   239097        Ards Belfast 366       13538  Ards Brewing Co.   \n",
       "\n",
       "                  style  nbr_ratings   avg  abv  avg_computed  \\\n",
       "0            Pale Lager            1  2.72  5.0      2.000000   \n",
       "1            Pale Lager           10  2.18  5.2      1.910000   \n",
       "2            Pale Lager           27  1.83  4.5      1.811111   \n",
       "3                 Stout            6  3.18  4.6      3.866667   \n",
       "4  Golden Ale/Blond Ale            1  2.79  4.2      3.000000   \n",
       "\n",
       "   nbr_matched_valid_ratings          location  \n",
       "0                          0             Gabon  \n",
       "1                          0             Gabon  \n",
       "2                          0             Gabon  \n",
       "3                          6  Northern Ireland  \n",
       "4                          0  Northern Ireland  "
      ]
     },
     "execution_count": 57,
     "metadata": {},
     "output_type": "execute_result"
    }
   ],
   "source": [
    "#preprocessing step: need to add a column matching the name of the brewery with its location \n",
    "location_to_brewery_name=dict(zip(df_rb_breweries_wbeer.name,df_rb_breweries_wbeer.location)) #create a dictionary which keys are the breweries name and values are the breweries location\n",
    "df_rb_beer_wrating[\"location\"]=df_rb_beer_wrating.brewery_name.map(location_to_brewery_name) #create a new location column indicating the location of the brewery\n",
    "df_rb_beer_wrating.head()"
   ]
  },
  {
   "cell_type": "code",
   "execution_count": 58,
   "metadata": {},
   "outputs": [
    {
     "data": {
      "text/html": [
       "<div>\n",
       "<style scoped>\n",
       "    .dataframe tbody tr th:only-of-type {\n",
       "        vertical-align: middle;\n",
       "    }\n",
       "\n",
       "    .dataframe tbody tr th {\n",
       "        vertical-align: top;\n",
       "    }\n",
       "\n",
       "    .dataframe thead th {\n",
       "        text-align: right;\n",
       "    }\n",
       "</style>\n",
       "<table border=\"1\" class=\"dataframe\">\n",
       "  <thead>\n",
       "    <tr style=\"text-align: right;\">\n",
       "      <th></th>\n",
       "      <th>beer_id</th>\n",
       "      <th>beer_name</th>\n",
       "      <th>brewery_id</th>\n",
       "      <th>brewery_name</th>\n",
       "      <th>style</th>\n",
       "      <th>nbr_ratings</th>\n",
       "      <th>avg</th>\n",
       "      <th>abv</th>\n",
       "      <th>avg_computed</th>\n",
       "      <th>nbr_matched_valid_ratings</th>\n",
       "      <th>location</th>\n",
       "    </tr>\n",
       "  </thead>\n",
       "  <tbody>\n",
       "    <tr>\n",
       "      <th>404154</th>\n",
       "      <td>36979</td>\n",
       "      <td>Greyhawk (Copper Dragon) Scotts 1816</td>\n",
       "      <td>4194</td>\n",
       "      <td>Greyhawk &amp;#40;prev Copper Dragon&amp;#41;</td>\n",
       "      <td>Bitter</td>\n",
       "      <td>83</td>\n",
       "      <td>3.09</td>\n",
       "      <td>4.1</td>\n",
       "      <td>3.097590</td>\n",
       "      <td>0</td>\n",
       "      <td>England</td>\n",
       "    </tr>\n",
       "    <tr>\n",
       "      <th>262407</th>\n",
       "      <td>490280</td>\n",
       "      <td>Rockn Dough Tangled Up in Blue</td>\n",
       "      <td>30439</td>\n",
       "      <td>Rockn Dough Pizza and Brew Co.</td>\n",
       "      <td>Fruit Beer</td>\n",
       "      <td>1</td>\n",
       "      <td>2.94</td>\n",
       "      <td>5.0</td>\n",
       "      <td>3.000000</td>\n",
       "      <td>0</td>\n",
       "      <td>United States, Tennessee</td>\n",
       "    </tr>\n",
       "    <tr>\n",
       "      <th>276037</th>\n",
       "      <td>285844</td>\n",
       "      <td>Fairhope Football Saison (2014)</td>\n",
       "      <td>15509</td>\n",
       "      <td>Fairhope Brewing Company</td>\n",
       "      <td>Saison</td>\n",
       "      <td>5</td>\n",
       "      <td>2.93</td>\n",
       "      <td>5.4</td>\n",
       "      <td>3.160000</td>\n",
       "      <td>0</td>\n",
       "      <td>United States, Alabama</td>\n",
       "    </tr>\n",
       "    <tr>\n",
       "      <th>155800</th>\n",
       "      <td>183806</td>\n",
       "      <td>Vintage Rauchweizen 2.0</td>\n",
       "      <td>11232</td>\n",
       "      <td>Vintage Brewing Company</td>\n",
       "      <td>Smoked</td>\n",
       "      <td>2</td>\n",
       "      <td>2.86</td>\n",
       "      <td>NaN</td>\n",
       "      <td>3.200000</td>\n",
       "      <td>0</td>\n",
       "      <td>United States, Wisconsin</td>\n",
       "    </tr>\n",
       "    <tr>\n",
       "      <th>219431</th>\n",
       "      <td>28568</td>\n",
       "      <td>Red Lion Velvet Elvis Oatmeal Stout</td>\n",
       "      <td>3880</td>\n",
       "      <td>Red Lion Brew Pub &amp; Restaurant</td>\n",
       "      <td>Sweet Stout</td>\n",
       "      <td>2</td>\n",
       "      <td>3.16</td>\n",
       "      <td>5.5</td>\n",
       "      <td>3.500000</td>\n",
       "      <td>0</td>\n",
       "      <td>United States, New York</td>\n",
       "    </tr>\n",
       "    <tr>\n",
       "      <th>197354</th>\n",
       "      <td>463219</td>\n",
       "      <td>Silver City Das Nachwachter Haus</td>\n",
       "      <td>2385</td>\n",
       "      <td>Silver City Brewery</td>\n",
       "      <td>Schwarzbier</td>\n",
       "      <td>1</td>\n",
       "      <td>3.02</td>\n",
       "      <td>6.4</td>\n",
       "      <td>3.400000</td>\n",
       "      <td>0</td>\n",
       "      <td>United States, Washington</td>\n",
       "    </tr>\n",
       "    <tr>\n",
       "      <th>43064</th>\n",
       "      <td>440211</td>\n",
       "      <td>Birrificio Timilia Sicilian Strong Ale</td>\n",
       "      <td>21621</td>\n",
       "      <td>Birrificio Timilia</td>\n",
       "      <td>Spice/Herb/Vegetable</td>\n",
       "      <td>1</td>\n",
       "      <td>3.02</td>\n",
       "      <td>7.0</td>\n",
       "      <td>3.400000</td>\n",
       "      <td>0</td>\n",
       "      <td>Italy</td>\n",
       "    </tr>\n",
       "    <tr>\n",
       "      <th>266117</th>\n",
       "      <td>275605</td>\n",
       "      <td>Devils Backbone Shandy</td>\n",
       "      <td>10006</td>\n",
       "      <td>Devils Backbone Brewing Company &amp;#40;AB InBev&amp;...</td>\n",
       "      <td>Radler/Shandy</td>\n",
       "      <td>2</td>\n",
       "      <td>2.90</td>\n",
       "      <td>2.9</td>\n",
       "      <td>3.350000</td>\n",
       "      <td>0</td>\n",
       "      <td>United States, Virginia</td>\n",
       "    </tr>\n",
       "    <tr>\n",
       "      <th>374701</th>\n",
       "      <td>531479</td>\n",
       "      <td>Cromarty Whiteout Raspberry Edition</td>\n",
       "      <td>13847</td>\n",
       "      <td>Cromarty</td>\n",
       "      <td>Session IPA</td>\n",
       "      <td>2</td>\n",
       "      <td>3.19</td>\n",
       "      <td>3.8</td>\n",
       "      <td>3.700000</td>\n",
       "      <td>0</td>\n",
       "      <td>Scotland</td>\n",
       "    </tr>\n",
       "    <tr>\n",
       "      <th>379661</th>\n",
       "      <td>19781</td>\n",
       "      <td>WJ King Summer Ale</td>\n",
       "      <td>3235</td>\n",
       "      <td>King Beer</td>\n",
       "      <td>Bitter</td>\n",
       "      <td>11</td>\n",
       "      <td>2.88</td>\n",
       "      <td>4.0</td>\n",
       "      <td>2.954545</td>\n",
       "      <td>0</td>\n",
       "      <td>England</td>\n",
       "    </tr>\n",
       "  </tbody>\n",
       "</table>\n",
       "</div>"
      ],
      "text/plain": [
       "        beer_id                               beer_name  brewery_id  \\\n",
       "404154    36979    Greyhawk (Copper Dragon) Scotts 1816        4194   \n",
       "262407   490280        Rockn Dough Tangled Up in Blue        30439   \n",
       "276037   285844         Fairhope Football Saison (2014)       15509   \n",
       "155800   183806                 Vintage Rauchweizen 2.0       11232   \n",
       "219431    28568     Red Lion Velvet Elvis Oatmeal Stout        3880   \n",
       "197354   463219        Silver City Das Nachwachter Haus        2385   \n",
       "43064    440211  Birrificio Timilia Sicilian Strong Ale       21621   \n",
       "266117   275605                  Devils Backbone Shandy       10006   \n",
       "374701   531479     Cromarty Whiteout Raspberry Edition       13847   \n",
       "379661    19781                      WJ King Summer Ale        3235   \n",
       "\n",
       "                                             brewery_name  \\\n",
       "404154              Greyhawk &#40;prev Copper Dragon&#41;   \n",
       "262407                    Rockn Dough Pizza and Brew Co.   \n",
       "276037                           Fairhope Brewing Company   \n",
       "155800                            Vintage Brewing Company   \n",
       "219431                     Red Lion Brew Pub & Restaurant   \n",
       "197354                                Silver City Brewery   \n",
       "43064                                  Birrificio Timilia   \n",
       "266117  Devils Backbone Brewing Company &#40;AB InBev&...   \n",
       "374701                                           Cromarty   \n",
       "379661                                          King Beer   \n",
       "\n",
       "                       style  nbr_ratings   avg  abv  avg_computed  \\\n",
       "404154                Bitter           83  3.09  4.1      3.097590   \n",
       "262407            Fruit Beer            1  2.94  5.0      3.000000   \n",
       "276037                Saison            5  2.93  5.4      3.160000   \n",
       "155800                Smoked            2  2.86  NaN      3.200000   \n",
       "219431           Sweet Stout            2  3.16  5.5      3.500000   \n",
       "197354           Schwarzbier            1  3.02  6.4      3.400000   \n",
       "43064   Spice/Herb/Vegetable            1  3.02  7.0      3.400000   \n",
       "266117         Radler/Shandy            2  2.90  2.9      3.350000   \n",
       "374701           Session IPA            2  3.19  3.8      3.700000   \n",
       "379661                Bitter           11  2.88  4.0      2.954545   \n",
       "\n",
       "        nbr_matched_valid_ratings                   location  \n",
       "404154                          0                    England  \n",
       "262407                          0   United States, Tennessee  \n",
       "276037                          0     United States, Alabama  \n",
       "155800                          0   United States, Wisconsin  \n",
       "219431                          0    United States, New York  \n",
       "197354                          0  United States, Washington  \n",
       "43064                           0                      Italy  \n",
       "266117                          0    United States, Virginia  \n",
       "374701                          0                   Scotland  \n",
       "379661                          0                    England  "
      ]
     },
     "execution_count": 58,
     "metadata": {},
     "output_type": "execute_result"
    }
   ],
   "source": [
    "df_rb_beer_wrating.sample(10)"
   ]
  },
  {
   "cell_type": "code",
   "execution_count": 62,
   "metadata": {},
   "outputs": [
    {
     "data": {
      "text/html": [
       "<div>\n",
       "<style scoped>\n",
       "    .dataframe tbody tr th:only-of-type {\n",
       "        vertical-align: middle;\n",
       "    }\n",
       "\n",
       "    .dataframe tbody tr th {\n",
       "        vertical-align: top;\n",
       "    }\n",
       "\n",
       "    .dataframe thead th {\n",
       "        text-align: right;\n",
       "    }\n",
       "</style>\n",
       "<table border=\"1\" class=\"dataframe\">\n",
       "  <thead>\n",
       "    <tr style=\"text-align: right;\">\n",
       "      <th></th>\n",
       "      <th>index</th>\n",
       "      <th>beer_id</th>\n",
       "      <th>beer_name</th>\n",
       "      <th>brewery_id</th>\n",
       "      <th>brewery_name</th>\n",
       "      <th>style</th>\n",
       "      <th>nbr_ratings</th>\n",
       "      <th>avg</th>\n",
       "      <th>abv</th>\n",
       "      <th>avg_computed</th>\n",
       "      <th>nbr_matched_valid_ratings</th>\n",
       "      <th>location</th>\n",
       "    </tr>\n",
       "  </thead>\n",
       "  <tbody>\n",
       "    <tr>\n",
       "      <th>0</th>\n",
       "      <td>105844</td>\n",
       "      <td>335857</td>\n",
       "      <td>GroszDorf EINS</td>\n",
       "      <td>23158</td>\n",
       "      <td>GroszDorf</td>\n",
       "      <td>English Pale Ale</td>\n",
       "      <td>2</td>\n",
       "      <td>NaN</td>\n",
       "      <td>5.7</td>\n",
       "      <td>5.0</td>\n",
       "      <td>0</td>\n",
       "      <td>Brazil</td>\n",
       "    </tr>\n",
       "    <tr>\n",
       "      <th>1</th>\n",
       "      <td>122427</td>\n",
       "      <td>503553</td>\n",
       "      <td>QBier.nl Grietje MaïsBlond</td>\n",
       "      <td>30941</td>\n",
       "      <td>QBier.nl</td>\n",
       "      <td>Belgian Ale</td>\n",
       "      <td>2</td>\n",
       "      <td>NaN</td>\n",
       "      <td>5.8</td>\n",
       "      <td>5.0</td>\n",
       "      <td>0</td>\n",
       "      <td>Netherlands</td>\n",
       "    </tr>\n",
       "    <tr>\n",
       "      <th>2</th>\n",
       "      <td>355475</td>\n",
       "      <td>125157</td>\n",
       "      <td>Eola School Pale Ale</td>\n",
       "      <td>11752</td>\n",
       "      <td>Eola School Restaurant, Brewery and Lodge</td>\n",
       "      <td>American Pale Ale</td>\n",
       "      <td>1</td>\n",
       "      <td>NaN</td>\n",
       "      <td>NaN</td>\n",
       "      <td>5.0</td>\n",
       "      <td>0</td>\n",
       "      <td>United States, Texas</td>\n",
       "    </tr>\n",
       "    <tr>\n",
       "      <th>3</th>\n",
       "      <td>97773</td>\n",
       "      <td>369942</td>\n",
       "      <td>La Litera Hugos English IPA</td>\n",
       "      <td>24905</td>\n",
       "      <td>Cervezas la Litera</td>\n",
       "      <td>India Pale Ale (IPA)</td>\n",
       "      <td>1</td>\n",
       "      <td>3.36</td>\n",
       "      <td>5.8</td>\n",
       "      <td>5.0</td>\n",
       "      <td>0</td>\n",
       "      <td>Spain</td>\n",
       "    </tr>\n",
       "    <tr>\n",
       "      <th>4</th>\n",
       "      <td>313392</td>\n",
       "      <td>359298</td>\n",
       "      <td>Playalinda Smoked Cherry</td>\n",
       "      <td>21387</td>\n",
       "      <td>Playalinda Brewing Company</td>\n",
       "      <td>Smoked</td>\n",
       "      <td>1</td>\n",
       "      <td>3.36</td>\n",
       "      <td>6.2</td>\n",
       "      <td>5.0</td>\n",
       "      <td>0</td>\n",
       "      <td>United States, Florida</td>\n",
       "    </tr>\n",
       "    <tr>\n",
       "      <th>5</th>\n",
       "      <td>165449</td>\n",
       "      <td>383741</td>\n",
       "      <td>Black Doubt Dark Mountain Coffee Stout</td>\n",
       "      <td>25476</td>\n",
       "      <td>Black Doubt Brewing Company</td>\n",
       "      <td>Stout</td>\n",
       "      <td>1</td>\n",
       "      <td>NaN</td>\n",
       "      <td>4.6</td>\n",
       "      <td>5.0</td>\n",
       "      <td>0</td>\n",
       "      <td>United States, California</td>\n",
       "    </tr>\n",
       "    <tr>\n",
       "      <th>6</th>\n",
       "      <td>371408</td>\n",
       "      <td>309347</td>\n",
       "      <td>Wooden Skiff Sunburnt Red IPA</td>\n",
       "      <td>19367</td>\n",
       "      <td>Wooden Skiff Brewing</td>\n",
       "      <td>India Pale Ale (IPA)</td>\n",
       "      <td>1</td>\n",
       "      <td>NaN</td>\n",
       "      <td>7.8</td>\n",
       "      <td>5.0</td>\n",
       "      <td>0</td>\n",
       "      <td>United States, South Carolina</td>\n",
       "    </tr>\n",
       "    <tr>\n",
       "      <th>7</th>\n",
       "      <td>371404</td>\n",
       "      <td>440457</td>\n",
       "      <td>Wooden Skiff</td>\n",
       "      <td>19367</td>\n",
       "      <td>Wooden Skiff Brewing</td>\n",
       "      <td>Kölsch</td>\n",
       "      <td>1</td>\n",
       "      <td>NaN</td>\n",
       "      <td>4.9</td>\n",
       "      <td>5.0</td>\n",
       "      <td>0</td>\n",
       "      <td>United States, South Carolina</td>\n",
       "    </tr>\n",
       "    <tr>\n",
       "      <th>8</th>\n",
       "      <td>437562</td>\n",
       "      <td>456382</td>\n",
       "      <td>Margot La rêveuse</td>\n",
       "      <td>28982</td>\n",
       "      <td>MARGOT</td>\n",
       "      <td>American Pale Ale</td>\n",
       "      <td>1</td>\n",
       "      <td>3.36</td>\n",
       "      <td>5.5</td>\n",
       "      <td>5.0</td>\n",
       "      <td>0</td>\n",
       "      <td>France</td>\n",
       "    </tr>\n",
       "    <tr>\n",
       "      <th>9</th>\n",
       "      <td>309284</td>\n",
       "      <td>213268</td>\n",
       "      <td>Cask &amp; Larder Millions of Peaches</td>\n",
       "      <td>15146</td>\n",
       "      <td>Cask &amp; Larder</td>\n",
       "      <td>Fruit Beer</td>\n",
       "      <td>1</td>\n",
       "      <td>3.07</td>\n",
       "      <td>4.8</td>\n",
       "      <td>5.0</td>\n",
       "      <td>0</td>\n",
       "      <td>United States, Florida</td>\n",
       "    </tr>\n",
       "  </tbody>\n",
       "</table>\n",
       "</div>"
      ],
      "text/plain": [
       "    index  beer_id                               beer_name  brewery_id  \\\n",
       "0  105844   335857                          GroszDorf EINS       23158   \n",
       "1  122427   503553              QBier.nl Grietje MaïsBlond       30941   \n",
       "2  355475   125157                    Eola School Pale Ale       11752   \n",
       "3   97773   369942            La Litera Hugos English IPA       24905   \n",
       "4  313392   359298                Playalinda Smoked Cherry       21387   \n",
       "5  165449   383741  Black Doubt Dark Mountain Coffee Stout       25476   \n",
       "6  371408   309347           Wooden Skiff Sunburnt Red IPA       19367   \n",
       "7  371404   440457                           Wooden Skiff        19367   \n",
       "8  437562   456382                       Margot La rêveuse       28982   \n",
       "9  309284   213268       Cask & Larder Millions of Peaches       15146   \n",
       "\n",
       "                                brewery_name                 style  \\\n",
       "0                                  GroszDorf      English Pale Ale   \n",
       "1                                   QBier.nl           Belgian Ale   \n",
       "2  Eola School Restaurant, Brewery and Lodge     American Pale Ale   \n",
       "3                         Cervezas la Litera  India Pale Ale (IPA)   \n",
       "4                 Playalinda Brewing Company                Smoked   \n",
       "5                Black Doubt Brewing Company                 Stout   \n",
       "6                       Wooden Skiff Brewing  India Pale Ale (IPA)   \n",
       "7                       Wooden Skiff Brewing                Kölsch   \n",
       "8                                     MARGOT     American Pale Ale   \n",
       "9                              Cask & Larder            Fruit Beer   \n",
       "\n",
       "   nbr_ratings   avg  abv  avg_computed  nbr_matched_valid_ratings  \\\n",
       "0            2   NaN  5.7           5.0                          0   \n",
       "1            2   NaN  5.8           5.0                          0   \n",
       "2            1   NaN  NaN           5.0                          0   \n",
       "3            1  3.36  5.8           5.0                          0   \n",
       "4            1  3.36  6.2           5.0                          0   \n",
       "5            1   NaN  4.6           5.0                          0   \n",
       "6            1   NaN  7.8           5.0                          0   \n",
       "7            1   NaN  4.9           5.0                          0   \n",
       "8            1  3.36  5.5           5.0                          0   \n",
       "9            1  3.07  4.8           5.0                          0   \n",
       "\n",
       "                        location  \n",
       "0                         Brazil  \n",
       "1                    Netherlands  \n",
       "2           United States, Texas  \n",
       "3                          Spain  \n",
       "4         United States, Florida  \n",
       "5      United States, California  \n",
       "6  United States, South Carolina  \n",
       "7  United States, South Carolina  \n",
       "8                         France  \n",
       "9         United States, Florida  "
      ]
     },
     "execution_count": 62,
     "metadata": {},
     "output_type": "execute_result"
    }
   ],
   "source": [
    "#absolute ranking: \n",
    "df_beer_absolute_sorting=df_rb_beer_wrating.sort_values(by=\"avg_computed\",ascending=False).reset_index()\n",
    "df_beer_absolute_sorting.head(10)"
   ]
  },
  {
   "cell_type": "code",
   "execution_count": 75,
   "metadata": {},
   "outputs": [],
   "source": [
    "#ranking for each country? \n",
    "grouped_beer=df_rb_beer_wrating.sort_values([\"location\",'avg_computed'],ascending=False).groupby('location').head(1)\n",
    "top_country=df_rb_beer_wrating.sort_values([\"location\",'avg_computed'],ascending=False).groupby('location').head(1).reset_index(drop=True) #gives top beer for each location! \n",
    "\n"
   ]
  },
  {
   "cell_type": "code",
   "execution_count": 79,
   "metadata": {},
   "outputs": [
    {
     "data": {
      "text/html": [
       "<div>\n",
       "<style scoped>\n",
       "    .dataframe tbody tr th:only-of-type {\n",
       "        vertical-align: middle;\n",
       "    }\n",
       "\n",
       "    .dataframe tbody tr th {\n",
       "        vertical-align: top;\n",
       "    }\n",
       "\n",
       "    .dataframe thead th {\n",
       "        text-align: right;\n",
       "    }\n",
       "</style>\n",
       "<table border=\"1\" class=\"dataframe\">\n",
       "  <thead>\n",
       "    <tr style=\"text-align: right;\">\n",
       "      <th></th>\n",
       "      <th>beer_id</th>\n",
       "      <th>beer_name</th>\n",
       "      <th>brewery_id</th>\n",
       "      <th>brewery_name</th>\n",
       "      <th>style</th>\n",
       "      <th>nbr_ratings</th>\n",
       "      <th>avg</th>\n",
       "      <th>abv</th>\n",
       "      <th>avg_computed</th>\n",
       "      <th>nbr_matched_valid_ratings</th>\n",
       "      <th>location</th>\n",
       "    </tr>\n",
       "  </thead>\n",
       "  <tbody>\n",
       "    <tr>\n",
       "      <th>0</th>\n",
       "      <td>7519</td>\n",
       "      <td>Golden Pilsner (Zimbabwe)</td>\n",
       "      <td>1689</td>\n",
       "      <td>Delta Breweries  (SABMiller)</td>\n",
       "      <td>Pale Lager</td>\n",
       "      <td>19</td>\n",
       "      <td>2.24</td>\n",
       "      <td>3.8</td>\n",
       "      <td>2.173684</td>\n",
       "      <td>0</td>\n",
       "      <td>Zimbabwe</td>\n",
       "    </tr>\n",
       "    <tr>\n",
       "      <th>1</th>\n",
       "      <td>12717</td>\n",
       "      <td>Mosi Lager</td>\n",
       "      <td>2338</td>\n",
       "      <td>Zambian Breweries (SABMiller)</td>\n",
       "      <td>Pale Lager</td>\n",
       "      <td>56</td>\n",
       "      <td>2.02</td>\n",
       "      <td>4.0</td>\n",
       "      <td>2.046429</td>\n",
       "      <td>0</td>\n",
       "      <td>Zambia</td>\n",
       "    </tr>\n",
       "    <tr>\n",
       "      <th>2</th>\n",
       "      <td>534273</td>\n",
       "      <td>Lines Line CE - Citrus Grisette</td>\n",
       "      <td>27770</td>\n",
       "      <td>Lines Brew Co.</td>\n",
       "      <td>Saison</td>\n",
       "      <td>1</td>\n",
       "      <td>3.28</td>\n",
       "      <td>3.5</td>\n",
       "      <td>4.600000</td>\n",
       "      <td>0</td>\n",
       "      <td>Wales</td>\n",
       "    </tr>\n",
       "    <tr>\n",
       "      <th>3</th>\n",
       "      <td>41259</td>\n",
       "      <td>Fort Christian Jump Up Stout</td>\n",
       "      <td>5392</td>\n",
       "      <td>Fort Christian Brew Pub</td>\n",
       "      <td>Stout</td>\n",
       "      <td>2</td>\n",
       "      <td>2.79</td>\n",
       "      <td>NaN</td>\n",
       "      <td>3.700000</td>\n",
       "      <td>0</td>\n",
       "      <td>Virgin Islands (U.S.)</td>\n",
       "    </tr>\n",
       "    <tr>\n",
       "      <th>4</th>\n",
       "      <td>457911</td>\n",
       "      <td>Cooper Island Best Bitter</td>\n",
       "      <td>29038</td>\n",
       "      <td>Cooper Island Brewing Co</td>\n",
       "      <td>Premium Bitter/ESB</td>\n",
       "      <td>1</td>\n",
       "      <td>NaN</td>\n",
       "      <td>NaN</td>\n",
       "      <td>3.500000</td>\n",
       "      <td>0</td>\n",
       "      <td>Virgin Islands (British)</td>\n",
       "    </tr>\n",
       "    <tr>\n",
       "      <th>...</th>\n",
       "      <td>...</td>\n",
       "      <td>...</td>\n",
       "      <td>...</td>\n",
       "      <td>...</td>\n",
       "      <td>...</td>\n",
       "      <td>...</td>\n",
       "      <td>...</td>\n",
       "      <td>...</td>\n",
       "      <td>...</td>\n",
       "      <td>...</td>\n",
       "      <td>...</td>\n",
       "    </tr>\n",
       "    <tr>\n",
       "      <th>260</th>\n",
       "      <td>148374</td>\n",
       "      <td>N´gola Cerveja Superior</td>\n",
       "      <td>2570</td>\n",
       "      <td>Cervejas de Angola (Heineken)</td>\n",
       "      <td>Pale Lager</td>\n",
       "      <td>1</td>\n",
       "      <td>2.70</td>\n",
       "      <td>5.0</td>\n",
       "      <td>2.400000</td>\n",
       "      <td>0</td>\n",
       "      <td>Angola</td>\n",
       "    </tr>\n",
       "    <tr>\n",
       "      <th>261</th>\n",
       "      <td>372389</td>\n",
       "      <td>Trapella</td>\n",
       "      <td>27934</td>\n",
       "      <td>La Birreria</td>\n",
       "      <td>Porter</td>\n",
       "      <td>7</td>\n",
       "      <td>3.25</td>\n",
       "      <td>6.0</td>\n",
       "      <td>3.428571</td>\n",
       "      <td>0</td>\n",
       "      <td>Andorra</td>\n",
       "    </tr>\n",
       "    <tr>\n",
       "      <th>262</th>\n",
       "      <td>48016</td>\n",
       "      <td>Schems Bavaroise</td>\n",
       "      <td>6000</td>\n",
       "      <td>S.N.B. (Castel Algérie)</td>\n",
       "      <td>Pale Lager</td>\n",
       "      <td>4</td>\n",
       "      <td>2.63</td>\n",
       "      <td>4.5</td>\n",
       "      <td>2.450000</td>\n",
       "      <td>0</td>\n",
       "      <td>Algeria</td>\n",
       "    </tr>\n",
       "    <tr>\n",
       "      <th>263</th>\n",
       "      <td>440920</td>\n",
       "      <td>Kaltenbeer Gruri Blek</td>\n",
       "      <td>28059</td>\n",
       "      <td>Albion Brauhaus 1.0 - Kaltenbeer</td>\n",
       "      <td>Dunkelweizen</td>\n",
       "      <td>2</td>\n",
       "      <td>3.18</td>\n",
       "      <td>5.0</td>\n",
       "      <td>3.650000</td>\n",
       "      <td>0</td>\n",
       "      <td>Albania</td>\n",
       "    </tr>\n",
       "    <tr>\n",
       "      <th>264</th>\n",
       "      <td>301247</td>\n",
       "      <td>Sukhum Ivanych Zhivoe</td>\n",
       "      <td>13313</td>\n",
       "      <td>Pivovarenniy Zavod Sukhumskiy</td>\n",
       "      <td>Zwickel/Keller/Landbier</td>\n",
       "      <td>1</td>\n",
       "      <td>2.98</td>\n",
       "      <td>4.5</td>\n",
       "      <td>3.200000</td>\n",
       "      <td>0</td>\n",
       "      <td>Abkhazia</td>\n",
       "    </tr>\n",
       "  </tbody>\n",
       "</table>\n",
       "<p>265 rows × 11 columns</p>\n",
       "</div>"
      ],
      "text/plain": [
       "     beer_id                        beer_name  brewery_id  \\\n",
       "0       7519        Golden Pilsner (Zimbabwe)        1689   \n",
       "1      12717                       Mosi Lager        2338   \n",
       "2     534273  Lines Line CE - Citrus Grisette       27770   \n",
       "3      41259     Fort Christian Jump Up Stout        5392   \n",
       "4     457911        Cooper Island Best Bitter       29038   \n",
       "..       ...                              ...         ...   \n",
       "260   148374          N´gola Cerveja Superior        2570   \n",
       "261   372389                         Trapella       27934   \n",
       "262    48016                 Schems Bavaroise        6000   \n",
       "263   440920            Kaltenbeer Gruri Blek       28059   \n",
       "264   301247            Sukhum Ivanych Zhivoe       13313   \n",
       "\n",
       "                         brewery_name                    style  nbr_ratings  \\\n",
       "0        Delta Breweries  (SABMiller)               Pale Lager           19   \n",
       "1       Zambian Breweries (SABMiller)               Pale Lager           56   \n",
       "2                      Lines Brew Co.                   Saison            1   \n",
       "3             Fort Christian Brew Pub                    Stout            2   \n",
       "4            Cooper Island Brewing Co       Premium Bitter/ESB            1   \n",
       "..                                ...                      ...          ...   \n",
       "260     Cervejas de Angola (Heineken)               Pale Lager            1   \n",
       "261                       La Birreria                   Porter            7   \n",
       "262           S.N.B. (Castel Algérie)               Pale Lager            4   \n",
       "263  Albion Brauhaus 1.0 - Kaltenbeer             Dunkelweizen            2   \n",
       "264     Pivovarenniy Zavod Sukhumskiy  Zwickel/Keller/Landbier            1   \n",
       "\n",
       "      avg  abv  avg_computed  nbr_matched_valid_ratings  \\\n",
       "0    2.24  3.8      2.173684                          0   \n",
       "1    2.02  4.0      2.046429                          0   \n",
       "2    3.28  3.5      4.600000                          0   \n",
       "3    2.79  NaN      3.700000                          0   \n",
       "4     NaN  NaN      3.500000                          0   \n",
       "..    ...  ...           ...                        ...   \n",
       "260  2.70  5.0      2.400000                          0   \n",
       "261  3.25  6.0      3.428571                          0   \n",
       "262  2.63  4.5      2.450000                          0   \n",
       "263  3.18  5.0      3.650000                          0   \n",
       "264  2.98  4.5      3.200000                          0   \n",
       "\n",
       "                     location  \n",
       "0                    Zimbabwe  \n",
       "1                      Zambia  \n",
       "2                       Wales  \n",
       "3       Virgin Islands (U.S.)  \n",
       "4    Virgin Islands (British)  \n",
       "..                        ...  \n",
       "260                    Angola  \n",
       "261                   Andorra  \n",
       "262                   Algeria  \n",
       "263                   Albania  \n",
       "264                  Abkhazia  \n",
       "\n",
       "[265 rows x 11 columns]"
      ]
     },
     "execution_count": 79,
     "metadata": {},
     "output_type": "execute_result"
    }
   ],
   "source": [
    "#there are 265 locations in this dataset, but there were 267 locations of breweries. Two breweries were not in the beers dataset then ? Check"
   ]
  },
  {
   "cell_type": "code",
   "execution_count": 82,
   "metadata": {},
   "outputs": [
    {
     "data": {
      "text/html": [
       "<div>\n",
       "<style scoped>\n",
       "    .dataframe tbody tr th:only-of-type {\n",
       "        vertical-align: middle;\n",
       "    }\n",
       "\n",
       "    .dataframe tbody tr th {\n",
       "        vertical-align: top;\n",
       "    }\n",
       "\n",
       "    .dataframe thead th {\n",
       "        text-align: right;\n",
       "    }\n",
       "</style>\n",
       "<table border=\"1\" class=\"dataframe\">\n",
       "  <thead>\n",
       "    <tr style=\"text-align: right;\">\n",
       "      <th></th>\n",
       "      <th>index</th>\n",
       "      <th>beer_id</th>\n",
       "      <th>beer_name</th>\n",
       "      <th>brewery_id</th>\n",
       "      <th>brewery_name</th>\n",
       "      <th>style</th>\n",
       "      <th>nbr_ratings</th>\n",
       "      <th>avg</th>\n",
       "      <th>abv</th>\n",
       "      <th>avg_computed</th>\n",
       "      <th>nbr_matched_valid_ratings</th>\n",
       "      <th>location</th>\n",
       "    </tr>\n",
       "  </thead>\n",
       "  <tbody>\n",
       "    <tr>\n",
       "      <th>0</th>\n",
       "      <td>55</td>\n",
       "      <td>453045</td>\n",
       "      <td>Black Shirt 4th Anniversary Quad</td>\n",
       "      <td>15377</td>\n",
       "      <td>Black Shirt Brewing Company</td>\n",
       "      <td>Abt/Quadrupel</td>\n",
       "      <td>1</td>\n",
       "      <td>3.36</td>\n",
       "      <td>9.5</td>\n",
       "      <td>5.000000</td>\n",
       "      <td>0</td>\n",
       "      <td>United States, Colorado</td>\n",
       "    </tr>\n",
       "    <tr>\n",
       "      <th>1</th>\n",
       "      <td>28</td>\n",
       "      <td>257631</td>\n",
       "      <td>Hoots Lager</td>\n",
       "      <td>19119</td>\n",
       "      <td>Hoots Roller Bar &amp; Beer Company</td>\n",
       "      <td>Pale Lager</td>\n",
       "      <td>1</td>\n",
       "      <td>3.07</td>\n",
       "      <td>5.4</td>\n",
       "      <td>5.000000</td>\n",
       "      <td>0</td>\n",
       "      <td>United States, North Carolina</td>\n",
       "    </tr>\n",
       "    <tr>\n",
       "      <th>2</th>\n",
       "      <td>30</td>\n",
       "      <td>315978</td>\n",
       "      <td>Tractor Brewing Berry Cider</td>\n",
       "      <td>3764</td>\n",
       "      <td>Tractor Brewing Company</td>\n",
       "      <td>Cider</td>\n",
       "      <td>1</td>\n",
       "      <td>3.07</td>\n",
       "      <td>8.0</td>\n",
       "      <td>5.000000</td>\n",
       "      <td>0</td>\n",
       "      <td>United States, New Mexico</td>\n",
       "    </tr>\n",
       "    <tr>\n",
       "      <th>3</th>\n",
       "      <td>255</td>\n",
       "      <td>234327</td>\n",
       "      <td>Murrays / Frankies The Beer Monster BBQ</td>\n",
       "      <td>6502</td>\n",
       "      <td>Murrays Craft Brewing Co.</td>\n",
       "      <td>Brown Ale</td>\n",
       "      <td>1</td>\n",
       "      <td>NaN</td>\n",
       "      <td>8.0</td>\n",
       "      <td>5.000000</td>\n",
       "      <td>0</td>\n",
       "      <td>Australia</td>\n",
       "    </tr>\n",
       "    <tr>\n",
       "      <th>4</th>\n",
       "      <td>209</td>\n",
       "      <td>533174</td>\n",
       "      <td>Old Town Artisan Project #26:  Green Hop Pale ...</td>\n",
       "      <td>30669</td>\n",
       "      <td>Old Town Brewery</td>\n",
       "      <td>American Pale Ale</td>\n",
       "      <td>1</td>\n",
       "      <td>NaN</td>\n",
       "      <td>5.5</td>\n",
       "      <td>5.000000</td>\n",
       "      <td>0</td>\n",
       "      <td>England</td>\n",
       "    </tr>\n",
       "    <tr>\n",
       "      <th>...</th>\n",
       "      <td>...</td>\n",
       "      <td>...</td>\n",
       "      <td>...</td>\n",
       "      <td>...</td>\n",
       "      <td>...</td>\n",
       "      <td>...</td>\n",
       "      <td>...</td>\n",
       "      <td>...</td>\n",
       "      <td>...</td>\n",
       "      <td>...</td>\n",
       "      <td>...</td>\n",
       "      <td>...</td>\n",
       "    </tr>\n",
       "    <tr>\n",
       "      <th>260</th>\n",
       "      <td>146</td>\n",
       "      <td>213993</td>\n",
       "      <td>Beaufort (Mali)</td>\n",
       "      <td>2596</td>\n",
       "      <td>Bramali (BGI)</td>\n",
       "      <td>Pale Lager</td>\n",
       "      <td>4</td>\n",
       "      <td>2.29</td>\n",
       "      <td>4.6</td>\n",
       "      <td>1.700000</td>\n",
       "      <td>0</td>\n",
       "      <td>Mali</td>\n",
       "    </tr>\n",
       "    <tr>\n",
       "      <th>261</th>\n",
       "      <td>81</td>\n",
       "      <td>9912</td>\n",
       "      <td>Halala 30</td>\n",
       "      <td>1771</td>\n",
       "      <td>Swaziland Brewers</td>\n",
       "      <td>Pale Lager</td>\n",
       "      <td>2</td>\n",
       "      <td>2.17</td>\n",
       "      <td>4.5</td>\n",
       "      <td>1.700000</td>\n",
       "      <td>0</td>\n",
       "      <td>Swaziland</td>\n",
       "    </tr>\n",
       "    <tr>\n",
       "      <th>262</th>\n",
       "      <td>155</td>\n",
       "      <td>115129</td>\n",
       "      <td>Brau Zero</td>\n",
       "      <td>11160</td>\n",
       "      <td>Abou Atni</td>\n",
       "      <td>Low Alcohol</td>\n",
       "      <td>5</td>\n",
       "      <td>2.27</td>\n",
       "      <td>NaN</td>\n",
       "      <td>1.680000</td>\n",
       "      <td>0</td>\n",
       "      <td>Libya</td>\n",
       "    </tr>\n",
       "    <tr>\n",
       "      <th>263</th>\n",
       "      <td>61</td>\n",
       "      <td>76211</td>\n",
       "      <td>Barbican Premium Malt</td>\n",
       "      <td>8795</td>\n",
       "      <td>Aujan Industries Co.</td>\n",
       "      <td>Low Alcohol</td>\n",
       "      <td>177</td>\n",
       "      <td>1.50</td>\n",
       "      <td>NaN</td>\n",
       "      <td>1.471751</td>\n",
       "      <td>0</td>\n",
       "      <td>United Arab Emirates</td>\n",
       "    </tr>\n",
       "    <tr>\n",
       "      <th>264</th>\n",
       "      <td>251</td>\n",
       "      <td>68979</td>\n",
       "      <td>Hunter Malt Beverage</td>\n",
       "      <td>8286</td>\n",
       "      <td>Crown Beverages</td>\n",
       "      <td>Pale Lager</td>\n",
       "      <td>17</td>\n",
       "      <td>1.65</td>\n",
       "      <td>5.0</td>\n",
       "      <td>1.317647</td>\n",
       "      <td>0</td>\n",
       "      <td>Bangladesh</td>\n",
       "    </tr>\n",
       "  </tbody>\n",
       "</table>\n",
       "<p>265 rows × 12 columns</p>\n",
       "</div>"
      ],
      "text/plain": [
       "     index  beer_id                                          beer_name  \\\n",
       "0       55   453045                   Black Shirt 4th Anniversary Quad   \n",
       "1       28   257631                                        Hoots Lager   \n",
       "2       30   315978                        Tractor Brewing Berry Cider   \n",
       "3      255   234327          Murrays / Frankies The Beer Monster BBQ   \n",
       "4      209   533174  Old Town Artisan Project #26:  Green Hop Pale ...   \n",
       "..     ...      ...                                                ...   \n",
       "260    146   213993                                    Beaufort (Mali)   \n",
       "261     81     9912                                          Halala 30   \n",
       "262    155   115129                                          Brau Zero   \n",
       "263     61    76211                              Barbican Premium Malt   \n",
       "264    251    68979                               Hunter Malt Beverage   \n",
       "\n",
       "     brewery_id                     brewery_name              style  \\\n",
       "0         15377      Black Shirt Brewing Company      Abt/Quadrupel   \n",
       "1         19119  Hoots Roller Bar & Beer Company         Pale Lager   \n",
       "2          3764          Tractor Brewing Company              Cider   \n",
       "3          6502       Murrays Craft Brewing Co.          Brown Ale   \n",
       "4         30669                 Old Town Brewery  American Pale Ale   \n",
       "..          ...                              ...                ...   \n",
       "260        2596                    Bramali (BGI)         Pale Lager   \n",
       "261        1771                Swaziland Brewers         Pale Lager   \n",
       "262       11160                        Abou Atni        Low Alcohol   \n",
       "263        8795             Aujan Industries Co.        Low Alcohol   \n",
       "264        8286                  Crown Beverages         Pale Lager   \n",
       "\n",
       "     nbr_ratings   avg  abv  avg_computed  nbr_matched_valid_ratings  \\\n",
       "0              1  3.36  9.5      5.000000                          0   \n",
       "1              1  3.07  5.4      5.000000                          0   \n",
       "2              1  3.07  8.0      5.000000                          0   \n",
       "3              1   NaN  8.0      5.000000                          0   \n",
       "4              1   NaN  5.5      5.000000                          0   \n",
       "..           ...   ...  ...           ...                        ...   \n",
       "260            4  2.29  4.6      1.700000                          0   \n",
       "261            2  2.17  4.5      1.700000                          0   \n",
       "262            5  2.27  NaN      1.680000                          0   \n",
       "263          177  1.50  NaN      1.471751                          0   \n",
       "264           17  1.65  5.0      1.317647                          0   \n",
       "\n",
       "                          location  \n",
       "0          United States, Colorado  \n",
       "1    United States, North Carolina  \n",
       "2        United States, New Mexico  \n",
       "3                        Australia  \n",
       "4                          England  \n",
       "..                             ...  \n",
       "260                           Mali  \n",
       "261                      Swaziland  \n",
       "262                          Libya  \n",
       "263           United Arab Emirates  \n",
       "264                     Bangladesh  \n",
       "\n",
       "[265 rows x 12 columns]"
      ]
     },
     "execution_count": 82,
     "metadata": {},
     "output_type": "execute_result"
    }
   ],
   "source": [
    "#now that we have top beers for each country, rank countries \n",
    "top_ranked_country=top_country.sort_values(by=\"avg_computed\",ascending=False).reset_index()\n",
    "top_ranked_country\n",
    "#how do we deal with equalities? "
   ]
  },
  {
   "cell_type": "code",
   "execution_count": 88,
   "metadata": {},
   "outputs": [
    {
     "data": {
      "text/html": [
       "<div>\n",
       "<style scoped>\n",
       "    .dataframe tbody tr th:only-of-type {\n",
       "        vertical-align: middle;\n",
       "    }\n",
       "\n",
       "    .dataframe tbody tr th {\n",
       "        vertical-align: top;\n",
       "    }\n",
       "\n",
       "    .dataframe thead th {\n",
       "        text-align: right;\n",
       "    }\n",
       "</style>\n",
       "<table border=\"1\" class=\"dataframe\">\n",
       "  <thead>\n",
       "    <tr style=\"text-align: right;\">\n",
       "      <th></th>\n",
       "      <th>beer_id</th>\n",
       "      <th>beer_name</th>\n",
       "      <th>brewery_id</th>\n",
       "      <th>brewery_name</th>\n",
       "      <th>style</th>\n",
       "      <th>nbr_ratings</th>\n",
       "      <th>avg</th>\n",
       "      <th>abv</th>\n",
       "      <th>avg_computed</th>\n",
       "      <th>nbr_matched_valid_ratings</th>\n",
       "      <th>location</th>\n",
       "    </tr>\n",
       "  </thead>\n",
       "  <tbody>\n",
       "    <tr>\n",
       "      <th>0</th>\n",
       "      <td>410549</td>\n",
       "      <td>33 Export (Gabon)</td>\n",
       "      <td>3198</td>\n",
       "      <td>Sobraga</td>\n",
       "      <td>Pale Lager</td>\n",
       "      <td>1</td>\n",
       "      <td>2.72</td>\n",
       "      <td>5.0</td>\n",
       "      <td>2.000000</td>\n",
       "      <td>0</td>\n",
       "      <td>Gabon</td>\n",
       "    </tr>\n",
       "    <tr>\n",
       "      <th>1</th>\n",
       "      <td>105273</td>\n",
       "      <td>Castel Beer (Gabon)</td>\n",
       "      <td>3198</td>\n",
       "      <td>Sobraga</td>\n",
       "      <td>Pale Lager</td>\n",
       "      <td>10</td>\n",
       "      <td>2.18</td>\n",
       "      <td>5.2</td>\n",
       "      <td>1.910000</td>\n",
       "      <td>0</td>\n",
       "      <td>Gabon</td>\n",
       "    </tr>\n",
       "    <tr>\n",
       "      <th>2</th>\n",
       "      <td>19445</td>\n",
       "      <td>Régab</td>\n",
       "      <td>3198</td>\n",
       "      <td>Sobraga</td>\n",
       "      <td>Pale Lager</td>\n",
       "      <td>27</td>\n",
       "      <td>1.83</td>\n",
       "      <td>4.5</td>\n",
       "      <td>1.811111</td>\n",
       "      <td>0</td>\n",
       "      <td>Gabon</td>\n",
       "    </tr>\n",
       "    <tr>\n",
       "      <th>3</th>\n",
       "      <td>155699</td>\n",
       "      <td>Ards Bally Black Stout</td>\n",
       "      <td>13538</td>\n",
       "      <td>Ards Brewing Co.</td>\n",
       "      <td>Stout</td>\n",
       "      <td>6</td>\n",
       "      <td>3.18</td>\n",
       "      <td>4.6</td>\n",
       "      <td>3.866667</td>\n",
       "      <td>6</td>\n",
       "      <td>Northern Ireland</td>\n",
       "    </tr>\n",
       "    <tr>\n",
       "      <th>4</th>\n",
       "      <td>239097</td>\n",
       "      <td>Ards Belfast 366</td>\n",
       "      <td>13538</td>\n",
       "      <td>Ards Brewing Co.</td>\n",
       "      <td>Golden Ale/Blond Ale</td>\n",
       "      <td>1</td>\n",
       "      <td>2.79</td>\n",
       "      <td>4.2</td>\n",
       "      <td>3.000000</td>\n",
       "      <td>0</td>\n",
       "      <td>Northern Ireland</td>\n",
       "    </tr>\n",
       "    <tr>\n",
       "      <th>...</th>\n",
       "      <td>...</td>\n",
       "      <td>...</td>\n",
       "      <td>...</td>\n",
       "      <td>...</td>\n",
       "      <td>...</td>\n",
       "      <td>...</td>\n",
       "      <td>...</td>\n",
       "      <td>...</td>\n",
       "      <td>...</td>\n",
       "      <td>...</td>\n",
       "      <td>...</td>\n",
       "    </tr>\n",
       "    <tr>\n",
       "      <th>442072</th>\n",
       "      <td>153089</td>\n",
       "      <td>Stela Double Malt Strong Beer</td>\n",
       "      <td>1107</td>\n",
       "      <td>Stefani &amp; Co</td>\n",
       "      <td>Imperial Pils/Strong Pale Lager</td>\n",
       "      <td>7</td>\n",
       "      <td>2.62</td>\n",
       "      <td>6.0</td>\n",
       "      <td>2.457143</td>\n",
       "      <td>0</td>\n",
       "      <td>Albania</td>\n",
       "    </tr>\n",
       "    <tr>\n",
       "      <th>442073</th>\n",
       "      <td>153086</td>\n",
       "      <td>Stela Krudo</td>\n",
       "      <td>1107</td>\n",
       "      <td>Stefani &amp; Co</td>\n",
       "      <td>Wheat Ale</td>\n",
       "      <td>1</td>\n",
       "      <td>2.77</td>\n",
       "      <td>4.8</td>\n",
       "      <td>2.900000</td>\n",
       "      <td>0</td>\n",
       "      <td>Albania</td>\n",
       "    </tr>\n",
       "    <tr>\n",
       "      <th>442074</th>\n",
       "      <td>220722</td>\n",
       "      <td>Stela Pils</td>\n",
       "      <td>1107</td>\n",
       "      <td>Stefani &amp; Co</td>\n",
       "      <td>Pale Lager</td>\n",
       "      <td>18</td>\n",
       "      <td>1.93</td>\n",
       "      <td>5.0</td>\n",
       "      <td>1.727778</td>\n",
       "      <td>0</td>\n",
       "      <td>Albania</td>\n",
       "    </tr>\n",
       "    <tr>\n",
       "      <th>442075</th>\n",
       "      <td>287791</td>\n",
       "      <td>Stela Pils 4%</td>\n",
       "      <td>1107</td>\n",
       "      <td>Stefani &amp; Co</td>\n",
       "      <td>Pilsener</td>\n",
       "      <td>17</td>\n",
       "      <td>1.92</td>\n",
       "      <td>4.0</td>\n",
       "      <td>1.705882</td>\n",
       "      <td>0</td>\n",
       "      <td>Albania</td>\n",
       "    </tr>\n",
       "    <tr>\n",
       "      <th>442076</th>\n",
       "      <td>189684</td>\n",
       "      <td>Stela Selekt</td>\n",
       "      <td>1107</td>\n",
       "      <td>Stefani &amp; Co</td>\n",
       "      <td>Pilsener</td>\n",
       "      <td>5</td>\n",
       "      <td>2.19</td>\n",
       "      <td>4.7</td>\n",
       "      <td>1.500000</td>\n",
       "      <td>0</td>\n",
       "      <td>Albania</td>\n",
       "    </tr>\n",
       "  </tbody>\n",
       "</table>\n",
       "<p>359958 rows × 11 columns</p>\n",
       "</div>"
      ],
      "text/plain": [
       "        beer_id                      beer_name  brewery_id      brewery_name  \\\n",
       "0        410549              33 Export (Gabon)        3198           Sobraga   \n",
       "1        105273            Castel Beer (Gabon)        3198           Sobraga   \n",
       "2         19445                          Régab        3198           Sobraga   \n",
       "3        155699         Ards Bally Black Stout       13538  Ards Brewing Co.   \n",
       "4        239097               Ards Belfast 366       13538  Ards Brewing Co.   \n",
       "...         ...                            ...         ...               ...   \n",
       "442072   153089  Stela Double Malt Strong Beer        1107      Stefani & Co   \n",
       "442073   153086                    Stela Krudo        1107      Stefani & Co   \n",
       "442074   220722                     Stela Pils        1107      Stefani & Co   \n",
       "442075   287791                  Stela Pils 4%        1107      Stefani & Co   \n",
       "442076   189684                  Stela Selekt         1107      Stefani & Co   \n",
       "\n",
       "                                  style  nbr_ratings   avg  abv  avg_computed  \\\n",
       "0                            Pale Lager            1  2.72  5.0      2.000000   \n",
       "1                            Pale Lager           10  2.18  5.2      1.910000   \n",
       "2                            Pale Lager           27  1.83  4.5      1.811111   \n",
       "3                                 Stout            6  3.18  4.6      3.866667   \n",
       "4                  Golden Ale/Blond Ale            1  2.79  4.2      3.000000   \n",
       "...                                 ...          ...   ...  ...           ...   \n",
       "442072  Imperial Pils/Strong Pale Lager            7  2.62  6.0      2.457143   \n",
       "442073                        Wheat Ale            1  2.77  4.8      2.900000   \n",
       "442074                       Pale Lager           18  1.93  5.0      1.727778   \n",
       "442075                         Pilsener           17  1.92  4.0      1.705882   \n",
       "442076                         Pilsener            5  2.19  4.7      1.500000   \n",
       "\n",
       "        nbr_matched_valid_ratings          location  \n",
       "0                               0             Gabon  \n",
       "1                               0             Gabon  \n",
       "2                               0             Gabon  \n",
       "3                               6  Northern Ireland  \n",
       "4                               0  Northern Ireland  \n",
       "...                           ...               ...  \n",
       "442072                          0           Albania  \n",
       "442073                          0           Albania  \n",
       "442074                          0           Albania  \n",
       "442075                          0           Albania  \n",
       "442076                          0           Albania  \n",
       "\n",
       "[359958 rows x 11 columns]"
      ]
     },
     "execution_count": 88,
     "metadata": {},
     "output_type": "execute_result"
    }
   ],
   "source": [
    "test_abv=df_rb_beer_wrating.dropna(axis=0,subset=[\"abv\",\"avg_computed\"])\n",
    "stats.pearsonr(test_abv.abv,test_abv.avg_computed)\n"
   ]
  },
  {
   "cell_type": "code",
   "execution_count": 94,
   "metadata": {},
   "outputs": [
    {
     "data": {
      "text/plain": [
       "73.0"
      ]
     },
     "execution_count": 94,
     "metadata": {},
     "output_type": "execute_result"
    }
   ],
   "source": [
    "test_abv.abv.max()"
   ]
  },
  {
   "cell_type": "code",
   "execution_count": 96,
   "metadata": {},
   "outputs": [
    {
     "data": {
      "text/plain": [
       "(0.0, 80)"
      ]
     },
     "execution_count": 96,
     "metadata": {},
     "output_type": "execute_result"
    },
    {
     "data": {
      "image/png": "[encoded data removed]",
      "text/plain": [
       "<Figure size 432x432 with 3 Axes>"
      ]
     },
     "metadata": {
      "needs_background": "light"
     },
     "output_type": "display_data"
    }
   ],
   "source": [
    "sns.jointplot(x=test_abv.abv,y=test_abv.avg_computed, kind=\"hex\") #met énormément de temps à tourner\n",
    "plt.xlabel(\"abv\")\n",
    "plt.ylabel(\"avg_computed\")\n",
    "plt.ylim(top=6)\n",
    "plt.xlim(right=80) #je voulais faire un lmplot mais la visualisation était pourrie. J'ai fait ça pour voir la visualisation hexagonale mais c'est pas terrible"
   ]
  },
  {
   "cell_type": "code",
   "execution_count": null,
   "metadata": {},
   "outputs": [],
   "source": []
  }
 ],
 "metadata": {
  "kernelspec": {
   "display_name": "Python 3",
   "language": "python",
   "name": "python3"
  },
  "language_info": {
   "codemirror_mode": {
    "name": "ipython",
    "version": 3
   },
   "file_extension": ".py",
   "mimetype": "text/x-python",
   "name": "python",
   "nbconvert_exporter": "python",
   "pygments_lexer": "ipython3",
   "version": "3.7.6"
  }
 },
 "nbformat": 4,
 "nbformat_minor": 4
}
