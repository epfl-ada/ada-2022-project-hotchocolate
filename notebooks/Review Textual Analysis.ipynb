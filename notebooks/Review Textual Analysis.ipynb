{
 "cells": [
  {
   "cell_type": "markdown",
   "id": "008ea851",
   "metadata": {},
   "source": [
    "## Objective\n",
    "\n",
    "In this notebook, we do basic textual analysis on the reviews available in all three subdatasets. They are available in the following files:\n",
    "\n",
    "\n",
    "        |\n",
    "        ├── BeerAdvocate.tar/   \n",
    "        │   └── ratings.txt.gz   \n",
    "        ├── RateBeer.tar/\n",
    "        │   └── ratings.txt.gz\n",
    "        └── matched_beer_data.tar/\n",
    "            └── ratings.txt.gz\n",
    "            \n",
    "Our main objectives are:\n",
    "* Identify the language distribution of text reviews in both sites (and in the intersection of them)\n",
    "* Calculate summary statistics regarding review word count.\n",
    "* Have a first notion of the most common words (that aren't stop words).\n",
    "       "
   ]
  },
  {
   "cell_type": "markdown",
   "id": "8563cae6",
   "metadata": {},
   "source": [
    "### Language identification\n",
    "\n",
    "This task is performed by using Facebook's ```fasttext``` library, which allows language identification with a pre-trained model. The model is based on word embeddings and was trained on  Wikipedia, Tatoeba and SETimes content. More information can be found [here](https://fasttext.cc/docs/en/language-identification.html).\n",
    "\n",
    "We implement a function ```NLP_utils.identify_lang```, which accepts a ```DataFrame``` pandas object representing a dataset with a column of reviews where language identification is needed. It uses fasttext to return a ```Series```object corresponding to the language predictions of the model. \n",
    "\n",
    "### Word count \n",
    "\n",
    "A histogram and summary statistics of word count are computed with a simple ```.apply(lambda x: len(x.split()))``` call on the text reviews."
   ]
  },
  {
   "cell_type": "code",
   "execution_count": 1,
   "id": "36114c25",
   "metadata": {},
   "outputs": [
    {
     "name": "stderr",
     "output_type": "stream",
     "text": [
      "[nltk_data] Downloading package stopwords to\n",
      "[nltk_data]     /Users/joaoprado/nltk_data...\n",
      "[nltk_data]   Package stopwords is already up-to-date!\n",
      "Warning : `load_model` does not return WordVectorModel or SupervisedModel any more, but a `FastText` object which is very similar.\n"
     ]
    }
   ],
   "source": [
    "import pandas as pd\n",
    "from functions import NLP_utils\n",
    "import matplotlib.pyplot as plt\n"
   ]
  },
  {
   "cell_type": "code",
   "execution_count": 2,
   "id": "8e817060",
   "metadata": {},
   "outputs": [],
   "source": [
    "COLUMNS_NAMES = [\"count\",\"beer_name\",\"beer_id\",\"brewery_name\",\"brewery_id\",\"style\",\"abv\",\"date\",\"username\",\"user_id\",\"appearance\",\"aroma\",\"palate\",\"taste\",\"overall\",\"rating\",\"text\"]\n"
   ]
  },
  {
   "cell_type": "code",
   "execution_count": 3,
   "id": "753bf764",
   "metadata": {},
   "outputs": [
    {
     "name": "stdout",
     "output_type": "stream",
     "text": [
      "Started identifying langs and counting words...\n",
      "Done!\n"
     ]
    }
   ],
   "source": [
    "#Processing BeerAdvocate dataset\n",
    "first = pd.read_csv(f\"../data/BeerAdvocate_ratings_part_0.csv\",low_memory=False)\n",
    "first.columns = COLUMNS_NAMES \n",
    "#TODO: standardize NaNs between datasets\n",
    "first = first[first['text'] != ' nan']\n",
    "\n",
    "print(\"Started identifying languages and counting words...\")\n",
    "langs = NLP_utils.identify_lang(first)\n",
    "first[\"word_count\"] = first.text.apply(lambda x: len(x.split()))\n",
    "counts = first.word_count\n",
    "#There is a total of 17 csvs for BeerAdvocate textual ratings.\n",
    "for index in range(1,17):\n",
    "    temp = pd.read_csv(f\"../data/BeerAdvocate_ratings_part_{index}.csv\",low_memory=False)\n",
    "    temp.columns = COLUMNS_NAMES \n",
    "    temp = temp[temp['text'] != ' nan']\n",
    "    temp[\"word_count\"] = first.text.apply(lambda x: len(x.split()))\n",
    "    count = temp.word_count\n",
    "    temp = NLP_utils.identify_lang(temp)\n",
    "    langs = pd.concat([langs, temp])\n",
    "    counts = pd.concat([counts, count])\n",
    "print(\"Done!\")"
   ]
  },
  {
   "cell_type": "code",
   "execution_count": 4,
   "id": "aaaa2560",
   "metadata": {},
   "outputs": [
    {
     "name": "stdout",
     "output_type": "stream",
     "text": [
      "Language repartition for BeerAdvocate reviews:\n"
     ]
    },
    {
     "data": {
      "text/plain": [
       "English               99.883198\n",
       "French                 0.031226\n",
       "Italian                0.022683\n",
       "Spanish; Castilian     0.013440\n",
       "German                 0.007880\n",
       "                        ...    \n",
       "Lithuanian             0.000037\n",
       "Interlingua            0.000037\n",
       "Hebrew (modern)        0.000037\n",
       "Malayalam              0.000037\n",
       "Swahili                0.000037\n",
       "Name: text, Length: 71, dtype: float64"
      ]
     },
     "execution_count": 4,
     "metadata": {},
     "output_type": "execute_result"
    },
    {
     "data": {
      "image/png": "[encoded data removed]",
      "text/plain": [
       "<Figure size 640x480 with 1 Axes>"
      ]
     },
     "metadata": {},
     "output_type": "display_data"
    }
   ],
   "source": [
    "#Text review results for Beer Advocate dataset\n",
    "plt.title('Beer Advocate - Review ord count')\n",
    "plt.xlabel('Word per review')\n",
    "plt.ylabel('Review count')\n",
    "plt.hist(counts,bins=200, log=True)\n",
    "print(\"Language repartition for BeerAdvocate reviews:\")\n",
    "langs.value_counts(normalize=True) * 100\n"
   ]
  },
  {
   "cell_type": "code",
   "execution_count": 5,
   "id": "daac039d",
   "metadata": {},
   "outputs": [
    {
     "name": "stdout",
     "output_type": "stream",
     "text": [
      "Started identifying langs and counting words...\n",
      "Done!\n"
     ]
    }
   ],
   "source": [
    "#Processing RateBeer dataset\n",
    "first = pd.read_csv(f\"../data/RateBeer_ratings_part_0.csv\",low_memory=False)\n",
    "first.columns = COLUMNS_NAMES \n",
    "#TODO: standardize NaNs between datasets\n",
    "first = first[first['text'] != 'NaN']\n",
    "\n",
    "print(\"Started identifying languages and counting words...\")\n",
    "langs = NLP_utils.identify_lang(first)\n",
    "first[\"word_count\"] = first.text.apply(lambda x: len(str(x).split()))\n",
    "counts = first.word_count\n",
    "first[\"Language\"] = langs\n",
    "#There is a total of 15 csvs for RateBeer textual ratings.\n",
    "for index in range(1,15):\n",
    "    temp = pd.read_csv(f\"../data/RateBeer_ratings_part_{index}.csv\",dtype=object,low_memory=False)\n",
    "    temp.columns = COLUMNS_NAMES \n",
    "    temp = temp[temp['text'] != 'NaN']\n",
    "    temp[\"word_count\"] = first.text.apply(lambda x: len(str(x).split()))\n",
    "    count = temp.word_count\n",
    "    temp = NLP_utils.identify_lang(temp)\n",
    "    langs = pd.concat([langs, temp])\n",
    "    counts = pd.concat([counts, count])\n",
    "print(\"Done!\")"
   ]
  },
  {
   "cell_type": "code",
   "execution_count": 6,
   "id": "5dac6f64",
   "metadata": {},
   "outputs": [
    {
     "name": "stdout",
     "output_type": "stream",
     "text": [
      "Language repartition for RateBeer reviews:\n"
     ]
    },
    {
     "data": {
      "text/plain": [
       "English          93.016065\n",
       "Polish            1.483346\n",
       "French            1.393611\n",
       "German            1.035302\n",
       "Dutch             0.513923\n",
       "                   ...    \n",
       "Interlingua       0.000014\n",
       "Swahili           0.000014\n",
       "Arabic            0.000014\n",
       "Asturian          0.000014\n",
       "Tosk Albanian     0.000014\n",
       "Name: text, Length: 72, dtype: float64"
      ]
     },
     "execution_count": 6,
     "metadata": {},
     "output_type": "execute_result"
    },
    {
     "data": {
      "image/png": "[encoded data removed]",
      "text/plain": [
       "<Figure size 640x480 with 1 Axes>"
      ]
     },
     "metadata": {},
     "output_type": "display_data"
    }
   ],
   "source": [
    "plt.title('Rate Beer - Review ord count')\n",
    "plt.xlabel('Word per review')\n",
    "plt.ylabel('Review count')\n",
    "plt.hist(counts,bins=200, log=True)\n",
    "print(\"Language repartition for RateBeer reviews:\")\n",
    "langs.value_counts(normalize=True) * 100"
   ]
  },
  {
   "cell_type": "markdown",
   "id": "e77b2609",
   "metadata": {},
   "source": [
    "### Bonus :  wordcloud \n",
    "\n",
    "A wordcloud is created with the ```wordcloud``` package. Since datasets are dominated by english, french and polish reviews, we use ```sklearn.feature_extraction.text```to extract term frequencies and ```spacy```stopword lists for English, French and Polish, in order to filter common words that do not provide meaningful semantic content to reviews."
   ]
  },
  {
   "cell_type": "code",
   "execution_count": null,
   "id": "adce862b",
   "metadata": {},
   "outputs": [
    {
     "name": "stdout",
     "output_type": "stream",
     "text": [
      "Finishing csv 0\n",
      "Finishing csv 1\n",
      "Finishing csv 2\n",
      "Finishing csv 3\n",
      "Finishing csv 4\n",
      "Finishing csv 5\n",
      "Finishing csv 6\n",
      "Finishing csv 7\n",
      "Finishing csv 8\n",
      "Finishing csv 9\n",
      "Finishing csv 10\n"
     ]
    }
   ],
   "source": [
    "from sklearn.feature_extraction.text import CountVectorizer\n",
    "from spacy.lang.fr.stop_words import STOP_WORDS as fr_stop\n",
    "from spacy.lang.en.stop_words import STOP_WORDS as en_stop\n",
    "\n",
    "final_stopwords_list = list(fr_stop) + list(en_stop) + ['ll', 'neuf', 'qu', 'quelqu', 've']\n",
    "\n",
    "words_dict = {}\n",
    "\n",
    "for index in range(0,15):\n",
    "    temp = pd.read_csv(f\"../data/RateBeer_ratings_part_{index}.csv\",low_memory=False)\n",
    "    temp.columns = COLUMNS_NAMES \n",
    "    vec = CountVectorizer(stop_words=final_stopwords_list).fit(first[\"text\"].values.astype('U'))\n",
    "    bag_of_words = vec.transform(first[\"text\"].values.astype('U'))\n",
    "    print(f\"Finishing csv {index}\")\n",
    "\n",
    "    sum_words = bag_of_words.sum(axis=0)\n",
    "    words_freq = [(word, sum_words[0, idx]) for word, idx in vec.vocabulary_.items()]\n",
    "    for key, value in words_freq:\n",
    "        if key not in words_dict:\n",
    "            words_dict[key] = value\n",
    "        else :\n",
    "            words_dict[key] += value"
   ]
  },
  {
   "cell_type": "code",
   "execution_count": null,
   "id": "c91df921",
   "metadata": {},
   "outputs": [],
   "source": [
    "from wordcloud import WordCloud\n",
    "wordcloud = WordCloud(width = 1000, height = 500,background_color=\"white\").generate_from_frequencies(words_dict)\n",
    "#Wordcloud for RateBeer\n",
    "plt.figure(figsize=(15,8))\n",
    "plt.axis(\"off\")\n",
    "\n",
    "plt.imshow(wordcloud)\n"
   ]
  },
  {
   "cell_type": "code",
   "execution_count": null,
   "id": "bbade70c",
   "metadata": {},
   "outputs": [],
   "source": []
  }
 ],
 "metadata": {
  "kernelspec": {
   "display_name": "Python [conda env:ada] *",
   "language": "python",
   "name": "conda-env-ada-py"
  },
  "language_info": {
   "codemirror_mode": {
    "name": "ipython",
    "version": 3
   },
   "file_extension": ".py",
   "mimetype": "text/x-python",
   "name": "python",
   "nbconvert_exporter": "python",
   "pygments_lexer": "ipython3",
   "version": "3.9.13"
  }
 },
 "nbformat": 4,
 "nbformat_minor": 5
}
