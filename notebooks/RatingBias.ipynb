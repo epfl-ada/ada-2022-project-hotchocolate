{
 "cells": [
  {
   "cell_type": "markdown",
   "id": "d8adca4c",
   "metadata": {},
   "source": [
    "### Warning\n",
    "Please run the \"Fetching Datasets\" notebook before and create csv files corresponding to both BeerAdvocate and RateBeer ratings.txt.gz :)"
   ]
  },
  {
   "cell_type": "code",
   "execution_count": null,
   "id": "eba94c79",
   "metadata": {},
   "outputs": [],
   "source": [
    "import pandas as pd\n",
    "import seaborn as sns\n",
    "import os \n",
    "from functions import read_data\n",
    "import re\n"
   ]
  },
  {
   "cell_type": "code",
   "execution_count": null,
   "id": "0bde936f",
   "metadata": {},
   "outputs": [],
   "source": [
    "COLUMNS_NAMES = [\"count\",\"beer_name\",\"beer_id\",\"brewery_name\",\"brewery_id\",\"style\",\"abv\",\"date\",\"username\",\"user_id\",\"appearance\",\"aroma\",\"palate\",\"taste\",\"overall\",\"rating\",\"text\",\"review\"]"
   ]
  },
  {
   "cell_type": "code",
   "execution_count": null,
   "id": "fdc75757",
   "metadata": {},
   "outputs": [],
   "source": [
    "#Check all the RateBeer csvs are there where they should be\n",
    "import os \n",
    "RB_csv_list = os.listdir(\"../data\")\n",
    "RB_csv_list.sort()\n",
    "RB_csv_list = [csv for csv in RB_csv_list if \".csv\" in csv and 'ratings' in csv and 'RateBeer' in csv]\n",
    "print(RB_csv_list)"
   ]
  },
  {
   "cell_type": "code",
   "execution_count": null,
   "id": "0203d1db",
   "metadata": {},
   "outputs": [],
   "source": [
    "#Check all the BeerAdvocate csvs are there where they should be\n",
    "BA_csv_list = os.listdir(\"../data\")\n",
    "BA_csv_list.sort()\n",
    "BA_csv_list = [csv for csv in BA_csv_list if \".csv\" in csv and 'ratings' in csv and 'BeerAdvocate' in csv]\n",
    "print(BA_csv_list)"
   ]
  },
  {
   "cell_type": "code",
   "execution_count": null,
   "id": "c38daf5b",
   "metadata": {},
   "outputs": [],
   "source": [
    "def aggregate_ratings(dataframe):\n",
    "    dataframe.fillna({'count_x':0,'count_y':0,'mean_rating_x':0,'mean_rating_y':0, \"min_rating_x\" : float('inf'),\"max_rating_x\": -float('inf'),\"min_rating_y\" : float('inf'),\"max_rating_y\": -float('inf')},inplace=True)    \n",
    "    dataframe[\"count2\"] = dataframe['count_x'] + dataframe['count_y']\n",
    "    \n",
    "    dataframe[\"min_rating\"] =  dataframe[['min_rating_x','min_rating_y']].min(axis=1)\n",
    "    dataframe['mean_rating'] = (dataframe['mean_rating_x']*dataframe['count_x'] + dataframe['mean_rating_y']*dataframe['count_y'])/dataframe[\"count2\"]\n",
    "    dataframe[\"max_rating\"] =  dataframe[['max_rating_x','max_rating_y']].max(axis=1)\n",
    "    dataframe[\"count\"] = dataframe[\"count2\"]\n",
    "    dataframe.drop(columns=[\"min_rating_x\",\"mean_rating_x\",\"max_rating_x\",\"count_x\",\"min_rating_y\",\"mean_rating_y\",\"max_rating_y\",\"count_y\",\"count2\"],inplace=True)\n",
    "    return dataframe\n",
    "def multiple_csv(dataframe,dataframe2):\n",
    "    COLUMNS_NAMES = [\"count\",\"beer_name\",\"beer_id\",\"brewery_name\",\"brewery_id\",\"style\",\"abv\",\"date\",\"username\",\"user_id\",\"appearance\",\"aroma\",\"palate\",\"taste\",\"overall\",\"rating\",\"text\"]\n",
    "\n",
    "    # 5 is the length of the aggregated df, if the incoming df has more than 5 columns, it was not aggregated yet.\n",
    "    if len(dataframe.columns) > 5:\n",
    "        dataframe.columns = COLUMNS_NAMES\n",
    "        grouped = dataframe.groupby(by=\"user_id\").agg({'rating': ['min','mean', 'max'], 'count': 'count'}).reset_index(level=[0])\n",
    "        grouped.columns = [\"user_id\",\"min_rating\",\"mean_rating\",\"max_rating\",\"count\"]\n",
    "    else :\n",
    "        grouped = dataframe\n",
    "        grouped.columns = [\"user_id\",\"min_rating\",\"mean_rating\",\"max_rating\",\"count\"]\n",
    "\n",
    "    dataframe2.columns = COLUMNS_NAMES\n",
    "\n",
    "    grouped2 = dataframe2.groupby(by=\"user_id\").agg({'rating': ['min','mean', 'max'], 'count': 'count'}).reset_index(level=[0])\n",
    "    \n",
    "    grouped2.columns = [\"user_id\",\"min_rating\",\"mean_rating\",\"max_rating\",\"count\"]\n",
    "    #print(\"-------\")\n",
    "\n",
    "    df = aggregate_ratings(pd.merge(grouped, grouped2, how=\"outer\",on=['user_id']))\n",
    "    #display(pd.merge(grouped, grouped2, how=\"outer\",on=['user_id']))\n",
    "    #display(df)\n",
    "    #print(\"-------\")\n",
    "\n",
    "    return df\n",
    "    #test1[[\"appearance\" ,\"aroma\",\"palate\",\"taste\",\"overall\"]]=test1[[\"appearance\" ,\"aroma\",\"palate\",\"taste\",\"overall\"]].apply(pd.to_numeric)\n"
   ]
  },
  {
   "cell_type": "code",
   "execution_count": null,
   "id": "fa8b41ba",
   "metadata": {},
   "outputs": [],
   "source": [
    "#change range to correspond to reality if you have not created the csvs with 500'000 columns.\n",
    "BA_dataframe = pd.read_csv(\"../data/BeerAdvocate_ratings_part_0.csv\")\n",
    "for index in range(1,17):\n",
    "    temp = pd.read_csv(f\"../data/BeerAdvocate_ratings_part_{index}.csv\")\n",
    "    print(f\"Aggregating csv {index}\")\n",
    "    BA_dataframe = multiple_csv(BA_dataframe,temp)\n"
   ]
  },
  {
   "cell_type": "code",
   "execution_count": null,
   "id": "d35e9ea3",
   "metadata": {},
   "outputs": [],
   "source": [
    "RB_dataframe = pd.read_csv(\"../data/RateBeer_ratings_part_0.csv\")\n",
    "for index in range(1,15):\n",
    "    temp = pd.read_csv(f\"../data/RateBeer_ratings_part_{index}.csv\")\n",
    "    print(f\"Aggregating csv {index}\")\n",
    "    RB_dataframe = multiple_csv(RB_dataframe,temp)"
   ]
  },
  {
   "cell_type": "code",
   "execution_count": null,
   "id": "7c9c3095",
   "metadata": {
    "scrolled": true
   },
   "outputs": [],
   "source": [
    "RB_dataframe"
   ]
  },
  {
   "cell_type": "code",
   "execution_count": null,
   "id": "8ccbd2ff",
   "metadata": {},
   "outputs": [],
   "source": []
  },
  {
   "cell_type": "code",
   "execution_count": null,
   "id": "816de94c",
   "metadata": {},
   "outputs": [],
   "source": [
    "# Fetch csv with user data so we can get Country of origin:\n",
    "BA_users_df = read_data.fetch_csv(\"../DATA/BeerAdvocate.tar\",\"users\")\n",
    "BA_users_df = BA_users_df[BA_users_df[\"nbr_ratings\"] >= 1].copy()\n",
    "RB_users_df = read_data.fetch_csv(\"../DATA/RateBeer.tar\",\"users\")\n",
    "RB_users_df = RB_users_df[RB_users_df[\"nbr_ratings\"] >= 1].copy()"
   ]
  },
  {
   "cell_type": "code",
   "execution_count": null,
   "id": "73d15db2",
   "metadata": {},
   "outputs": [],
   "source": [
    "# Sanity check : are the histograms of the dataframe I created and the given dataset equal?\n",
    "sns.histplot(data =RB_dataframe, x = \"count\",log_scale=True)"
   ]
  },
  {
   "cell_type": "code",
   "execution_count": null,
   "id": "01385b47",
   "metadata": {},
   "outputs": [],
   "source": [
    "# Answer : Yes ! Change to BA to check other site, everything should be ok!\n",
    "sns.histplot(data =RB_users_df, x = \"nbr_ratings\",log_scale=True)"
   ]
  },
  {
   "cell_type": "code",
   "execution_count": null,
   "id": "69f0b3e4",
   "metadata": {},
   "outputs": [],
   "source": [
    "BA_users_df.user_id=BA_users_df.user_id.str.strip()\n",
    "BA_dataframe.user_id=BA_dataframe.user_id.str.strip()\n",
    "BA_combined_df = pd.merge(BA_users_df, BA_dataframe, how=\"left\",on=['user_id'])\n",
    "BA_combined_df[\"user_id\"] = BA_combined_df[\"user_id\"].map(lambda x : re.search(r\"[^.]+$\",x)[0])\n",
    "BA_combined_df[\"location\"].fillna(\"Empty\",inplace=True)\n",
    "#mean aggregation in the next line is wrong, redo it\n",
    "BA_countries = BA_combined_df.groupby('location').agg({'nbr_ratings': 'sum','min_rating':'min','mean_rating':'mean','max_rating':'max','count':'sum'})\n",
    "display(BA_countries)\n"
   ]
  },
  {
   "cell_type": "code",
   "execution_count": null,
   "id": "6e68b847",
   "metadata": {},
   "outputs": [],
   "source": [
    "RB_combined_df = pd.merge(RB_users_df, RB_dataframe, how=\"left\",on=['user_id'])\n",
    "RB_combined_df[\"location\"].fillna(\"Empty\",inplace=True)\n",
    "#mean aggregation in the next line is wrong, redo it\n",
    "RB_countries = RB_combined_df.groupby('location').agg({'nbr_ratings': 'sum','min_rating':'min','mean_rating':'mean','max_rating':'max','count':'sum'})\n",
    "display(RB_countries)\n"
   ]
  },
  {
   "cell_type": "code",
   "execution_count": null,
   "id": "1867e1d9",
   "metadata": {},
   "outputs": [],
   "source": []
  }
 ],
 "metadata": {
  "kernelspec": {
   "display_name": "Python [conda env:ada] *",
   "language": "python",
   "name": "conda-env-ada-py"
  },
  "language_info": {
   "codemirror_mode": {
    "name": "ipython",
    "version": 3
   },
   "file_extension": ".py",
   "mimetype": "text/x-python",
   "name": "python",
   "nbconvert_exporter": "python",
   "pygments_lexer": "ipython3",
   "version": "3.9.13"
  }
 },
 "nbformat": 4,
 "nbformat_minor": 5
}
