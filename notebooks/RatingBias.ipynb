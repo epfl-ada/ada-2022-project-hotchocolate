{
 "cells": [
  {
   "cell_type": "markdown",
   "id": "556e2357",
   "metadata": {},
   "source": [
    "### Warning\n",
    "Please run the \"Fetching Datasets\" notebook before and create csv files corresponding to both BeerAdvocate and RateBeer ratings.txt.gz :)"
   ]
  },
  {
   "cell_type": "code",
   "execution_count": 1,
   "id": "714dc72b",
   "metadata": {},
   "outputs": [],
   "source": [
    "import pandas as pd\n",
    "import seaborn as sns\n",
    "import os \n",
    "from functions import read_data\n",
    "import re\n"
   ]
  },
  {
   "cell_type": "code",
   "execution_count": 2,
   "id": "0bde936f",
   "metadata": {},
   "outputs": [],
   "source": [
    "COLUMNS_NAMES = [\"count\",\"beer_name\",\"beer_id\",\"brewery_name\",\"brewery_id\",\"style\",\"abv\",\"date\",\"username\",\"user_id\",\"appearance\",\"aroma\",\"palate\",\"taste\",\"overall\",\"rating\",\"text\",\"review\"]"
   ]
  },
  {
   "cell_type": "code",
   "execution_count": 3,
   "id": "fdc75757",
   "metadata": {},
   "outputs": [
    {
     "name": "stdout",
     "output_type": "stream",
     "text": [
      "['RateBeer_ratings_part_0.csv', 'RateBeer_ratings_part_1.csv', 'RateBeer_ratings_part_10.csv', 'RateBeer_ratings_part_11.csv', 'RateBeer_ratings_part_12.csv', 'RateBeer_ratings_part_13.csv', 'RateBeer_ratings_part_14.csv', 'RateBeer_ratings_part_2.csv', 'RateBeer_ratings_part_3.csv', 'RateBeer_ratings_part_4.csv', 'RateBeer_ratings_part_5.csv', 'RateBeer_ratings_part_6.csv', 'RateBeer_ratings_part_7.csv', 'RateBeer_ratings_part_8.csv', 'RateBeer_ratings_part_9.csv']\n"
     ]
    }
   ],
   "source": [
    "#Check all the RateBeer csvs are there where they should be\n",
    "import os \n",
    "RB_csv_list = os.listdir(\"../data\")\n",
    "RB_csv_list.sort()\n",
    "RB_csv_list = [csv for csv in RB_csv_list if \".csv\" in csv and 'ratings' in csv and 'RateBeer' in csv]\n",
    "print(RB_csv_list)"
   ]
  },
  {
   "cell_type": "code",
   "execution_count": 4,
   "id": "0203d1db",
   "metadata": {},
   "outputs": [
    {
     "name": "stdout",
     "output_type": "stream",
     "text": [
      "['BeerAdvocate_ratings_part_0.csv', 'BeerAdvocate_ratings_part_1.csv', 'BeerAdvocate_ratings_part_10.csv', 'BeerAdvocate_ratings_part_11.csv', 'BeerAdvocate_ratings_part_12.csv', 'BeerAdvocate_ratings_part_13.csv', 'BeerAdvocate_ratings_part_14.csv', 'BeerAdvocate_ratings_part_15.csv', 'BeerAdvocate_ratings_part_16.csv', 'BeerAdvocate_ratings_part_2.csv', 'BeerAdvocate_ratings_part_3.csv', 'BeerAdvocate_ratings_part_4.csv', 'BeerAdvocate_ratings_part_5.csv', 'BeerAdvocate_ratings_part_6.csv', 'BeerAdvocate_ratings_part_7.csv', 'BeerAdvocate_ratings_part_8.csv', 'BeerAdvocate_ratings_part_9.csv']\n"
     ]
    }
   ],
   "source": [
    "#Check all the BeerAdvocate csvs are there where they should be\n",
    "BA_csv_list = os.listdir(\"../data\")\n",
    "BA_csv_list.sort()\n",
    "BA_csv_list = [csv for csv in BA_csv_list if \".csv\" in csv and 'ratings' in csv and 'BeerAdvocate' in csv]\n",
    "print(BA_csv_list)"
   ]
  },
  {
   "cell_type": "code",
   "execution_count": 5,
   "id": "c38daf5b",
   "metadata": {},
   "outputs": [],
   "source": [
    "def aggregate_ratings(dataframe):\n",
    "    dataframe.fillna({'count_x':0,'count_y':0,'mean_rating_x':0,'mean_rating_y':0, \"min_rating_x\" : float('inf'),\"max_rating_x\": -float('inf'),\"min_rating_y\" : float('inf'),\"max_rating_y\": -float('inf')},inplace=True)    \n",
    "    dataframe[\"count2\"] = dataframe['count_x'] + dataframe['count_y']\n",
    "    \n",
    "    dataframe[\"min_rating\"] =  dataframe[['min_rating_x','min_rating_y']].min(axis=1)\n",
    "    dataframe['mean_rating'] = (dataframe['mean_rating_x']*dataframe['count_x'] + dataframe['mean_rating_y']*dataframe['count_y'])/dataframe[\"count2\"]\n",
    "    dataframe[\"max_rating\"] =  dataframe[['max_rating_x','max_rating_y']].max(axis=1)\n",
    "    dataframe[\"count\"] = dataframe[\"count2\"]\n",
    "    dataframe.drop(columns=[\"min_rating_x\",\"mean_rating_x\",\"max_rating_x\",\"count_x\",\"min_rating_y\",\"mean_rating_y\",\"max_rating_y\",\"count_y\",\"count2\"],inplace=True)\n",
    "    return dataframe\n",
    "def multiple_csv(dataframe,dataframe2):\n",
    "    COLUMNS_NAMES = [\"count\",\"beer_name\",\"beer_id\",\"brewery_name\",\"brewery_id\",\"style\",\"abv\",\"date\",\"username\",\"user_id\",\"appearance\",\"aroma\",\"palate\",\"taste\",\"overall\",\"rating\",\"text\"]\n",
    "\n",
    "    # 5 is the length of the aggregated df, if the incoming df has more than 5 columns, it was not aggregated yet.\n",
    "    if len(dataframe.columns) > 5:\n",
    "        dataframe.columns = COLUMNS_NAMES\n",
    "        grouped = dataframe.groupby(by=\"user_id\").agg({'rating': ['min','mean', 'max'], 'count': 'count'}).reset_index(level=[0])\n",
    "        grouped.columns = [\"user_id\",\"min_rating\",\"mean_rating\",\"max_rating\",\"count\"]\n",
    "    else :\n",
    "        grouped = dataframe\n",
    "        grouped.columns = [\"user_id\",\"min_rating\",\"mean_rating\",\"max_rating\",\"count\"]\n",
    "\n",
    "    dataframe2.columns = COLUMNS_NAMES\n",
    "\n",
    "    grouped2 = dataframe2.groupby(by=\"user_id\").agg({'rating': ['min','mean', 'max'], 'count': 'count'}).reset_index(level=[0])\n",
    "    \n",
    "    grouped2.columns = [\"user_id\",\"min_rating\",\"mean_rating\",\"max_rating\",\"count\"]\n",
    "    #print(\"-------\")\n",
    "\n",
    "    df = aggregate_ratings(pd.merge(grouped, grouped2, how=\"outer\",on=['user_id']))\n",
    "    #display(pd.merge(grouped, grouped2, how=\"outer\",on=['user_id']))\n",
    "    #display(df)\n",
    "    #print(\"-------\")\n",
    "\n",
    "    return df\n",
    "    #test1[[\"appearance\" ,\"aroma\",\"palate\",\"taste\",\"overall\"]]=test1[[\"appearance\" ,\"aroma\",\"palate\",\"taste\",\"overall\"]].apply(pd.to_numeric)\n"
   ]
  },
  {
   "cell_type": "code",
   "execution_count": 6,
   "id": "fa8b41ba",
   "metadata": {},
   "outputs": [
    {
     "name": "stdout",
     "output_type": "stream",
     "text": [
      "Aggregating csv 1\n",
      "Aggregating csv 2\n",
      "Aggregating csv 3\n",
      "Aggregating csv 4\n",
      "Aggregating csv 5\n",
      "Aggregating csv 6\n",
      "Aggregating csv 7\n",
      "Aggregating csv 8\n",
      "Aggregating csv 9\n",
      "Aggregating csv 10\n",
      "Aggregating csv 11\n",
      "Aggregating csv 12\n",
      "Aggregating csv 13\n",
      "Aggregating csv 14\n",
      "Aggregating csv 15\n",
      "Aggregating csv 16\n"
     ]
    }
   ],
   "source": [
    "#change range to correspond to reality if you have not created the csvs with 500'000 columns.\n",
    "BA_dataframe = pd.read_csv(\"../data/BeerAdvocate_ratings_part_0.csv\")\n",
    "for index in range(1,17):\n",
    "    temp = pd.read_csv(f\"../data/BeerAdvocate_ratings_part_{index}.csv\")\n",
    "    print(f\"Aggregating csv {index}\")\n",
    "    BA_dataframe = multiple_csv(BA_dataframe,temp)\n"
   ]
  },
  {
   "cell_type": "code",
   "execution_count": 7,
   "id": "9f513671",
   "metadata": {},
   "outputs": [
    {
     "name": "stdout",
     "output_type": "stream",
     "text": [
      "Aggregating csv 1\n",
      "Aggregating csv 2\n",
      "Aggregating csv 3\n",
      "Aggregating csv 4\n",
      "Aggregating csv 5\n",
      "Aggregating csv 6\n",
      "Aggregating csv 7\n",
      "Aggregating csv 8\n",
      "Aggregating csv 9\n",
      "Aggregating csv 10\n"
     ]
    },
    {
     "name": "stderr",
     "output_type": "stream",
     "text": [
      "/var/folders/76/nc56p_fj6gq8l_bh8nsg44kr0000gn/T/ipykernel_26013/3451791338.py:3: DtypeWarning: Columns (6) have mixed types. Specify dtype option on import or set low_memory=False.\n",
      "  temp = pd.read_csv(f\"../data/RateBeer_ratings_part_{index}.csv\")\n"
     ]
    },
    {
     "name": "stdout",
     "output_type": "stream",
     "text": [
      "Aggregating csv 11\n"
     ]
    },
    {
     "name": "stderr",
     "output_type": "stream",
     "text": [
      "/var/folders/76/nc56p_fj6gq8l_bh8nsg44kr0000gn/T/ipykernel_26013/3451791338.py:3: DtypeWarning: Columns (6) have mixed types. Specify dtype option on import or set low_memory=False.\n",
      "  temp = pd.read_csv(f\"../data/RateBeer_ratings_part_{index}.csv\")\n"
     ]
    },
    {
     "name": "stdout",
     "output_type": "stream",
     "text": [
      "Aggregating csv 12\n"
     ]
    },
    {
     "name": "stderr",
     "output_type": "stream",
     "text": [
      "/var/folders/76/nc56p_fj6gq8l_bh8nsg44kr0000gn/T/ipykernel_26013/3451791338.py:3: DtypeWarning: Columns (6) have mixed types. Specify dtype option on import or set low_memory=False.\n",
      "  temp = pd.read_csv(f\"../data/RateBeer_ratings_part_{index}.csv\")\n"
     ]
    },
    {
     "name": "stdout",
     "output_type": "stream",
     "text": [
      "Aggregating csv 13\n",
      "Aggregating csv 14\n"
     ]
    }
   ],
   "source": [
    "RB_dataframe = pd.read_csv(\"../data/RateBeer_ratings_part_0.csv\")\n",
    "for index in range(1,15):\n",
    "    temp = pd.read_csv(f\"../data/RateBeer_ratings_part_{index}.csv\")\n",
    "    print(f\"Aggregating csv {index}\")\n",
    "    RB_dataframe = multiple_csv(RB_dataframe,temp)"
   ]
  },
  {
   "cell_type": "code",
   "execution_count": 8,
   "id": "ac72d11c",
   "metadata": {
    "scrolled": true
   },
   "outputs": [
    {
     "data": {
      "text/html": [
       "<div>\n",
       "<style scoped>\n",
       "    .dataframe tbody tr th:only-of-type {\n",
       "        vertical-align: middle;\n",
       "    }\n",
       "\n",
       "    .dataframe tbody tr th {\n",
       "        vertical-align: top;\n",
       "    }\n",
       "\n",
       "    .dataframe thead th {\n",
       "        text-align: right;\n",
       "    }\n",
       "</style>\n",
       "<table border=\"1\" class=\"dataframe\">\n",
       "  <thead>\n",
       "    <tr style=\"text-align: right;\">\n",
       "      <th></th>\n",
       "      <th>user_id</th>\n",
       "      <th>min_rating</th>\n",
       "      <th>mean_rating</th>\n",
       "      <th>max_rating</th>\n",
       "      <th>count</th>\n",
       "    </tr>\n",
       "  </thead>\n",
       "  <tbody>\n",
       "    <tr>\n",
       "      <th>0</th>\n",
       "      <td>2</td>\n",
       "      <td>1.9</td>\n",
       "      <td>3.773469</td>\n",
       "      <td>4.9</td>\n",
       "      <td>49.0</td>\n",
       "    </tr>\n",
       "    <tr>\n",
       "      <th>1</th>\n",
       "      <td>3</td>\n",
       "      <td>0.9</td>\n",
       "      <td>3.335349</td>\n",
       "      <td>4.7</td>\n",
       "      <td>215.0</td>\n",
       "    </tr>\n",
       "    <tr>\n",
       "      <th>2</th>\n",
       "      <td>7</td>\n",
       "      <td>1.5</td>\n",
       "      <td>3.715000</td>\n",
       "      <td>4.7</td>\n",
       "      <td>40.0</td>\n",
       "    </tr>\n",
       "    <tr>\n",
       "      <th>3</th>\n",
       "      <td>20</td>\n",
       "      <td>0.7</td>\n",
       "      <td>3.124242</td>\n",
       "      <td>4.6</td>\n",
       "      <td>33.0</td>\n",
       "    </tr>\n",
       "    <tr>\n",
       "      <th>4</th>\n",
       "      <td>39</td>\n",
       "      <td>0.5</td>\n",
       "      <td>3.255483</td>\n",
       "      <td>5.0</td>\n",
       "      <td>2307.0</td>\n",
       "    </tr>\n",
       "    <tr>\n",
       "      <th>...</th>\n",
       "      <td>...</td>\n",
       "      <td>...</td>\n",
       "      <td>...</td>\n",
       "      <td>...</td>\n",
       "      <td>...</td>\n",
       "    </tr>\n",
       "    <tr>\n",
       "      <th>70116</th>\n",
       "      <td>485107</td>\n",
       "      <td>2.8</td>\n",
       "      <td>3.166667</td>\n",
       "      <td>3.6</td>\n",
       "      <td>3.0</td>\n",
       "    </tr>\n",
       "    <tr>\n",
       "      <th>70117</th>\n",
       "      <td>485629</td>\n",
       "      <td>2.1</td>\n",
       "      <td>2.100000</td>\n",
       "      <td>2.1</td>\n",
       "      <td>1.0</td>\n",
       "    </tr>\n",
       "    <tr>\n",
       "      <th>70118</th>\n",
       "      <td>486020</td>\n",
       "      <td>3.2</td>\n",
       "      <td>3.200000</td>\n",
       "      <td>3.2</td>\n",
       "      <td>1.0</td>\n",
       "    </tr>\n",
       "    <tr>\n",
       "      <th>70119</th>\n",
       "      <td>486406</td>\n",
       "      <td>3.2</td>\n",
       "      <td>3.200000</td>\n",
       "      <td>3.2</td>\n",
       "      <td>1.0</td>\n",
       "    </tr>\n",
       "    <tr>\n",
       "      <th>70120</th>\n",
       "      <td>486540</td>\n",
       "      <td>3.6</td>\n",
       "      <td>3.600000</td>\n",
       "      <td>3.6</td>\n",
       "      <td>1.0</td>\n",
       "    </tr>\n",
       "  </tbody>\n",
       "</table>\n",
       "<p>70121 rows × 5 columns</p>\n",
       "</div>"
      ],
      "text/plain": [
       "       user_id  min_rating  mean_rating  max_rating   count\n",
       "0            2         1.9     3.773469         4.9    49.0\n",
       "1            3         0.9     3.335349         4.7   215.0\n",
       "2            7         1.5     3.715000         4.7    40.0\n",
       "3           20         0.7     3.124242         4.6    33.0\n",
       "4           39         0.5     3.255483         5.0  2307.0\n",
       "...        ...         ...          ...         ...     ...\n",
       "70116   485107         2.8     3.166667         3.6     3.0\n",
       "70117   485629         2.1     2.100000         2.1     1.0\n",
       "70118   486020         3.2     3.200000         3.2     1.0\n",
       "70119   486406         3.2     3.200000         3.2     1.0\n",
       "70120   486540         3.6     3.600000         3.6     1.0\n",
       "\n",
       "[70121 rows x 5 columns]"
      ]
     },
     "execution_count": 8,
     "metadata": {},
     "output_type": "execute_result"
    }
   ],
   "source": [
    "BA_dataframe"
   ]
  },
  {
   "cell_type": "code",
   "execution_count": null,
   "id": "4d59ce76",
   "metadata": {},
   "outputs": [],
   "source": [
    "RB_dataframe"
   ]
  },
  {
   "cell_type": "code",
   "execution_count": 9,
   "id": "816de94c",
   "metadata": {},
   "outputs": [],
   "source": [
    "# Fetch csv with user data so we can get Country of origin:\n",
    "BA_users_df = read_data.fetch_csv(\"../DATA/BeerAdvocate.tar\",\"users\")\n",
    "BA_users_df = BA_users_df[BA_users_df[\"nbr_ratings\"] >= 1].copy()\n",
    "RB_users_df = read_data.fetch_csv(\"../DATA/RateBeer.tar\",\"users\")\n",
    "RB_users_df = RB_users_df[RB_users_df[\"nbr_ratings\"] >= 1].copy()"
   ]
  },
  {
   "cell_type": "code",
   "execution_count": 10,
   "id": "73d15db2",
   "metadata": {},
   "outputs": [
    {
     "data": {
      "text/plain": [
       "<AxesSubplot:xlabel='count', ylabel='Count'>"
      ]
     },
     "execution_count": 10,
     "metadata": {},
     "output_type": "execute_result"
    },
    {
     "data": {
      "image/png": "[encoded data removed]",
      "text/plain": [
       "<Figure size 640x480 with 1 Axes>"
      ]
     },
     "metadata": {},
     "output_type": "display_data"
    }
   ],
   "source": [
    "# Sanity check : are the histograms of the dataframe I created and the given dataset equal?\n",
    "sns.histplot(data =RB_dataframe, x = \"count\",log_scale=True)"
   ]
  },
  {
   "cell_type": "code",
   "execution_count": 11,
   "id": "01385b47",
   "metadata": {},
   "outputs": [
    {
     "data": {
      "text/plain": [
       "<AxesSubplot:xlabel='nbr_ratings', ylabel='Count'>"
      ]
     },
     "execution_count": 11,
     "metadata": {},
     "output_type": "execute_result"
    },
    {
     "data": {
      "image/png": "[encoded data removed]",
      "text/plain": [
       "<Figure size 640x480 with 1 Axes>"
      ]
     },
     "metadata": {},
     "output_type": "display_data"
    }
   ],
   "source": [
    "# Answer : Yes ! Change to BA to check other site, everything should be ok!\n",
    "sns.histplot(data =RB_users_df, x = \"nbr_ratings\",log_scale=True)"
   ]
  },
  {
   "cell_type": "code",
   "execution_count": 12,
   "id": "69f0b3e4",
   "metadata": {},
   "outputs": [
    {
     "data": {
      "text/html": [
       "<div>\n",
       "<style scoped>\n",
       "    .dataframe tbody tr th:only-of-type {\n",
       "        vertical-align: middle;\n",
       "    }\n",
       "\n",
       "    .dataframe tbody tr th {\n",
       "        vertical-align: top;\n",
       "    }\n",
       "\n",
       "    .dataframe thead th {\n",
       "        text-align: right;\n",
       "    }\n",
       "</style>\n",
       "<table border=\"1\" class=\"dataframe\">\n",
       "  <thead>\n",
       "    <tr style=\"text-align: right;\">\n",
       "      <th></th>\n",
       "      <th>nbr_ratings</th>\n",
       "      <th>min_rating</th>\n",
       "      <th>mean_rating</th>\n",
       "      <th>max_rating</th>\n",
       "      <th>count</th>\n",
       "    </tr>\n",
       "    <tr>\n",
       "      <th>location</th>\n",
       "      <th></th>\n",
       "      <th></th>\n",
       "      <th></th>\n",
       "      <th></th>\n",
       "      <th></th>\n",
       "    </tr>\n",
       "  </thead>\n",
       "  <tbody>\n",
       "    <tr>\n",
       "      <th>Afghanistan</th>\n",
       "      <td>12</td>\n",
       "      <td>1.00</td>\n",
       "      <td>3.476571</td>\n",
       "      <td>4.92</td>\n",
       "      <td>12.0</td>\n",
       "    </tr>\n",
       "    <tr>\n",
       "      <th>Albania</th>\n",
       "      <td>4</td>\n",
       "      <td>3.75</td>\n",
       "      <td>4.375000</td>\n",
       "      <td>4.75</td>\n",
       "      <td>4.0</td>\n",
       "    </tr>\n",
       "    <tr>\n",
       "      <th>American Samoa</th>\n",
       "      <td>20</td>\n",
       "      <td>2.18</td>\n",
       "      <td>4.139167</td>\n",
       "      <td>5.00</td>\n",
       "      <td>20.0</td>\n",
       "    </tr>\n",
       "    <tr>\n",
       "      <th>Andorra</th>\n",
       "      <td>8</td>\n",
       "      <td>4.00</td>\n",
       "      <td>4.421944</td>\n",
       "      <td>5.00</td>\n",
       "      <td>8.0</td>\n",
       "    </tr>\n",
       "    <tr>\n",
       "      <th>Angola</th>\n",
       "      <td>6</td>\n",
       "      <td>2.45</td>\n",
       "      <td>3.698333</td>\n",
       "      <td>4.38</td>\n",
       "      <td>6.0</td>\n",
       "    </tr>\n",
       "    <tr>\n",
       "      <th>...</th>\n",
       "      <td>...</td>\n",
       "      <td>...</td>\n",
       "      <td>...</td>\n",
       "      <td>...</td>\n",
       "      <td>...</td>\n",
       "    </tr>\n",
       "    <tr>\n",
       "      <th>Vanuatu</th>\n",
       "      <td>2</td>\n",
       "      <td>1.70</td>\n",
       "      <td>2.930000</td>\n",
       "      <td>4.16</td>\n",
       "      <td>2.0</td>\n",
       "    </tr>\n",
       "    <tr>\n",
       "      <th>Venezuela</th>\n",
       "      <td>1022</td>\n",
       "      <td>1.00</td>\n",
       "      <td>3.727309</td>\n",
       "      <td>5.00</td>\n",
       "      <td>1022.0</td>\n",
       "    </tr>\n",
       "    <tr>\n",
       "      <th>Vietnam</th>\n",
       "      <td>214</td>\n",
       "      <td>1.00</td>\n",
       "      <td>3.741715</td>\n",
       "      <td>5.00</td>\n",
       "      <td>214.0</td>\n",
       "    </tr>\n",
       "    <tr>\n",
       "      <th>Wales</th>\n",
       "      <td>342</td>\n",
       "      <td>1.00</td>\n",
       "      <td>3.780163</td>\n",
       "      <td>5.00</td>\n",
       "      <td>342.0</td>\n",
       "    </tr>\n",
       "    <tr>\n",
       "      <th>Zimbabwe</th>\n",
       "      <td>1</td>\n",
       "      <td>4.46</td>\n",
       "      <td>4.460000</td>\n",
       "      <td>4.46</td>\n",
       "      <td>1.0</td>\n",
       "    </tr>\n",
       "  </tbody>\n",
       "</table>\n",
       "<p>195 rows × 5 columns</p>\n",
       "</div>"
      ],
      "text/plain": [
       "                nbr_ratings  min_rating  mean_rating  max_rating   count\n",
       "location                                                                \n",
       "Afghanistan              12        1.00     3.476571        4.92    12.0\n",
       "Albania                   4        3.75     4.375000        4.75     4.0\n",
       "American Samoa           20        2.18     4.139167        5.00    20.0\n",
       "Andorra                   8        4.00     4.421944        5.00     8.0\n",
       "Angola                    6        2.45     3.698333        4.38     6.0\n",
       "...                     ...         ...          ...         ...     ...\n",
       "Vanuatu                   2        1.70     2.930000        4.16     2.0\n",
       "Venezuela              1022        1.00     3.727309        5.00  1022.0\n",
       "Vietnam                 214        1.00     3.741715        5.00   214.0\n",
       "Wales                   342        1.00     3.780163        5.00   342.0\n",
       "Zimbabwe                  1        4.46     4.460000        4.46     1.0\n",
       "\n",
       "[195 rows x 5 columns]"
      ]
     },
     "metadata": {},
     "output_type": "display_data"
    }
   ],
   "source": [
    "BA_users_df.user_id=BA_users_df.user_id.str.strip()\n",
    "BA_dataframe.user_id=BA_dataframe.user_id.str.strip()\n",
    "BA_combined_df = pd.merge(BA_users_df, BA_dataframe, how=\"left\",on=['user_id'])\n",
    "BA_combined_df[\"user_id\"] = BA_combined_df[\"user_id\"].map(lambda x : re.search(r\"[^.]+$\",x)[0])\n",
    "BA_combined_df[\"location\"].fillna(\"Empty\",inplace=True)\n",
    "#mean aggregation in the next line is wrong, redo it\n",
    "BA_countries = BA_combined_df.groupby('location').agg({'nbr_ratings': 'sum','min_rating':'min','mean_rating':'mean','max_rating':'max','count':'sum'})\n",
    "display(BA_countries)\n"
   ]
  },
  {
   "cell_type": "code",
   "execution_count": 13,
   "id": "6e68b847",
   "metadata": {},
   "outputs": [
    {
     "data": {
      "text/html": [
       "<div>\n",
       "<style scoped>\n",
       "    .dataframe tbody tr th:only-of-type {\n",
       "        vertical-align: middle;\n",
       "    }\n",
       "\n",
       "    .dataframe tbody tr th {\n",
       "        vertical-align: top;\n",
       "    }\n",
       "\n",
       "    .dataframe thead th {\n",
       "        text-align: right;\n",
       "    }\n",
       "</style>\n",
       "<table border=\"1\" class=\"dataframe\">\n",
       "  <thead>\n",
       "    <tr style=\"text-align: right;\">\n",
       "      <th></th>\n",
       "      <th>nbr_ratings</th>\n",
       "      <th>min_rating</th>\n",
       "      <th>mean_rating</th>\n",
       "      <th>max_rating</th>\n",
       "      <th>count</th>\n",
       "    </tr>\n",
       "    <tr>\n",
       "      <th>location</th>\n",
       "      <th></th>\n",
       "      <th></th>\n",
       "      <th></th>\n",
       "      <th></th>\n",
       "      <th></th>\n",
       "    </tr>\n",
       "  </thead>\n",
       "  <tbody>\n",
       "    <tr>\n",
       "      <th>Abkhazia</th>\n",
       "      <td>6</td>\n",
       "      <td>0.5</td>\n",
       "      <td>2.005556</td>\n",
       "      <td>5.0</td>\n",
       "      <td>6.0</td>\n",
       "    </tr>\n",
       "    <tr>\n",
       "      <th>Afghanistan</th>\n",
       "      <td>30</td>\n",
       "      <td>0.8</td>\n",
       "      <td>3.998958</td>\n",
       "      <td>5.0</td>\n",
       "      <td>23.0</td>\n",
       "    </tr>\n",
       "    <tr>\n",
       "      <th>Albania</th>\n",
       "      <td>7</td>\n",
       "      <td>1.0</td>\n",
       "      <td>2.833333</td>\n",
       "      <td>5.0</td>\n",
       "      <td>6.0</td>\n",
       "    </tr>\n",
       "    <tr>\n",
       "      <th>Algeria</th>\n",
       "      <td>39</td>\n",
       "      <td>1.2</td>\n",
       "      <td>2.936111</td>\n",
       "      <td>4.1</td>\n",
       "      <td>37.0</td>\n",
       "    </tr>\n",
       "    <tr>\n",
       "      <th>American Samoa</th>\n",
       "      <td>2</td>\n",
       "      <td>5.0</td>\n",
       "      <td>5.000000</td>\n",
       "      <td>5.0</td>\n",
       "      <td>1.0</td>\n",
       "    </tr>\n",
       "    <tr>\n",
       "      <th>...</th>\n",
       "      <td>...</td>\n",
       "      <td>...</td>\n",
       "      <td>...</td>\n",
       "      <td>...</td>\n",
       "      <td>...</td>\n",
       "    </tr>\n",
       "    <tr>\n",
       "      <th>Virgin Islands (U.S.)</th>\n",
       "      <td>42</td>\n",
       "      <td>1.1</td>\n",
       "      <td>3.909556</td>\n",
       "      <td>5.0</td>\n",
       "      <td>39.0</td>\n",
       "    </tr>\n",
       "    <tr>\n",
       "      <th>Wales</th>\n",
       "      <td>1444</td>\n",
       "      <td>0.5</td>\n",
       "      <td>3.546926</td>\n",
       "      <td>5.0</td>\n",
       "      <td>1369.0</td>\n",
       "    </tr>\n",
       "    <tr>\n",
       "      <th>Yemen</th>\n",
       "      <td>2</td>\n",
       "      <td>0.5</td>\n",
       "      <td>0.550000</td>\n",
       "      <td>0.6</td>\n",
       "      <td>2.0</td>\n",
       "    </tr>\n",
       "    <tr>\n",
       "      <th>Zambia</th>\n",
       "      <td>2</td>\n",
       "      <td>3.9</td>\n",
       "      <td>4.450000</td>\n",
       "      <td>5.0</td>\n",
       "      <td>2.0</td>\n",
       "    </tr>\n",
       "    <tr>\n",
       "      <th>Zimbabwe</th>\n",
       "      <td>8</td>\n",
       "      <td>1.4</td>\n",
       "      <td>3.187500</td>\n",
       "      <td>4.7</td>\n",
       "      <td>6.0</td>\n",
       "    </tr>\n",
       "  </tbody>\n",
       "</table>\n",
       "<p>223 rows × 5 columns</p>\n",
       "</div>"
      ],
      "text/plain": [
       "                       nbr_ratings  min_rating  mean_rating  max_rating  \\\n",
       "location                                                                  \n",
       "Abkhazia                         6         0.5     2.005556         5.0   \n",
       "Afghanistan                     30         0.8     3.998958         5.0   \n",
       "Albania                          7         1.0     2.833333         5.0   \n",
       "Algeria                         39         1.2     2.936111         4.1   \n",
       "American Samoa                   2         5.0     5.000000         5.0   \n",
       "...                            ...         ...          ...         ...   \n",
       "Virgin Islands (U.S.)           42         1.1     3.909556         5.0   \n",
       "Wales                         1444         0.5     3.546926         5.0   \n",
       "Yemen                            2         0.5     0.550000         0.6   \n",
       "Zambia                           2         3.9     4.450000         5.0   \n",
       "Zimbabwe                         8         1.4     3.187500         4.7   \n",
       "\n",
       "                        count  \n",
       "location                       \n",
       "Abkhazia                  6.0  \n",
       "Afghanistan              23.0  \n",
       "Albania                   6.0  \n",
       "Algeria                  37.0  \n",
       "American Samoa            1.0  \n",
       "...                       ...  \n",
       "Virgin Islands (U.S.)    39.0  \n",
       "Wales                  1369.0  \n",
       "Yemen                     2.0  \n",
       "Zambia                    2.0  \n",
       "Zimbabwe                  6.0  \n",
       "\n",
       "[223 rows x 5 columns]"
      ]
     },
     "metadata": {},
     "output_type": "display_data"
    }
   ],
   "source": [
    "RB_combined_df = pd.merge(RB_users_df, RB_dataframe, how=\"left\",on=['user_id'])\n",
    "RB_combined_df[\"location\"].fillna(\"Empty\",inplace=True)\n",
    "#mean aggregation in the next line is wrong, redo it\n",
    "RB_countries = RB_combined_df.groupby('location').agg({'nbr_ratings': 'sum','min_rating':'min','mean_rating':'mean','max_rating':'max','count':'sum'})\n",
    "display(RB_countries)\n"
   ]
  }
 ],
 "metadata": {
  "kernelspec": {
   "display_name": "Python [conda env:ada] *",
   "language": "python",
   "name": "conda-env-ada-py"
  },
  "language_info": {
   "codemirror_mode": {
    "name": "ipython",
    "version": 3
   },
   "file_extension": ".py",
   "mimetype": "text/x-python",
   "name": "python",
   "nbconvert_exporter": "python",
   "pygments_lexer": "ipython3",
   "version": "3.9.13"
  }
 },
 "nbformat": 4,
 "nbformat_minor": 5
}
