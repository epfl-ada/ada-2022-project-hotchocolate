{
 "cells": [
  {
   "cell_type": "code",
   "execution_count": 1,
   "id": "6eb1a54f",
   "metadata": {
    "ExecuteTime": {
     "end_time": "2022-11-18T18:43:48.989114Z",
     "start_time": "2022-11-18T18:43:46.959529Z"
    }
   },
   "outputs": [
    {
     "name": "stderr",
     "output_type": "stream",
     "text": [
      "[nltk_data] Downloading package stopwords to\n",
      "[nltk_data]     /Users/joaoprado/nltk_data...\n",
      "[nltk_data]   Package stopwords is already up-to-date!\n",
      "Warning : `load_model` does not return WordVectorModel or SupervisedModel any more, but a `FastText` object which is very similar.\n"
     ]
    }
   ],
   "source": [
    "from functions import read_data\n",
    "from functions import NLP_utils"
   ]
  },
  {
   "cell_type": "code",
   "execution_count": 2,
   "id": "d2d278ee",
   "metadata": {
    "ExecuteTime": {
     "end_time": "2022-11-18T18:43:52.242179Z",
     "start_time": "2022-11-18T18:43:50.411478Z"
    }
   },
   "outputs": [],
   "source": [
    "SAT_beers = read_data.fetch_satellite_df()\n",
    "BA_beers = read_data.fetch_csv(\"../DATA/BeerAdvocate.tar\",'beer')\n",
    "RB_beers = read_data.fetch_csv(\"../DATA/RateBeer.tar\",'beer')\n",
    "BA_beers = BA_beers[BA_beers[\"nbr_ratings\"] != 0].copy()\n",
    "RB_beers = RB_beers[RB_beers[\"nbr_ratings\"] != 0].copy()\n",
    "\n"
   ]
  },
  {
   "cell_type": "code",
   "execution_count": 3,
   "id": "36216f92",
   "metadata": {
    "ExecuteTime": {
     "end_time": "2022-11-18T18:43:55.462870Z",
     "start_time": "2022-11-18T18:43:55.357618Z"
    }
   },
   "outputs": [],
   "source": [
    "sat_queries = NLP_utils.querify(SAT_beers)\n",
    "#The queries should have the same document structure as the corpus. \n",
    "for index, biere in SAT_beers.iterrows():\n",
    "    sat_queries[index] = (NLP_utils.tokenize(biere['nom']) +\" \"  + NLP_utils.tokenize(biere['brasseur']) + \" \" + NLP_utils.tokenize(str(biere['alcool'])))"
   ]
  },
  {
   "cell_type": "code",
   "execution_count": 4,
   "id": "dee8119d",
   "metadata": {
    "ExecuteTime": {
     "end_time": "2022-11-18T18:59:45.796049Z",
     "start_time": "2022-11-18T18:43:57.302949Z"
    }
   },
   "outputs": [
    {
     "name": "stdout",
     "output_type": "stream",
     "text": [
      "Documents tokenized\n",
      "Documents tokenized\n"
     ]
    }
   ],
   "source": [
    "#Take a lot of time unfortunately\n",
    "BA_results = NLP_utils.vector_space_retrieval(sat_queries,BA_beers)\n",
    "RB_results =  NLP_utils.vector_space_retrieval(sat_queries,RB_beers)\n",
    "BA_results.columns = 'BA_' + BA_results.columns.values\n",
    "RB_results.columns = 'RB_' + RB_results.columns.values"
   ]
  },
  {
   "cell_type": "code",
   "execution_count": 18,
   "id": "bccce306",
   "metadata": {
    "ExecuteTime": {
     "end_time": "2022-11-18T19:04:24.099269Z",
     "start_time": "2022-11-18T19:04:24.047697Z"
    }
   },
   "outputs": [
    {
     "name": "stdout",
     "output_type": "stream",
     "text": [
      "Index(['BA_beer_id', 'BA_beer_name', 'BA_brewery_id', 'BA_brewery_name',\n",
      "       'BA_style', 'BA_nbr_ratings', 'BA_nbr_reviews', 'BA_avg', 'BA_ba_score',\n",
      "       'BA_bros_score', 'BA_abv', 'BA_avg_computed', 'BA_zscore',\n",
      "       'BA_nbr_matched_valid_ratings', 'BA_avg_matched_valid_ratings',\n",
      "       'BA_similarity'],\n",
      "      dtype='object')\n"
     ]
    }
   ],
   "source": [
    "import pandas as pd\n",
    "result = pd.concat([SAT_beers[[\"nom\",\"alcool\"]],BA_results.reset_index()[[\"BA_beer_name\",\"BA_avg\",'BA_similarity']],RB_results.reset_index()[[\"RB_beer_name\",\"RB_avg\",'RB_similarity']]],axis=1)\n",
    "result.columns = [\"SAT name\",\"Alcohol content\",\"Beer Advocate name\",\"Beer Advocate average rating\",\"Similarity with BeerAdvocate\",\"RateBeer name\",\"RateBeer average rating\",\"Similarity with RateBeer\"]\n",
    "result.to_csv(\"../data/matched_SATbeers.csv\",index=False)"
   ]
  },
  {
   "cell_type": "code",
   "execution_count": 19,
   "id": "24f5af99",
   "metadata": {
    "ExecuteTime": {
     "end_time": "2022-11-18T19:04:55.613058Z",
     "start_time": "2022-11-18T19:04:55.582730Z"
    }
   },
   "outputs": [
    {
     "data": {
      "text/html": [
       "<div>\n",
       "<style scoped>\n",
       "    .dataframe tbody tr th:only-of-type {\n",
       "        vertical-align: middle;\n",
       "    }\n",
       "\n",
       "    .dataframe tbody tr th {\n",
       "        vertical-align: top;\n",
       "    }\n",
       "\n",
       "    .dataframe thead th {\n",
       "        text-align: right;\n",
       "    }\n",
       "</style>\n",
       "<table border=\"1\" class=\"dataframe\">\n",
       "  <thead>\n",
       "    <tr style=\"text-align: right;\">\n",
       "      <th></th>\n",
       "      <th>SAT name</th>\n",
       "      <th>Alcohol content</th>\n",
       "      <th>Beer Advocate name</th>\n",
       "      <th>Beer Advocate average rating</th>\n",
       "      <th>Similarity with BeerAdvocate</th>\n",
       "      <th>RateBeer name</th>\n",
       "      <th>RateBeer average rating</th>\n",
       "      <th>Similarity with RateBeer</th>\n",
       "    </tr>\n",
       "  </thead>\n",
       "  <tbody>\n",
       "    <tr>\n",
       "      <th>0</th>\n",
       "      <td>Brooklyn East IPA</td>\n",
       "      <td>6.9</td>\n",
       "      <td>Brooklyn East India Pale Ale</td>\n",
       "      <td>3.65</td>\n",
       "      <td>0.901222</td>\n",
       "      <td>Brooklyn East IPA / India Pale Ale</td>\n",
       "      <td>3.40</td>\n",
       "      <td>0.926097</td>\n",
       "    </tr>\n",
       "    <tr>\n",
       "      <th>1</th>\n",
       "      <td>Cuvée des Trolls</td>\n",
       "      <td>7.0</td>\n",
       "      <td>Cuvée Des Trolls</td>\n",
       "      <td>3.53</td>\n",
       "      <td>0.809686</td>\n",
       "      <td>Dubuisson Cuvée des Trolls</td>\n",
       "      <td>3.06</td>\n",
       "      <td>0.900214</td>\n",
       "    </tr>\n",
       "    <tr>\n",
       "      <th>2</th>\n",
       "      <td>Elvis Juice</td>\n",
       "      <td>6.5</td>\n",
       "      <td>Elvis Juice</td>\n",
       "      <td>3.97</td>\n",
       "      <td>1.000000</td>\n",
       "      <td>Three Magnets Juice Juice Juice Storm Triple IPA</td>\n",
       "      <td>3.17</td>\n",
       "      <td>0.319643</td>\n",
       "    </tr>\n",
       "    <tr>\n",
       "      <th>3</th>\n",
       "      <td>Grimbergen Blonde</td>\n",
       "      <td>6.7</td>\n",
       "      <td>Grimbergen Blonde</td>\n",
       "      <td>3.69</td>\n",
       "      <td>0.727285</td>\n",
       "      <td>Grimbergen Blonde</td>\n",
       "      <td>3.19</td>\n",
       "      <td>0.619384</td>\n",
       "    </tr>\n",
       "    <tr>\n",
       "      <th>4</th>\n",
       "      <td>Gurten Lager</td>\n",
       "      <td>4.8</td>\n",
       "      <td>Gurten BäreGold</td>\n",
       "      <td>3.07</td>\n",
       "      <td>0.513870</td>\n",
       "      <td>Gurten Lager Hell</td>\n",
       "      <td>2.52</td>\n",
       "      <td>0.728060</td>\n",
       "    </tr>\n",
       "  </tbody>\n",
       "</table>\n",
       "</div>"
      ],
      "text/plain": [
       "            SAT name  Alcohol content            Beer Advocate name  \\\n",
       "0  Brooklyn East IPA              6.9  Brooklyn East India Pale Ale   \n",
       "1   Cuvée des Trolls              7.0              Cuvée Des Trolls   \n",
       "2        Elvis Juice              6.5                   Elvis Juice   \n",
       "3  Grimbergen Blonde              6.7             Grimbergen Blonde   \n",
       "4       Gurten Lager              4.8               Gurten BäreGold   \n",
       "\n",
       "   Beer Advocate average rating  Similarity with BeerAdvocate  \\\n",
       "0                          3.65                      0.901222   \n",
       "1                          3.53                      0.809686   \n",
       "2                          3.97                      1.000000   \n",
       "3                          3.69                      0.727285   \n",
       "4                          3.07                      0.513870   \n",
       "\n",
       "                                      RateBeer name  RateBeer average rating  \\\n",
       "0                Brooklyn East IPA / India Pale Ale                     3.40   \n",
       "1                        Dubuisson Cuvée des Trolls                     3.06   \n",
       "2  Three Magnets Juice Juice Juice Storm Triple IPA                     3.17   \n",
       "3                                 Grimbergen Blonde                     3.19   \n",
       "4                                 Gurten Lager Hell                     2.52   \n",
       "\n",
       "   Similarity with RateBeer  \n",
       "0                  0.926097  \n",
       "1                  0.900214  \n",
       "2                  0.319643  \n",
       "3                  0.619384  \n",
       "4                  0.728060  "
      ]
     },
     "execution_count": 19,
     "metadata": {},
     "output_type": "execute_result"
    }
   ],
   "source": [
    "result.head(5)\n"
   ]
  }
 ],
 "metadata": {
  "kernelspec": {
   "display_name": "Python [conda env:ada] *",
   "language": "python",
   "name": "conda-env-ada-py"
  },
  "language_info": {
   "codemirror_mode": {
    "name": "ipython",
    "version": 3
   },
   "file_extension": ".py",
   "mimetype": "text/x-python",
   "name": "python",
   "nbconvert_exporter": "python",
   "pygments_lexer": "ipython3",
   "version": "3.9.13"
  }
 },
 "nbformat": 4,
 "nbformat_minor": 5
}
