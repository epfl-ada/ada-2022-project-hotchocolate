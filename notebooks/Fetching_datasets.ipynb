{
 "cells": [
  {
   "cell_type": "code",
   "execution_count": null,
   "id": "e36a37b5",
   "metadata": {},
   "outputs": [],
   "source": [
    "from functions import read_data\n",
    "import tarfile as tar"
   ]
  },
  {
   "cell_type": "markdown",
   "id": "f0988a76",
   "metadata": {},
   "source": [
    "__Objective__ : This notebook is a mini 'data warehouse' that allows us to organize which subset of the data is really what we want to use at each step of the project.\n",
    "\n",
    "__Description__ : \n",
    "The datastructure of the given dataset is as follows:\n",
    "\n",
    "    └── Your_favorite_path/ \n",
    "        |\n",
    "        ├── BeerAdvocate.tar/  \n",
    "        │   ├── users.csv\n",
    "        │   ├── beers.csv\n",
    "        │   ├── breweries.csv\n",
    "        │   ├── ratings.txt.gz  \n",
    "        │   └── reviews.txt.gz   \n",
    "        ├── RateBeer.tar/\n",
    "        │   ├── users.csv\n",
    "        │   ├── beers.csv\n",
    "        │   └── breweries.csv\n",
    "        └── matched_beer_data.tar/\n",
    "            ├── users.csv\n",
    "            ├── beers.csv\n",
    "            ├── breweries.csv\n",
    "            ├── ratings.txt.gz  \n",
    "            └── reviews.txt.gz\n",
    "\n",
    "To access any of the files, follow the instructions bellow:\n",
    "\n",
    "__Opening csv files__ : \n",
    "\n",
    "Simple use  ```read_data.fetch_csv(tarfile_path) ``` to get a tuple of tree dataframes ```(users_df,beers_df,breweries_df)```\n",
    "\n",
    "__Opening txt.gz files__ : \n",
    "\n",
    "A bit tricky due to file size and encoding. Running ```read_data.fetch_reviews(tarfile_path,max_csv_size,early_stop=0)``` creates multiple csv files with ```max_csv_size``` rows (```early_stop=0``` means no early stopping, any number bigger than 0 will stop after creating ```early_stop``` files!) "
   ]
  },
  {
   "cell_type": "code",
   "execution_count": null,
   "id": "45f0670e",
   "metadata": {},
   "outputs": [],
   "source": [
    "#Example\n",
    "df = read_data.fetch_reviews(\"../DATA/BeerAdvocate.tar\",max_csv_size= 500000, early_stop=0)\n"
   ]
  },
  {
   "cell_type": "code",
   "execution_count": null,
   "id": "bee2d21f",
   "metadata": {},
   "outputs": [],
   "source": [
    "BA_users_df = read_data.fetch_csv(\"../DATA/BeerAdvocate.tar\",\"users\")\n",
    "BA_users_df.head()"
   ]
  },
  {
   "cell_type": "code",
   "execution_count": null,
   "id": "20e936fa",
   "metadata": {},
   "outputs": [],
   "source": []
  }
 ],
 "metadata": {
  "kernelspec": {
   "display_name": "Python [conda env:ada] *",
   "language": "python",
   "name": "conda-env-ada-py"
  },
  "language_info": {
   "codemirror_mode": {
    "name": "ipython",
    "version": 3
   },
   "file_extension": ".py",
   "mimetype": "text/x-python",
   "name": "python",
   "nbconvert_exporter": "python",
   "pygments_lexer": "ipython3",
   "version": "3.9.13"
  }
 },
 "nbformat": 4,
 "nbformat_minor": 5
}
