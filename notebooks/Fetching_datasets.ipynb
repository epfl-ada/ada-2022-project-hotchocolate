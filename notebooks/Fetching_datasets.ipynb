{
 "cells": [
  {
   "cell_type": "code",
   "execution_count": 1,
   "id": "e36a37b5",
   "metadata": {},
   "outputs": [
    {
     "ename": "ModuleNotFoundError",
     "evalue": "No module named 'functions'",
     "output_type": "error",
     "traceback": [
      "\u001b[1;31m---------------------------------------------------------------------------\u001b[0m",
      "\u001b[1;31mModuleNotFoundError\u001b[0m                       Traceback (most recent call last)",
      "\u001b[1;32m<ipython-input-1-ebebe596c7c9>\u001b[0m in \u001b[0;36m<module>\u001b[1;34m\u001b[0m\n\u001b[1;32m----> 1\u001b[1;33m \u001b[1;32mfrom\u001b[0m \u001b[0mfunctions\u001b[0m \u001b[1;32mimport\u001b[0m \u001b[0mread_data\u001b[0m\u001b[1;33m\u001b[0m\u001b[1;33m\u001b[0m\u001b[0m\n\u001b[0m\u001b[0;32m      2\u001b[0m \u001b[1;32mimport\u001b[0m \u001b[0mtarfile\u001b[0m \u001b[1;32mas\u001b[0m \u001b[0mtar\u001b[0m\u001b[1;33m\u001b[0m\u001b[1;33m\u001b[0m\u001b[0m\n",
      "\u001b[1;31mModuleNotFoundError\u001b[0m: No module named 'functions'"
     ]
    }
   ],
   "source": [
    "from functions import read_data\n",
    "import tarfile as tar"
   ]
  },
  {
   "cell_type": "markdown",
   "id": "f0988a76",
   "metadata": {},
   "source": [
    "__Objective__ : This notebook is a mini 'data warehouse' that allows us to organize which subset of the data is really what we want to use at each step of the project.\n",
    "\n",
    "__Description__ : \n",
    "The datastructure of the given dataset is as follows:\n",
    "\n",
    "    └── Your_favorite_path/ \n",
    "        |\n",
    "        ├── BeerAdvocate.tar/  \n",
    "        │   ├── users.csv\n",
    "        │   ├── beers.csv\n",
    "        │   ├── breweries.csv\n",
    "        │   ├── ratings.txt.gz  \n",
    "        │   └── reviews.txt.gz   \n",
    "        ├── RateBeer.tar/\n",
    "        │   ├── users.csv\n",
    "        │   ├── beers.csv\n",
    "        │   └── breweries.csv\n",
    "        └── matched_beer_data.tar/\n",
    "            ├── users.csv\n",
    "            ├── beers.csv\n",
    "            ├── breweries.csv\n",
    "            ├── ratings.txt.gz  \n",
    "            └── reviews.txt.gz\n",
    "\n",
    "To access any of the files, follow the instructions bellow:\n",
    "\n",
    "__Opening csv files__ : \n",
    "\n",
    "Simple use  ```read_data.fetch_csv(tarfile_path) ``` to get a tuple of tree dataframes ```(users_df,beers_df,breweries_df)```\n",
    "\n",
    "__Opening txt.gz files__ : \n",
    "\n",
    "A bit tricky due to file size and encoding. Running ```read_data.fetch_reviews(tarfile_path,max_csv_size,early_stop=0)``` creates multiple csv files with ```max_csv_size``` rows (```early_stop=0``` means no early stopping, any number bigger than 0 will stop after creating ```early_stop``` files!) "
   ]
  },
  {
   "cell_type": "code",
   "execution_count": null,
   "id": "45f0670e",
   "metadata": {},
   "outputs": [],
   "source": [
    "#Example\n",
    "df = read_data.fetch_reviews(\"../DATA/BeerAdvocate.tar\",max_csv_size= 500000, early_stop=0)\n"
   ]
  },
  {
   "cell_type": "code",
   "execution_count": null,
   "id": "bee2d21f",
   "metadata": {},
   "outputs": [],
   "source": [
    "BA_users_df = read_data.fetch_csv(\"../DATA/BeerAdvocate.tar\",\"users\")\n",
    "BA_users_df.head()"
   ]
  },
  {
   "cell_type": "code",
   "execution_count": null,
   "id": "20e936fa",
   "metadata": {},
   "outputs": [],
   "source": []
  }
 ],
 "metadata": {
  "kernelspec": {
   "display_name": "Python 3",
   "language": "python",
   "name": "python3"
  },
  "language_info": {
   "codemirror_mode": {
    "name": "ipython",
    "version": 3
   },
   "file_extension": ".py",
   "mimetype": "text/x-python",
   "name": "python",
   "nbconvert_exporter": "python",
   "pygments_lexer": "ipython3",
   "version": "3.8.8"
  }
 },
 "nbformat": 4,
 "nbformat_minor": 5
}
